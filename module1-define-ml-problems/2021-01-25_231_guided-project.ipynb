{
 "cells": [
  {
   "cell_type": "markdown",
   "metadata": {},
   "source": [
    "# Setup"
   ]
  },
  {
   "cell_type": "code",
   "execution_count": 88,
   "metadata": {},
   "outputs": [],
   "source": [
    "import pandas as pd\n",
    "import numpy as np\n",
    "from sklearn.pipeline import make_pipeline\n",
    "from sklearn.impute import SimpleImputer\n",
    "from sklearn.ensemble import RandomForestClassifier\n",
    "from sklearn.linear_model import LogisticRegression\n",
    "from sklearn.preprocessing import StandardScaler\n",
    "from category_encoders import OneHotEncoder, OrdinalEncoder\n",
    "from sklearn.metrics import classification_report, plot_roc_curve, roc_auc_score\n",
    "import matplotlib.pyplot as plt"
   ]
  },
  {
   "cell_type": "code",
   "execution_count": 69,
   "metadata": {},
   "outputs": [],
   "source": [
    "%%capture\n",
    "import sys\n",
    "\n",
    "# If you're on Colab:\n",
    "if 'google.colab' in sys.modules:\n",
    "    DATA_PATH = 'https://raw.githubusercontent.com/LambdaSchool/DS-Unit-2-Applied-Modeling/master/data/'\n",
    "    !pip install category_encoders==2.*\n",
    "\n",
    "# If you're working locally:\n",
    "else:\n",
    "    DATA_PATH = '../data/'"
   ]
  },
  {
   "cell_type": "markdown",
   "metadata": {},
   "source": [
    "# I. Wrangle Data"
   ]
  },
  {
   "cell_type": "code",
   "execution_count": 70,
   "metadata": {},
   "outputs": [],
   "source": [
    "def wrangle(filepath):\n",
    "    # Import CSV\n",
    "    df = pd.read_csv(DATA_PATH+'burritos/burritos.csv',\n",
    "                     parse_dates=['Date'],\n",
    "                     index_col='Date')\n",
    "    \n",
    "    # Drop rows with no target\n",
    "    df.dropna(axis=0, subset=['overall'], inplace=True)\n",
    "    \n",
    "    # Create `'great'` column as target\n",
    "    df['great'] = (df['overall'] >= 4).astype(int)\n",
    "    \n",
    "    # Drop `'overall'` col to avoid leakage\n",
    "    df.drop(columns='overall', inplace=True)\n",
    "    \n",
    "    # Drop columns with lots of `NaN` values\n",
    "    df.dropna(axis=1, thresh=150, inplace=True)\n",
    "    \n",
    "    # Drop high-cardinality categorical variables\n",
    "    threshold = 10\n",
    "    high_card_cols = [col for col in df.select_dtypes('object').columns \n",
    "                      if df[col].nunique() > threshold]\n",
    "    df.drop(high_card_cols, axis=1, inplace=True)\n",
    "    \n",
    "    # Fix binary columns\n",
    "    binary_cols = ['Beef', 'Pico', 'Guac', 'Cheese']\n",
    "    for col in binary_cols:\n",
    "        df[col] = df[col].str.lower().replace('x', 1).fillna(0).astype(int)\n",
    "    \n",
    "    return df\n",
    "\n",
    "df = wrangle(DATA_PATH+'burritos/burritos.csv')"
   ]
  },
  {
   "cell_type": "code",
   "execution_count": 71,
   "metadata": {},
   "outputs": [
    {
     "name": "stdout",
     "output_type": "stream",
     "text": [
      "<class 'pandas.core.frame.DataFrame'>\n",
      "DatetimeIndex: 421 entries, 2016-01-18 to 2019-08-27\n",
      "Data columns (total 20 columns):\n",
      " #   Column        Non-Null Count  Dtype  \n",
      "---  ------        --------------  -----  \n",
      " 0   Cost          414 non-null    float64\n",
      " 1   Hunger        418 non-null    float64\n",
      " 2   Length        283 non-null    float64\n",
      " 3   Circum        281 non-null    float64\n",
      " 4   Volume        281 non-null    float64\n",
      " 5   Tortilla      421 non-null    float64\n",
      " 6   Temp          401 non-null    float64\n",
      " 7   Meat          407 non-null    float64\n",
      " 8   Fillings      418 non-null    float64\n",
      " 9   Meat:filling  412 non-null    float64\n",
      " 10  Uniformity    419 non-null    float64\n",
      " 11  Salsa         396 non-null    float64\n",
      " 12  Synergy       419 non-null    float64\n",
      " 13  Wrap          418 non-null    float64\n",
      " 14  Rec           231 non-null    object \n",
      " 15  Beef          421 non-null    int64  \n",
      " 16  Pico          421 non-null    int64  \n",
      " 17  Guac          421 non-null    int64  \n",
      " 18  Cheese        421 non-null    int64  \n",
      " 19  great         421 non-null    int64  \n",
      "dtypes: float64(14), int64(5), object(1)\n",
      "memory usage: 69.1+ KB\n"
     ]
    }
   ],
   "source": [
    "df.info()"
   ]
  },
  {
   "cell_type": "code",
   "execution_count": 72,
   "metadata": {},
   "outputs": [
    {
     "data": {
      "text/html": [
       "<div>\n",
       "<style scoped>\n",
       "    .dataframe tbody tr th:only-of-type {\n",
       "        vertical-align: middle;\n",
       "    }\n",
       "\n",
       "    .dataframe tbody tr th {\n",
       "        vertical-align: top;\n",
       "    }\n",
       "\n",
       "    .dataframe thead th {\n",
       "        text-align: right;\n",
       "    }\n",
       "</style>\n",
       "<table border=\"1\" class=\"dataframe\">\n",
       "  <thead>\n",
       "    <tr style=\"text-align: right;\">\n",
       "      <th></th>\n",
       "      <th>Cost</th>\n",
       "      <th>Hunger</th>\n",
       "      <th>Length</th>\n",
       "      <th>Circum</th>\n",
       "      <th>Volume</th>\n",
       "      <th>Tortilla</th>\n",
       "      <th>Temp</th>\n",
       "      <th>Meat</th>\n",
       "      <th>Fillings</th>\n",
       "      <th>Meat:filling</th>\n",
       "      <th>Uniformity</th>\n",
       "      <th>Salsa</th>\n",
       "      <th>Synergy</th>\n",
       "      <th>Wrap</th>\n",
       "      <th>Rec</th>\n",
       "      <th>Beef</th>\n",
       "      <th>Pico</th>\n",
       "      <th>Guac</th>\n",
       "      <th>Cheese</th>\n",
       "      <th>great</th>\n",
       "    </tr>\n",
       "    <tr>\n",
       "      <th>Date</th>\n",
       "      <th></th>\n",
       "      <th></th>\n",
       "      <th></th>\n",
       "      <th></th>\n",
       "      <th></th>\n",
       "      <th></th>\n",
       "      <th></th>\n",
       "      <th></th>\n",
       "      <th></th>\n",
       "      <th></th>\n",
       "      <th></th>\n",
       "      <th></th>\n",
       "      <th></th>\n",
       "      <th></th>\n",
       "      <th></th>\n",
       "      <th></th>\n",
       "      <th></th>\n",
       "      <th></th>\n",
       "      <th></th>\n",
       "      <th></th>\n",
       "    </tr>\n",
       "  </thead>\n",
       "  <tbody>\n",
       "    <tr>\n",
       "      <th>2016-01-18</th>\n",
       "      <td>6.49</td>\n",
       "      <td>3.0</td>\n",
       "      <td>NaN</td>\n",
       "      <td>NaN</td>\n",
       "      <td>NaN</td>\n",
       "      <td>3.0</td>\n",
       "      <td>5.0</td>\n",
       "      <td>3.0</td>\n",
       "      <td>3.5</td>\n",
       "      <td>4.0</td>\n",
       "      <td>4.0</td>\n",
       "      <td>4.0</td>\n",
       "      <td>4.0</td>\n",
       "      <td>4.0</td>\n",
       "      <td>NaN</td>\n",
       "      <td>1</td>\n",
       "      <td>1</td>\n",
       "      <td>1</td>\n",
       "      <td>1</td>\n",
       "      <td>0</td>\n",
       "    </tr>\n",
       "    <tr>\n",
       "      <th>2016-01-24</th>\n",
       "      <td>5.45</td>\n",
       "      <td>3.5</td>\n",
       "      <td>NaN</td>\n",
       "      <td>NaN</td>\n",
       "      <td>NaN</td>\n",
       "      <td>2.0</td>\n",
       "      <td>3.5</td>\n",
       "      <td>2.5</td>\n",
       "      <td>2.5</td>\n",
       "      <td>2.0</td>\n",
       "      <td>4.0</td>\n",
       "      <td>3.5</td>\n",
       "      <td>2.5</td>\n",
       "      <td>5.0</td>\n",
       "      <td>NaN</td>\n",
       "      <td>1</td>\n",
       "      <td>1</td>\n",
       "      <td>1</td>\n",
       "      <td>1</td>\n",
       "      <td>0</td>\n",
       "    </tr>\n",
       "    <tr>\n",
       "      <th>2016-01-24</th>\n",
       "      <td>4.85</td>\n",
       "      <td>1.5</td>\n",
       "      <td>NaN</td>\n",
       "      <td>NaN</td>\n",
       "      <td>NaN</td>\n",
       "      <td>3.0</td>\n",
       "      <td>2.0</td>\n",
       "      <td>2.5</td>\n",
       "      <td>3.0</td>\n",
       "      <td>4.5</td>\n",
       "      <td>4.0</td>\n",
       "      <td>3.0</td>\n",
       "      <td>3.0</td>\n",
       "      <td>5.0</td>\n",
       "      <td>NaN</td>\n",
       "      <td>0</td>\n",
       "      <td>1</td>\n",
       "      <td>1</td>\n",
       "      <td>0</td>\n",
       "      <td>0</td>\n",
       "    </tr>\n",
       "    <tr>\n",
       "      <th>2016-01-24</th>\n",
       "      <td>5.25</td>\n",
       "      <td>2.0</td>\n",
       "      <td>NaN</td>\n",
       "      <td>NaN</td>\n",
       "      <td>NaN</td>\n",
       "      <td>3.0</td>\n",
       "      <td>2.0</td>\n",
       "      <td>3.5</td>\n",
       "      <td>3.0</td>\n",
       "      <td>4.0</td>\n",
       "      <td>5.0</td>\n",
       "      <td>4.0</td>\n",
       "      <td>4.0</td>\n",
       "      <td>5.0</td>\n",
       "      <td>NaN</td>\n",
       "      <td>1</td>\n",
       "      <td>1</td>\n",
       "      <td>1</td>\n",
       "      <td>0</td>\n",
       "      <td>0</td>\n",
       "    </tr>\n",
       "    <tr>\n",
       "      <th>2016-01-27</th>\n",
       "      <td>6.59</td>\n",
       "      <td>4.0</td>\n",
       "      <td>NaN</td>\n",
       "      <td>NaN</td>\n",
       "      <td>NaN</td>\n",
       "      <td>4.0</td>\n",
       "      <td>5.0</td>\n",
       "      <td>4.0</td>\n",
       "      <td>3.5</td>\n",
       "      <td>4.5</td>\n",
       "      <td>5.0</td>\n",
       "      <td>2.5</td>\n",
       "      <td>4.5</td>\n",
       "      <td>4.0</td>\n",
       "      <td>NaN</td>\n",
       "      <td>1</td>\n",
       "      <td>1</td>\n",
       "      <td>0</td>\n",
       "      <td>1</td>\n",
       "      <td>1</td>\n",
       "    </tr>\n",
       "  </tbody>\n",
       "</table>\n",
       "</div>"
      ],
      "text/plain": [
       "            Cost  Hunger  Length  Circum  Volume  Tortilla  Temp  Meat  \\\n",
       "Date                                                                     \n",
       "2016-01-18  6.49     3.0     NaN     NaN     NaN       3.0   5.0   3.0   \n",
       "2016-01-24  5.45     3.5     NaN     NaN     NaN       2.0   3.5   2.5   \n",
       "2016-01-24  4.85     1.5     NaN     NaN     NaN       3.0   2.0   2.5   \n",
       "2016-01-24  5.25     2.0     NaN     NaN     NaN       3.0   2.0   3.5   \n",
       "2016-01-27  6.59     4.0     NaN     NaN     NaN       4.0   5.0   4.0   \n",
       "\n",
       "            Fillings  Meat:filling  Uniformity  Salsa  Synergy  Wrap  Rec  \\\n",
       "Date                                                                        \n",
       "2016-01-18       3.5           4.0         4.0    4.0      4.0   4.0  NaN   \n",
       "2016-01-24       2.5           2.0         4.0    3.5      2.5   5.0  NaN   \n",
       "2016-01-24       3.0           4.5         4.0    3.0      3.0   5.0  NaN   \n",
       "2016-01-24       3.0           4.0         5.0    4.0      4.0   5.0  NaN   \n",
       "2016-01-27       3.5           4.5         5.0    2.5      4.5   4.0  NaN   \n",
       "\n",
       "            Beef  Pico  Guac  Cheese  great  \n",
       "Date                                         \n",
       "2016-01-18     1     1     1       1      0  \n",
       "2016-01-24     1     1     1       1      0  \n",
       "2016-01-24     0     1     1       0      0  \n",
       "2016-01-24     1     1     1       0      0  \n",
       "2016-01-27     1     1     0       1      1  "
      ]
     },
     "execution_count": 72,
     "metadata": {},
     "output_type": "execute_result"
    }
   ],
   "source": [
    "df.head()"
   ]
  },
  {
   "cell_type": "markdown",
   "metadata": {},
   "source": [
    "# II. Split Data"
   ]
  },
  {
   "cell_type": "code",
   "execution_count": 73,
   "metadata": {},
   "outputs": [],
   "source": [
    "# Split the TV and FM\n",
    "target = 'great'\n",
    "y = df[target]\n",
    "X = df.drop(target, axis=1)"
   ]
  },
  {
   "cell_type": "code",
   "execution_count": 74,
   "metadata": {},
   "outputs": [],
   "source": [
    "# Split data into training, validation, and test sets\n",
    "train_mask = X.index.year < 2017\n",
    "X_train, y_train = X.loc[train_mask], y.loc[train_mask]\n",
    "\n",
    "validation_mask = X.index.year == 2017\n",
    "X_val, y_val = X.loc[validation_mask], y.loc[validation_mask]\n",
    "\n",
    "test_mask = X.index.year > 2017\n",
    "X_test, y_test = X.loc[test_mask], y.loc[test_mask]"
   ]
  },
  {
   "cell_type": "markdown",
   "metadata": {},
   "source": [
    "#  III. Establish Baseline"
   ]
  },
  {
   "cell_type": "code",
   "execution_count": 75,
   "metadata": {},
   "outputs": [
    {
     "name": "stdout",
     "output_type": "stream",
     "text": [
      "Baseline accuracy: 0.5906040268456376\n"
     ]
    }
   ],
   "source": [
    "print('Baseline accuracy:', y_train.value_counts(normalize=True).max())"
   ]
  },
  {
   "cell_type": "markdown",
   "metadata": {},
   "source": [
    "# IV. Build Models\n",
    "\n",
    "1. `LogisticRegression`\n",
    "    \n",
    "    - `OneHotEncoder`\n",
    "    - `SimpleImputer`\n",
    "    - `StandardScaler`\n",
    "\n",
    "2. `RandomForestClassifier`\n",
    "    \n",
    "    - `OrdinalEncoder`\n",
    "    - `SimpleImputer`"
   ]
  },
  {
   "cell_type": "code",
   "execution_count": 76,
   "metadata": {},
   "outputs": [
    {
     "name": "stderr",
     "output_type": "stream",
     "text": [
      "/Users/nicholascifuentes-goodbody/.local/share/virtualenvs/DS-Unit-2-Applied-Modeling-CzmiUvG5/lib/python3.8/site-packages/category_encoders/utils.py:21: FutureWarning: is_categorical is deprecated and will be removed in a future version.  Use is_categorical_dtype instead\n",
      "  elif pd.api.types.is_categorical(cols):\n"
     ]
    }
   ],
   "source": [
    "# Model 1: Logistic Regression Model\n",
    "model_lr = make_pipeline(\n",
    "    OneHotEncoder(use_cat_names=True),\n",
    "    SimpleImputer(strategy='most_frequent'),\n",
    "    StandardScaler(),\n",
    "    LogisticRegression()\n",
    ")\n",
    "\n",
    "model_lr.fit(X_train, y_train);"
   ]
  },
  {
   "cell_type": "code",
   "execution_count": 77,
   "metadata": {},
   "outputs": [],
   "source": [
    "# Model 2: Random Forest\n",
    "model_rf = make_pipeline(\n",
    "    OrdinalEncoder(),\n",
    "    SimpleImputer(),\n",
    "    RandomForestClassifier(random_state=42)\n",
    ")\n",
    "\n",
    "model_rf.fit(X_train, y_train);"
   ]
  },
  {
   "cell_type": "markdown",
   "metadata": {},
   "source": [
    "# V. Check Metrics\n",
    "\n",
    "**Accuracy**"
   ]
  },
  {
   "cell_type": "code",
   "execution_count": 78,
   "metadata": {},
   "outputs": [
    {
     "name": "stdout",
     "output_type": "stream",
     "text": [
      "Training Accuracy (LOGR): 0.9093959731543624\n",
      "Validation Accuracy (LOGR): 0.8\n"
     ]
    }
   ],
   "source": [
    "print('Training Accuracy (LOGR):', model_lr.score(X_train, y_train))\n",
    "print('Validation Accuracy (LOGR):', model_lr.score(X_val, y_val))"
   ]
  },
  {
   "cell_type": "code",
   "execution_count": 79,
   "metadata": {},
   "outputs": [
    {
     "name": "stdout",
     "output_type": "stream",
     "text": [
      "Training Accuracy (RF): 1.0\n",
      "Validation Accuracy (RF): 0.8705882352941177\n"
     ]
    }
   ],
   "source": [
    "print('Training Accuracy (RF):', model_rf.score(X_train, y_train))\n",
    "print('Validation Accuracy (RF):', model_rf.score(X_val, y_val))"
   ]
  },
  {
   "cell_type": "markdown",
   "metadata": {},
   "source": [
    "**Precision, Recall, F1 Score**"
   ]
  },
  {
   "cell_type": "code",
   "execution_count": 80,
   "metadata": {},
   "outputs": [
    {
     "name": "stdout",
     "output_type": "stream",
     "text": [
      "Logistic Regression\n",
      "              precision    recall  f1-score   support\n",
      "\n",
      "           0       0.89      0.72      0.80        47\n",
      "           1       0.72      0.89      0.80        38\n",
      "\n",
      "    accuracy                           0.80        85\n",
      "   macro avg       0.81      0.81      0.80        85\n",
      "weighted avg       0.82      0.80      0.80        85\n",
      "\n"
     ]
    }
   ],
   "source": [
    "print('Logistic Regression')\n",
    "print(classification_report(y_val, model_lr.predict(X_val)))"
   ]
  },
  {
   "cell_type": "code",
   "execution_count": 81,
   "metadata": {},
   "outputs": [
    {
     "name": "stdout",
     "output_type": "stream",
     "text": [
      "Random Forest\n",
      "              precision    recall  f1-score   support\n",
      "\n",
      "           0       0.89      0.87      0.88        47\n",
      "           1       0.85      0.87      0.86        38\n",
      "\n",
      "    accuracy                           0.87        85\n",
      "   macro avg       0.87      0.87      0.87        85\n",
      "weighted avg       0.87      0.87      0.87        85\n",
      "\n"
     ]
    }
   ],
   "source": [
    "print('Random Forest')\n",
    "print(classification_report(y_val, model_rf.predict(X_val))) # VALIDATION DATA"
   ]
  },
  {
   "cell_type": "markdown",
   "metadata": {},
   "source": [
    "**ROC Curve**\n",
    "\n",
    "- To evaluate models for binary classification.\n",
    "- Decide what probability threshold you should use when making your predictions."
   ]
  },
  {
   "cell_type": "code",
   "execution_count": 87,
   "metadata": {},
   "outputs": [
    {
     "data": {
      "image/png": "[encoded data removed]",
      "text/plain": [
       "<Figure size 432x288 with 1 Axes>"
      ]
     },
     "metadata": {
      "needs_background": "light"
     },
     "output_type": "display_data"
    }
   ],
   "source": [
    "# Use VALIDATION DATA\n",
    "lr = plot_roc_curve(model_lr, X_val, y_val, label='Logistic')\n",
    "rf = plot_roc_curve(model_rf, X_val, y_val, ax=lr.ax_, label='Forest')\n",
    "plt.plot([(0,0), (1,1)], color='grey', linestyle='--')\n",
    "plt.legend();"
   ]
  },
  {
   "cell_type": "code",
   "execution_count": 91,
   "metadata": {},
   "outputs": [
    {
     "name": "stdout",
     "output_type": "stream",
     "text": [
      "Logistic: ROC-AUC Score: 0.809070548712206\n",
      "Random Forest: ROC-AUC Score: 0.870380739081747\n"
     ]
    }
   ],
   "source": [
    "print('Logistic: ROC-AUC Score:', roc_auc_score(y_val, model_lr.predict(X_val)))\n",
    "print('Random Forest: ROC-AUC Score:', roc_auc_score(y_val, model_rf.predict(X_val)))"
   ]
  },
  {
   "cell_type": "code",
   "execution_count": null,
   "metadata": {},
   "outputs": [],
   "source": []
  }
 ],
 "metadata": {
  "kernelspec": {
   "display_name": "Python 3",
   "language": "python",
   "name": "python3"
  },
  "language_info": {
   "codemirror_mode": {
    "name": "ipython",
    "version": 3
   },
   "file_extension": ".py",
   "mimetype": "text/x-python",
   "name": "python",
   "nbconvert_exporter": "python",
   "pygments_lexer": "ipython3",
   "version": "3.8.5"
  }
 },
 "nbformat": 4,
 "nbformat_minor": 4
}
