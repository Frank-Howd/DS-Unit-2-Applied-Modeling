{
 "cells": [
  {
   "cell_type": "markdown",
   "metadata": {},
   "source": [
    "####  Import useful packages\n"
   ]
  },
  {
   "cell_type": "code",
   "execution_count": 71,
   "metadata": {},
   "outputs": [],
   "source": [
    "import pandas as pd\n",
    "import numpy as np\n",
    "\n",
    "from sklearn.preprocessing import StandardScaler\n",
    "from sklearn.impute import SimpleImputer\n",
    "from category_encoders import OrdinalEncoder, OneHotEncoder\n",
    "\n",
    "from sklearn.metrics import accuracy_score, classification_report, roc_auc_score, plot_roc_curve\n",
    "from sklearn.pipeline import make_pipeline\n",
    "import matplotlib.pyplot as plt\n",
    "\n",
    "from sklearn.ensemble import RandomForestClassifier\n",
    "from sklearn.linear_model import LogisticRegression"
   ]
  },
  {
   "cell_type": "code",
   "execution_count": 72,
   "metadata": {},
   "outputs": [],
   "source": [
    "DATA_PATH = '../data/' # relatvie path \n",
    "# DATA_PATH = '/Users/sisichen/Desktop/DS-unit2-sprint3/data/' # absolute path "
   ]
  },
  {
   "cell_type": "markdown",
   "metadata": {},
   "source": [
    "# I.wrangle the dataset"
   ]
  },
  {
   "cell_type": "code",
   "execution_count": 73,
   "metadata": {},
   "outputs": [],
   "source": [
    "def wrangle(filepath):\n",
    "    \n",
    "    df = pd.read_csv(filepath + 'burritos/burritos.csv', parse_dates =['Date'], index_col='Date')\n",
    "    \n",
    "    ### drop some columns with large numbers of nan values\n",
    "    df = df.dropna(axis=1, thresh=30)\n",
    "\n",
    "    cat_cols = df.select_dtypes(include='object').columns\n",
    "\n",
    "    ### remove high cardinality columns\n",
    "    high_card_list = [x for x in cat_cols if df[x].nunique() > 30]\n",
    "    df = df.drop(columns=high_card_list)\n",
    "\n",
    "    ### lowercase 'x', and replace the x with 1, nan with 0 \n",
    "    fillings_cols = df.iloc[:,17:29].columns\n",
    "\n",
    "    for i in fillings_cols:\n",
    "        df[i] = df[i].str.lower().replace('x', 1).fillna(0)\n",
    "        \n",
    "    return df"
   ]
  },
  {
   "cell_type": "code",
   "execution_count": 74,
   "metadata": {},
   "outputs": [],
   "source": [
    "df = wrangle(DATA_PATH)"
   ]
  },
  {
   "cell_type": "code",
   "execution_count": 75,
   "metadata": {},
   "outputs": [
    {
     "name": "stdout",
     "output_type": "stream",
     "text": [
      "<class 'pandas.core.frame.DataFrame'>\n",
      "DatetimeIndex: 423 entries, 2016-01-18 to 2019-08-27\n",
      "Data columns (total 29 columns):\n",
      " #   Column        Non-Null Count  Dtype  \n",
      "---  ------        --------------  -----  \n",
      " 0   Yelp          87 non-null     float64\n",
      " 1   Google        87 non-null     float64\n",
      " 2   Cost          416 non-null    float64\n",
      " 3   Hunger        420 non-null    float64\n",
      " 4   Length        284 non-null    float64\n",
      " 5   Circum        282 non-null    float64\n",
      " 6   Volume        282 non-null    float64\n",
      " 7   Tortilla      423 non-null    float64\n",
      " 8   Temp          403 non-null    float64\n",
      " 9   Meat          409 non-null    float64\n",
      " 10  Fillings      420 non-null    float64\n",
      " 11  Meat:filling  414 non-null    float64\n",
      " 12  Uniformity    421 non-null    float64\n",
      " 13  Salsa         398 non-null    float64\n",
      " 14  Synergy       421 non-null    float64\n",
      " 15  Wrap          420 non-null    float64\n",
      " 16  overall       421 non-null    float64\n",
      " 17  Rec           423 non-null    object \n",
      " 18  Unreliable    423 non-null    float64\n",
      " 19  Beef          423 non-null    float64\n",
      " 20  Pico          423 non-null    float64\n",
      " 21  Guac          423 non-null    float64\n",
      " 22  Cheese        423 non-null    float64\n",
      " 23  Fries         423 non-null    float64\n",
      " 24  Sour cream    423 non-null    float64\n",
      " 25  Pork          423 non-null    float64\n",
      " 26  Rice          423 non-null    float64\n",
      " 27  Beans         423 non-null    float64\n",
      " 28  Sauce         423 non-null    float64\n",
      "dtypes: float64(28), object(1)\n",
      "memory usage: 99.1+ KB\n"
     ]
    }
   ],
   "source": [
    "df.info()"
   ]
  },
  {
   "cell_type": "code",
   "execution_count": 76,
   "metadata": {},
   "outputs": [],
   "source": [
    "df['great'] = df['overall'] > 4.0"
   ]
  },
  {
   "cell_type": "code",
   "execution_count": 77,
   "metadata": {},
   "outputs": [],
   "source": [
    "X = df.drop(columns=['overall', 'great'])"
   ]
  },
  {
   "cell_type": "code",
   "execution_count": 78,
   "metadata": {},
   "outputs": [],
   "source": [
    "y = df['great']"
   ]
  },
  {
   "cell_type": "markdown",
   "metadata": {},
   "source": [
    "# II. Split the dataset\n",
    "\n",
    "\n",
    "Next, do a **time-based split:**\n",
    "\n",
    "- Train on reviews from 2016 & earlier. \n",
    "- Validate on 2017. \n",
    "- Test on 2018 & later."
   ]
  },
  {
   "cell_type": "code",
   "execution_count": 79,
   "metadata": {},
   "outputs": [],
   "source": [
    "mask1 = X.index.year <= 2016\n",
    "mask2 = X.index.year == 2017\n",
    "mask3 = X.index.year >=2018\n",
    "X_train, y_train = X.loc[mask1], y.loc[mask1]\n",
    "X_val, y_val = X.loc[mask2], y.loc[mask2]\n",
    "X_test, y_test = X.loc[mask3], y.loc[mask3]"
   ]
  },
  {
   "cell_type": "markdown",
   "metadata": {},
   "source": [
    "# III. set the baseline"
   ]
  },
  {
   "cell_type": "code",
   "execution_count": 80,
   "metadata": {},
   "outputs": [
    {
     "name": "stdout",
     "output_type": "stream",
     "text": [
      "baseline accuracy is  0.76\n"
     ]
    }
   ],
   "source": [
    "print(\"baseline accuracy is \", y_train.value_counts(normalize=True).max())"
   ]
  },
  {
   "cell_type": "markdown",
   "metadata": {},
   "source": [
    "The data is imbalanced, so we will choose roc_auc_score() as the metric!"
   ]
  },
  {
   "cell_type": "code",
   "execution_count": 81,
   "metadata": {},
   "outputs": [
    {
     "name": "stdout",
     "output_type": "stream",
     "text": [
      "baseline roc auc score is  0.5\n"
     ]
    }
   ],
   "source": [
    "print(\"baseline roc auc score is \", roc_auc_score(y_train, [0.4]*len(y_train)))"
   ]
  },
  {
   "cell_type": "markdown",
   "metadata": {},
   "source": [
    "# IV. Build the model"
   ]
  },
  {
   "cell_type": "code",
   "execution_count": 82,
   "metadata": {},
   "outputs": [],
   "source": [
    "# build a logistic regression model\n",
    "model_lr = make_pipeline(OneHotEncoder(use_cat_names=True),\n",
    "                     SimpleImputer(),\n",
    "                     StandardScaler(),\n",
    "                     LogisticRegression(random_state=42))"
   ]
  },
  {
   "cell_type": "code",
   "execution_count": 83,
   "metadata": {},
   "outputs": [
    {
     "name": "stderr",
     "output_type": "stream",
     "text": [
      "/Users/sisichen/Library/Python/3.8/lib/python/site-packages/category_encoders/utils.py:21: FutureWarning: is_categorical is deprecated and will be removed in a future version.  Use is_categorical_dtype instead\n",
      "  elif pd.api.types.is_categorical(cols):\n"
     ]
    },
    {
     "data": {
      "text/plain": [
       "Pipeline(steps=[('onehotencoder',\n",
       "                 OneHotEncoder(cols=['Rec'], use_cat_names=True)),\n",
       "                ('simpleimputer', SimpleImputer()),\n",
       "                ('standardscaler', StandardScaler()),\n",
       "                ('logisticregression', LogisticRegression(random_state=42))])"
      ]
     },
     "execution_count": 83,
     "metadata": {},
     "output_type": "execute_result"
    }
   ],
   "source": [
    "model_lr.fit(X_train, y_train)"
   ]
  },
  {
   "cell_type": "code",
   "execution_count": 84,
   "metadata": {},
   "outputs": [],
   "source": [
    "# build a randomforest model\n",
    "model_rf = make_pipeline(OneHotEncoder(use_cat_names=True),\n",
    "                     SimpleImputer(),\n",
    "                     RandomForestClassifier(n_estimators=20, random_state=42))"
   ]
  },
  {
   "cell_type": "code",
   "execution_count": 85,
   "metadata": {},
   "outputs": [
    {
     "name": "stderr",
     "output_type": "stream",
     "text": [
      "/Users/sisichen/Library/Python/3.8/lib/python/site-packages/category_encoders/utils.py:21: FutureWarning: is_categorical is deprecated and will be removed in a future version.  Use is_categorical_dtype instead\n",
      "  elif pd.api.types.is_categorical(cols):\n"
     ]
    },
    {
     "data": {
      "text/plain": [
       "Pipeline(steps=[('onehotencoder',\n",
       "                 OneHotEncoder(cols=['Rec'], use_cat_names=True)),\n",
       "                ('simpleimputer', SimpleImputer()),\n",
       "                ('randomforestclassifier',\n",
       "                 RandomForestClassifier(n_estimators=20, random_state=42))])"
      ]
     },
     "execution_count": 85,
     "metadata": {},
     "output_type": "execute_result"
    }
   ],
   "source": [
    "model_rf.fit(X_train, y_train)"
   ]
  },
  {
   "cell_type": "markdown",
   "metadata": {},
   "source": [
    "# V. Check Metrics"
   ]
  },
  {
   "cell_type": "code",
   "execution_count": 86,
   "metadata": {},
   "outputs": [
    {
     "name": "stdout",
     "output_type": "stream",
     "text": [
      "logistic regession model roc auc score for val is 0.936\n",
      "logistic regession model roc auc score for test is 0.8484848484848484\n"
     ]
    }
   ],
   "source": [
    "## Logistic Regression\n",
    "print(\"logistic regession model roc auc score for val is\", roc_auc_score(y_val, model_lr.predict_proba(X_val)[:,1]))\n",
    "print(\"logistic regession model roc auc score for test is\", roc_auc_score(y_test, model_lr.predict_proba(X_test)[:,1]))"
   ]
  },
  {
   "cell_type": "code",
   "execution_count": 87,
   "metadata": {},
   "outputs": [
    {
     "name": "stdout",
     "output_type": "stream",
     "text": [
      "random forest model roc auc score for test is 0.9603333333333333\n",
      "random forest model roc auc score for test is 0.9090909090909091\n"
     ]
    }
   ],
   "source": [
    "# Random Forest\n",
    "print(\"random forest model roc auc score for test is\", roc_auc_score(y_val, model_rf.predict_proba(X_val)[:,1]))\n",
    "print(\"random forest model roc auc score for test is\", roc_auc_score(y_test, model_rf.predict_proba(X_test)[:,1]))"
   ]
  },
  {
   "cell_type": "markdown",
   "metadata": {},
   "source": [
    "#### Plot the roc auc curve for both models"
   ]
  },
  {
   "cell_type": "code",
   "execution_count": 88,
   "metadata": {},
   "outputs": [
    {
     "data": {
      "image/png": "[encoded data removed]",
      "text/plain": [
       "<Figure size 432x288 with 1 Axes>"
      ]
     },
     "metadata": {
      "needs_background": "light"
     },
     "output_type": "display_data"
    }
   ],
   "source": [
    "lr = plot_roc_curve(model_lr, X_val, y_val, label='Logistic')\n",
    "rf = plot_roc_curve(model_rf, X_val, y_val, ax=lr.ax_, label='RandomForest')\n",
    "plt.plot([(0,0), (1,1)], color='grey', linestyle='--')\n",
    "plt.legend();"
   ]
  }
 ],
 "metadata": {
  "kernelspec": {
   "display_name": "Python 3",
   "language": "python",
   "name": "python3"
  },
  "language_info": {
   "codemirror_mode": {
    "name": "ipython",
    "version": 3
   },
   "file_extension": ".py",
   "mimetype": "text/x-python",
   "name": "python",
   "nbconvert_exporter": "python",
   "pygments_lexer": "ipython3",
   "version": "3.8.2"
  }
 },
 "nbformat": 4,
 "nbformat_minor": 4
}
