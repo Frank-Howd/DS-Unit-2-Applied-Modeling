{
 "cells": [
  {
   "cell_type": "markdown",
   "metadata": {
    "id": "JJV7gpb2PJap"
   },
   "source": [
    "Lambda School Data Science\n",
    "\n",
    "*Unit 2, Sprint 3, Module 3*\n",
    "\n",
    "---"
   ]
  },
  {
   "cell_type": "code",
   "execution_count": 23,
   "metadata": {},
   "outputs": [],
   "source": [
    "from category_encoders import OrdinalEncoder\n",
    "from numpy.random import permutation\n",
    "from sklearn.ensemble import GradientBoostingClassifier\n",
    "from sklearn.impute import SimpleImputer\n",
    "from sklearn.inspection import permutation_importance\n",
    "from sklearn.pipeline import make_pipeline\n",
    "from xgboost import XGBClassifier\n",
    "import matplotlib.pyplot as plt\n",
    "import numpy as np\n",
    "import pandas as pd"
   ]
  },
  {
   "cell_type": "code",
   "execution_count": 2,
   "metadata": {
    "id": "o91blCkEPJaq"
   },
   "outputs": [],
   "source": [
    "%%capture\n",
    "import sys\n",
    "\n",
    "# If you're on Colab:\n",
    "if 'google.colab' in sys.modules:\n",
    "    DATA_PATH = 'https://raw.githubusercontent.com/LambdaSchool/DS-Unit-2-Applied-Modeling/master/data/'\n",
    "    !pip install category_encoders==2.*\n",
    "    !pip install eli5\n",
    "\n",
    "# If you're working locally:\n",
    "else:\n",
    "    DATA_PATH = '../data/'"
   ]
  },
  {
   "cell_type": "markdown",
   "metadata": {
    "id": "JNUpOvA_PJau"
   },
   "source": [
    "# Boosting and Permutation Importance\n",
    "\n",
    "- Use xgboost for **gradient boosting**\n",
    "- Get **permutation importances** for model interpretation and feature selection"
   ]
  },
  {
   "cell_type": "markdown",
   "metadata": {
    "id": "Bm-0Kf74PJav"
   },
   "source": [
    "# I. Wrangle Data\n",
    "\n",
    "## Import"
   ]
  },
  {
   "cell_type": "code",
   "execution_count": 3,
   "metadata": {
    "id": "9zO9FFsePJav"
   },
   "outputs": [],
   "source": [
    "# Merge train_features.csv & train_labels.csv\n",
    "df = pd.merge(pd.read_csv(DATA_PATH+'waterpumps/train_features.csv', na_values=[0, -2.000000e-08]), \n",
    "              pd.read_csv(DATA_PATH+'waterpumps/train_labels.csv')).set_index('id')"
   ]
  },
  {
   "cell_type": "markdown",
   "metadata": {
    "id": "mJfxAWzsPJaz"
   },
   "source": [
    "## Wrangle Function"
   ]
  },
  {
   "cell_type": "code",
   "execution_count": 4,
   "metadata": {
    "id": "oPNOE2L7PJa0"
   },
   "outputs": [],
   "source": [
    "def wrangle(X):\n",
    "    # Make a copy\n",
    "    X = X.copy()\n",
    "\n",
    "    # Drop high cardinality cols\n",
    "    high_card_cols = [col for col in X.select_dtypes('object').columns\n",
    "                      if X[col].nunique() > 100]\n",
    "\n",
    "    X.drop(columns=high_card_cols, inplace=True)\n",
    "\n",
    "    # Drop repeated columns\n",
    "    cols = ['extraction_type_group', 'quantity']\n",
    "    X.drop(columns=cols, inplace=True)\n",
    "\n",
    "    return X"
   ]
  },
  {
   "cell_type": "code",
   "execution_count": 5,
   "metadata": {
    "id": "I5090eIiPJa4"
   },
   "outputs": [],
   "source": [
    "df = wrangle(df)"
   ]
  },
  {
   "cell_type": "code",
   "execution_count": 6,
   "metadata": {},
   "outputs": [
    {
     "data": {
      "text/html": [
       "<div>\n",
       "<style scoped>\n",
       "    .dataframe tbody tr th:only-of-type {\n",
       "        vertical-align: middle;\n",
       "    }\n",
       "\n",
       "    .dataframe tbody tr th {\n",
       "        vertical-align: top;\n",
       "    }\n",
       "\n",
       "    .dataframe thead th {\n",
       "        text-align: right;\n",
       "    }\n",
       "</style>\n",
       "<table border=\"1\" class=\"dataframe\">\n",
       "  <thead>\n",
       "    <tr style=\"text-align: right;\">\n",
       "      <th></th>\n",
       "      <th>amount_tsh</th>\n",
       "      <th>gps_height</th>\n",
       "      <th>longitude</th>\n",
       "      <th>latitude</th>\n",
       "      <th>num_private</th>\n",
       "      <th>basin</th>\n",
       "      <th>region</th>\n",
       "      <th>region_code</th>\n",
       "      <th>district_code</th>\n",
       "      <th>population</th>\n",
       "      <th>...</th>\n",
       "      <th>payment_type</th>\n",
       "      <th>water_quality</th>\n",
       "      <th>quality_group</th>\n",
       "      <th>quantity_group</th>\n",
       "      <th>source</th>\n",
       "      <th>source_type</th>\n",
       "      <th>source_class</th>\n",
       "      <th>waterpoint_type</th>\n",
       "      <th>waterpoint_type_group</th>\n",
       "      <th>status_group</th>\n",
       "    </tr>\n",
       "    <tr>\n",
       "      <th>id</th>\n",
       "      <th></th>\n",
       "      <th></th>\n",
       "      <th></th>\n",
       "      <th></th>\n",
       "      <th></th>\n",
       "      <th></th>\n",
       "      <th></th>\n",
       "      <th></th>\n",
       "      <th></th>\n",
       "      <th></th>\n",
       "      <th></th>\n",
       "      <th></th>\n",
       "      <th></th>\n",
       "      <th></th>\n",
       "      <th></th>\n",
       "      <th></th>\n",
       "      <th></th>\n",
       "      <th></th>\n",
       "      <th></th>\n",
       "      <th></th>\n",
       "      <th></th>\n",
       "    </tr>\n",
       "  </thead>\n",
       "  <tbody>\n",
       "    <tr>\n",
       "      <th>69572.0</th>\n",
       "      <td>6000.0</td>\n",
       "      <td>1390.0</td>\n",
       "      <td>34.938093</td>\n",
       "      <td>-9.856322</td>\n",
       "      <td>NaN</td>\n",
       "      <td>Lake Nyasa</td>\n",
       "      <td>Iringa</td>\n",
       "      <td>11</td>\n",
       "      <td>5.0</td>\n",
       "      <td>109.0</td>\n",
       "      <td>...</td>\n",
       "      <td>annually</td>\n",
       "      <td>soft</td>\n",
       "      <td>good</td>\n",
       "      <td>enough</td>\n",
       "      <td>spring</td>\n",
       "      <td>spring</td>\n",
       "      <td>groundwater</td>\n",
       "      <td>communal standpipe</td>\n",
       "      <td>communal standpipe</td>\n",
       "      <td>functional</td>\n",
       "    </tr>\n",
       "    <tr>\n",
       "      <th>8776.0</th>\n",
       "      <td>NaN</td>\n",
       "      <td>1399.0</td>\n",
       "      <td>34.698766</td>\n",
       "      <td>-2.147466</td>\n",
       "      <td>NaN</td>\n",
       "      <td>Lake Victoria</td>\n",
       "      <td>Mara</td>\n",
       "      <td>20</td>\n",
       "      <td>2.0</td>\n",
       "      <td>280.0</td>\n",
       "      <td>...</td>\n",
       "      <td>never pay</td>\n",
       "      <td>soft</td>\n",
       "      <td>good</td>\n",
       "      <td>insufficient</td>\n",
       "      <td>rainwater harvesting</td>\n",
       "      <td>rainwater harvesting</td>\n",
       "      <td>surface</td>\n",
       "      <td>communal standpipe</td>\n",
       "      <td>communal standpipe</td>\n",
       "      <td>functional</td>\n",
       "    </tr>\n",
       "    <tr>\n",
       "      <th>34310.0</th>\n",
       "      <td>25.0</td>\n",
       "      <td>686.0</td>\n",
       "      <td>37.460664</td>\n",
       "      <td>-3.821329</td>\n",
       "      <td>NaN</td>\n",
       "      <td>Pangani</td>\n",
       "      <td>Manyara</td>\n",
       "      <td>21</td>\n",
       "      <td>4.0</td>\n",
       "      <td>250.0</td>\n",
       "      <td>...</td>\n",
       "      <td>per bucket</td>\n",
       "      <td>soft</td>\n",
       "      <td>good</td>\n",
       "      <td>enough</td>\n",
       "      <td>dam</td>\n",
       "      <td>dam</td>\n",
       "      <td>surface</td>\n",
       "      <td>communal standpipe multiple</td>\n",
       "      <td>communal standpipe</td>\n",
       "      <td>functional</td>\n",
       "    </tr>\n",
       "    <tr>\n",
       "      <th>67743.0</th>\n",
       "      <td>NaN</td>\n",
       "      <td>263.0</td>\n",
       "      <td>38.486161</td>\n",
       "      <td>-11.155298</td>\n",
       "      <td>NaN</td>\n",
       "      <td>Ruvuma / Southern Coast</td>\n",
       "      <td>Mtwara</td>\n",
       "      <td>90</td>\n",
       "      <td>63.0</td>\n",
       "      <td>58.0</td>\n",
       "      <td>...</td>\n",
       "      <td>never pay</td>\n",
       "      <td>soft</td>\n",
       "      <td>good</td>\n",
       "      <td>dry</td>\n",
       "      <td>machine dbh</td>\n",
       "      <td>borehole</td>\n",
       "      <td>groundwater</td>\n",
       "      <td>communal standpipe multiple</td>\n",
       "      <td>communal standpipe</td>\n",
       "      <td>non functional</td>\n",
       "    </tr>\n",
       "    <tr>\n",
       "      <th>19728.0</th>\n",
       "      <td>NaN</td>\n",
       "      <td>NaN</td>\n",
       "      <td>31.130847</td>\n",
       "      <td>-1.825359</td>\n",
       "      <td>NaN</td>\n",
       "      <td>Lake Victoria</td>\n",
       "      <td>Kagera</td>\n",
       "      <td>18</td>\n",
       "      <td>1.0</td>\n",
       "      <td>NaN</td>\n",
       "      <td>...</td>\n",
       "      <td>never pay</td>\n",
       "      <td>soft</td>\n",
       "      <td>good</td>\n",
       "      <td>seasonal</td>\n",
       "      <td>rainwater harvesting</td>\n",
       "      <td>rainwater harvesting</td>\n",
       "      <td>surface</td>\n",
       "      <td>communal standpipe</td>\n",
       "      <td>communal standpipe</td>\n",
       "      <td>functional</td>\n",
       "    </tr>\n",
       "  </tbody>\n",
       "</table>\n",
       "<p>5 rows × 30 columns</p>\n",
       "</div>"
      ],
      "text/plain": [
       "         amount_tsh  gps_height  longitude   latitude  num_private  \\\n",
       "id                                                                   \n",
       "69572.0      6000.0      1390.0  34.938093  -9.856322          NaN   \n",
       "8776.0          NaN      1399.0  34.698766  -2.147466          NaN   \n",
       "34310.0        25.0       686.0  37.460664  -3.821329          NaN   \n",
       "67743.0         NaN       263.0  38.486161 -11.155298          NaN   \n",
       "19728.0         NaN         NaN  31.130847  -1.825359          NaN   \n",
       "\n",
       "                           basin   region  region_code  district_code  \\\n",
       "id                                                                      \n",
       "69572.0               Lake Nyasa   Iringa           11            5.0   \n",
       "8776.0             Lake Victoria     Mara           20            2.0   \n",
       "34310.0                  Pangani  Manyara           21            4.0   \n",
       "67743.0  Ruvuma / Southern Coast   Mtwara           90           63.0   \n",
       "19728.0            Lake Victoria   Kagera           18            1.0   \n",
       "\n",
       "         population  ... payment_type water_quality quality_group  \\\n",
       "id                   ...                                            \n",
       "69572.0       109.0  ...     annually          soft          good   \n",
       "8776.0        280.0  ...    never pay          soft          good   \n",
       "34310.0       250.0  ...   per bucket          soft          good   \n",
       "67743.0        58.0  ...    never pay          soft          good   \n",
       "19728.0         NaN  ...    never pay          soft          good   \n",
       "\n",
       "        quantity_group                source           source_type  \\\n",
       "id                                                                   \n",
       "69572.0         enough                spring                spring   \n",
       "8776.0    insufficient  rainwater harvesting  rainwater harvesting   \n",
       "34310.0         enough                   dam                   dam   \n",
       "67743.0            dry           machine dbh              borehole   \n",
       "19728.0       seasonal  rainwater harvesting  rainwater harvesting   \n",
       "\n",
       "        source_class              waterpoint_type waterpoint_type_group  \\\n",
       "id                                                                        \n",
       "69572.0  groundwater           communal standpipe    communal standpipe   \n",
       "8776.0       surface           communal standpipe    communal standpipe   \n",
       "34310.0      surface  communal standpipe multiple    communal standpipe   \n",
       "67743.0  groundwater  communal standpipe multiple    communal standpipe   \n",
       "19728.0      surface           communal standpipe    communal standpipe   \n",
       "\n",
       "           status_group  \n",
       "id                       \n",
       "69572.0      functional  \n",
       "8776.0       functional  \n",
       "34310.0      functional  \n",
       "67743.0  non functional  \n",
       "19728.0      functional  \n",
       "\n",
       "[5 rows x 30 columns]"
      ]
     },
     "execution_count": 6,
     "metadata": {},
     "output_type": "execute_result"
    }
   ],
   "source": [
    "df.head()"
   ]
  },
  {
   "cell_type": "markdown",
   "metadata": {
    "id": "qEmE1AC4PJa7"
   },
   "source": [
    "# II. Split Data"
   ]
  },
  {
   "cell_type": "code",
   "execution_count": 7,
   "metadata": {
    "id": "28S6o1aOPJa8"
   },
   "outputs": [],
   "source": [
    "# Split our feature matrix and target vector\n",
    "y = df['status_group']\n",
    "X = df.drop('status_group', axis=1)"
   ]
  },
  {
   "cell_type": "code",
   "execution_count": 8,
   "metadata": {
    "id": "tKh48P1XPJa-"
   },
   "outputs": [],
   "source": [
    "# Train-validation split\n",
    "from sklearn.model_selection import train_test_split\n",
    "\n",
    "X_train, X_val, y_train, y_val = train_test_split(X, y, test_size=0.2, random_state=42)"
   ]
  },
  {
   "cell_type": "markdown",
   "metadata": {
    "id": "jRtcJG09PJbC"
   },
   "source": [
    "# III. Establish Baseline"
   ]
  },
  {
   "cell_type": "code",
   "execution_count": 9,
   "metadata": {
    "id": "pbQ_ZbCSPJbC",
    "outputId": "d65b70e4-f289-4054-8774-9064e29cecb0"
   },
   "outputs": [
    {
     "name": "stdout",
     "output_type": "stream",
     "text": [
      "Baseline Accuracy Score: 0.5425829668132747\n"
     ]
    }
   ],
   "source": [
    "print('Baseline Accuracy Score:', y_train.value_counts(normalize=True).max())"
   ]
  },
  {
   "cell_type": "markdown",
   "metadata": {
    "id": "pu2S28IqPJbG"
   },
   "source": [
    "# IV. Build Model"
   ]
  },
  {
   "cell_type": "code",
   "execution_count": 10,
   "metadata": {},
   "outputs": [],
   "source": [
    "model_skgb = make_pipeline(\n",
    "    OrdinalEncoder(),\n",
    "    SimpleImputer(),\n",
    "    GradientBoostingClassifier(random_state=42)\n",
    ")\n",
    "\n",
    "model_skgb.fit(X_train, y_train);"
   ]
  },
  {
   "cell_type": "code",
   "execution_count": 11,
   "metadata": {},
   "outputs": [],
   "source": [
    "model_xgb = make_pipeline(\n",
    "    OrdinalEncoder(),\n",
    "    SimpleImputer(),\n",
    "    XGBClassifier(random_state=42,\n",
    "                  n_jobs=10)\n",
    ")\n",
    "\n",
    "model_xgb.fit(X_train, y_train);"
   ]
  },
  {
   "cell_type": "markdown",
   "metadata": {
    "id": "DoNvbF3dPJbO"
   },
   "source": [
    "# Check Metrics"
   ]
  },
  {
   "cell_type": "code",
   "execution_count": 12,
   "metadata": {
    "id": "aikbR-OvwfaE",
    "outputId": "bf67dc89-4bd3-44d4-e61a-a7343c0a6936"
   },
   "outputs": [
    {
     "name": "stdout",
     "output_type": "stream",
     "text": [
      "sklearn Training Accuracy: 0.7505629327216482\n",
      "sklearn Validation Accuracy: 0.7522727272727273\n"
     ]
    }
   ],
   "source": [
    "print('sklearn Training Accuracy:', model_skgb.score(X_train, y_train))\n",
    "print('sklearn Validation Accuracy:', model_skgb.score(X_val, y_val))"
   ]
  },
  {
   "cell_type": "code",
   "execution_count": 13,
   "metadata": {
    "id": "dCPJaEPzwfaF",
    "outputId": "87fd9652-2020-46e9-899a-e2065334a513"
   },
   "outputs": [
    {
     "name": "stdout",
     "output_type": "stream",
     "text": [
      "XGBoost Training Accuracy: 0.8408636545381847\n",
      "XGBoost Validation Accuracy: 0.7988215488215489\n"
     ]
    }
   ],
   "source": [
    "print('XGBoost Training Accuracy:', model_xgb.score(X_train, y_train))\n",
    "print('XGBoost Validation Accuracy:', model_xgb.score(X_val, y_val))"
   ]
  },
  {
   "cell_type": "markdown",
   "metadata": {
    "id": "LgZYhp4UPJbV"
   },
   "source": [
    "# Communicate Results\n",
    "\n",
    "- How can we determine or communicate which features are most important to our model when making predictions?"
   ]
  },
  {
   "cell_type": "markdown",
   "metadata": {
    "id": "qzhgK58tPJbZ"
   },
   "source": [
    "**Option 1:** Grab feature importances from our pipeline"
   ]
  },
  {
   "cell_type": "code",
   "execution_count": 19,
   "metadata": {
    "id": "D4_x69ZqPJba",
    "outputId": "5cc97197-74cb-4c49-d29f-f54600687639"
   },
   "outputs": [
    {
     "data": {
      "image/png": "[encoded data removed]",
      "text/plain": [
       "<Figure size 432x288 with 1 Axes>"
      ]
     },
     "metadata": {
      "needs_background": "light"
     },
     "output_type": "display_data"
    }
   ],
   "source": [
    "importances = model_skgb.named_steps['gradientboostingclassifier'].feature_importances_\n",
    "features = X_train.columns\n",
    "\n",
    "feat_imp = pd.Series(importances, index=features).sort_values()\n",
    "feat_imp.tail(10).plot(kind='barh')\n",
    "plt.xlabel('Gini Importance')\n",
    "plt.ylabel('Feature')\n",
    "plt.title('Feature Importances for model_skbg');"
   ]
  },
  {
   "cell_type": "markdown",
   "metadata": {
    "id": "byWsjDN8PJbf"
   },
   "source": [
    "**Option 2:** Drop-column Importance\n",
    "\n",
    "- Good, but computationally expensive because you have to train a model for each feature."
   ]
  },
  {
   "cell_type": "code",
   "execution_count": 20,
   "metadata": {
    "id": "9XIbQFvwwfaG",
    "outputId": "5a4d7a16-907b-4045-bac7-7e519ca55f18"
   },
   "outputs": [
    {
     "name": "stdout",
     "output_type": "stream",
     "text": [
      "Validation accuracy with \"quantity_group\" included: 0.7554713804713805\n"
     ]
    }
   ],
   "source": [
    "# STEP 1: Train a model with the feature whose importance we want to evaluate\n",
    "\n",
    "feature = 'quantity_group'\n",
    "\n",
    "model_w_feat = model_xgb = make_pipeline(\n",
    "    OrdinalEncoder(),\n",
    "    SimpleImputer(),\n",
    "    XGBClassifier(n_estimators=10,\n",
    "                  random_state=42,\n",
    "                  n_jobs=-1)\n",
    ")\n",
    "\n",
    "model_w_feat.fit(X_train, y_train)\n",
    "\n",
    "print(f'Validation accuracy with \"{feature}\" included:', model_w_feat.score(X_val, y_val))"
   ]
  },
  {
   "cell_type": "code",
   "execution_count": 21,
   "metadata": {},
   "outputs": [
    {
     "name": "stdout",
     "output_type": "stream",
     "text": [
      "Validation accuracy without \"quantity_group\" included: 0.7198653198653199\n"
     ]
    }
   ],
   "source": [
    "# STEP 2: Train a model WITHOUT the feature we want to evaluate\n",
    "model_wo_feat = model_xgb = make_pipeline(\n",
    "    OrdinalEncoder(),\n",
    "    SimpleImputer(),\n",
    "    XGBClassifier(n_estimators=10,\n",
    "                  random_state=42,\n",
    "                  n_jobs=-1)\n",
    ")\n",
    "\n",
    "model_wo_feat.fit(X_train.drop(columns=feature), y_train)\n",
    "\n",
    "print(f'Validation accuracy without \"{feature}\" included:', \n",
    "      model_wo_feat.score(X_val.drop(columns=feature), y_val))"
   ]
  },
  {
   "cell_type": "markdown",
   "metadata": {
    "id": "gi_oYepzPJbp"
   },
   "source": [
    "**Option 3:** Permutation Importance\n",
    "\n",
    "By hand"
   ]
  },
  {
   "cell_type": "code",
   "execution_count": 36,
   "metadata": {},
   "outputs": [
    {
     "name": "stdout",
     "output_type": "stream",
     "text": [
      "Validation Accuracy 0.7554713804713805\n",
      "Validation Accuracy with \"quantity_group\" permuted: 0.6583333333333333\n"
     ]
    }
   ],
   "source": [
    "# \"By hand\"\n",
    "# Feature: `quantity_group`\n",
    "\n",
    "# STEP 1: Train model on whole dataset\n",
    "model_xgb = make_pipeline(\n",
    "    OrdinalEncoder(),\n",
    "    SimpleImputer(),\n",
    "    XGBClassifier(n_estimators=10,\n",
    "                  random_state=42,\n",
    "                  n_jobs=10)\n",
    ")\n",
    "\n",
    "model_xgb.fit(X_train, y_train);\n",
    "\n",
    "# STEP 2: Evaluate using the validation set\n",
    "print('Validation Accuracy', model_xgb.score(X_val, y_val))\n",
    "\n",
    "# STEP 3: In our VALIDATION set, permute the feature we want to evaluate\n",
    "X_val_perm = X_val.copy()\n",
    "X_val_perm[feature] = permutation(X_val_perm[feature])\n",
    "\n",
    "# STEP 4: Caluculate the performance metric with the permuted data\n",
    "print(f'Validation Accuracy with \"{feature}\" permuted:', model_xgb.score(X_val_perm, y_val))"
   ]
  },
  {
   "cell_type": "markdown",
   "metadata": {},
   "source": [
    "Using `sklearn`"
   ]
  },
  {
   "cell_type": "code",
   "execution_count": 37,
   "metadata": {},
   "outputs": [],
   "source": [
    "perm_imp = permutation_importance(\n",
    "    model_xgb,\n",
    "    X_val, # Always use your VALIDATION set\n",
    "    y_val, \n",
    "    n_jobs=10,\n",
    "    random_state=42\n",
    ")"
   ]
  },
  {
   "cell_type": "code",
   "execution_count": 40,
   "metadata": {},
   "outputs": [],
   "source": [
    "# Put results into DataFrame\n",
    "data = {'importances_mean' : perm_imp['importances_mean'],\n",
    "        'importances_std' : perm_imp['importances_std']}\n",
    "\n",
    "df = pd.DataFrame(data, index=X_val.columns)\n",
    "df.sort_values(by='importances_mean', inplace=True)"
   ]
  },
  {
   "cell_type": "code",
   "execution_count": 41,
   "metadata": {},
   "outputs": [
    {
     "data": {
      "text/html": [
       "<div>\n",
       "<style scoped>\n",
       "    .dataframe tbody tr th:only-of-type {\n",
       "        vertical-align: middle;\n",
       "    }\n",
       "\n",
       "    .dataframe tbody tr th {\n",
       "        vertical-align: top;\n",
       "    }\n",
       "\n",
       "    .dataframe thead th {\n",
       "        text-align: right;\n",
       "    }\n",
       "</style>\n",
       "<table border=\"1\" class=\"dataframe\">\n",
       "  <thead>\n",
       "    <tr style=\"text-align: right;\">\n",
       "      <th></th>\n",
       "      <th>importances_mean</th>\n",
       "      <th>importances_std</th>\n",
       "    </tr>\n",
       "  </thead>\n",
       "  <tbody>\n",
       "    <tr>\n",
       "      <th>source_type</th>\n",
       "      <td>0.000000</td>\n",
       "      <td>0.000000</td>\n",
       "    </tr>\n",
       "    <tr>\n",
       "      <th>quality_group</th>\n",
       "      <td>0.000000</td>\n",
       "      <td>0.000000</td>\n",
       "    </tr>\n",
       "    <tr>\n",
       "      <th>num_private</th>\n",
       "      <td>0.000000</td>\n",
       "      <td>0.000000</td>\n",
       "    </tr>\n",
       "    <tr>\n",
       "      <th>payment_type</th>\n",
       "      <td>0.000000</td>\n",
       "      <td>0.000000</td>\n",
       "    </tr>\n",
       "    <tr>\n",
       "      <th>management_group</th>\n",
       "      <td>0.000000</td>\n",
       "      <td>0.000000</td>\n",
       "    </tr>\n",
       "    <tr>\n",
       "      <th>recorded_by</th>\n",
       "      <td>0.000000</td>\n",
       "      <td>0.000000</td>\n",
       "    </tr>\n",
       "    <tr>\n",
       "      <th>waterpoint_type_group</th>\n",
       "      <td>0.000438</td>\n",
       "      <td>0.000098</td>\n",
       "    </tr>\n",
       "    <tr>\n",
       "      <th>water_quality</th>\n",
       "      <td>0.000471</td>\n",
       "      <td>0.000203</td>\n",
       "    </tr>\n",
       "    <tr>\n",
       "      <th>public_meeting</th>\n",
       "      <td>0.000741</td>\n",
       "      <td>0.000263</td>\n",
       "    </tr>\n",
       "    <tr>\n",
       "      <th>source_class</th>\n",
       "      <td>0.001481</td>\n",
       "      <td>0.000230</td>\n",
       "    </tr>\n",
       "    <tr>\n",
       "      <th>permit</th>\n",
       "      <td>0.001936</td>\n",
       "      <td>0.000220</td>\n",
       "    </tr>\n",
       "    <tr>\n",
       "      <th>basin</th>\n",
       "      <td>0.002121</td>\n",
       "      <td>0.000456</td>\n",
       "    </tr>\n",
       "    <tr>\n",
       "      <th>management</th>\n",
       "      <td>0.002172</td>\n",
       "      <td>0.000587</td>\n",
       "    </tr>\n",
       "    <tr>\n",
       "      <th>district_code</th>\n",
       "      <td>0.002256</td>\n",
       "      <td>0.000326</td>\n",
       "    </tr>\n",
       "    <tr>\n",
       "      <th>scheme_management</th>\n",
       "      <td>0.003131</td>\n",
       "      <td>0.000515</td>\n",
       "    </tr>\n",
       "    <tr>\n",
       "      <th>amount_tsh</th>\n",
       "      <td>0.003232</td>\n",
       "      <td>0.000699</td>\n",
       "    </tr>\n",
       "    <tr>\n",
       "      <th>population</th>\n",
       "      <td>0.003283</td>\n",
       "      <td>0.000423</td>\n",
       "    </tr>\n",
       "    <tr>\n",
       "      <th>region_code</th>\n",
       "      <td>0.003552</td>\n",
       "      <td>0.000719</td>\n",
       "    </tr>\n",
       "    <tr>\n",
       "      <th>gps_height</th>\n",
       "      <td>0.004209</td>\n",
       "      <td>0.000388</td>\n",
       "    </tr>\n",
       "    <tr>\n",
       "      <th>source</th>\n",
       "      <td>0.004697</td>\n",
       "      <td>0.000871</td>\n",
       "    </tr>\n",
       "    <tr>\n",
       "      <th>region</th>\n",
       "      <td>0.005892</td>\n",
       "      <td>0.000429</td>\n",
       "    </tr>\n",
       "    <tr>\n",
       "      <th>latitude</th>\n",
       "      <td>0.007660</td>\n",
       "      <td>0.001112</td>\n",
       "    </tr>\n",
       "    <tr>\n",
       "      <th>longitude</th>\n",
       "      <td>0.008889</td>\n",
       "      <td>0.000592</td>\n",
       "    </tr>\n",
       "    <tr>\n",
       "      <th>extraction_type</th>\n",
       "      <td>0.009343</td>\n",
       "      <td>0.001091</td>\n",
       "    </tr>\n",
       "    <tr>\n",
       "      <th>payment</th>\n",
       "      <td>0.011397</td>\n",
       "      <td>0.000397</td>\n",
       "    </tr>\n",
       "    <tr>\n",
       "      <th>extraction_type_class</th>\n",
       "      <td>0.012475</td>\n",
       "      <td>0.001040</td>\n",
       "    </tr>\n",
       "    <tr>\n",
       "      <th>construction_year</th>\n",
       "      <td>0.020387</td>\n",
       "      <td>0.000662</td>\n",
       "    </tr>\n",
       "    <tr>\n",
       "      <th>waterpoint_type</th>\n",
       "      <td>0.044024</td>\n",
       "      <td>0.001256</td>\n",
       "    </tr>\n",
       "    <tr>\n",
       "      <th>quantity_group</th>\n",
       "      <td>0.095724</td>\n",
       "      <td>0.001772</td>\n",
       "    </tr>\n",
       "  </tbody>\n",
       "</table>\n",
       "</div>"
      ],
      "text/plain": [
       "                       importances_mean  importances_std\n",
       "source_type                    0.000000         0.000000\n",
       "quality_group                  0.000000         0.000000\n",
       "num_private                    0.000000         0.000000\n",
       "payment_type                   0.000000         0.000000\n",
       "management_group               0.000000         0.000000\n",
       "recorded_by                    0.000000         0.000000\n",
       "waterpoint_type_group          0.000438         0.000098\n",
       "water_quality                  0.000471         0.000203\n",
       "public_meeting                 0.000741         0.000263\n",
       "source_class                   0.001481         0.000230\n",
       "permit                         0.001936         0.000220\n",
       "basin                          0.002121         0.000456\n",
       "management                     0.002172         0.000587\n",
       "district_code                  0.002256         0.000326\n",
       "scheme_management              0.003131         0.000515\n",
       "amount_tsh                     0.003232         0.000699\n",
       "population                     0.003283         0.000423\n",
       "region_code                    0.003552         0.000719\n",
       "gps_height                     0.004209         0.000388\n",
       "source                         0.004697         0.000871\n",
       "region                         0.005892         0.000429\n",
       "latitude                       0.007660         0.001112\n",
       "longitude                      0.008889         0.000592\n",
       "extraction_type                0.009343         0.001091\n",
       "payment                        0.011397         0.000397\n",
       "extraction_type_class          0.012475         0.001040\n",
       "construction_year              0.020387         0.000662\n",
       "waterpoint_type                0.044024         0.001256\n",
       "quantity_group                 0.095724         0.001772"
      ]
     },
     "execution_count": 41,
     "metadata": {},
     "output_type": "execute_result"
    }
   ],
   "source": [
    "df"
   ]
  },
  {
   "cell_type": "code",
   "execution_count": 42,
   "metadata": {},
   "outputs": [
    {
     "data": {
      "image/png": "[encoded data removed]",
      "text/plain": [
       "<Figure size 432x288 with 1 Axes>"
      ]
     },
     "metadata": {
      "needs_background": "light"
     },
     "output_type": "display_data"
    }
   ],
   "source": [
    "df['importances_mean'].tail(10).plot(kind='barh')\n",
    "plt.xlabel('Importance (drop in accuracy)')\n",
    "plt.ylabel('Feature')\n",
    "plt.title('Permutation importance for model_xgb');"
   ]
  },
  {
   "cell_type": "code",
   "execution_count": null,
   "metadata": {},
   "outputs": [],
   "source": []
  }
 ],
 "metadata": {
  "colab": {
   "name": "2020-11-11_233_guided_project_notes.ipynb",
   "provenance": []
  },
  "kernelspec": {
   "display_name": "Python 3",
   "language": "python",
   "name": "python3"
  },
  "language_info": {
   "codemirror_mode": {
    "name": "ipython",
    "version": 3
   },
   "file_extension": ".py",
   "mimetype": "text/x-python",
   "name": "python",
   "nbconvert_exporter": "python",
   "pygments_lexer": "ipython3",
   "version": "3.8.5"
  }
 },
 "nbformat": 4,
 "nbformat_minor": 1
}
