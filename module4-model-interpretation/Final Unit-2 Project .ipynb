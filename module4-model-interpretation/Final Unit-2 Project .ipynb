{
 "cells": [
  {
   "cell_type": "markdown",
   "metadata": {},
   "source": [
    "# Loan Approval Prediction, a classification problem"
   ]
  },
  {
   "cell_type": "markdown",
   "metadata": {},
   "source": [
    "### How accurate will we be predicting determinations for loan approval requests?"
   ]
  },
  {
   "cell_type": "code",
   "execution_count": null,
   "metadata": {},
   "outputs": [],
   "source": [
    "# Dataset location - https://www.kaggle.com/shaijudatascience/loan-prediction-practice-av-competition"
   ]
  },
  {
   "cell_type": "code",
   "execution_count": 5,
   "metadata": {},
   "outputs": [
    {
     "data": {
      "image/png": "[encoded data removed]",
      "text/plain": [
       "<IPython.core.display.Image object>"
      ]
     },
     "execution_count": 5,
     "metadata": {},
     "output_type": "execute_result"
    }
   ],
   "source": [
    "from IPython.display import Image\n",
    "\n",
    "Image(filename='../images/loan_variables.png')"
   ]
  },
  {
   "cell_type": "code",
   "execution_count": null,
   "metadata": {},
   "outputs": [],
   "source": [
    "# There are 13 variables in the dataset.\n",
    "# 'Loan_Status' is our target; we are attempting to predict loan approvals.\n",
    "# To address any potential for data leakage, we will refrain from creating \n",
    "# any new features using the target, we won't perform any fitting using our \n",
    "# validation sets, and we will watch for any significant declines in our \n",
    "# models' performance when scoring our validation sets. "
   ]
  },
  {
   "cell_type": "markdown",
   "metadata": {},
   "source": [
    "# Notebook Index\n",
    "\n",
    "- `Part I, Imports & EDA`\n",
    " \n",
    "- `Part II, Wrangle Data`\n",
    "  \n",
    "- `Part III, Split the Data`\n",
    "    \n",
    "- `Part IV, Establish a Baseline`\n",
    "\n",
    "- `Part V, Build Models`\n",
    "    `-`\n",
    "   - `LogisticRegression`\n",
    "   - `RandomForestClassifier` \n",
    "   - `XGBoostClassifier`\n",
    "\n",
    "- `Part VI, Check Metrics`\n",
    "    `-`\n",
    "   - `Models, Scores`\n",
    "   - `Cross Validation Scores`\n",
    "   - `Confusion Matrices/Precision & Recall`\n",
    "   - `ROC Curve`\n",
    "\n",
    "- `Part VII, Tune Models & Recheck Metrics`"
   ]
  },
  {
   "cell_type": "markdown",
   "metadata": {},
   "source": [
    "# I. Imports & EDA "
   ]
  },
  {
   "cell_type": "code",
   "execution_count": 1153,
   "metadata": {},
   "outputs": [],
   "source": [
    "# Import packages and package classes\n",
    "\n",
    "import matplotlib.pyplot as plt\n",
    "import numpy as np\n",
    "import pandas as pd\n",
    "import seaborn as sns\n",
    "\n",
    "from category_encoders import OneHotEncoder, OrdinalEncoder\n",
    "from sklearn.ensemble import RandomForestClassifier\n",
    "from sklearn.impute import SimpleImputer\n",
    "from sklearn.inspection import permutation_importance\n",
    "from sklearn.linear_model import LogisticRegression\n",
    "from sklearn.metrics import classification_report, plot_roc_curve, roc_auc_score, plot_confusion_matrix\n",
    "from sklearn.model_selection import cross_val_score, train_test_split, RandomizedSearchCV\n",
    "from sklearn.pipeline import make_pipeline\n",
    "from sklearn.preprocessing import StandardScaler\n",
    "from xgboost import XGBClassifier"
   ]
  },
  {
   "cell_type": "code",
   "execution_count": 1558,
   "metadata": {},
   "outputs": [
    {
     "name": "stdout",
     "output_type": "stream",
     "text": [
      "(614, 13)\n"
     ]
    },
    {
     "data": {
      "text/html": [
       "<div>\n",
       "<style scoped>\n",
       "    .dataframe tbody tr th:only-of-type {\n",
       "        vertical-align: middle;\n",
       "    }\n",
       "\n",
       "    .dataframe tbody tr th {\n",
       "        vertical-align: top;\n",
       "    }\n",
       "\n",
       "    .dataframe thead th {\n",
       "        text-align: right;\n",
       "    }\n",
       "</style>\n",
       "<table border=\"1\" class=\"dataframe\">\n",
       "  <thead>\n",
       "    <tr style=\"text-align: right;\">\n",
       "      <th></th>\n",
       "      <th>Loan_ID</th>\n",
       "      <th>Gender</th>\n",
       "      <th>Married</th>\n",
       "      <th>Dependents</th>\n",
       "      <th>Education</th>\n",
       "      <th>Self_Employed</th>\n",
       "      <th>ApplicantIncome</th>\n",
       "      <th>CoapplicantIncome</th>\n",
       "      <th>LoanAmount</th>\n",
       "      <th>Loan_Amount_Term</th>\n",
       "      <th>Credit_History</th>\n",
       "      <th>Property_Area</th>\n",
       "      <th>Loan_Status</th>\n",
       "    </tr>\n",
       "  </thead>\n",
       "  <tbody>\n",
       "    <tr>\n",
       "      <th>0</th>\n",
       "      <td>LP001002</td>\n",
       "      <td>Male</td>\n",
       "      <td>No</td>\n",
       "      <td>0</td>\n",
       "      <td>Graduate</td>\n",
       "      <td>No</td>\n",
       "      <td>5849</td>\n",
       "      <td>0.0</td>\n",
       "      <td>NaN</td>\n",
       "      <td>360.0</td>\n",
       "      <td>1.0</td>\n",
       "      <td>Urban</td>\n",
       "      <td>Y</td>\n",
       "    </tr>\n",
       "    <tr>\n",
       "      <th>1</th>\n",
       "      <td>LP001003</td>\n",
       "      <td>Male</td>\n",
       "      <td>Yes</td>\n",
       "      <td>1</td>\n",
       "      <td>Graduate</td>\n",
       "      <td>No</td>\n",
       "      <td>4583</td>\n",
       "      <td>1508.0</td>\n",
       "      <td>128.0</td>\n",
       "      <td>360.0</td>\n",
       "      <td>1.0</td>\n",
       "      <td>Rural</td>\n",
       "      <td>N</td>\n",
       "    </tr>\n",
       "    <tr>\n",
       "      <th>2</th>\n",
       "      <td>LP001005</td>\n",
       "      <td>Male</td>\n",
       "      <td>Yes</td>\n",
       "      <td>0</td>\n",
       "      <td>Graduate</td>\n",
       "      <td>Yes</td>\n",
       "      <td>3000</td>\n",
       "      <td>0.0</td>\n",
       "      <td>66.0</td>\n",
       "      <td>360.0</td>\n",
       "      <td>1.0</td>\n",
       "      <td>Urban</td>\n",
       "      <td>Y</td>\n",
       "    </tr>\n",
       "    <tr>\n",
       "      <th>3</th>\n",
       "      <td>LP001006</td>\n",
       "      <td>Male</td>\n",
       "      <td>Yes</td>\n",
       "      <td>0</td>\n",
       "      <td>Not Graduate</td>\n",
       "      <td>No</td>\n",
       "      <td>2583</td>\n",
       "      <td>2358.0</td>\n",
       "      <td>120.0</td>\n",
       "      <td>360.0</td>\n",
       "      <td>1.0</td>\n",
       "      <td>Urban</td>\n",
       "      <td>Y</td>\n",
       "    </tr>\n",
       "    <tr>\n",
       "      <th>4</th>\n",
       "      <td>LP001008</td>\n",
       "      <td>Male</td>\n",
       "      <td>No</td>\n",
       "      <td>0</td>\n",
       "      <td>Graduate</td>\n",
       "      <td>No</td>\n",
       "      <td>6000</td>\n",
       "      <td>0.0</td>\n",
       "      <td>141.0</td>\n",
       "      <td>360.0</td>\n",
       "      <td>1.0</td>\n",
       "      <td>Urban</td>\n",
       "      <td>Y</td>\n",
       "    </tr>\n",
       "  </tbody>\n",
       "</table>\n",
       "</div>"
      ],
      "text/plain": [
       "    Loan_ID Gender Married Dependents     Education Self_Employed  \\\n",
       "0  LP001002   Male      No          0      Graduate            No   \n",
       "1  LP001003   Male     Yes          1      Graduate            No   \n",
       "2  LP001005   Male     Yes          0      Graduate           Yes   \n",
       "3  LP001006   Male     Yes          0  Not Graduate            No   \n",
       "4  LP001008   Male      No          0      Graduate            No   \n",
       "\n",
       "   ApplicantIncome  CoapplicantIncome  LoanAmount  Loan_Amount_Term  \\\n",
       "0             5849                0.0         NaN             360.0   \n",
       "1             4583             1508.0       128.0             360.0   \n",
       "2             3000                0.0        66.0             360.0   \n",
       "3             2583             2358.0       120.0             360.0   \n",
       "4             6000                0.0       141.0             360.0   \n",
       "\n",
       "   Credit_History Property_Area Loan_Status  \n",
       "0             1.0         Urban           Y  \n",
       "1             1.0         Rural           N  \n",
       "2             1.0         Urban           Y  \n",
       "3             1.0         Urban           Y  \n",
       "4             1.0         Urban           Y  "
      ]
     },
     "execution_count": 1558,
     "metadata": {},
     "output_type": "execute_result"
    }
   ],
   "source": [
    "# It's a small dataset, but > the threshold of 500 observations.\n",
    "\n",
    "train = pd.read_csv('../data/class-project/LoanApproval/train_data.csv')\n",
    "\n",
    "print(train.shape)\n",
    "train.head()"
   ]
  },
  {
   "cell_type": "code",
   "execution_count": 1559,
   "metadata": {},
   "outputs": [
    {
     "data": {
      "text/plain": [
       "Y    0.687296\n",
       "N    0.312704\n",
       "Name: Loan_Status, dtype: float64"
      ]
     },
     "execution_count": 1559,
     "metadata": {},
     "output_type": "execute_result"
    }
   ],
   "source": [
    "# The target vector is 'Loan_Status'\n",
    "\n",
    "# The classes of the Target Vector are moderately imbalanced towards approval, but < 70%, we \n",
    "# can still look at model accuracy for scoring. \n",
    "# You have a 68.73% chance of being correct if you always decide that the loan was approved.\n",
    "\n",
    "train['Loan_Status'].value_counts(normalize=True)"
   ]
  },
  {
   "cell_type": "code",
   "execution_count": 1560,
   "metadata": {},
   "outputs": [
    {
     "name": "stdout",
     "output_type": "stream",
     "text": [
      "<class 'pandas.core.frame.DataFrame'>\n",
      "RangeIndex: 614 entries, 0 to 613\n",
      "Data columns (total 13 columns):\n",
      " #   Column             Non-Null Count  Dtype  \n",
      "---  ------             --------------  -----  \n",
      " 0   Loan_ID            614 non-null    object \n",
      " 1   Gender             601 non-null    object \n",
      " 2   Married            611 non-null    object \n",
      " 3   Dependents         599 non-null    object \n",
      " 4   Education          614 non-null    object \n",
      " 5   Self_Employed      582 non-null    object \n",
      " 6   ApplicantIncome    614 non-null    int64  \n",
      " 7   CoapplicantIncome  614 non-null    float64\n",
      " 8   LoanAmount         592 non-null    float64\n",
      " 9   Loan_Amount_Term   600 non-null    float64\n",
      " 10  Credit_History     564 non-null    float64\n",
      " 11  Property_Area      614 non-null    object \n",
      " 12  Loan_Status        614 non-null    object \n",
      "dtypes: float64(4), int64(1), object(8)\n",
      "memory usage: 62.5+ KB\n"
     ]
    }
   ],
   "source": [
    "# There are a lot of categorical variables; there are NaN values in the dataset. \n",
    "\n",
    "train.info()"
   ]
  },
  {
   "cell_type": "code",
   "execution_count": 1561,
   "metadata": {},
   "outputs": [
    {
     "name": "stdout",
     "output_type": "stream",
     "text": [
      "Loan_ID 614\n",
      "Gender 2\n",
      "Married 2\n",
      "Dependents 4\n",
      "Education 2\n",
      "Self_Employed 2\n",
      "ApplicantIncome 505\n",
      "CoapplicantIncome 287\n",
      "LoanAmount 203\n",
      "Loan_Amount_Term 10\n",
      "Credit_History 2\n",
      "Property_Area 3\n",
      "Loan_Status 2\n"
     ]
    }
   ],
   "source": [
    "# Examine the number of unique entries for variables.\n",
    "\n",
    "for col in list(train.columns):\n",
    "    print(col, train[col].nunique())"
   ]
  },
  {
   "cell_type": "code",
   "execution_count": 1562,
   "metadata": {},
   "outputs": [
    {
     "name": "stdout",
     "output_type": "stream",
     "text": [
      "['0' '1' '2' '3+' nan]\n"
     ]
    }
   ],
   "source": [
    "# Examine 'Dependents' feature\n",
    "\n",
    "print(train['Dependents'].unique())"
   ]
  },
  {
   "cell_type": "code",
   "execution_count": 1563,
   "metadata": {},
   "outputs": [
    {
     "name": "stdout",
     "output_type": "stream",
     "text": [
      "Semiurban    233\n",
      "Urban        202\n",
      "Rural        179\n",
      "Name: Property_Area, dtype: int64\n"
     ]
    }
   ],
   "source": [
    "# Examine 'Property_Area' feature\n",
    "# No missing values, implies either all loans are home/property purchases, or is\n",
    "# indicating where loan applicant resides. \n",
    "\n",
    "print(train['Property_Area'].value_counts())"
   ]
  },
  {
   "cell_type": "code",
   "execution_count": 1564,
   "metadata": {},
   "outputs": [
    {
     "name": "stdout",
     "output_type": "stream",
     "text": [
      "       ApplicantIncome  CoapplicantIncome  LoanAmount  Loan_Amount_Term  \\\n",
      "count       614.000000         614.000000  592.000000         600.00000   \n",
      "mean       5403.459283        1621.245798  146.412162         342.00000   \n",
      "std        6109.041673        2926.248369   85.587325          65.12041   \n",
      "min         150.000000           0.000000    9.000000          12.00000   \n",
      "25%        2877.500000           0.000000  100.000000         360.00000   \n",
      "50%        3812.500000        1188.500000  128.000000         360.00000   \n",
      "75%        5795.000000        2297.250000  168.000000         360.00000   \n",
      "max       81000.000000       41667.000000  700.000000         480.00000   \n",
      "\n",
      "       Credit_History  \n",
      "count      564.000000  \n",
      "mean         0.842199  \n",
      "std          0.364878  \n",
      "min          0.000000  \n",
      "25%          1.000000  \n",
      "50%          1.000000  \n",
      "75%          1.000000  \n",
      "max          1.000000  \n"
     ]
    }
   ],
   "source": [
    "print(train.describe())\n",
    "\n",
    "# Possible income outliers present. 'Applicant_Income' and 'Coapplicant_Income' may \n",
    "# also need to be scaled. Information from dataset's author indicates 'LoanAmount' \n",
    "# is in thousands.  This would mean the min amount requested was $9,000, and the max \n",
    "# loan request was $700,000. If the same scale is used for 'ApplicantIncome' it would \n",
    "# indicate a low of $150,000, and a high of $81 million - a highly unlikely spread.  \n",
    "# It would also imply a max 'CoapplicantIncome' of > $41 million!"
   ]
  },
  {
   "cell_type": "code",
   "execution_count": 1565,
   "metadata": {
    "scrolled": false
   },
   "outputs": [
    {
     "data": {
      "image/png": "[encoded data removed]",
      "text/plain": [
       "<Figure size 864x648 with 4 Axes>"
      ]
     },
     "metadata": {
      "needs_background": "light"
     },
     "output_type": "display_data"
    },
    {
     "name": "stdout",
     "output_type": "stream",
     "text": [
      "The number of zero entries for \"CoapplicantIncome\" is 273 / 614\n"
     ]
    }
   ],
   "source": [
    "# Complete histogram plots of the continuous variables,\n",
    "# and explore their distributions.\n",
    "\n",
    "fig, ax = plt.subplots(2, 2, figsize=(12, 9))\n",
    "\n",
    "ax[0][0].hist(train['ApplicantIncome'], bins=50, color='blue')\n",
    "ax[0][1].hist(train['CoapplicantIncome'], bins=50, color='purple')\n",
    "ax[1][0].hist(train['LoanAmount'], bins=50, color='maroon')\n",
    "ax[1][1].hist((train['ApplicantIncome'] + train['CoapplicantIncome']), bins=50, color='black')\n",
    "\n",
    "ax[0][0].set_xlabel('Applicant Income', color='blue')\n",
    "ax[0][0].set_ylabel('Frequency', color='blue')\n",
    "ax[0][0].tick_params(axis='x', labelcolor='blue')\n",
    "ax[0][0].tick_params(axis='y', labelcolor='blue')\n",
    "\n",
    "ax[0][1].set_xlabel('Coapplicant Income', color='purple')\n",
    "ax[0][1].set_ylabel('Frequency', color='purple')\n",
    "ax[0][1].tick_params(axis='x', labelcolor='purple')\n",
    "ax[0][1].tick_params(axis='y', labelcolor='purple')\n",
    "\n",
    "ax[1][0].set_xlabel('Loan Amount', color='maroon')\n",
    "ax[1][0].set_ylabel('Frequency', color='maroon')\n",
    "ax[1][0].tick_params(axis='x', labelcolor='maroon')\n",
    "ax[1][0].tick_params(axis='y', labelcolor='maroon')\n",
    "\n",
    "ax[1][1].set_xlabel('Total Income')\n",
    "ax[1][1].set_ylabel('Frequency')\n",
    "\n",
    "plt.show()\n",
    "\n",
    "print('The number of zero entries for \"CoapplicantIncome\" is', \n",
    "      train['CoapplicantIncome'].value_counts().max(), '/', len(train['CoapplicantIncome']))\n",
    "\n",
    "# There are a lot of zero entries for 'CoapplicantIncome'! A zero entry for CoapplicantIncome \n",
    "# may indicate applicants are from single income households; however, the number accounts \n",
    "# almost half of the entries! It's more likely that many loan requests are made by a single \n",
    "# filer, and this column is entered as 0 when there is no coapplicant. This may affect it's \n",
    "# predictive power. Can try creating a new feature called 'total_income' that adds applicant \n",
    "# income and coapplicant income  together; this new column won't have the ugly 'zero' in it's \n",
    "# distribution. "
   ]
  },
  {
   "cell_type": "code",
   "execution_count": 1554,
   "metadata": {},
   "outputs": [
    {
     "data": {
      "text/html": [
       "<div>\n",
       "<style scoped>\n",
       "    .dataframe tbody tr th:only-of-type {\n",
       "        vertical-align: middle;\n",
       "    }\n",
       "\n",
       "    .dataframe tbody tr th {\n",
       "        vertical-align: top;\n",
       "    }\n",
       "\n",
       "    .dataframe thead th {\n",
       "        text-align: right;\n",
       "    }\n",
       "</style>\n",
       "<table border=\"1\" class=\"dataframe\">\n",
       "  <thead>\n",
       "    <tr style=\"text-align: right;\">\n",
       "      <th></th>\n",
       "      <th>ApplicantIncome</th>\n",
       "      <th>CoapplicantIncome</th>\n",
       "      <th>LoanAmount</th>\n",
       "      <th>Loan_Amount_Term</th>\n",
       "      <th>Credit_History</th>\n",
       "    </tr>\n",
       "  </thead>\n",
       "  <tbody>\n",
       "    <tr>\n",
       "      <th>count</th>\n",
       "      <td>605.000000</td>\n",
       "      <td>605.000000</td>\n",
       "      <td>583.000000</td>\n",
       "      <td>591.000000</td>\n",
       "      <td>556.000000</td>\n",
       "    </tr>\n",
       "    <tr>\n",
       "      <th>mean</th>\n",
       "      <td>49.068777</td>\n",
       "      <td>15.127123</td>\n",
       "      <td>143.317324</td>\n",
       "      <td>342.741117</td>\n",
       "      <td>0.843525</td>\n",
       "    </tr>\n",
       "    <tr>\n",
       "      <th>std</th>\n",
       "      <td>34.721025</td>\n",
       "      <td>20.647115</td>\n",
       "      <td>78.533250</td>\n",
       "      <td>64.541662</td>\n",
       "      <td>0.363632</td>\n",
       "    </tr>\n",
       "    <tr>\n",
       "      <th>min</th>\n",
       "      <td>1.500000</td>\n",
       "      <td>0.000000</td>\n",
       "      <td>9.000000</td>\n",
       "      <td>12.000000</td>\n",
       "      <td>0.000000</td>\n",
       "    </tr>\n",
       "    <tr>\n",
       "      <th>25%</th>\n",
       "      <td>28.760000</td>\n",
       "      <td>0.000000</td>\n",
       "      <td>100.000000</td>\n",
       "      <td>360.000000</td>\n",
       "      <td>1.000000</td>\n",
       "    </tr>\n",
       "    <tr>\n",
       "      <th>50%</th>\n",
       "      <td>37.750000</td>\n",
       "      <td>12.130000</td>\n",
       "      <td>127.000000</td>\n",
       "      <td>360.000000</td>\n",
       "      <td>1.000000</td>\n",
       "    </tr>\n",
       "    <tr>\n",
       "      <th>75%</th>\n",
       "      <td>57.080000</td>\n",
       "      <td>22.830000</td>\n",
       "      <td>165.000000</td>\n",
       "      <td>360.000000</td>\n",
       "      <td>1.000000</td>\n",
       "    </tr>\n",
       "    <tr>\n",
       "      <th>max</th>\n",
       "      <td>238.030000</td>\n",
       "      <td>200.000000</td>\n",
       "      <td>650.000000</td>\n",
       "      <td>480.000000</td>\n",
       "      <td>1.000000</td>\n",
       "    </tr>\n",
       "  </tbody>\n",
       "</table>\n",
       "</div>"
      ],
      "text/plain": [
       "       ApplicantIncome  CoapplicantIncome  LoanAmount  Loan_Amount_Term  \\\n",
       "count       605.000000         605.000000  583.000000        591.000000   \n",
       "mean         49.068777          15.127123  143.317324        342.741117   \n",
       "std          34.721025          20.647115   78.533250         64.541662   \n",
       "min           1.500000           0.000000    9.000000         12.000000   \n",
       "25%          28.760000           0.000000  100.000000        360.000000   \n",
       "50%          37.750000          12.130000  127.000000        360.000000   \n",
       "75%          57.080000          22.830000  165.000000        360.000000   \n",
       "max         238.030000         200.000000  650.000000        480.000000   \n",
       "\n",
       "       Credit_History  \n",
       "count      556.000000  \n",
       "mean         0.843525  \n",
       "std          0.363632  \n",
       "min          0.000000  \n",
       "25%          1.000000  \n",
       "50%          1.000000  \n",
       "75%          1.000000  \n",
       "max          1.000000  "
      ]
     },
     "execution_count": 1554,
     "metadata": {},
     "output_type": "execute_result"
    }
   ],
   "source": [
    "# Let's scale income and co-applicant income, drop outliers, and rexamine the plots\n",
    "\n",
    "train['ApplicantIncome'] = train['ApplicantIncome'] / 100\n",
    "train['CoapplicantIncome'] = train['CoapplicantIncome'] / 100\n",
    "   \n",
    "train = train[ (train['ApplicantIncome'] < 250) &\n",
    "               (train['CoapplicantIncome'] < 250)]\n",
    "    \n",
    "train.describe()"
   ]
  },
  {
   "cell_type": "code",
   "execution_count": 1556,
   "metadata": {},
   "outputs": [
    {
     "data": {
      "image/png": "[encoded data removed]",
      "text/plain": [
       "<Figure size 864x648 with 4 Axes>"
      ]
     },
     "metadata": {
      "needs_background": "light"
     },
     "output_type": "display_data"
    }
   ],
   "source": [
    "fig, ax = plt.subplots(2, 2, figsize=(12, 9))\n",
    "\n",
    "ax[0][0].hist(train['ApplicantIncome'], bins=50, color='blue')\n",
    "ax[0][1].hist(train['CoapplicantIncome'], bins=50, color='purple')\n",
    "ax[1][0].hist(train['LoanAmount'], bins=50, color='maroon')\n",
    "ax[1][1].hist((train['ApplicantIncome'] + train['CoapplicantIncome']), bins=50, color='black')\n",
    "\n",
    "ax[0][0].set_xlabel('Applicant Income', color='blue')\n",
    "ax[0][0].set_ylabel('Frequency', color='blue')\n",
    "ax[0][0].tick_params(axis='x', labelcolor='blue')\n",
    "ax[0][0].tick_params(axis='y', labelcolor='blue')\n",
    "\n",
    "ax[0][1].set_xlabel('Coapplicant Income', color='purple')\n",
    "ax[0][1].set_ylabel('Frequency', color='purple')\n",
    "ax[0][1].tick_params(axis='x', labelcolor='purple')\n",
    "ax[0][1].tick_params(axis='y', labelcolor='purple')\n",
    "\n",
    "ax[1][0].set_xlabel('Loan Amount', color='maroon')\n",
    "ax[1][0].set_ylabel('Frequency', color='maroon')\n",
    "ax[1][0].tick_params(axis='x', labelcolor='maroon')\n",
    "ax[1][0].tick_params(axis='y', labelcolor='maroon')\n",
    "\n",
    "ax[1][1].set_xlabel('Total Income')\n",
    "ax[1][1].set_ylabel('Frequency')\n",
    "\n",
    "\n",
    "plt.show()"
   ]
  },
  {
   "cell_type": "code",
   "execution_count": 1178,
   "metadata": {
    "scrolled": true
   },
   "outputs": [
    {
     "data": {
      "image/png": "[encoded data removed]",
      "text/plain": [
       "<Figure size 432x288 with 1 Axes>"
      ]
     },
     "metadata": {
      "needs_background": "light"
     },
     "output_type": "display_data"
    }
   ],
   "source": [
    "# Examine 'Loan_Amount_Term', listed as a float, really a categorical variable, 10 categories\n",
    "\n",
    "train['Loan_Amount_Term'].value_counts().plot(kind='bar')\n",
    "\n",
    "plt.xlabel('Loan Term (months)')\n",
    "plt.ylabel('Frequency')\n",
    "plt.show();\n",
    "\n",
    "# Primarily 30-year notes, likely mortgages. terms of 12-months might indicate a personal loan, \n",
    "# 3-year and 5-year durations are more typical with auto-lending.  What's odd, however, is that \n",
    "# every observation (all 614) have an input value for 'Property_Area' (urban, semi-urban, rural).\n",
    "# Further clarification of the data would have been preferred. "
   ]
  },
  {
   "cell_type": "code",
   "execution_count": 1179,
   "metadata": {},
   "outputs": [
    {
     "data": {
      "image/png": "[encoded data removed]",
      "text/plain": [
       "<Figure size 540x540 with 12 Axes>"
      ]
     },
     "metadata": {
      "needs_background": "light"
     },
     "output_type": "display_data"
    }
   ],
   "source": [
    "# Examine for correlation among continuous variables; possible outliers noted.\n",
    "\n",
    "sns.pairplot(train[['ApplicantIncome', 'CoapplicantIncome', 'LoanAmount']])\n",
    "plt.show()"
   ]
  },
  {
   "cell_type": "markdown",
   "metadata": {},
   "source": [
    "## Summary of Initial EDA"
   ]
  },
  {
   "cell_type": "code",
   "execution_count": null,
   "metadata": {},
   "outputs": [],
   "source": [
    "# 'Loan_ID', high cardinality column, variable is a unique identifier and will be dropped.\n",
    "# 'Gender', binary categorical variable, assignment == Male/Female, NaN objects hold no meaning.\n",
    "# 'Married', binary categorical feature, assignment == Y/N, NaN objects hold no meaning.\n",
    "# 'Dependents', categorical feature, assignment == 0/1/2/3+, NaN objects hold no meaning.\n",
    "# 'Education', binary categorical feature, assignement == Graduate/Not Graduate, no NaN objects.\n",
    "# 'Self-Employed', binary categorical feature, assignment = Y/N, NaN objects hold no meaning.\n",
    "# 'ApplicantIncome', continuous numeric feature, possible outliers, NaN values without meaning.\n",
    "# 'CoapplicantIncome', continuous numeric feature, possible outliers, NaN values without meaning.\n",
    "# 'LoanAmount', continuous numeric feature, possible outliers, NaN values without meaning.\n",
    "# 'Loan_Amount_Term', categorical variable, cardinality == 10, NaN values without meaning.\n",
    "# 'Credit_History', binary categorical variable, assignment == 1/0, NaN values without meaning. \n",
    "# 'Proprty_Area', categorical variable, cardinality == 3, no NaN values. "
   ]
  },
  {
   "cell_type": "markdown",
   "metadata": {},
   "source": [
    "# II. Wrangle Data"
   ]
  },
  {
   "cell_type": "code",
   "execution_count": 1448,
   "metadata": {},
   "outputs": [],
   "source": [
    "# Write wrangle function ... this is the accumulation of all prior work and exploration, for \n",
    "# best model fit without hyperparameter tuning. \n",
    "\n",
    "def wrangle(filepath):\n",
    "\n",
    "    # Read in the data\n",
    "    df = pd.read_csv('../data/class-project/LoanApproval/' + filepath)\n",
    "    \n",
    "    # Drop high-cardinality identifier column, 'Loan_ID'\n",
    "    df.drop(columns='Loan_ID', inplace=True)\n",
    "    \n",
    "    # Cleanup column names\n",
    "    df.columns = [col.lower() for col in df.columns]       \n",
    "    df = df.rename(columns=\n",
    "        {'applicantincome': 'applicant_income',\n",
    "         'coapplicantincome': 'coapplicant_income',\n",
    "         'loanamount': 'loan_amount'})\n",
    "    \n",
    "    # Fill NaN values with the mode of the feature it resides in ('most_frequent'); exception, 'loan_amount'\n",
    "    mode_cols = ['gender', 'married', 'dependents', 'self_employed', 'loan_amount_term', 'credit_history']\n",
    "    for col in mode_cols:\n",
    "        df[col].fillna(value=df[col].mode()[0], inplace=True)\n",
    "    \n",
    "    # Drop remaining NaN values, all in 'loan_amount' column; difficult to predict without this information. \n",
    "    df.dropna(inplace=True)\n",
    "    \n",
    "    # Scale 'applicant_income' and 'coapplicant_income' to thousands\n",
    "    df['applicant_income'] = df['applicant_income'] / 100\n",
    "    df['coapplicant_income'] = df['coapplicant_income'] / 100\n",
    "       \n",
    "    # Convert 'credit_history' to binary categorical from float \n",
    "    df['credit_history'].replace(to_replace={1.0: '1', 0.0: '0'}, \n",
    "                                 inplace=True)\n",
    "    \n",
    "    # Convert 'loan_amount_term' to categorical variable (object) from float\n",
    "    df['loan_amount_term'] = df['loan_amount_term'].astype(int).astype(str) \n",
    "\n",
    "    # Clean 'dependents' feature\n",
    "    df['dependents'] = df['dependents'].str.strip('+')\n",
    "\n",
    "    # Convert target, 'LoanStatus' to binary numeric values\n",
    "    df['loan_status'].replace(to_replace={'Y': 1, 'N':0}, inplace=True) \n",
    "  \n",
    "    # Create 'total_income' feature\n",
    "    df['total_income'] = df['applicant_income'] + df['coapplicant_income']\n",
    "\n",
    "    # Create 'loan_to_income' feature\n",
    "    df['loan_to_income'] = df['loan_amount'] / (df['total_income'])\n",
    "        \n",
    "    # Remove the outliers where income is > $250,000\n",
    "    df = df[ (df['applicant_income'] < 250) &\n",
    "             (df['coapplicant_income'] < 250)]\n",
    "   \n",
    "    # Drop columns noted not to be helpful in predicting loan approval outcome\n",
    "    df.drop(columns=['dependents', 'applicant_income', 'total_income', \n",
    "                    'coapplicant_income', 'property_area'], inplace=True)\n",
    "    \n",
    "    return df\n",
    "\n",
    "train_path = 'train_data.csv'\n",
    "train= wrangle(train_path)"
   ]
  },
  {
   "cell_type": "code",
   "execution_count": 1387,
   "metadata": {},
   "outputs": [
    {
     "name": "stdout",
     "output_type": "stream",
     "text": [
      "(583, 14)\n"
     ]
    },
    {
     "data": {
      "text/html": [
       "<div>\n",
       "<style scoped>\n",
       "    .dataframe tbody tr th:only-of-type {\n",
       "        vertical-align: middle;\n",
       "    }\n",
       "\n",
       "    .dataframe tbody tr th {\n",
       "        vertical-align: top;\n",
       "    }\n",
       "\n",
       "    .dataframe thead th {\n",
       "        text-align: right;\n",
       "    }\n",
       "</style>\n",
       "<table border=\"1\" class=\"dataframe\">\n",
       "  <thead>\n",
       "    <tr style=\"text-align: right;\">\n",
       "      <th></th>\n",
       "      <th>gender</th>\n",
       "      <th>married</th>\n",
       "      <th>dependents</th>\n",
       "      <th>education</th>\n",
       "      <th>self_employed</th>\n",
       "      <th>applicant_income</th>\n",
       "      <th>coapplicant_income</th>\n",
       "      <th>loan_amount</th>\n",
       "      <th>loan_amount_term</th>\n",
       "      <th>credit_history</th>\n",
       "      <th>property_area</th>\n",
       "      <th>loan_status</th>\n",
       "      <th>total_income</th>\n",
       "      <th>loan_to_income</th>\n",
       "    </tr>\n",
       "  </thead>\n",
       "  <tbody>\n",
       "    <tr>\n",
       "      <th>1</th>\n",
       "      <td>Male</td>\n",
       "      <td>Yes</td>\n",
       "      <td>1</td>\n",
       "      <td>Graduate</td>\n",
       "      <td>No</td>\n",
       "      <td>45.83</td>\n",
       "      <td>15.08</td>\n",
       "      <td>128.0</td>\n",
       "      <td>360</td>\n",
       "      <td>1</td>\n",
       "      <td>Rural</td>\n",
       "      <td>0</td>\n",
       "      <td>60.91</td>\n",
       "      <td>2.101461</td>\n",
       "    </tr>\n",
       "    <tr>\n",
       "      <th>2</th>\n",
       "      <td>Male</td>\n",
       "      <td>Yes</td>\n",
       "      <td>0</td>\n",
       "      <td>Graduate</td>\n",
       "      <td>Yes</td>\n",
       "      <td>30.00</td>\n",
       "      <td>0.00</td>\n",
       "      <td>66.0</td>\n",
       "      <td>360</td>\n",
       "      <td>1</td>\n",
       "      <td>Urban</td>\n",
       "      <td>1</td>\n",
       "      <td>30.00</td>\n",
       "      <td>2.200000</td>\n",
       "    </tr>\n",
       "    <tr>\n",
       "      <th>3</th>\n",
       "      <td>Male</td>\n",
       "      <td>Yes</td>\n",
       "      <td>0</td>\n",
       "      <td>Not Graduate</td>\n",
       "      <td>No</td>\n",
       "      <td>25.83</td>\n",
       "      <td>23.58</td>\n",
       "      <td>120.0</td>\n",
       "      <td>360</td>\n",
       "      <td>1</td>\n",
       "      <td>Urban</td>\n",
       "      <td>1</td>\n",
       "      <td>49.41</td>\n",
       "      <td>2.428658</td>\n",
       "    </tr>\n",
       "    <tr>\n",
       "      <th>4</th>\n",
       "      <td>Male</td>\n",
       "      <td>No</td>\n",
       "      <td>0</td>\n",
       "      <td>Graduate</td>\n",
       "      <td>No</td>\n",
       "      <td>60.00</td>\n",
       "      <td>0.00</td>\n",
       "      <td>141.0</td>\n",
       "      <td>360</td>\n",
       "      <td>1</td>\n",
       "      <td>Urban</td>\n",
       "      <td>1</td>\n",
       "      <td>60.00</td>\n",
       "      <td>2.350000</td>\n",
       "    </tr>\n",
       "    <tr>\n",
       "      <th>5</th>\n",
       "      <td>Male</td>\n",
       "      <td>Yes</td>\n",
       "      <td>2</td>\n",
       "      <td>Graduate</td>\n",
       "      <td>Yes</td>\n",
       "      <td>54.17</td>\n",
       "      <td>41.96</td>\n",
       "      <td>267.0</td>\n",
       "      <td>360</td>\n",
       "      <td>1</td>\n",
       "      <td>Urban</td>\n",
       "      <td>1</td>\n",
       "      <td>96.13</td>\n",
       "      <td>2.777489</td>\n",
       "    </tr>\n",
       "  </tbody>\n",
       "</table>\n",
       "</div>"
      ],
      "text/plain": [
       "  gender married dependents     education self_employed  applicant_income  \\\n",
       "1   Male     Yes          1      Graduate            No             45.83   \n",
       "2   Male     Yes          0      Graduate           Yes             30.00   \n",
       "3   Male     Yes          0  Not Graduate            No             25.83   \n",
       "4   Male      No          0      Graduate            No             60.00   \n",
       "5   Male     Yes          2      Graduate           Yes             54.17   \n",
       "\n",
       "   coapplicant_income  loan_amount loan_amount_term credit_history  \\\n",
       "1               15.08        128.0              360              1   \n",
       "2                0.00         66.0              360              1   \n",
       "3               23.58        120.0              360              1   \n",
       "4                0.00        141.0              360              1   \n",
       "5               41.96        267.0              360              1   \n",
       "\n",
       "  property_area  loan_status  total_income  loan_to_income  \n",
       "1         Rural            0         60.91        2.101461  \n",
       "2         Urban            1         30.00        2.200000  \n",
       "3         Urban            1         49.41        2.428658  \n",
       "4         Urban            1         60.00        2.350000  \n",
       "5         Urban            1         96.13        2.777489  "
      ]
     },
     "execution_count": 1387,
     "metadata": {},
     "output_type": "execute_result"
    }
   ],
   "source": [
    "print(train.shape)\n",
    "train.head()"
   ]
  },
  {
   "cell_type": "code",
   "execution_count": 1388,
   "metadata": {},
   "outputs": [
    {
     "name": "stdout",
     "output_type": "stream",
     "text": [
      "<class 'pandas.core.frame.DataFrame'>\n",
      "Int64Index: 583 entries, 1 to 613\n",
      "Data columns (total 14 columns):\n",
      " #   Column              Non-Null Count  Dtype  \n",
      "---  ------              --------------  -----  \n",
      " 0   gender              583 non-null    object \n",
      " 1   married             583 non-null    object \n",
      " 2   dependents          583 non-null    object \n",
      " 3   education           583 non-null    object \n",
      " 4   self_employed       583 non-null    object \n",
      " 5   applicant_income    583 non-null    float64\n",
      " 6   coapplicant_income  583 non-null    float64\n",
      " 7   loan_amount         583 non-null    float64\n",
      " 8   loan_amount_term    583 non-null    object \n",
      " 9   credit_history      583 non-null    object \n",
      " 10  property_area       583 non-null    object \n",
      " 11  loan_status         583 non-null    int64  \n",
      " 12  total_income        583 non-null    float64\n",
      " 13  loan_to_income      583 non-null    float64\n",
      "dtypes: float64(5), int64(1), object(8)\n",
      "memory usage: 68.3+ KB\n"
     ]
    }
   ],
   "source": [
    "train.info()"
   ]
  },
  {
   "cell_type": "code",
   "execution_count": 1389,
   "metadata": {},
   "outputs": [
    {
     "data": {
      "text/html": [
       "<div>\n",
       "<style scoped>\n",
       "    .dataframe tbody tr th:only-of-type {\n",
       "        vertical-align: middle;\n",
       "    }\n",
       "\n",
       "    .dataframe tbody tr th {\n",
       "        vertical-align: top;\n",
       "    }\n",
       "\n",
       "    .dataframe thead th {\n",
       "        text-align: right;\n",
       "    }\n",
       "</style>\n",
       "<table border=\"1\" class=\"dataframe\">\n",
       "  <thead>\n",
       "    <tr style=\"text-align: right;\">\n",
       "      <th></th>\n",
       "      <th>applicant_income</th>\n",
       "      <th>coapplicant_income</th>\n",
       "      <th>loan_amount</th>\n",
       "      <th>loan_status</th>\n",
       "      <th>total_income</th>\n",
       "      <th>loan_to_income</th>\n",
       "    </tr>\n",
       "  </thead>\n",
       "  <tbody>\n",
       "    <tr>\n",
       "      <th>count</th>\n",
       "      <td>583.000000</td>\n",
       "      <td>583.000000</td>\n",
       "      <td>583.000000</td>\n",
       "      <td>583.000000</td>\n",
       "      <td>583.000000</td>\n",
       "      <td>583.000000</td>\n",
       "    </tr>\n",
       "    <tr>\n",
       "      <th>mean</th>\n",
       "      <td>48.889966</td>\n",
       "      <td>15.303343</td>\n",
       "      <td>143.317324</td>\n",
       "      <td>0.696398</td>\n",
       "      <td>64.193309</td>\n",
       "      <td>2.400922</td>\n",
       "    </tr>\n",
       "    <tr>\n",
       "      <th>std</th>\n",
       "      <td>34.318403</td>\n",
       "      <td>20.864139</td>\n",
       "      <td>78.533250</td>\n",
       "      <td>0.460208</td>\n",
       "      <td>37.503191</td>\n",
       "      <td>0.808459</td>\n",
       "    </tr>\n",
       "    <tr>\n",
       "      <th>min</th>\n",
       "      <td>1.500000</td>\n",
       "      <td>0.000000</td>\n",
       "      <td>9.000000</td>\n",
       "      <td>0.000000</td>\n",
       "      <td>14.420000</td>\n",
       "      <td>0.301614</td>\n",
       "    </tr>\n",
       "    <tr>\n",
       "      <th>25%</th>\n",
       "      <td>28.855000</td>\n",
       "      <td>0.000000</td>\n",
       "      <td>100.000000</td>\n",
       "      <td>0.000000</td>\n",
       "      <td>41.565000</td>\n",
       "      <td>1.962545</td>\n",
       "    </tr>\n",
       "    <tr>\n",
       "      <th>50%</th>\n",
       "      <td>37.620000</td>\n",
       "      <td>12.500000</td>\n",
       "      <td>127.000000</td>\n",
       "      <td>1.000000</td>\n",
       "      <td>53.320000</td>\n",
       "      <td>2.428658</td>\n",
       "    </tr>\n",
       "    <tr>\n",
       "      <th>75%</th>\n",
       "      <td>57.030000</td>\n",
       "      <td>23.040000</td>\n",
       "      <td>165.000000</td>\n",
       "      <td>1.000000</td>\n",
       "      <td>73.580000</td>\n",
       "      <td>2.825673</td>\n",
       "    </tr>\n",
       "    <tr>\n",
       "      <th>max</th>\n",
       "      <td>238.030000</td>\n",
       "      <td>200.000000</td>\n",
       "      <td>650.000000</td>\n",
       "      <td>1.000000</td>\n",
       "      <td>275.000000</td>\n",
       "      <td>8.271164</td>\n",
       "    </tr>\n",
       "  </tbody>\n",
       "</table>\n",
       "</div>"
      ],
      "text/plain": [
       "       applicant_income  coapplicant_income  loan_amount  loan_status  \\\n",
       "count        583.000000          583.000000   583.000000   583.000000   \n",
       "mean          48.889966           15.303343   143.317324     0.696398   \n",
       "std           34.318403           20.864139    78.533250     0.460208   \n",
       "min            1.500000            0.000000     9.000000     0.000000   \n",
       "25%           28.855000            0.000000   100.000000     0.000000   \n",
       "50%           37.620000           12.500000   127.000000     1.000000   \n",
       "75%           57.030000           23.040000   165.000000     1.000000   \n",
       "max          238.030000          200.000000   650.000000     1.000000   \n",
       "\n",
       "       total_income  loan_to_income  \n",
       "count    583.000000      583.000000  \n",
       "mean      64.193309        2.400922  \n",
       "std       37.503191        0.808459  \n",
       "min       14.420000        0.301614  \n",
       "25%       41.565000        1.962545  \n",
       "50%       53.320000        2.428658  \n",
       "75%       73.580000        2.825673  \n",
       "max      275.000000        8.271164  "
      ]
     },
     "execution_count": 1389,
     "metadata": {},
     "output_type": "execute_result"
    }
   ],
   "source": [
    "train.describe()"
   ]
  },
  {
   "cell_type": "markdown",
   "metadata": {},
   "source": [
    "# III. Split the Data"
   ]
  },
  {
   "cell_type": "code",
   "execution_count": 1449,
   "metadata": {},
   "outputs": [],
   "source": [
    "# Create Feature Matrix and Target Array\n",
    "\n",
    "target = 'loan_status'\n",
    "\n",
    "y = train[target]\n",
    "X = train.drop(columns=target)"
   ]
  },
  {
   "cell_type": "code",
   "execution_count": 1450,
   "metadata": {},
   "outputs": [],
   "source": [
    "# Split the data\n",
    "# Will use a random split; there is no datetime information included in this dataset.\n",
    "\n",
    "X_train, X_val, y_train, y_val = train_test_split(X, y, test_size=0.2, random_state=42)"
   ]
  },
  {
   "cell_type": "markdown",
   "metadata": {},
   "source": [
    "# IV. Establish a Baseline"
   ]
  },
  {
   "cell_type": "code",
   "execution_count": 1392,
   "metadata": {},
   "outputs": [
    {
     "name": "stdout",
     "output_type": "stream",
     "text": [
      "Baseline Accuracy for predicting Loan Approval: 69.64%\n"
     ]
    }
   ],
   "source": [
    "# The target vector is 'Loan_Status'\n",
    "# The classes of the TV are moderately imbalanced towards approval, but < 70%, so we can still look at \n",
    "# model accuracy for scoring. \n",
    "\n",
    "# You have a 69.40% chance of being correct if you always decide that the loan was approved.\n",
    "print('Baseline Accuracy for predicting Loan Approval: {:.2f}%'.format\n",
    "      (y.value_counts(normalize=True).max()*100))\n"
   ]
  },
  {
   "cell_type": "markdown",
   "metadata": {},
   "source": [
    "# V. Build Models\n",
    "\n",
    "- `LogisticRegression`\n",
    "    \n",
    "    - `OneHotEncoder`\n",
    "    - `StandardScaler`\n",
    " \n",
    "- `RandomForrestClassifier`\n",
    "\n",
    "    - `OrdinalEncoder`\n",
    "    \n",
    "- `XGBClassifier`\n",
    "\n",
    "    - `OrdinalEncoder`"
   ]
  },
  {
   "cell_type": "code",
   "execution_count": 1451,
   "metadata": {},
   "outputs": [
    {
     "name": "stderr",
     "output_type": "stream",
     "text": [
      "/Users/frankhowd/.local/share/virtualenvs/DS-Unit-2-Applied-Modeling-YelssOLa/lib/python3.8/site-packages/category_encoders/utils.py:21: FutureWarning: is_categorical is deprecated and will be removed in a future version.  Use is_categorical_dtype instead\n",
      "  elif pd.api.types.is_categorical(cols):\n"
     ]
    }
   ],
   "source": [
    "# Model 1: Logistic Regression Model\n",
    "\n",
    "model_lr = make_pipeline(\n",
    "    OneHotEncoder(use_cat_names=True),\n",
    "    StandardScaler(),\n",
    "    LogisticRegression()\n",
    ")\n",
    "\n",
    "model_lr.fit(X_train, y_train);"
   ]
  },
  {
   "cell_type": "code",
   "execution_count": 1452,
   "metadata": {},
   "outputs": [],
   "source": [
    "# Model 2: Random Forest Classifier Model\n",
    "\n",
    "model_rf = make_pipeline(\n",
    "    OrdinalEncoder(),\n",
    "    RandomForestClassifier(n_jobs=-1, random_state=42)\n",
    ")\n",
    "\n",
    "model_rf.fit(X_train, y_train);"
   ]
  },
  {
   "cell_type": "code",
   "execution_count": 1453,
   "metadata": {},
   "outputs": [],
   "source": [
    "# Model 3: XG-Boost Classifier\n",
    "\n",
    "model_xgb = make_pipeline(\n",
    "    OrdinalEncoder(),\n",
    "    XGBClassifier(random_state=42, n_jobs=-1)\n",
    ")\n",
    "\n",
    "model_xgb.fit(X_train, y_train);"
   ]
  },
  {
   "cell_type": "markdown",
   "metadata": {},
   "source": [
    "# VI. Check Metrics"
   ]
  },
  {
   "cell_type": "code",
   "execution_count": 1396,
   "metadata": {},
   "outputs": [
    {
     "name": "stdout",
     "output_type": "stream",
     "text": [
      "Training Accuracy (LOGR): 82.40%\n",
      "Validation Accuracy (LOGR): 81.20%\n"
     ]
    }
   ],
   "source": [
    "# Training and Validation accuracy of our Logistic Regression model\n",
    "\n",
    "print('Training Accuracy (LOGR): {:.2f}%'.format(model_lr.score(X_train, y_train)*100))\n",
    "print('Validation Accuracy (LOGR): {:.2f}%'.format(model_lr.score(X_val, y_val)*100))"
   ]
  },
  {
   "cell_type": "code",
   "execution_count": 1397,
   "metadata": {},
   "outputs": [
    {
     "name": "stdout",
     "output_type": "stream",
     "text": [
      "Cross Validation Score (LOGR):\n",
      "76.60%\n",
      "79.57%\n",
      "84.95%\n",
      "82.80%\n",
      "82.80%\n"
     ]
    }
   ],
   "source": [
    "# Cross Validation Score for our Logistic Regression model\n",
    "\n",
    "lr_cvs = cross_val_score(model_lr, X_train, y_train, cv=5, n_jobs=-1)\n",
    "\n",
    "print('Cross Validation Score (LOGR):')\n",
    "for _ in range(5):\n",
    "    print('{:.2f}%'.format(lr_cvs[_]*100))"
   ]
  },
  {
   "cell_type": "code",
   "execution_count": 1398,
   "metadata": {},
   "outputs": [
    {
     "name": "stdout",
     "output_type": "stream",
     "text": [
      "Training Accuracy(RF): 100.00%\n",
      "Validation Accuracy (RF): 80.34%\n"
     ]
    }
   ],
   "source": [
    "# Training and Validation accuracy of our Random Forest Classifier model\n",
    "\n",
    "print('Training Accuracy(RF): {:.2f}%'.format(model_rf.score(X_train, y_train)*100))\n",
    "print('Validation Accuracy (RF): {:.2f}%'.format(model_rf.score(X_val, y_val)*100))"
   ]
  },
  {
   "cell_type": "code",
   "execution_count": 1399,
   "metadata": {},
   "outputs": [
    {
     "name": "stdout",
     "output_type": "stream",
     "text": [
      "Cross Validation Score (LOGR):\n",
      "76.60%\n",
      "78.49%\n",
      "83.87%\n",
      "84.95%\n",
      "82.80%\n"
     ]
    }
   ],
   "source": [
    "# Cross Validation Score for our Random Forest Classifier model\n",
    "\n",
    "rf_cvs = cross_val_score(model_rf, X_train, y_train, cv=5, n_jobs=-1)\n",
    "\n",
    "print('Cross Validation Score (LOGR):')\n",
    "for _ in range(5):\n",
    "    print('{:.2f}%'.format(rf_cvs[_]*100))"
   ]
  },
  {
   "cell_type": "code",
   "execution_count": 1400,
   "metadata": {},
   "outputs": [
    {
     "name": "stdout",
     "output_type": "stream",
     "text": [
      "Training Accuracy(XGB): 100.00%\n",
      "Validation Accuracy (XGB): 78.63%\n"
     ]
    }
   ],
   "source": [
    "# Training and Validation accuracy of our XGBoost Classifier model\n",
    "\n",
    "print('Training Accuracy(XGB): {:.2f}%'.format(model_xgb.score(X_train, y_train)*100))\n",
    "print('Validation Accuracy (XGB): {:.2f}%'.format(model_xgb.score(X_val, y_val)*100))"
   ]
  },
  {
   "cell_type": "code",
   "execution_count": 1401,
   "metadata": {},
   "outputs": [
    {
     "name": "stdout",
     "output_type": "stream",
     "text": [
      "Cross Validation Score (XGB):\n",
      "73.40%\n",
      "76.34%\n",
      "82.80%\n",
      "83.87%\n",
      "81.72%\n"
     ]
    }
   ],
   "source": [
    "# Cross Validation Score for our XGBoost Classifier model\n",
    "\n",
    "xgb_cvs = cross_val_score(model_xgb, X_train, y_train, cv=5, n_jobs=-1)\n",
    "\n",
    "print('Cross Validation Score (XGB):')\n",
    "for _ in range(5):\n",
    "    print('{:.2f}%'.format(xgb_cvs[_]*100))"
   ]
  },
  {
   "cell_type": "code",
   "execution_count": 1402,
   "metadata": {},
   "outputs": [],
   "source": [
    "# Initial performances appear the same on average, however, the RF Classifier achieves higher scores\n",
    "# during cross validation testing. "
   ]
  },
  {
   "cell_type": "code",
   "execution_count": 1403,
   "metadata": {},
   "outputs": [
    {
     "name": "stdout",
     "output_type": "stream",
     "text": [
      "Logistic Regression\n",
      "              precision    recall  f1-score   support\n",
      "\n",
      "           0       1.00      0.39      0.56        36\n",
      "           1       0.79      1.00      0.88        81\n",
      "\n",
      "    accuracy                           0.81       117\n",
      "   macro avg       0.89      0.69      0.72       117\n",
      "weighted avg       0.85      0.81      0.78       117\n",
      "\n"
     ]
    }
   ],
   "source": [
    "# LOGISTIC REGRESSION, performance\n",
    "# Not very good precision for Y, great recall for Y\n",
    "\n",
    "print('Logistic Regression')\n",
    "print(classification_report(y_val, model_lr.predict(X_val)))"
   ]
  },
  {
   "cell_type": "code",
   "execution_count": 1404,
   "metadata": {},
   "outputs": [
    {
     "data": {
      "image/png": "[encoded data removed]",
      "text/plain": [
       "<Figure size 432x288 with 2 Axes>"
      ]
     },
     "metadata": {
      "needs_background": "light"
     },
     "output_type": "display_data"
    }
   ],
   "source": [
    "# LOGISTIC REGRESSION\n",
    "# Plot Confusion Matrix\n",
    "\n",
    "plot_confusion_matrix(model_lr, X_val, y_val, values_format='.0f');\n",
    "\n",
    "# TN FP\n",
    "# FN TP"
   ]
  },
  {
   "cell_type": "code",
   "execution_count": 1405,
   "metadata": {},
   "outputs": [
    {
     "name": "stdout",
     "output_type": "stream",
     "text": [
      "Logistic Regression model precision: 78.64%\n",
      "Logistic Regression model recall: 100.00%\n"
     ]
    }
   ],
   "source": [
    "# LOGISTIC REGRESSION\n",
    "# Calculate Precision and Recall\n",
    "\n",
    "# Precision = TP / (TP + FP)\n",
    "precision = 81 / (81 + 22)\n",
    "\n",
    "# Recall = TP / (TP + FN)\n",
    "recall = 81 / (81 + 0)\n",
    "\n",
    "print('Logistic Regression model precision: {:.2f}%'.format(precision*100))\n",
    "print('Logistic Regression model recall: {:.2f}%'.format(recall*100))"
   ]
  },
  {
   "cell_type": "code",
   "execution_count": 1406,
   "metadata": {},
   "outputs": [
    {
     "name": "stdout",
     "output_type": "stream",
     "text": [
      "Random Forest Classifier\n",
      "              precision    recall  f1-score   support\n",
      "\n",
      "           0       0.81      0.47      0.60        36\n",
      "           1       0.80      0.95      0.87        81\n",
      "\n",
      "    accuracy                           0.80       117\n",
      "   macro avg       0.81      0.71      0.73       117\n",
      "weighted avg       0.80      0.80      0.79       117\n",
      "\n"
     ]
    }
   ],
   "source": [
    "# RANDOM FOREST CLASSIFIER, preformance\n",
    "# Not very good precision for Y, great recall for Y\n",
    "\n",
    "print('Random Forest Classifier')\n",
    "print(classification_report(y_val, model_rf.predict(X_val)))"
   ]
  },
  {
   "cell_type": "code",
   "execution_count": 1407,
   "metadata": {},
   "outputs": [
    {
     "data": {
      "image/png": "[encoded data removed]",
      "text/plain": [
       "<Figure size 432x288 with 2 Axes>"
      ]
     },
     "metadata": {
      "needs_background": "light"
     },
     "output_type": "display_data"
    }
   ],
   "source": [
    "# RANDOM FOREST CLASSIFIER\n",
    "# Plot Confusion Matrix\n",
    "\n",
    "plot_confusion_matrix(model_rf, X_val, y_val, values_format='.0f');\n",
    "\n",
    "# TN FP\n",
    "# FN TP"
   ]
  },
  {
   "cell_type": "code",
   "execution_count": 1408,
   "metadata": {},
   "outputs": [
    {
     "name": "stdout",
     "output_type": "stream",
     "text": [
      "Random Forest Classifier precision: 80.21%\n",
      "Random Forest Classifier recall: 95.06%\n"
     ]
    }
   ],
   "source": [
    "# RANDOM FOREST CLASSIFIER \n",
    "# Calculate Precision and Recall\n",
    "\n",
    "# Precision = TP / (TP + FP)\n",
    "precision = 77 / (77 + 19)\n",
    "\n",
    "# Recall = TP / (TP + FN)\n",
    "recall = 77 / (77 + 4)\n",
    "\n",
    "print('Random Forest Classifier precision: {:.2f}%'.format(precision*100))\n",
    "print('Random Forest Classifier recall: {:.2f}%'.format(recall*100))"
   ]
  },
  {
   "cell_type": "code",
   "execution_count": 1409,
   "metadata": {},
   "outputs": [
    {
     "name": "stdout",
     "output_type": "stream",
     "text": [
      "XGBoost Classifier\n",
      "              precision    recall  f1-score   support\n",
      "\n",
      "           0       0.76      0.44      0.56        36\n",
      "           1       0.79      0.94      0.86        81\n",
      "\n",
      "    accuracy                           0.79       117\n",
      "   macro avg       0.78      0.69      0.71       117\n",
      "weighted avg       0.78      0.79      0.77       117\n",
      "\n"
     ]
    }
   ],
   "source": [
    "# XGBoost Classifier, preformance\n",
    "\n",
    "print('XGBoost Classifier')\n",
    "print(classification_report(y_val, model_xgb.predict(X_val)))"
   ]
  },
  {
   "cell_type": "code",
   "execution_count": 1410,
   "metadata": {},
   "outputs": [
    {
     "data": {
      "image/png": "[encoded data removed]",
      "text/plain": [
       "<Figure size 432x288 with 2 Axes>"
      ]
     },
     "metadata": {
      "needs_background": "light"
     },
     "output_type": "display_data"
    }
   ],
   "source": [
    "# XGBoost Classifier\n",
    "# Plot Confusion Matrix\n",
    "\n",
    "plot_confusion_matrix(model_xgb, X_val, y_val, values_format='.0f');\n",
    "\n",
    "# TN FP\n",
    "# FN TP"
   ]
  },
  {
   "cell_type": "code",
   "execution_count": 1411,
   "metadata": {},
   "outputs": [
    {
     "name": "stdout",
     "output_type": "stream",
     "text": [
      "XGBoost Classifier precision: 79.17%\n",
      "XGBoost Classifier recall: 93.83%\n"
     ]
    }
   ],
   "source": [
    "# XGBOOST CLASSIFIER \n",
    "# Calculate Precision and Recall\n",
    "\n",
    "# Precision = TP / (TP + FP)\n",
    "precision = 76 / (76 + 20)\n",
    "\n",
    "# Recall = TP / (TP + FN)\n",
    "recall = 76 / (76 + 5)\n",
    "\n",
    "print('XGBoost Classifier precision: {:.2f}%'.format(precision*100))\n",
    "print('XGBoost Classifier recall: {:.2f}%'.format(recall*100))"
   ]
  },
  {
   "cell_type": "code",
   "execution_count": 1210,
   "metadata": {},
   "outputs": [
    {
     "data": {
      "image/png": "[encoded data removed]",
      "text/plain": [
       "<Figure size 432x288 with 1 Axes>"
      ]
     },
     "metadata": {
      "needs_background": "light"
     },
     "output_type": "display_data"
    }
   ],
   "source": [
    "# INCOME OUTLIERS NOT REMOVED\n",
    "# Plot ROC curve to evaluate the models \n",
    "# 'How far up can I go without having to go too far to the right?'\n",
    "\n",
    "lr = plot_roc_curve(model_lr, X_val, y_val, label='Logistic')\n",
    "rf = plot_roc_curve(model_rf, X_val, y_val, ax=lr.ax_, label='Random Forest')\n",
    "xgb = plot_roc_curve(model_xgb, X_val, y_val, ax=lr.ax_, label='XGBoost')\n",
    "plt.plot([(0,0), (1,1)], color='grey', linestyle='--')\n",
    "plt.legend();"
   ]
  },
  {
   "cell_type": "code",
   "execution_count": 1211,
   "metadata": {},
   "outputs": [
    {
     "name": "stdout",
     "output_type": "stream",
     "text": [
      "Logistic: ROA-AUC Score: 69.98%\n",
      "Random Forest: ROC-AUC Score:: 69.95%\n",
      "XGBoost: ROC-AUC Score:: 66.16%\n"
     ]
    }
   ],
   "source": [
    "print('Logistic: ROA-AUC Score: {:.2f}%'.format(roc_auc_score(y_val, model_lr.predict(X_val))*100))\n",
    "print('Random Forest: ROC-AUC Score:: {:.2f}%'.format(roc_auc_score(y_val, model_rf.predict(X_val))*100))\n",
    "print('XGBoost: ROC-AUC Score:: {:.2f}%'.format(roc_auc_score(y_val, model_xgb.predict(X_val))*100))"
   ]
  },
  {
   "cell_type": "code",
   "execution_count": 1412,
   "metadata": {},
   "outputs": [
    {
     "data": {
      "image/png": "[encoded data removed]",
      "text/plain": [
       "<Figure size 432x288 with 1 Axes>"
      ]
     },
     "metadata": {
      "needs_background": "light"
     },
     "output_type": "display_data"
    }
   ],
   "source": [
    "# INCOME OUTLIERS REMOVED\n",
    "\n",
    "lr = plot_roc_curve(model_lr, X_val, y_val, label='Logistic')\n",
    "rf = plot_roc_curve(model_rf, X_val, y_val, ax=lr.ax_, label='Random Forest')\n",
    "xgb = plot_roc_curve(model_xgb, X_val, y_val, ax=lr.ax_, label='XGBoost')\n",
    "plt.plot([(0,0), (1,1)], color='grey', linestyle='--')\n",
    "plt.legend();"
   ]
  },
  {
   "cell_type": "code",
   "execution_count": 1413,
   "metadata": {},
   "outputs": [
    {
     "name": "stdout",
     "output_type": "stream",
     "text": [
      "Logistic: ROA-AUC Score: 69.44%\n",
      "Random Forest: ROC-AUC Score:: 71.14%\n",
      "XGBoost: ROC-AUC Score:: 69.14%\n"
     ]
    }
   ],
   "source": [
    "print('Logistic: ROA-AUC Score: {:.2f}%'.format(roc_auc_score(y_val, model_lr.predict(X_val))*100))\n",
    "print('Random Forest: ROC-AUC Score:: {:.2f}%'.format(roc_auc_score(y_val, model_rf.predict(X_val))*100))\n",
    "print('XGBoost: ROC-AUC Score:: {:.2f}%'.format(roc_auc_score(y_val, model_xgb.predict(X_val))*100))"
   ]
  },
  {
   "cell_type": "code",
   "execution_count": null,
   "metadata": {},
   "outputs": [],
   "source": [
    "# Not the greatest looking curves."
   ]
  },
  {
   "cell_type": "markdown",
   "metadata": {},
   "source": [
    "# VII. Tune Model & Recheck Metrics"
   ]
  },
  {
   "cell_type": "code",
   "execution_count": 1414,
   "metadata": {},
   "outputs": [
    {
     "data": {
      "text/plain": [
       "self_employed         0.014831\n",
       "gender                0.017522\n",
       "education             0.019529\n",
       "married               0.021471\n",
       "loan_amount_term      0.022803\n",
       "dependents            0.031231\n",
       "property_area         0.051793\n",
       "coapplicant_income    0.070302\n",
       "loan_amount           0.115186\n",
       "applicant_income      0.118273\n",
       "total_income          0.118723\n",
       "loan_to_income        0.140659\n",
       "credit_history        0.257677\n",
       "dtype: float64"
      ]
     },
     "execution_count": 1414,
     "metadata": {},
     "output_type": "execute_result"
    }
   ],
   "source": [
    "# Let's look at the feature importances of our RF and XGBoost Classifier model.\n",
    "\n",
    "# Random Forest Classifier\n",
    "importances = model_rf.named_steps['randomforestclassifier'].feature_importances_\n",
    "features = X_train.columns\n",
    "feat_imp = pd.Series(importances, index=features).sort_values()\n",
    "feat_imp"
   ]
  },
  {
   "cell_type": "code",
   "execution_count": 1415,
   "metadata": {},
   "outputs": [
    {
     "data": {
      "image/png": "[encoded data removed]",
      "text/plain": [
       "<Figure size 432x288 with 1 Axes>"
      ]
     },
     "metadata": {
      "needs_background": "light"
     },
     "output_type": "display_data"
    }
   ],
   "source": [
    "feat_imp.tail(10).plot(kind='barh')\n",
    "plt.xlabel('Gini Importance')\n",
    "plt.ylabel('Feature')\n",
    "plt.title('Feature Importances for RF model')\n",
    "plt.show()"
   ]
  },
  {
   "cell_type": "code",
   "execution_count": 1416,
   "metadata": {},
   "outputs": [],
   "source": [
    "# Let's permute the data - we'll shuffle the data in a column to create \n",
    "# noise-static.  We can see how much it previously helped the model's\n",
    "# prediction by taking away it's predictive power.\n",
    "\n",
    "perm_imp = permutation_importance(\n",
    "    model_rf,\n",
    "    X_val, # Always use your VALIDATION set\n",
    "    y_val,\n",
    "    n_jobs=-1,\n",
    "    random_state=42\n",
    ")"
   ]
  },
  {
   "cell_type": "code",
   "execution_count": 1417,
   "metadata": {},
   "outputs": [
    {
     "data": {
      "text/plain": [
       "dict_keys(['importances_mean', 'importances_std', 'importances'])"
      ]
     },
     "execution_count": 1417,
     "metadata": {},
     "output_type": "execute_result"
    }
   ],
   "source": [
    "perm_imp.keys()"
   ]
  },
  {
   "cell_type": "code",
   "execution_count": 1418,
   "metadata": {},
   "outputs": [],
   "source": [
    "# Put results into a DataFrame\n",
    "data = {'importances_mean': perm_imp['importances_mean'],\n",
    "        'importances_std': perm_imp['importances_std']}\n",
    "\n",
    "df = pd.DataFrame(data, index=X_val.columns)\n",
    "df.sort_values(by='importances_mean', inplace=True)"
   ]
  },
  {
   "cell_type": "code",
   "execution_count": 1419,
   "metadata": {},
   "outputs": [
    {
     "data": {
      "text/html": [
       "<div>\n",
       "<style scoped>\n",
       "    .dataframe tbody tr th:only-of-type {\n",
       "        vertical-align: middle;\n",
       "    }\n",
       "\n",
       "    .dataframe tbody tr th {\n",
       "        vertical-align: top;\n",
       "    }\n",
       "\n",
       "    .dataframe thead th {\n",
       "        text-align: right;\n",
       "    }\n",
       "</style>\n",
       "<table border=\"1\" class=\"dataframe\">\n",
       "  <thead>\n",
       "    <tr style=\"text-align: right;\">\n",
       "      <th></th>\n",
       "      <th>importances_mean</th>\n",
       "      <th>importances_std</th>\n",
       "    </tr>\n",
       "  </thead>\n",
       "  <tbody>\n",
       "    <tr>\n",
       "      <th>property_area</th>\n",
       "      <td>-0.013675</td>\n",
       "      <td>0.008716</td>\n",
       "    </tr>\n",
       "    <tr>\n",
       "      <th>coapplicant_income</th>\n",
       "      <td>-0.011966</td>\n",
       "      <td>0.004187</td>\n",
       "    </tr>\n",
       "    <tr>\n",
       "      <th>total_income</th>\n",
       "      <td>-0.011966</td>\n",
       "      <td>0.004187</td>\n",
       "    </tr>\n",
       "    <tr>\n",
       "      <th>applicant_income</th>\n",
       "      <td>-0.010256</td>\n",
       "      <td>0.003419</td>\n",
       "    </tr>\n",
       "    <tr>\n",
       "      <th>dependents</th>\n",
       "      <td>-0.006838</td>\n",
       "      <td>0.006396</td>\n",
       "    </tr>\n",
       "    <tr>\n",
       "      <th>gender</th>\n",
       "      <td>0.000000</td>\n",
       "      <td>0.000000</td>\n",
       "    </tr>\n",
       "    <tr>\n",
       "      <th>self_employed</th>\n",
       "      <td>0.000000</td>\n",
       "      <td>0.000000</td>\n",
       "    </tr>\n",
       "    <tr>\n",
       "      <th>loan_amount_term</th>\n",
       "      <td>0.001709</td>\n",
       "      <td>0.003419</td>\n",
       "    </tr>\n",
       "    <tr>\n",
       "      <th>education</th>\n",
       "      <td>0.001709</td>\n",
       "      <td>0.009967</td>\n",
       "    </tr>\n",
       "    <tr>\n",
       "      <th>loan_amount</th>\n",
       "      <td>0.005128</td>\n",
       "      <td>0.011594</td>\n",
       "    </tr>\n",
       "    <tr>\n",
       "      <th>married</th>\n",
       "      <td>0.010256</td>\n",
       "      <td>0.012561</td>\n",
       "    </tr>\n",
       "    <tr>\n",
       "      <th>loan_to_income</th>\n",
       "      <td>0.025641</td>\n",
       "      <td>0.010811</td>\n",
       "    </tr>\n",
       "    <tr>\n",
       "      <th>credit_history</th>\n",
       "      <td>0.138462</td>\n",
       "      <td>0.026149</td>\n",
       "    </tr>\n",
       "  </tbody>\n",
       "</table>\n",
       "</div>"
      ],
      "text/plain": [
       "                    importances_mean  importances_std\n",
       "property_area              -0.013675         0.008716\n",
       "coapplicant_income         -0.011966         0.004187\n",
       "total_income               -0.011966         0.004187\n",
       "applicant_income           -0.010256         0.003419\n",
       "dependents                 -0.006838         0.006396\n",
       "gender                      0.000000         0.000000\n",
       "self_employed               0.000000         0.000000\n",
       "loan_amount_term            0.001709         0.003419\n",
       "education                   0.001709         0.009967\n",
       "loan_amount                 0.005128         0.011594\n",
       "married                     0.010256         0.012561\n",
       "loan_to_income              0.025641         0.010811\n",
       "credit_history              0.138462         0.026149"
      ]
     },
     "execution_count": 1419,
     "metadata": {},
     "output_type": "execute_result"
    }
   ],
   "source": [
    "df"
   ]
  },
  {
   "cell_type": "code",
   "execution_count": 1420,
   "metadata": {},
   "outputs": [
    {
     "data": {
      "image/png": "[encoded data removed]",
      "text/plain": [
       "<Figure size 432x288 with 1 Axes>"
      ]
     },
     "metadata": {
      "needs_background": "light"
     },
     "output_type": "display_data"
    }
   ],
   "source": [
    "df['importances_mean'].tail(13).plot(kind='barh')\n",
    "plt.xlabel('Importance (drop in accuracy)')\n",
    "plt.ylabel('Feature')\n",
    "plt.title('Permutation importance for model_xgb')\n",
    "plt.show()"
   ]
  },
  {
   "cell_type": "code",
   "execution_count": 1421,
   "metadata": {},
   "outputs": [
    {
     "data": {
      "text/plain": [
       "dependents            0.035617\n",
       "total_income          0.038766\n",
       "loan_amount           0.040802\n",
       "coapplicant_income    0.042742\n",
       "applicant_income      0.042939\n",
       "loan_amount_term      0.045274\n",
       "gender                0.046137\n",
       "loan_to_income        0.046410\n",
       "education             0.047946\n",
       "married               0.049466\n",
       "self_employed         0.056401\n",
       "property_area         0.072983\n",
       "credit_history        0.434518\n",
       "dtype: float32"
      ]
     },
     "execution_count": 1421,
     "metadata": {},
     "output_type": "execute_result"
    }
   ],
   "source": [
    "# XGBoost\n",
    "importances = model_xgb.named_steps['xgbclassifier'].feature_importances_\n",
    "features = X_train.columns\n",
    "feat_imp = pd.Series(importances, index=features).sort_values()\n",
    "feat_imp"
   ]
  },
  {
   "cell_type": "code",
   "execution_count": 1422,
   "metadata": {},
   "outputs": [
    {
     "data": {
      "image/png": "[encoded data removed]",
      "text/plain": [
       "<Figure size 432x288 with 1 Axes>"
      ]
     },
     "metadata": {
      "needs_background": "light"
     },
     "output_type": "display_data"
    }
   ],
   "source": [
    "feat_imp.tail(10).plot(kind='barh')\n",
    "plt.xlabel('Gini Importance')\n",
    "plt.ylabel('Feature')\n",
    "plt.title('Feature Importances for XGB model')\n",
    "plt.show()"
   ]
  },
  {
   "cell_type": "code",
   "execution_count": 1423,
   "metadata": {},
   "outputs": [],
   "source": [
    "# Put results into a DataFrame\n",
    "data = {'importances_mean': perm_imp['importances_mean'],\n",
    "        'importances_std': perm_imp['importances_std']}\n",
    "\n",
    "df = pd.DataFrame(data, index=X_val.columns)\n",
    "df.sort_values(by='importances_mean', inplace=True)"
   ]
  },
  {
   "cell_type": "code",
   "execution_count": 1424,
   "metadata": {},
   "outputs": [
    {
     "data": {
      "image/png": "[encoded data removed]",
      "text/plain": [
       "<Figure size 432x288 with 1 Axes>"
      ]
     },
     "metadata": {
      "needs_background": "light"
     },
     "output_type": "display_data"
    }
   ],
   "source": [
    "df['importances_mean'].tail(13).plot(kind='barh')\n",
    "plt.xlabel('Importance (drop in accuracy)')\n",
    "plt.ylabel('Feature')\n",
    "plt.title('Permutation importance for model_xgb')\n",
    "plt.show()"
   ]
  },
  {
   "cell_type": "code",
   "execution_count": null,
   "metadata": {},
   "outputs": [],
   "source": [
    "# It looks like many columns didn't help or actually detract from the model's predictive power.\n",
    "# Let's remove these features, run the models again, and check their performance.\n",
    "\n",
    "# 'dependents', 'applicant_income', 'total_income', 'coapplicant_income', 'property_area'"
   ]
  },
  {
   "cell_type": "code",
   "execution_count": 1454,
   "metadata": {},
   "outputs": [
    {
     "name": "stdout",
     "output_type": "stream",
     "text": [
      "Training Accuracy (LOGR): 82.19%\n",
      "Validation Accuracy (LOGR): 81.20%\n"
     ]
    }
   ],
   "source": [
    "# Training and Validation accuracy of our Logistic Regression model \n",
    "\n",
    "print('Training Accuracy (LOGR): {:.2f}%'.format(model_lr.score(X_train, y_train)*100))\n",
    "print('Validation Accuracy (LOGR): {:.2f}%'.format(model_lr.score(X_val, y_val)*100))"
   ]
  },
  {
   "cell_type": "code",
   "execution_count": 1455,
   "metadata": {},
   "outputs": [
    {
     "name": "stdout",
     "output_type": "stream",
     "text": [
      "Training Accuracy(RF): 100.00%\n",
      "Validation Accuracy (RF): 79.49%\n"
     ]
    }
   ],
   "source": [
    "# Training and Validation accuracy of our Random Forest Classifier model\n",
    "# Performance improved\n",
    "\n",
    "print('Training Accuracy(RF): {:.2f}%'.format(model_rf.score(X_train, y_train)*100))\n",
    "print('Validation Accuracy (RF): {:.2f}%'.format(model_rf.score(X_val, y_val)*100))"
   ]
  },
  {
   "cell_type": "code",
   "execution_count": 1456,
   "metadata": {},
   "outputs": [
    {
     "name": "stdout",
     "output_type": "stream",
     "text": [
      "Training Accuracy(XGB): 99.79%\n",
      "Validation Accuracy (XGB): 76.07%\n"
     ]
    }
   ],
   "source": [
    "# Training and Validation accuracy of our XGBoost Classifier model\n",
    "# Performance improved\n",
    "\n",
    "print('Training Accuracy(XGB): {:.2f}%'.format(model_xgb.score(X_train, y_train)*100))\n",
    "print('Validation Accuracy (XGB): {:.2f}%'.format(model_xgb.score(X_val, y_val)*100))"
   ]
  },
  {
   "cell_type": "code",
   "execution_count": null,
   "metadata": {},
   "outputs": [],
   "source": [
    "# Let's try some hyperparameter tuning of the models. "
   ]
  },
  {
   "cell_type": "code",
   "execution_count": 806,
   "metadata": {},
   "outputs": [],
   "source": [
    "# Tune Logistic Regression Model\n",
    "\n",
    "penalty_variants = ['l2', 'none']\n",
    "solver_variants = ['newton-cg', 'lbfgs', 'liblinear', 'sag', 'saga']\n",
    "\n",
    "# No effect witnessed with tuning of this hyperparameter\n",
    "# for _ in penalty_variants:\n",
    "#     model_lr_tune = make_pipeline(\n",
    "#         OneHotEncoder(use_cat_names=True),\n",
    "#         StandardScaler(),\n",
    "#         LogisticRegression(penalty=_)\n",
    "#     )\n",
    "#     model_lr_tune.fit(X_train, y_train);\n",
    "#     print(_, 'Validation Accuracy (LOGR_penalty_tuned):', model_lr.score(X_val, y_val), \"\\n\")\n",
    "\n",
    "# No effect witnessed with tuning of this hyperparameter\n",
    "# for _ in range(1, 11):\n",
    "#     model_lr_tune = make_pipeline(\n",
    "#         OneHotEncoder(use_cat_names=True),\n",
    "#         StandardScaler(),\n",
    "#         LogisticRegression(C=_)\n",
    "#     )\n",
    "#     model_lr_tune.fit(X_train, y_train);\n",
    "#     print(_, 'Validation Accuracy (LOGR_penalty_tuned):', model_lr.score(X_val, y_val), \"\\n\")\n",
    "\n",
    "# No effect witnessed with tuning of this hyperparameter\n",
    "# for _ in solver_variants:\n",
    "#     model_lr_tune = make_pipeline(\n",
    "#         OneHotEncoder(use_cat_names=True),\n",
    "#         StandardScaler(),\n",
    "#         LogisticRegression(solver=_)\n",
    "#     )\n",
    "#     model_lr_tune.fit(X_train, y_train);\n",
    "#     print(_, 'Validation Accuracy (LOGR_penalty_tuned):', model_lr.score(X_val, y_val), \"\\n\")"
   ]
  },
  {
   "cell_type": "code",
   "execution_count": 1457,
   "metadata": {},
   "outputs": [],
   "source": [
    "# Complete a RandomizedSearchCV for our RF model\n",
    "\n",
    "params = {'randomforestclassifier__n_estimators': np.arange(20, 100, 5), \n",
    "          'randomforestclassifier__max_depth': np.arange(10, 75, 5),\n",
    "          'randomforestclassifier__max_samples': np.arange(0.1, 0.99, 0.1)}\n",
    "\n",
    "rf_rs = RandomizedSearchCV(model_rf, param_distributions=params, n_iter=10, cv=5, n_jobs=-1, verbose=1)"
   ]
  },
  {
   "cell_type": "code",
   "execution_count": 1458,
   "metadata": {},
   "outputs": [
    {
     "name": "stdout",
     "output_type": "stream",
     "text": [
      "Fitting 5 folds for each of 10 candidates, totalling 50 fits\n"
     ]
    },
    {
     "name": "stderr",
     "output_type": "stream",
     "text": [
      "[Parallel(n_jobs=-1)]: Using backend LokyBackend with 12 concurrent workers.\n",
      "[Parallel(n_jobs=-1)]: Done  26 tasks      | elapsed:    1.0s\n",
      "[Parallel(n_jobs=-1)]: Done  50 out of  50 | elapsed:    1.5s finished\n",
      "/Users/frankhowd/.local/share/virtualenvs/DS-Unit-2-Applied-Modeling-YelssOLa/lib/python3.8/site-packages/category_encoders/utils.py:21: FutureWarning: is_categorical is deprecated and will be removed in a future version.  Use is_categorical_dtype instead\n",
      "  elif pd.api.types.is_categorical(cols):\n"
     ]
    }
   ],
   "source": [
    "rf_rs.fit(X_train, y_train);"
   ]
  },
  {
   "cell_type": "code",
   "execution_count": 1459,
   "metadata": {},
   "outputs": [
    {
     "data": {
      "text/plain": [
       "0.8198123999084878"
      ]
     },
     "execution_count": 1459,
     "metadata": {},
     "output_type": "execute_result"
    }
   ],
   "source": [
    "# Score is imporoved to nearly 82%\n",
    "\n",
    "rf_rs.best_score_"
   ]
  },
  {
   "cell_type": "code",
   "execution_count": 1460,
   "metadata": {},
   "outputs": [
    {
     "data": {
      "text/plain": [
       "{'randomforestclassifier__n_estimators': 70,\n",
       " 'randomforestclassifier__max_samples': 0.2,\n",
       " 'randomforestclassifier__max_depth': 15}"
      ]
     },
     "execution_count": 1460,
     "metadata": {},
     "output_type": "execute_result"
    }
   ],
   "source": [
    "rf_rs.best_params_"
   ]
  },
  {
   "cell_type": "code",
   "execution_count": 1461,
   "metadata": {},
   "outputs": [],
   "source": [
    "# Model 2: Random Forest Classifier Model with best params\n",
    "\n",
    "model_rf = make_pipeline(\n",
    "    OrdinalEncoder(),\n",
    "    RandomForestClassifier(n_estimators=70, max_samples=0.2, max_depth=15,\n",
    "                           n_jobs=-1, random_state=42)\n",
    ")\n",
    "\n",
    "model_rf.fit(X_train, y_train);"
   ]
  },
  {
   "cell_type": "code",
   "execution_count": 1462,
   "metadata": {},
   "outputs": [
    {
     "name": "stdout",
     "output_type": "stream",
     "text": [
      "Training Accuracy(RF): 84.55%\n",
      "Validation Accuracy (RF): 82.91%\n"
     ]
    }
   ],
   "source": [
    "# Training and Validation accuracy of our Random Forest Classifier model\n",
    "\n",
    "print('Training Accuracy(RF): {:.2f}%'.format(model_rf.score(X_train, y_train)*100))\n",
    "print('Validation Accuracy (RF): {:.2f}%'.format(model_rf.score(X_val, y_val)*100))"
   ]
  },
  {
   "cell_type": "code",
   "execution_count": 1446,
   "metadata": {},
   "outputs": [
    {
     "data": {
      "image/png": "[encoded data removed]",
      "text/plain": [
       "<Figure size 432x288 with 1 Axes>"
      ]
     },
     "metadata": {
      "needs_background": "light"
     },
     "output_type": "display_data"
    }
   ],
   "source": [
    "# Final ROC curve\n",
    "\n",
    "lr = plot_roc_curve(model_lr, X_val, y_val, label='Logistic')\n",
    "rf = plot_roc_curve(model_rf, X_val, y_val, ax=lr.ax_, label='Random Forest')\n",
    "xgb = plot_roc_curve(model_xgb, X_val, y_val, ax=lr.ax_, label='XGBoost')\n",
    "plt.plot([(0,0), (1,1)], color='grey', linestyle='--')\n",
    "plt.legend();"
   ]
  },
  {
   "cell_type": "code",
   "execution_count": 1463,
   "metadata": {},
   "outputs": [
    {
     "name": "stdout",
     "output_type": "stream",
     "text": [
      "Logistic: ROA-AUC Score: 69.44%\n",
      "Random Forest: ROC-AUC Score:: 72.22%\n",
      "XGBoost: ROC-AUC Score:: 68.06%\n"
     ]
    }
   ],
   "source": [
    "print('Logistic: ROA-AUC Score: {:.2f}%'.format(roc_auc_score(y_val, model_lr.predict(X_val))*100))\n",
    "print('Random Forest: ROC-AUC Score:: {:.2f}%'.format(roc_auc_score(y_val, model_rf.predict(X_val))*100))\n",
    "print('XGBoost: ROC-AUC Score:: {:.2f}%'.format(roc_auc_score(y_val, model_xgb.predict(X_val))*100))"
   ]
  },
  {
   "cell_type": "code",
   "execution_count": 1464,
   "metadata": {},
   "outputs": [
    {
     "name": "stdout",
     "output_type": "stream",
     "text": [
      "Random Forest Classifier\n",
      "              precision    recall  f1-score   support\n",
      "\n",
      "           0       1.00      0.44      0.62        36\n",
      "           1       0.80      1.00      0.89        81\n",
      "\n",
      "    accuracy                           0.83       117\n",
      "   macro avg       0.90      0.72      0.75       117\n",
      "weighted avg       0.86      0.83      0.81       117\n",
      "\n"
     ]
    }
   ],
   "source": [
    "print('Random Forest Classifier')\n",
    "print(classification_report(y_val, model_rf.predict(X_val)))"
   ]
  },
  {
   "cell_type": "code",
   "execution_count": null,
   "metadata": {},
   "outputs": [],
   "source": []
  }
 ],
 "metadata": {
  "kernelspec": {
   "display_name": "Python 3",
   "language": "python",
   "name": "python3"
  },
  "language_info": {
   "codemirror_mode": {
    "name": "ipython",
    "version": 3
   },
   "file_extension": ".py",
   "mimetype": "text/x-python",
   "name": "python",
   "nbconvert_exporter": "python",
   "pygments_lexer": "ipython3",
   "version": "3.8.2"
  }
 },
 "nbformat": 4,
 "nbformat_minor": 4
}
