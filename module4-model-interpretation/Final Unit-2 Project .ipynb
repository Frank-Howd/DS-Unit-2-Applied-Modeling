{
 "cells": [
  {
   "cell_type": "markdown",
   "metadata": {},
   "source": [
    "# Loan Approval Prediction, a classification problem"
   ]
  },
  {
   "cell_type": "markdown",
   "metadata": {},
   "source": [
    "### How accurate will we be predicting determinations for loan approval requests?"
   ]
  },
  {
   "cell_type": "code",
   "execution_count": null,
   "metadata": {},
   "outputs": [],
   "source": [
    "# Dataset location - https://www.kaggle.com/shaijudatascience/loan-prediction-practice-av-competition"
   ]
  },
  {
   "cell_type": "code",
   "execution_count": 5,
   "metadata": {},
   "outputs": [
    {
     "data": {
      "image/png": "[encoded data removed]",
      "text/plain": [
       "<IPython.core.display.Image object>"
      ]
     },
     "execution_count": 5,
     "metadata": {},
     "output_type": "execute_result"
    }
   ],
   "source": [
    "from IPython.display import Image\n",
    "\n",
    "Image(filename='../images/loan_variables.png')"
   ]
  },
  {
   "cell_type": "code",
   "execution_count": null,
   "metadata": {},
   "outputs": [],
   "source": [
    "# There are 13 variables in the dataset.\n",
    "# 'Loan_Status' is our target; we are attempting to predict loan approvals.\n",
    "# To address any potential for data leakage, we will refrain from creating \n",
    "# any new features using the target, we won't perform any fitting using our \n",
    "# validation sets, and we will watch for any significant declines in our \n",
    "# models' performance when scoring our validation sets. "
   ]
  },
  {
   "cell_type": "markdown",
   "metadata": {},
   "source": [
    "# Notebook Index\n",
    "\n",
    "- `Part I, Imports & EDA`\n",
    " \n",
    "- `Part II, Wrangle Data`\n",
    "    `-`\n",
    "    `(wrangle_I, wrangle_II, wrangle_II)`\n",
    "- `Part III, Split the Data`\n",
    "    \n",
    "- `Part IV, Establish a Baseline`\n",
    "\n",
    "- `Part V, Build Models`\n",
    "    `-`\n",
    "    `(LogisticRegression(), RandomForestClassifier())` \n",
    "\n",
    "- `Part VI, Check Metrics`\n",
    "\n",
    "- `Part VII, Tune Models & Recheck Metrics`"
   ]
  },
  {
   "cell_type": "markdown",
   "metadata": {},
   "source": [
    "# I. Imports & EDA "
   ]
  },
  {
   "cell_type": "code",
   "execution_count": 7,
   "metadata": {},
   "outputs": [],
   "source": [
    "# Import packages and package classes\n",
    "\n",
    "import matplotlib.pyplot as plt\n",
    "import numpy as np\n",
    "import pandas as pd\n",
    "import seaborn as sns\n",
    "\n",
    "from category_encoders import OneHotEncoder, OrdinalEncoder\n",
    "from sklearn.ensemble import RandomForestClassifier\n",
    "from sklearn.impute import SimpleImputer\n",
    "from sklearn.inspection import permutation_importance\n",
    "from sklearn.linear_model import LogisticRegression\n",
    "from sklearn.metrics import classification_report, plot_roc_curve, roc_auc_score, plot_confusion_matrix\n",
    "from sklearn.model_selection import cross_val_score, train_test_split, RandomizedSearchCV\n",
    "from sklearn.pipeline import make_pipeline\n",
    "from sklearn.preprocessing import StandardScaler"
   ]
  },
  {
   "cell_type": "code",
   "execution_count": 176,
   "metadata": {},
   "outputs": [
    {
     "name": "stdout",
     "output_type": "stream",
     "text": [
      "(614, 13)\n"
     ]
    },
    {
     "data": {
      "text/html": [
       "<div>\n",
       "<style scoped>\n",
       "    .dataframe tbody tr th:only-of-type {\n",
       "        vertical-align: middle;\n",
       "    }\n",
       "\n",
       "    .dataframe tbody tr th {\n",
       "        vertical-align: top;\n",
       "    }\n",
       "\n",
       "    .dataframe thead th {\n",
       "        text-align: right;\n",
       "    }\n",
       "</style>\n",
       "<table border=\"1\" class=\"dataframe\">\n",
       "  <thead>\n",
       "    <tr style=\"text-align: right;\">\n",
       "      <th></th>\n",
       "      <th>Loan_ID</th>\n",
       "      <th>Gender</th>\n",
       "      <th>Married</th>\n",
       "      <th>Dependents</th>\n",
       "      <th>Education</th>\n",
       "      <th>Self_Employed</th>\n",
       "      <th>ApplicantIncome</th>\n",
       "      <th>CoapplicantIncome</th>\n",
       "      <th>LoanAmount</th>\n",
       "      <th>Loan_Amount_Term</th>\n",
       "      <th>Credit_History</th>\n",
       "      <th>Property_Area</th>\n",
       "      <th>Loan_Status</th>\n",
       "    </tr>\n",
       "  </thead>\n",
       "  <tbody>\n",
       "    <tr>\n",
       "      <th>0</th>\n",
       "      <td>LP001002</td>\n",
       "      <td>Male</td>\n",
       "      <td>No</td>\n",
       "      <td>0</td>\n",
       "      <td>Graduate</td>\n",
       "      <td>No</td>\n",
       "      <td>5849</td>\n",
       "      <td>0.0</td>\n",
       "      <td>NaN</td>\n",
       "      <td>360.0</td>\n",
       "      <td>1.0</td>\n",
       "      <td>Urban</td>\n",
       "      <td>Y</td>\n",
       "    </tr>\n",
       "    <tr>\n",
       "      <th>1</th>\n",
       "      <td>LP001003</td>\n",
       "      <td>Male</td>\n",
       "      <td>Yes</td>\n",
       "      <td>1</td>\n",
       "      <td>Graduate</td>\n",
       "      <td>No</td>\n",
       "      <td>4583</td>\n",
       "      <td>1508.0</td>\n",
       "      <td>128.0</td>\n",
       "      <td>360.0</td>\n",
       "      <td>1.0</td>\n",
       "      <td>Rural</td>\n",
       "      <td>N</td>\n",
       "    </tr>\n",
       "    <tr>\n",
       "      <th>2</th>\n",
       "      <td>LP001005</td>\n",
       "      <td>Male</td>\n",
       "      <td>Yes</td>\n",
       "      <td>0</td>\n",
       "      <td>Graduate</td>\n",
       "      <td>Yes</td>\n",
       "      <td>3000</td>\n",
       "      <td>0.0</td>\n",
       "      <td>66.0</td>\n",
       "      <td>360.0</td>\n",
       "      <td>1.0</td>\n",
       "      <td>Urban</td>\n",
       "      <td>Y</td>\n",
       "    </tr>\n",
       "    <tr>\n",
       "      <th>3</th>\n",
       "      <td>LP001006</td>\n",
       "      <td>Male</td>\n",
       "      <td>Yes</td>\n",
       "      <td>0</td>\n",
       "      <td>Not Graduate</td>\n",
       "      <td>No</td>\n",
       "      <td>2583</td>\n",
       "      <td>2358.0</td>\n",
       "      <td>120.0</td>\n",
       "      <td>360.0</td>\n",
       "      <td>1.0</td>\n",
       "      <td>Urban</td>\n",
       "      <td>Y</td>\n",
       "    </tr>\n",
       "    <tr>\n",
       "      <th>4</th>\n",
       "      <td>LP001008</td>\n",
       "      <td>Male</td>\n",
       "      <td>No</td>\n",
       "      <td>0</td>\n",
       "      <td>Graduate</td>\n",
       "      <td>No</td>\n",
       "      <td>6000</td>\n",
       "      <td>0.0</td>\n",
       "      <td>141.0</td>\n",
       "      <td>360.0</td>\n",
       "      <td>1.0</td>\n",
       "      <td>Urban</td>\n",
       "      <td>Y</td>\n",
       "    </tr>\n",
       "  </tbody>\n",
       "</table>\n",
       "</div>"
      ],
      "text/plain": [
       "    Loan_ID Gender Married Dependents     Education Self_Employed  \\\n",
       "0  LP001002   Male      No          0      Graduate            No   \n",
       "1  LP001003   Male     Yes          1      Graduate            No   \n",
       "2  LP001005   Male     Yes          0      Graduate           Yes   \n",
       "3  LP001006   Male     Yes          0  Not Graduate            No   \n",
       "4  LP001008   Male      No          0      Graduate            No   \n",
       "\n",
       "   ApplicantIncome  CoapplicantIncome  LoanAmount  Loan_Amount_Term  \\\n",
       "0             5849                0.0         NaN             360.0   \n",
       "1             4583             1508.0       128.0             360.0   \n",
       "2             3000                0.0        66.0             360.0   \n",
       "3             2583             2358.0       120.0             360.0   \n",
       "4             6000                0.0       141.0             360.0   \n",
       "\n",
       "   Credit_History Property_Area Loan_Status  \n",
       "0             1.0         Urban           Y  \n",
       "1             1.0         Rural           N  \n",
       "2             1.0         Urban           Y  \n",
       "3             1.0         Urban           Y  \n",
       "4             1.0         Urban           Y  "
      ]
     },
     "execution_count": 176,
     "metadata": {},
     "output_type": "execute_result"
    }
   ],
   "source": [
    "# It's a small dataset, but > the threshold of 500 observations.\n",
    "\n",
    "train = pd.read_csv('../data/class-project/LoanApproval/train_data.csv')\n",
    "\n",
    "print(train.shape)\n",
    "train.head()"
   ]
  },
  {
   "cell_type": "code",
   "execution_count": 177,
   "metadata": {},
   "outputs": [
    {
     "data": {
      "text/plain": [
       "Y    0.687296\n",
       "N    0.312704\n",
       "Name: Loan_Status, dtype: float64"
      ]
     },
     "execution_count": 177,
     "metadata": {},
     "output_type": "execute_result"
    }
   ],
   "source": [
    "# The target vector is 'Loan_Status'\n",
    "\n",
    "# The classes of the Target Vector are moderately imbalanced towards approval, but < 70%, we \n",
    "# can still look at model accuracy for scoring. \n",
    "# You have a 68.73% chance of being correct if you always decide that the loan was approved.\n",
    "\n",
    "train['Loan_Status'].value_counts(normalize=True)"
   ]
  },
  {
   "cell_type": "code",
   "execution_count": 9,
   "metadata": {},
   "outputs": [
    {
     "name": "stdout",
     "output_type": "stream",
     "text": [
      "<class 'pandas.core.frame.DataFrame'>\n",
      "RangeIndex: 614 entries, 0 to 613\n",
      "Data columns (total 13 columns):\n",
      " #   Column             Non-Null Count  Dtype  \n",
      "---  ------             --------------  -----  \n",
      " 0   Loan_ID            614 non-null    object \n",
      " 1   Gender             601 non-null    object \n",
      " 2   Married            611 non-null    object \n",
      " 3   Dependents         599 non-null    object \n",
      " 4   Education          614 non-null    object \n",
      " 5   Self_Employed      582 non-null    object \n",
      " 6   ApplicantIncome    614 non-null    int64  \n",
      " 7   CoapplicantIncome  614 non-null    float64\n",
      " 8   LoanAmount         592 non-null    float64\n",
      " 9   Loan_Amount_Term   600 non-null    float64\n",
      " 10  Credit_History     564 non-null    float64\n",
      " 11  Property_Area      614 non-null    object \n",
      " 12  Loan_Status        614 non-null    object \n",
      "dtypes: float64(4), int64(1), object(8)\n",
      "memory usage: 62.5+ KB\n"
     ]
    }
   ],
   "source": [
    "# There are a lot of categorical variables; there are NaN values in the dataset. \n",
    "\n",
    "train.info()"
   ]
  },
  {
   "cell_type": "code",
   "execution_count": 11,
   "metadata": {},
   "outputs": [
    {
     "name": "stdout",
     "output_type": "stream",
     "text": [
      "Loan_ID 614\n",
      "Gender 2\n",
      "Married 2\n",
      "Dependents 4\n",
      "Education 2\n",
      "Self_Employed 2\n",
      "ApplicantIncome 505\n",
      "CoapplicantIncome 287\n",
      "LoanAmount 203\n",
      "Loan_Amount_Term 10\n",
      "Credit_History 2\n",
      "Property_Area 3\n",
      "Loan_Status 2\n"
     ]
    }
   ],
   "source": [
    "# Examine the number of unique entries for variables.\n",
    "\n",
    "for col in list(train.columns):\n",
    "    print(col, train[col].nunique())"
   ]
  },
  {
   "cell_type": "code",
   "execution_count": 12,
   "metadata": {},
   "outputs": [
    {
     "name": "stdout",
     "output_type": "stream",
     "text": [
      "['0' '1' '2' '3+' nan]\n"
     ]
    }
   ],
   "source": [
    "# Examine 'Dependents' feature\n",
    "\n",
    "print(train['Dependents'].unique())"
   ]
  },
  {
   "cell_type": "code",
   "execution_count": 100,
   "metadata": {},
   "outputs": [
    {
     "name": "stdout",
     "output_type": "stream",
     "text": [
      "Semiurban    233\n",
      "Urban        202\n",
      "Rural        179\n",
      "Name: Property_Area, dtype: int64\n"
     ]
    }
   ],
   "source": [
    "# Examine 'Property_Area' feature\n",
    "# No missing values, implies either all loans are home/property purchases, or is\n",
    "# indicating where loan applicant resides. \n",
    "\n",
    "print(train['Property_Area'].value_counts())"
   ]
  },
  {
   "cell_type": "code",
   "execution_count": 199,
   "metadata": {},
   "outputs": [
    {
     "data": {
      "image/png": "[encoded data removed]",
      "text/plain": [
       "<Figure size 432x288 with 1 Axes>"
      ]
     },
     "metadata": {
      "needs_background": "light"
     },
     "output_type": "display_data"
    },
    {
     "name": "stdout",
     "output_type": "stream",
     "text": [
      "       ApplicantIncome  CoapplicantIncome  LoanAmount  Loan_Amount_Term  \\\n",
      "count       614.000000         614.000000  592.000000         600.00000   \n",
      "mean       5403.459283        1621.245798  146.412162         342.00000   \n",
      "std        6109.041673        2926.248369   85.587325          65.12041   \n",
      "min         150.000000           0.000000    9.000000          12.00000   \n",
      "25%        2877.500000           0.000000  100.000000         360.00000   \n",
      "50%        3812.500000        1188.500000  128.000000         360.00000   \n",
      "75%        5795.000000        2297.250000  168.000000         360.00000   \n",
      "max       81000.000000       41667.000000  700.000000         480.00000   \n",
      "\n",
      "       Credit_History  income_adj  \n",
      "count      564.000000  614.000000  \n",
      "mean         0.842199   54.034593  \n",
      "std          0.364878   61.090417  \n",
      "min          0.000000    1.500000  \n",
      "25%          1.000000   28.775000  \n",
      "50%          1.000000   38.125000  \n",
      "75%          1.000000   57.950000  \n",
      "max          1.000000  810.000000  \n"
     ]
    }
   ],
   "source": [
    "# Complete histogram plots of the continuous variables,\n",
    "# and explore their distributions.\n",
    "\n",
    "# Applicant Income\n",
    "train['ApplicantIncome'].plot(kind='hist', bins=100)\n",
    "\n",
    "plt.xlabel('Applicant Income')\n",
    "plt.ylabel('Frequency')\n",
    "plt.show();\n",
    "\n",
    "print(train.describe())\n",
    "\n",
    "# Possible outliers present.\n",
    "# Also 'Applicant_Income' and 'Coapplicant_Income' may need to be addressed (scaled).  \n",
    "# Information from dataset authorindicates 'LoanAmount' is in thousands.  This would \n",
    "# mean the min amount requested was $9,000, and the max loan request was $700,000.\n",
    "# If the same scale is used for 'ApplicantIncome' it would indicate a low of\n",
    "# $150,000, and a high of $81 million - a highly unlikely spread.  It would also\n",
    "# imply a max 'CoapplicantIncome' of > $41 million!"
   ]
  },
  {
   "cell_type": "code",
   "execution_count": 186,
   "metadata": {},
   "outputs": [
    {
     "data": {
      "text/plain": [
       "count    614.000000\n",
       "mean      54.034593\n",
       "std       61.090417\n",
       "min        1.500000\n",
       "25%       28.775000\n",
       "50%       38.125000\n",
       "75%       57.950000\n",
       "max      810.000000\n",
       "Name: income_adj, dtype: float64"
      ]
     },
     "execution_count": 186,
     "metadata": {},
     "output_type": "execute_result"
    }
   ],
   "source": [
    "train['income_adj'] = train['ApplicantIncome'] / 100\n",
    "\n",
    "train['income_adj'].describe()"
   ]
  },
  {
   "cell_type": "code",
   "execution_count": 91,
   "metadata": {},
   "outputs": [
    {
     "data": {
      "image/png": "[encoded data removed]",
      "text/plain": [
       "<Figure size 432x288 with 1 Axes>"
      ]
     },
     "metadata": {
      "needs_background": "light"
     },
     "output_type": "display_data"
    },
    {
     "name": "stdout",
     "output_type": "stream",
     "text": [
      "       ApplicantIncome  CoapplicantIncome  LoanAmount  Loan_Amount_Term  \\\n",
      "count       605.000000         605.000000  583.000000        591.000000   \n",
      "mean       4906.877686        1512.712264  143.317324        342.741117   \n",
      "std        3472.102471        2064.711468   78.533250         64.541662   \n",
      "min         150.000000           0.000000    9.000000         12.000000   \n",
      "25%        2876.000000           0.000000  100.000000        360.000000   \n",
      "50%        3775.000000        1213.000000  127.000000        360.000000   \n",
      "75%        5708.000000        2283.000000  165.000000        360.000000   \n",
      "max       23803.000000       20000.000000  650.000000        480.000000   \n",
      "\n",
      "       Credit_History  \n",
      "count      556.000000  \n",
      "mean         0.843525  \n",
      "std          0.363632  \n",
      "min          0.000000  \n",
      "25%          1.000000  \n",
      "50%          1.000000  \n",
      "75%          1.000000  \n",
      "max          1.000000  \n"
     ]
    }
   ],
   "source": [
    "# Explore removing outliers from 'ApplicantIncome' and 'CoapplicantIncome' are > $250,000.\n",
    "\n",
    "explore = train[ (train['ApplicantIncome'] < 25_000) &\n",
    "                 (train['CoapplicantIncome'] < 25_000)]\n",
    "\n",
    "explore[['ApplicantIncome']].plot(kind='hist', bins=50)\n",
    "plt.xlabel('Applicant Income')\n",
    "plt.ylabel('Frequency')\n",
    "plt.show();\n",
    "\n",
    "print(explore.describe())\n",
    "\n",
    "# Loss of 9 observations."
   ]
  },
  {
   "cell_type": "code",
   "execution_count": 94,
   "metadata": {},
   "outputs": [
    {
     "data": {
      "image/png": "[encoded data removed]",
      "text/plain": [
       "<Figure size 432x288 with 1 Axes>"
      ]
     },
     "metadata": {
      "needs_background": "light"
     },
     "output_type": "display_data"
    }
   ],
   "source": [
    "# Coapplicant Income\n",
    "\n",
    "train['CoapplicantIncome'].plot(kind='hist', bins=100)\n",
    "\n",
    "plt.xlabel('Coapplicant Income')\n",
    "plt.ylabel('Frequency')\n",
    "plt.show();\n",
    "\n",
    "# Appears to have potential outliers on the high end of income.\n",
    "# Zero income is not out-of-the-ordinary; there are many single income households."
   ]
  },
  {
   "cell_type": "code",
   "execution_count": 95,
   "metadata": {},
   "outputs": [
    {
     "data": {
      "image/png": "[encoded data removed]",
      "text/plain": [
       "<Figure size 432x288 with 1 Axes>"
      ]
     },
     "metadata": {
      "needs_background": "light"
     },
     "output_type": "display_data"
    }
   ],
   "source": [
    "# Coapplicant Income, explore\n",
    "\n",
    "explore['CoapplicantIncome'].plot(kind='hist', bins=100)\n",
    "\n",
    "plt.xlabel('Coapplicant Income')\n",
    "plt.ylabel('Frequency')\n",
    "plt.show();"
   ]
  },
  {
   "cell_type": "code",
   "execution_count": 96,
   "metadata": {},
   "outputs": [
    {
     "data": {
      "image/png": "[encoded data removed]",
      "text/plain": [
       "<Figure size 432x288 with 1 Axes>"
      ]
     },
     "metadata": {
      "needs_background": "light"
     },
     "output_type": "display_data"
    }
   ],
   "source": [
    "# Loan Amount\n",
    "\n",
    "train['LoanAmount'].plot(kind='hist', bins=100)\n",
    "\n",
    "plt.xlabel('LoanAmount')\n",
    "plt.ylabel('Frequency')\n",
    "plt.show();"
   ]
  },
  {
   "cell_type": "code",
   "execution_count": 97,
   "metadata": {},
   "outputs": [
    {
     "data": {
      "image/png": "[encoded data removed]",
      "text/plain": [
       "<Figure size 432x288 with 1 Axes>"
      ]
     },
     "metadata": {
      "needs_background": "light"
     },
     "output_type": "display_data"
    }
   ],
   "source": [
    "# Loan Amount, explore\n",
    "\n",
    "explore['LoanAmount'].plot(kind='hist', bins=100)\n",
    "\n",
    "plt.xlabel('Loan Amount')\n",
    "plt.ylabel('Frequency')\n",
    "plt.show();"
   ]
  },
  {
   "cell_type": "code",
   "execution_count": 99,
   "metadata": {
    "scrolled": true
   },
   "outputs": [
    {
     "data": {
      "image/png": "[encoded data removed]",
      "text/plain": [
       "<Figure size 432x288 with 1 Axes>"
      ]
     },
     "metadata": {
      "needs_background": "light"
     },
     "output_type": "display_data"
    }
   ],
   "source": [
    "# Examine 'Loan_Amount_Term', listed as a float, really a categorical variable, 10 categories.\n",
    "\n",
    "train['Loan_Amount_Term'].value_counts().plot(kind='bar')\n",
    "\n",
    "plt.xlabel('Loan Term (months)')\n",
    "plt.ylabel('Frequency')\n",
    "plt.show();\n",
    "\n",
    "# Primarily 30-year notes, likely mortgages. terms of 12-months might indicate a personal loan, \n",
    "# 3-year and 5-year durations are more typical with auto-lending.  What's odd, however, is that \n",
    "# every observation (all 614) have an input value for 'Property_Area' (urban, semi-urban, rural).\n",
    "# Further clarification of the data would have been preferred. "
   ]
  },
  {
   "cell_type": "code",
   "execution_count": 103,
   "metadata": {},
   "outputs": [
    {
     "data": {
      "image/png": "[encoded data removed]",
      "text/plain": [
       "<Figure size 540x540 with 12 Axes>"
      ]
     },
     "metadata": {
      "needs_background": "light"
     },
     "output_type": "display_data"
    }
   ],
   "source": [
    "# Examine for correlation among continuous variables; possible outliers noted.\n",
    "\n",
    "sns.pairplot(train[['ApplicantIncome', 'CoapplicantIncome', 'LoanAmount']])\n",
    "plt.show()"
   ]
  },
  {
   "cell_type": "markdown",
   "metadata": {},
   "source": [
    "## Summary of Initial EDA"
   ]
  },
  {
   "cell_type": "code",
   "execution_count": null,
   "metadata": {},
   "outputs": [],
   "source": [
    "# 'Loan_ID', high cardinality column, variable is a unique identifier and will be dropped.\n",
    "# 'Gender', binary categorical variable, assignment == Male/Female, NaN objects hold no meaning.\n",
    "# 'Married', binary categorical feature, assignment == Y/N, NaN objects hold no meaning.\n",
    "# 'Dependents', categorical feature, assignment == 0/1/2/3+, NaN objects hold no meaning.\n",
    "# 'Education', binary categorical feature, assignement == Graduate/Not Graduate, no NaN objects.\n",
    "# 'Self-Employed', binary categorical feature, assignment = Y/N, NaN objects hold no meaning.\n",
    "# 'ApplicantIncome', continuous numeric feature, possible outliers, NaN values without meaning.\n",
    "# 'CoapplicantIncome', continuous numeric feature, possible outliers, NaN values without meaning.\n",
    "# 'LoanAmount', continuous numeric feature, possible outliers, NaN values without meaning.\n",
    "# 'Loan_Amount_Term', categorical variable, cardinality == 10, NaN values without meaning.\n",
    "# 'Credit_History', binary categorical variable, assignment == 1/0, NaN values without meaning. \n",
    "# 'Proprty_Area', categorical variable, cardinality == 3, no NaN values. "
   ]
  },
  {
   "cell_type": "markdown",
   "metadata": {},
   "source": [
    "# II. Wrangle Data"
   ]
  },
  {
   "cell_type": "code",
   "execution_count": 472,
   "metadata": {},
   "outputs": [],
   "source": [
    "# Write wrangle function\n",
    "\n",
    "def wrangle(filepath):\n",
    "\n",
    "    # Read in the data\n",
    "    df = pd.read_csv('../data/class-project/LoanApproval/' + filepath)\n",
    "    \n",
    "    # Drop high-cardinality identifier column, 'Loan_ID'\n",
    "    df.drop(columns='Loan_ID', inplace=True)\n",
    "    \n",
    "    # Cleanup column names\n",
    "    df.columns = [col.lower() for col in df.columns]       \n",
    "    df = df.rename(columns=\n",
    "        {'applicantincome': 'applicant_income',\n",
    "         'coapplicantincome': 'coapplicant_income',\n",
    "         'loanamount': 'loan_amount'})\n",
    "    \n",
    "    # Fill NaN values with the mode of the feature it resides in ('most_frequent'); exception, 'loan_amount'\n",
    "    mode_cols = ['gender', 'married', 'dependents', 'self_employed', 'loan_amount_term', 'credit_history']\n",
    "    for col in mode_cols:\n",
    "        df[col].fillna(value=df[col].mode()[0], inplace=True)\n",
    "    \n",
    "    # Drop remaining NaN values, all in 'loan_amount' column; difficult to predict without this information. \n",
    "    df.dropna(inplace=True)\n",
    "    \n",
    "    # Scale 'applicant_income' and 'coapplicant_income' to thousands\n",
    "    df['applicant_income'] = df['applicant_income'] / 100\n",
    "    df['coapplicant_income'] = df['coapplicant_income'] / 100\n",
    "       \n",
    "    # Convert 'credit_history' to binary categorical from float \n",
    "    df['credit_history'].replace(to_replace={1.0: '1', 0.0: '0'}, \n",
    "                                 inplace=True)\n",
    "    \n",
    "    # Convert 'loan_amount_term' to categorical variable (object) from float\n",
    "    df['loan_amount_term'] = df['loan_amount_term'].astype(int).astype(str) \n",
    "\n",
    "    # Clean 'dependents' feature\n",
    "    df['dependents'] = df['dependents'].str.strip('+')\n",
    "\n",
    "    # Convert target, 'LoanStatus' to binary numeric values\n",
    "    df['loan_status'].replace(to_replace={'Y': 1, 'N':0}, inplace=True) \n",
    "  \n",
    "    # Creat 'loan_to_income' feature\n",
    "    df['loan_to_income'] = df['loan_amount'] / (df['applicant_income'] + df['coapplicant_income'])\n",
    "\n",
    "    return df\n",
    "\n",
    "train_path = 'train_data.csv'\n",
    "train= wrangle(train_path)"
   ]
  },
  {
   "cell_type": "code",
   "execution_count": 473,
   "metadata": {},
   "outputs": [
    {
     "name": "stdout",
     "output_type": "stream",
     "text": [
      "(592, 13)\n"
     ]
    },
    {
     "data": {
      "text/html": [
       "<div>\n",
       "<style scoped>\n",
       "    .dataframe tbody tr th:only-of-type {\n",
       "        vertical-align: middle;\n",
       "    }\n",
       "\n",
       "    .dataframe tbody tr th {\n",
       "        vertical-align: top;\n",
       "    }\n",
       "\n",
       "    .dataframe thead th {\n",
       "        text-align: right;\n",
       "    }\n",
       "</style>\n",
       "<table border=\"1\" class=\"dataframe\">\n",
       "  <thead>\n",
       "    <tr style=\"text-align: right;\">\n",
       "      <th></th>\n",
       "      <th>gender</th>\n",
       "      <th>married</th>\n",
       "      <th>dependents</th>\n",
       "      <th>education</th>\n",
       "      <th>self_employed</th>\n",
       "      <th>applicant_income</th>\n",
       "      <th>coapplicant_income</th>\n",
       "      <th>loan_amount</th>\n",
       "      <th>loan_amount_term</th>\n",
       "      <th>credit_history</th>\n",
       "      <th>property_area</th>\n",
       "      <th>loan_status</th>\n",
       "      <th>loan_to_income</th>\n",
       "    </tr>\n",
       "  </thead>\n",
       "  <tbody>\n",
       "    <tr>\n",
       "      <th>1</th>\n",
       "      <td>Male</td>\n",
       "      <td>Yes</td>\n",
       "      <td>1</td>\n",
       "      <td>Graduate</td>\n",
       "      <td>No</td>\n",
       "      <td>45.83</td>\n",
       "      <td>15.08</td>\n",
       "      <td>128.0</td>\n",
       "      <td>360</td>\n",
       "      <td>1</td>\n",
       "      <td>Rural</td>\n",
       "      <td>0</td>\n",
       "      <td>2.101461</td>\n",
       "    </tr>\n",
       "    <tr>\n",
       "      <th>2</th>\n",
       "      <td>Male</td>\n",
       "      <td>Yes</td>\n",
       "      <td>0</td>\n",
       "      <td>Graduate</td>\n",
       "      <td>Yes</td>\n",
       "      <td>30.00</td>\n",
       "      <td>0.00</td>\n",
       "      <td>66.0</td>\n",
       "      <td>360</td>\n",
       "      <td>1</td>\n",
       "      <td>Urban</td>\n",
       "      <td>1</td>\n",
       "      <td>2.200000</td>\n",
       "    </tr>\n",
       "    <tr>\n",
       "      <th>3</th>\n",
       "      <td>Male</td>\n",
       "      <td>Yes</td>\n",
       "      <td>0</td>\n",
       "      <td>Not Graduate</td>\n",
       "      <td>No</td>\n",
       "      <td>25.83</td>\n",
       "      <td>23.58</td>\n",
       "      <td>120.0</td>\n",
       "      <td>360</td>\n",
       "      <td>1</td>\n",
       "      <td>Urban</td>\n",
       "      <td>1</td>\n",
       "      <td>2.428658</td>\n",
       "    </tr>\n",
       "    <tr>\n",
       "      <th>4</th>\n",
       "      <td>Male</td>\n",
       "      <td>No</td>\n",
       "      <td>0</td>\n",
       "      <td>Graduate</td>\n",
       "      <td>No</td>\n",
       "      <td>60.00</td>\n",
       "      <td>0.00</td>\n",
       "      <td>141.0</td>\n",
       "      <td>360</td>\n",
       "      <td>1</td>\n",
       "      <td>Urban</td>\n",
       "      <td>1</td>\n",
       "      <td>2.350000</td>\n",
       "    </tr>\n",
       "    <tr>\n",
       "      <th>5</th>\n",
       "      <td>Male</td>\n",
       "      <td>Yes</td>\n",
       "      <td>2</td>\n",
       "      <td>Graduate</td>\n",
       "      <td>Yes</td>\n",
       "      <td>54.17</td>\n",
       "      <td>41.96</td>\n",
       "      <td>267.0</td>\n",
       "      <td>360</td>\n",
       "      <td>1</td>\n",
       "      <td>Urban</td>\n",
       "      <td>1</td>\n",
       "      <td>2.777489</td>\n",
       "    </tr>\n",
       "  </tbody>\n",
       "</table>\n",
       "</div>"
      ],
      "text/plain": [
       "  gender married dependents     education self_employed  applicant_income  \\\n",
       "1   Male     Yes          1      Graduate            No             45.83   \n",
       "2   Male     Yes          0      Graduate           Yes             30.00   \n",
       "3   Male     Yes          0  Not Graduate            No             25.83   \n",
       "4   Male      No          0      Graduate            No             60.00   \n",
       "5   Male     Yes          2      Graduate           Yes             54.17   \n",
       "\n",
       "   coapplicant_income  loan_amount loan_amount_term credit_history  \\\n",
       "1               15.08        128.0              360              1   \n",
       "2                0.00         66.0              360              1   \n",
       "3               23.58        120.0              360              1   \n",
       "4                0.00        141.0              360              1   \n",
       "5               41.96        267.0              360              1   \n",
       "\n",
       "  property_area  loan_status  loan_to_income  \n",
       "1         Rural            0        2.101461  \n",
       "2         Urban            1        2.200000  \n",
       "3         Urban            1        2.428658  \n",
       "4         Urban            1        2.350000  \n",
       "5         Urban            1        2.777489  "
      ]
     },
     "execution_count": 473,
     "metadata": {},
     "output_type": "execute_result"
    }
   ],
   "source": [
    "print(train.shape)\n",
    "train.head()"
   ]
  },
  {
   "cell_type": "code",
   "execution_count": 474,
   "metadata": {},
   "outputs": [
    {
     "name": "stdout",
     "output_type": "stream",
     "text": [
      "<class 'pandas.core.frame.DataFrame'>\n",
      "Int64Index: 592 entries, 1 to 613\n",
      "Data columns (total 13 columns):\n",
      " #   Column              Non-Null Count  Dtype  \n",
      "---  ------              --------------  -----  \n",
      " 0   gender              592 non-null    object \n",
      " 1   married             592 non-null    object \n",
      " 2   dependents          592 non-null    object \n",
      " 3   education           592 non-null    object \n",
      " 4   self_employed       592 non-null    object \n",
      " 5   applicant_income    592 non-null    float64\n",
      " 6   coapplicant_income  592 non-null    float64\n",
      " 7   loan_amount         592 non-null    float64\n",
      " 8   loan_amount_term    592 non-null    object \n",
      " 9   credit_history      592 non-null    object \n",
      " 10  property_area       592 non-null    object \n",
      " 11  loan_status         592 non-null    int64  \n",
      " 12  loan_to_income      592 non-null    float64\n",
      "dtypes: float64(4), int64(1), object(8)\n",
      "memory usage: 64.8+ KB\n"
     ]
    }
   ],
   "source": [
    "train.info()"
   ]
  },
  {
   "cell_type": "code",
   "execution_count": 476,
   "metadata": {},
   "outputs": [
    {
     "data": {
      "text/html": [
       "<div>\n",
       "<style scoped>\n",
       "    .dataframe tbody tr th:only-of-type {\n",
       "        vertical-align: middle;\n",
       "    }\n",
       "\n",
       "    .dataframe tbody tr th {\n",
       "        vertical-align: top;\n",
       "    }\n",
       "\n",
       "    .dataframe thead th {\n",
       "        text-align: right;\n",
       "    }\n",
       "</style>\n",
       "<table border=\"1\" class=\"dataframe\">\n",
       "  <thead>\n",
       "    <tr style=\"text-align: right;\">\n",
       "      <th></th>\n",
       "      <th>applicant_income</th>\n",
       "      <th>coapplicant_income</th>\n",
       "      <th>loan_amount</th>\n",
       "      <th>loan_status</th>\n",
       "      <th>loan_to_income</th>\n",
       "    </tr>\n",
       "  </thead>\n",
       "  <tbody>\n",
       "    <tr>\n",
       "      <th>count</th>\n",
       "      <td>592.000000</td>\n",
       "      <td>592.000000</td>\n",
       "      <td>592.000000</td>\n",
       "      <td>592.000000</td>\n",
       "      <td>592.000000</td>\n",
       "    </tr>\n",
       "    <tr>\n",
       "      <th>mean</th>\n",
       "      <td>54.043041</td>\n",
       "      <td>16.426333</td>\n",
       "      <td>146.412162</td>\n",
       "      <td>0.694257</td>\n",
       "      <td>2.375569</td>\n",
       "    </tr>\n",
       "    <tr>\n",
       "      <th>std</th>\n",
       "      <td>61.640730</td>\n",
       "      <td>29.677175</td>\n",
       "      <td>85.587325</td>\n",
       "      <td>0.461111</td>\n",
       "      <td>0.829519</td>\n",
       "    </tr>\n",
       "    <tr>\n",
       "      <th>min</th>\n",
       "      <td>1.500000</td>\n",
       "      <td>0.000000</td>\n",
       "      <td>9.000000</td>\n",
       "      <td>0.000000</td>\n",
       "      <td>0.252292</td>\n",
       "    </tr>\n",
       "    <tr>\n",
       "      <th>25%</th>\n",
       "      <td>28.872500</td>\n",
       "      <td>0.000000</td>\n",
       "      <td>100.000000</td>\n",
       "      <td>0.000000</td>\n",
       "      <td>1.931344</td>\n",
       "    </tr>\n",
       "    <tr>\n",
       "      <th>50%</th>\n",
       "      <td>38.060000</td>\n",
       "      <td>12.210000</td>\n",
       "      <td>128.000000</td>\n",
       "      <td>1.000000</td>\n",
       "      <td>2.413912</td>\n",
       "    </tr>\n",
       "    <tr>\n",
       "      <th>75%</th>\n",
       "      <td>57.545000</td>\n",
       "      <td>23.120000</td>\n",
       "      <td>168.000000</td>\n",
       "      <td>1.000000</td>\n",
       "      <td>2.814862</td>\n",
       "    </tr>\n",
       "    <tr>\n",
       "      <th>max</th>\n",
       "      <td>810.000000</td>\n",
       "      <td>416.670000</td>\n",
       "      <td>700.000000</td>\n",
       "      <td>1.000000</td>\n",
       "      <td>8.271164</td>\n",
       "    </tr>\n",
       "  </tbody>\n",
       "</table>\n",
       "</div>"
      ],
      "text/plain": [
       "       applicant_income  coapplicant_income  loan_amount  loan_status  \\\n",
       "count        592.000000          592.000000   592.000000   592.000000   \n",
       "mean          54.043041           16.426333   146.412162     0.694257   \n",
       "std           61.640730           29.677175    85.587325     0.461111   \n",
       "min            1.500000            0.000000     9.000000     0.000000   \n",
       "25%           28.872500            0.000000   100.000000     0.000000   \n",
       "50%           38.060000           12.210000   128.000000     1.000000   \n",
       "75%           57.545000           23.120000   168.000000     1.000000   \n",
       "max          810.000000          416.670000   700.000000     1.000000   \n",
       "\n",
       "       loan_to_income  \n",
       "count      592.000000  \n",
       "mean         2.375569  \n",
       "std          0.829519  \n",
       "min          0.252292  \n",
       "25%          1.931344  \n",
       "50%          2.413912  \n",
       "75%          2.814862  \n",
       "max          8.271164  "
      ]
     },
     "execution_count": 476,
     "metadata": {},
     "output_type": "execute_result"
    }
   ],
   "source": [
    "train.describe()"
   ]
  },
  {
   "cell_type": "markdown",
   "metadata": {},
   "source": [
    "# III. Split the Data"
   ]
  },
  {
   "cell_type": "code",
   "execution_count": 477,
   "metadata": {},
   "outputs": [],
   "source": [
    "# Create Feature Matrix and Target Array\n",
    "\n",
    "target = 'loan_status'\n",
    "\n",
    "y = train[target]\n",
    "X = train.drop(columns=target)"
   ]
  },
  {
   "cell_type": "code",
   "execution_count": 478,
   "metadata": {},
   "outputs": [],
   "source": [
    "# Split the data\n",
    "# Will use a random split; there is no datetime information included in this dataset.\n",
    "\n",
    "X_train, X_val, y_train, y_val = train_test_split(X, y, test_size=0.2, random_state=42)"
   ]
  },
  {
   "cell_type": "markdown",
   "metadata": {},
   "source": [
    "# IV. Establish a Baseline"
   ]
  },
  {
   "cell_type": "code",
   "execution_count": 479,
   "metadata": {},
   "outputs": [
    {
     "name": "stdout",
     "output_type": "stream",
     "text": [
      "Baseline Accuracy for predicting Loan Approval: 69.43%\n"
     ]
    }
   ],
   "source": [
    "# The target vector is 'Loan_Status'\n",
    "# The classes of the TV are moderately imbalanced towards approval, but < 70%, so we can still look at \n",
    "# model accuracy for scoring. \n",
    "\n",
    "# You have a 69.43% chance of being correct if you always decide that the loan was approved.\n",
    "print('Baseline Accuracy for predicting Loan Approval: {:.2f}%'.format\n",
    "      (y.value_counts(normalize=True).max()*100))\n"
   ]
  },
  {
   "cell_type": "markdown",
   "metadata": {},
   "source": [
    "# V. Build Models\n",
    "\n",
    "- `LogisticRegression`\n",
    "    \n",
    "    - `OneHotEncoder`\n",
    "    - `StandardScaler`\n",
    " \n",
    "- `RandomForrestClassifier`\n",
    "\n",
    "    - `OrdinalEncoder`"
   ]
  },
  {
   "cell_type": "code",
   "execution_count": 481,
   "metadata": {},
   "outputs": [
    {
     "name": "stderr",
     "output_type": "stream",
     "text": [
      "/Users/frankhowd/.local/share/virtualenvs/DS-Unit-2-Applied-Modeling-YelssOLa/lib/python3.8/site-packages/category_encoders/utils.py:21: FutureWarning: is_categorical is deprecated and will be removed in a future version.  Use is_categorical_dtype instead\n",
      "  elif pd.api.types.is_categorical(cols):\n"
     ]
    }
   ],
   "source": [
    "# Model 1: Logistic Regression Model\n",
    "\n",
    "model_lr = make_pipeline(\n",
    "    OneHotEncoder(use_cat_names=True),\n",
    "    StandardScaler(),\n",
    "    LogisticRegression()\n",
    ")\n",
    "\n",
    "model_lr.fit(X_train, y_train);"
   ]
  },
  {
   "cell_type": "code",
   "execution_count": 482,
   "metadata": {},
   "outputs": [],
   "source": [
    "# Model 2: Random Forest Classifier Model\n",
    "\n",
    "model_rf = make_pipeline(\n",
    "    OrdinalEncoder(),\n",
    "    RandomForestClassifier(n_jobs=-1, random_state=42)\n",
    ")\n",
    "\n",
    "model_rf.fit(X_train, y_train);"
   ]
  },
  {
   "cell_type": "markdown",
   "metadata": {},
   "source": [
    "# VI. Check Metrics"
   ]
  },
  {
   "cell_type": "code",
   "execution_count": 486,
   "metadata": {},
   "outputs": [
    {
     "name": "stdout",
     "output_type": "stream",
     "text": [
      "Training Accuracy (LOGR): 82.45%\n",
      "Validation Accuracy (LOGR): 78.99%\n"
     ]
    }
   ],
   "source": [
    "# Training and Validation accuracy of our Logistic Regression model\n",
    "\n",
    "print('Training Accuracy (LOGR): {:.2f}%'.format(model_lr.score(X_train, y_train)*100))\n",
    "print('Validation Accuracy (LOGR): {:.2f}%'.format(model_lr.score(X_val, y_val)*100))"
   ]
  },
  {
   "cell_type": "code",
   "execution_count": 490,
   "metadata": {},
   "outputs": [
    {
     "name": "stdout",
     "output_type": "stream",
     "text": [
      "Cross Validation Score (LOGR):\n",
      "0.8210526315789474\n",
      "0.8210526315789474\n",
      "0.8\n",
      "0.7978723404255319\n",
      "0.8085106382978723\n"
     ]
    }
   ],
   "source": [
    "# Cross Validation Score for our Logistic Regression model\n",
    "\n",
    "lr_cvs = cross_val_score(model_lr, X_train, y_train, cv=5, n_jobs=-1)\n",
    "\n",
    "print('Cross Validation Score (LOGR):')\n",
    "for _ in range(5):\n",
    "    print(lr_cvs[_])"
   ]
  },
  {
   "cell_type": "code",
   "execution_count": 484,
   "metadata": {},
   "outputs": [
    {
     "name": "stdout",
     "output_type": "stream",
     "text": [
      "wrangle_I, Training Accuracy(RF): 100.00%\n",
      "wrangle_I, Validation Accuracy (RF): 78.99%\n"
     ]
    }
   ],
   "source": [
    "# Training and Validation accuracy of our Random Forest Classifier model\n",
    "\n",
    "print('Training Accuracy(RF): {:.2f}%'.format(model_rf.score(X_train, y_train)*100))\n",
    "print('Validation Accuracy (RF): {:.2f}%'.format(model_rf.score(X_val, y_val)*100))"
   ]
  },
  {
   "cell_type": "code",
   "execution_count": 491,
   "metadata": {},
   "outputs": [
    {
     "name": "stdout",
     "output_type": "stream",
     "text": [
      "Cross Validation Score (LOGR):\n",
      "0.8526315789473684\n",
      "0.8105263157894737\n",
      "0.7684210526315789\n",
      "0.851063829787234\n",
      "0.8191489361702128\n"
     ]
    }
   ],
   "source": [
    "# Cross Validation Score for our Random Forest Classifier model\n",
    "\n",
    "rf_cvs = cross_val_score(model_rf, X_train, y_train, cv=5, n_jobs=-1)\n",
    "\n",
    "print('Cross Validation Score (LOGR):')\n",
    "for _ in range(5):\n",
    "    print(rf_cvs[_])"
   ]
  },
  {
   "cell_type": "code",
   "execution_count": 485,
   "metadata": {},
   "outputs": [],
   "source": [
    "# Initial performances appear the same on average, howefer, the RF Classifier achieves higher scores\n",
    "# during cross validation testing. "
   ]
  },
  {
   "cell_type": "code",
   "execution_count": null,
   "metadata": {},
   "outputs": [],
   "source": []
  }
 ],
 "metadata": {
  "kernelspec": {
   "display_name": "Python 3",
   "language": "python",
   "name": "python3"
  },
  "language_info": {
   "codemirror_mode": {
    "name": "ipython",
    "version": 3
   },
   "file_extension": ".py",
   "mimetype": "text/x-python",
   "name": "python",
   "nbconvert_exporter": "python",
   "pygments_lexer": "ipython3",
   "version": "3.8.2"
  }
 },
 "nbformat": 4,
 "nbformat_minor": 4
}
