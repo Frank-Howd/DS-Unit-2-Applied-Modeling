{
 "cells": [
  {
   "cell_type": "markdown",
   "metadata": {},
   "source": [
    "# Loan Approval Prediction, a classification problem"
   ]
  },
  {
   "cell_type": "markdown",
   "metadata": {},
   "source": [
    "### How accurate will we be predicting determinations for loan approval requests?"
   ]
  },
  {
   "cell_type": "code",
   "execution_count": null,
   "metadata": {},
   "outputs": [],
   "source": [
    "# Dataset location - https://www.kaggle.com/shaijudatascience/loan-prediction-practice-av-competition"
   ]
  },
  {
   "cell_type": "code",
   "execution_count": 5,
   "metadata": {},
   "outputs": [
    {
     "data": {
      "image/png": "[encoded data removed]",
      "text/plain": [
       "<IPython.core.display.Image object>"
      ]
     },
     "execution_count": 5,
     "metadata": {},
     "output_type": "execute_result"
    }
   ],
   "source": [
    "from IPython.display import Image\n",
    "\n",
    "Image(filename='../images/loan_variables.png')"
   ]
  },
  {
   "cell_type": "code",
   "execution_count": null,
   "metadata": {},
   "outputs": [],
   "source": [
    "# There are 13 variables in the dataset.\n",
    "# 'Loan_Status' is our target; we are attempting to predict loan approvals.\n",
    "# To address any potential for data leakage, we will refrain from creating \n",
    "# any new features using the target, we won't perform any fitting using our \n",
    "# validation sets, and we will watch for any significant declines in our \n",
    "# models' performance when scoring our validation sets. "
   ]
  },
  {
   "cell_type": "markdown",
   "metadata": {},
   "source": [
    "# Notebook Index\n",
    "\n",
    "- `Part I, Imports & EDA`\n",
    " \n",
    "- `Part II, Wrangle Data`\n",
    "  \n",
    "- `Part III, Split the Data`\n",
    "    \n",
    "- `Part IV, Establish a Baseline`\n",
    "\n",
    "- `Part V, Build Models`\n",
    "    `-`\n",
    "   - `LogisticRegression`\n",
    "   - `RandomForestClassifier` \n",
    "   - `XGBoostClassifier`\n",
    "\n",
    "- `Part VI, Check Metrics`\n",
    "    `-`\n",
    "   - `Models, Scores`\n",
    "   - `Cross Validation Scores`\n",
    "   - `Confusion Matrices/Precision & Recall`\n",
    "   - `ROC Curve`\n",
    "\n",
    "- `Part VII, Tune Models & Recheck Metrics`"
   ]
  },
  {
   "cell_type": "markdown",
   "metadata": {},
   "source": [
    "# I. Imports & EDA "
   ]
  },
  {
   "cell_type": "code",
   "execution_count": 524,
   "metadata": {},
   "outputs": [],
   "source": [
    "# Import packages and package classes\n",
    "\n",
    "import matplotlib.pyplot as plt\n",
    "import numpy as np\n",
    "import pandas as pd\n",
    "import seaborn as sns\n",
    "\n",
    "from category_encoders import OneHotEncoder, OrdinalEncoder\n",
    "from sklearn.ensemble import RandomForestClassifier\n",
    "from sklearn.impute import SimpleImputer\n",
    "from sklearn.inspection import permutation_importance\n",
    "from sklearn.linear_model import LogisticRegression\n",
    "from sklearn.metrics import classification_report, plot_roc_curve, roc_auc_score, plot_confusion_matrix\n",
    "from sklearn.model_selection import cross_val_score, train_test_split, RandomizedSearchCV\n",
    "from sklearn.pipeline import make_pipeline\n",
    "from sklearn.preprocessing import StandardScaler\n",
    "from xgboost import XGBClassifier"
   ]
  },
  {
   "cell_type": "code",
   "execution_count": 176,
   "metadata": {},
   "outputs": [
    {
     "name": "stdout",
     "output_type": "stream",
     "text": [
      "(614, 13)\n"
     ]
    },
    {
     "data": {
      "text/html": [
       "<div>\n",
       "<style scoped>\n",
       "    .dataframe tbody tr th:only-of-type {\n",
       "        vertical-align: middle;\n",
       "    }\n",
       "\n",
       "    .dataframe tbody tr th {\n",
       "        vertical-align: top;\n",
       "    }\n",
       "\n",
       "    .dataframe thead th {\n",
       "        text-align: right;\n",
       "    }\n",
       "</style>\n",
       "<table border=\"1\" class=\"dataframe\">\n",
       "  <thead>\n",
       "    <tr style=\"text-align: right;\">\n",
       "      <th></th>\n",
       "      <th>Loan_ID</th>\n",
       "      <th>Gender</th>\n",
       "      <th>Married</th>\n",
       "      <th>Dependents</th>\n",
       "      <th>Education</th>\n",
       "      <th>Self_Employed</th>\n",
       "      <th>ApplicantIncome</th>\n",
       "      <th>CoapplicantIncome</th>\n",
       "      <th>LoanAmount</th>\n",
       "      <th>Loan_Amount_Term</th>\n",
       "      <th>Credit_History</th>\n",
       "      <th>Property_Area</th>\n",
       "      <th>Loan_Status</th>\n",
       "    </tr>\n",
       "  </thead>\n",
       "  <tbody>\n",
       "    <tr>\n",
       "      <th>0</th>\n",
       "      <td>LP001002</td>\n",
       "      <td>Male</td>\n",
       "      <td>No</td>\n",
       "      <td>0</td>\n",
       "      <td>Graduate</td>\n",
       "      <td>No</td>\n",
       "      <td>5849</td>\n",
       "      <td>0.0</td>\n",
       "      <td>NaN</td>\n",
       "      <td>360.0</td>\n",
       "      <td>1.0</td>\n",
       "      <td>Urban</td>\n",
       "      <td>Y</td>\n",
       "    </tr>\n",
       "    <tr>\n",
       "      <th>1</th>\n",
       "      <td>LP001003</td>\n",
       "      <td>Male</td>\n",
       "      <td>Yes</td>\n",
       "      <td>1</td>\n",
       "      <td>Graduate</td>\n",
       "      <td>No</td>\n",
       "      <td>4583</td>\n",
       "      <td>1508.0</td>\n",
       "      <td>128.0</td>\n",
       "      <td>360.0</td>\n",
       "      <td>1.0</td>\n",
       "      <td>Rural</td>\n",
       "      <td>N</td>\n",
       "    </tr>\n",
       "    <tr>\n",
       "      <th>2</th>\n",
       "      <td>LP001005</td>\n",
       "      <td>Male</td>\n",
       "      <td>Yes</td>\n",
       "      <td>0</td>\n",
       "      <td>Graduate</td>\n",
       "      <td>Yes</td>\n",
       "      <td>3000</td>\n",
       "      <td>0.0</td>\n",
       "      <td>66.0</td>\n",
       "      <td>360.0</td>\n",
       "      <td>1.0</td>\n",
       "      <td>Urban</td>\n",
       "      <td>Y</td>\n",
       "    </tr>\n",
       "    <tr>\n",
       "      <th>3</th>\n",
       "      <td>LP001006</td>\n",
       "      <td>Male</td>\n",
       "      <td>Yes</td>\n",
       "      <td>0</td>\n",
       "      <td>Not Graduate</td>\n",
       "      <td>No</td>\n",
       "      <td>2583</td>\n",
       "      <td>2358.0</td>\n",
       "      <td>120.0</td>\n",
       "      <td>360.0</td>\n",
       "      <td>1.0</td>\n",
       "      <td>Urban</td>\n",
       "      <td>Y</td>\n",
       "    </tr>\n",
       "    <tr>\n",
       "      <th>4</th>\n",
       "      <td>LP001008</td>\n",
       "      <td>Male</td>\n",
       "      <td>No</td>\n",
       "      <td>0</td>\n",
       "      <td>Graduate</td>\n",
       "      <td>No</td>\n",
       "      <td>6000</td>\n",
       "      <td>0.0</td>\n",
       "      <td>141.0</td>\n",
       "      <td>360.0</td>\n",
       "      <td>1.0</td>\n",
       "      <td>Urban</td>\n",
       "      <td>Y</td>\n",
       "    </tr>\n",
       "  </tbody>\n",
       "</table>\n",
       "</div>"
      ],
      "text/plain": [
       "    Loan_ID Gender Married Dependents     Education Self_Employed  \\\n",
       "0  LP001002   Male      No          0      Graduate            No   \n",
       "1  LP001003   Male     Yes          1      Graduate            No   \n",
       "2  LP001005   Male     Yes          0      Graduate           Yes   \n",
       "3  LP001006   Male     Yes          0  Not Graduate            No   \n",
       "4  LP001008   Male      No          0      Graduate            No   \n",
       "\n",
       "   ApplicantIncome  CoapplicantIncome  LoanAmount  Loan_Amount_Term  \\\n",
       "0             5849                0.0         NaN             360.0   \n",
       "1             4583             1508.0       128.0             360.0   \n",
       "2             3000                0.0        66.0             360.0   \n",
       "3             2583             2358.0       120.0             360.0   \n",
       "4             6000                0.0       141.0             360.0   \n",
       "\n",
       "   Credit_History Property_Area Loan_Status  \n",
       "0             1.0         Urban           Y  \n",
       "1             1.0         Rural           N  \n",
       "2             1.0         Urban           Y  \n",
       "3             1.0         Urban           Y  \n",
       "4             1.0         Urban           Y  "
      ]
     },
     "execution_count": 176,
     "metadata": {},
     "output_type": "execute_result"
    }
   ],
   "source": [
    "# It's a small dataset, but > the threshold of 500 observations.\n",
    "\n",
    "train = pd.read_csv('../data/class-project/LoanApproval/train_data.csv')\n",
    "\n",
    "print(train.shape)\n",
    "train.head()"
   ]
  },
  {
   "cell_type": "code",
   "execution_count": 177,
   "metadata": {},
   "outputs": [
    {
     "data": {
      "text/plain": [
       "Y    0.687296\n",
       "N    0.312704\n",
       "Name: Loan_Status, dtype: float64"
      ]
     },
     "execution_count": 177,
     "metadata": {},
     "output_type": "execute_result"
    }
   ],
   "source": [
    "# The target vector is 'Loan_Status'\n",
    "\n",
    "# The classes of the Target Vector are moderately imbalanced towards approval, but < 70%, we \n",
    "# can still look at model accuracy for scoring. \n",
    "# You have a 68.73% chance of being correct if you always decide that the loan was approved.\n",
    "\n",
    "train['Loan_Status'].value_counts(normalize=True)"
   ]
  },
  {
   "cell_type": "code",
   "execution_count": 9,
   "metadata": {},
   "outputs": [
    {
     "name": "stdout",
     "output_type": "stream",
     "text": [
      "<class 'pandas.core.frame.DataFrame'>\n",
      "RangeIndex: 614 entries, 0 to 613\n",
      "Data columns (total 13 columns):\n",
      " #   Column             Non-Null Count  Dtype  \n",
      "---  ------             --------------  -----  \n",
      " 0   Loan_ID            614 non-null    object \n",
      " 1   Gender             601 non-null    object \n",
      " 2   Married            611 non-null    object \n",
      " 3   Dependents         599 non-null    object \n",
      " 4   Education          614 non-null    object \n",
      " 5   Self_Employed      582 non-null    object \n",
      " 6   ApplicantIncome    614 non-null    int64  \n",
      " 7   CoapplicantIncome  614 non-null    float64\n",
      " 8   LoanAmount         592 non-null    float64\n",
      " 9   Loan_Amount_Term   600 non-null    float64\n",
      " 10  Credit_History     564 non-null    float64\n",
      " 11  Property_Area      614 non-null    object \n",
      " 12  Loan_Status        614 non-null    object \n",
      "dtypes: float64(4), int64(1), object(8)\n",
      "memory usage: 62.5+ KB\n"
     ]
    }
   ],
   "source": [
    "# There are a lot of categorical variables; there are NaN values in the dataset. \n",
    "\n",
    "train.info()"
   ]
  },
  {
   "cell_type": "code",
   "execution_count": 11,
   "metadata": {},
   "outputs": [
    {
     "name": "stdout",
     "output_type": "stream",
     "text": [
      "Loan_ID 614\n",
      "Gender 2\n",
      "Married 2\n",
      "Dependents 4\n",
      "Education 2\n",
      "Self_Employed 2\n",
      "ApplicantIncome 505\n",
      "CoapplicantIncome 287\n",
      "LoanAmount 203\n",
      "Loan_Amount_Term 10\n",
      "Credit_History 2\n",
      "Property_Area 3\n",
      "Loan_Status 2\n"
     ]
    }
   ],
   "source": [
    "# Examine the number of unique entries for variables.\n",
    "\n",
    "for col in list(train.columns):\n",
    "    print(col, train[col].nunique())"
   ]
  },
  {
   "cell_type": "code",
   "execution_count": 12,
   "metadata": {},
   "outputs": [
    {
     "name": "stdout",
     "output_type": "stream",
     "text": [
      "['0' '1' '2' '3+' nan]\n"
     ]
    }
   ],
   "source": [
    "# Examine 'Dependents' feature\n",
    "\n",
    "print(train['Dependents'].unique())"
   ]
  },
  {
   "cell_type": "code",
   "execution_count": 100,
   "metadata": {},
   "outputs": [
    {
     "name": "stdout",
     "output_type": "stream",
     "text": [
      "Semiurban    233\n",
      "Urban        202\n",
      "Rural        179\n",
      "Name: Property_Area, dtype: int64\n"
     ]
    }
   ],
   "source": [
    "# Examine 'Property_Area' feature\n",
    "# No missing values, implies either all loans are home/property purchases, or is\n",
    "# indicating where loan applicant resides. \n",
    "\n",
    "print(train['Property_Area'].value_counts())"
   ]
  },
  {
   "cell_type": "code",
   "execution_count": 199,
   "metadata": {},
   "outputs": [
    {
     "data": {
      "image/png": "[encoded data removed]",
      "text/plain": [
       "<Figure size 432x288 with 1 Axes>"
      ]
     },
     "metadata": {
      "needs_background": "light"
     },
     "output_type": "display_data"
    },
    {
     "name": "stdout",
     "output_type": "stream",
     "text": [
      "       ApplicantIncome  CoapplicantIncome  LoanAmount  Loan_Amount_Term  \\\n",
      "count       614.000000         614.000000  592.000000         600.00000   \n",
      "mean       5403.459283        1621.245798  146.412162         342.00000   \n",
      "std        6109.041673        2926.248369   85.587325          65.12041   \n",
      "min         150.000000           0.000000    9.000000          12.00000   \n",
      "25%        2877.500000           0.000000  100.000000         360.00000   \n",
      "50%        3812.500000        1188.500000  128.000000         360.00000   \n",
      "75%        5795.000000        2297.250000  168.000000         360.00000   \n",
      "max       81000.000000       41667.000000  700.000000         480.00000   \n",
      "\n",
      "       Credit_History  income_adj  \n",
      "count      564.000000  614.000000  \n",
      "mean         0.842199   54.034593  \n",
      "std          0.364878   61.090417  \n",
      "min          0.000000    1.500000  \n",
      "25%          1.000000   28.775000  \n",
      "50%          1.000000   38.125000  \n",
      "75%          1.000000   57.950000  \n",
      "max          1.000000  810.000000  \n"
     ]
    }
   ],
   "source": [
    "# Complete histogram plots of the continuous variables,\n",
    "# and explore their distributions.\n",
    "\n",
    "# Applicant Income\n",
    "train['ApplicantIncome'].plot(kind='hist', bins=100)\n",
    "\n",
    "plt.xlabel('Applicant Income')\n",
    "plt.ylabel('Frequency')\n",
    "plt.show();\n",
    "\n",
    "print(train.describe())\n",
    "\n",
    "# Possible outliers present.\n",
    "# Also 'Applicant_Income' and 'Coapplicant_Income' may need to be addressed (scaled).  \n",
    "# Information from dataset authorindicates 'LoanAmount' is in thousands.  This would \n",
    "# mean the min amount requested was $9,000, and the max loan request was $700,000.\n",
    "# If the same scale is used for 'ApplicantIncome' it would indicate a low of\n",
    "# $150,000, and a high of $81 million - a highly unlikely spread.  It would also\n",
    "# imply a max 'CoapplicantIncome' of > $41 million!"
   ]
  },
  {
   "cell_type": "code",
   "execution_count": 186,
   "metadata": {},
   "outputs": [
    {
     "data": {
      "text/plain": [
       "count    614.000000\n",
       "mean      54.034593\n",
       "std       61.090417\n",
       "min        1.500000\n",
       "25%       28.775000\n",
       "50%       38.125000\n",
       "75%       57.950000\n",
       "max      810.000000\n",
       "Name: income_adj, dtype: float64"
      ]
     },
     "execution_count": 186,
     "metadata": {},
     "output_type": "execute_result"
    }
   ],
   "source": [
    "train['income_adj'] = train['ApplicantIncome'] / 100\n",
    "\n",
    "train['income_adj'].describe()"
   ]
  },
  {
   "cell_type": "code",
   "execution_count": 91,
   "metadata": {},
   "outputs": [
    {
     "data": {
      "image/png": "[encoded data removed]",
      "text/plain": [
       "<Figure size 432x288 with 1 Axes>"
      ]
     },
     "metadata": {
      "needs_background": "light"
     },
     "output_type": "display_data"
    },
    {
     "name": "stdout",
     "output_type": "stream",
     "text": [
      "       ApplicantIncome  CoapplicantIncome  LoanAmount  Loan_Amount_Term  \\\n",
      "count       605.000000         605.000000  583.000000        591.000000   \n",
      "mean       4906.877686        1512.712264  143.317324        342.741117   \n",
      "std        3472.102471        2064.711468   78.533250         64.541662   \n",
      "min         150.000000           0.000000    9.000000         12.000000   \n",
      "25%        2876.000000           0.000000  100.000000        360.000000   \n",
      "50%        3775.000000        1213.000000  127.000000        360.000000   \n",
      "75%        5708.000000        2283.000000  165.000000        360.000000   \n",
      "max       23803.000000       20000.000000  650.000000        480.000000   \n",
      "\n",
      "       Credit_History  \n",
      "count      556.000000  \n",
      "mean         0.843525  \n",
      "std          0.363632  \n",
      "min          0.000000  \n",
      "25%          1.000000  \n",
      "50%          1.000000  \n",
      "75%          1.000000  \n",
      "max          1.000000  \n"
     ]
    }
   ],
   "source": [
    "# Explore removing outliers from 'ApplicantIncome' and 'CoapplicantIncome' are > $250,000.\n",
    "\n",
    "explore = train[ (train['ApplicantIncome'] < 25_000) &\n",
    "                 (train['CoapplicantIncome'] < 25_000)]\n",
    "\n",
    "explore[['ApplicantIncome']].plot(kind='hist', bins=50)\n",
    "plt.xlabel('Applicant Income')\n",
    "plt.ylabel('Frequency')\n",
    "plt.show();\n",
    "\n",
    "print(explore.describe())\n",
    "\n",
    "# Loss of 9 observations."
   ]
  },
  {
   "cell_type": "code",
   "execution_count": 94,
   "metadata": {},
   "outputs": [
    {
     "data": {
      "image/png": "[encoded data removed]",
      "text/plain": [
       "<Figure size 432x288 with 1 Axes>"
      ]
     },
     "metadata": {
      "needs_background": "light"
     },
     "output_type": "display_data"
    }
   ],
   "source": [
    "# Coapplicant Income\n",
    "\n",
    "train['CoapplicantIncome'].plot(kind='hist', bins=100)\n",
    "\n",
    "plt.xlabel('Coapplicant Income')\n",
    "plt.ylabel('Frequency')\n",
    "plt.show();\n",
    "\n",
    "# Appears to have potential outliers on the high end of income.\n",
    "# Zero income is not out-of-the-ordinary; there are many single income households."
   ]
  },
  {
   "cell_type": "code",
   "execution_count": 95,
   "metadata": {},
   "outputs": [
    {
     "data": {
      "image/png": "[encoded data removed]",
      "text/plain": [
       "<Figure size 432x288 with 1 Axes>"
      ]
     },
     "metadata": {
      "needs_background": "light"
     },
     "output_type": "display_data"
    }
   ],
   "source": [
    "# Coapplicant Income, explore\n",
    "\n",
    "explore['CoapplicantIncome'].plot(kind='hist', bins=100)\n",
    "\n",
    "plt.xlabel('Coapplicant Income')\n",
    "plt.ylabel('Frequency')\n",
    "plt.show();"
   ]
  },
  {
   "cell_type": "code",
   "execution_count": 96,
   "metadata": {},
   "outputs": [
    {
     "data": {
      "image/png": "[encoded data removed]",
      "text/plain": [
       "<Figure size 432x288 with 1 Axes>"
      ]
     },
     "metadata": {
      "needs_background": "light"
     },
     "output_type": "display_data"
    }
   ],
   "source": [
    "# Loan Amount\n",
    "\n",
    "train['LoanAmount'].plot(kind='hist', bins=100)\n",
    "\n",
    "plt.xlabel('LoanAmount')\n",
    "plt.ylabel('Frequency')\n",
    "plt.show();"
   ]
  },
  {
   "cell_type": "code",
   "execution_count": 97,
   "metadata": {},
   "outputs": [
    {
     "data": {
      "image/png": "[encoded data removed]",
      "text/plain": [
       "<Figure size 432x288 with 1 Axes>"
      ]
     },
     "metadata": {
      "needs_background": "light"
     },
     "output_type": "display_data"
    }
   ],
   "source": [
    "# Loan Amount, explore\n",
    "\n",
    "explore['LoanAmount'].plot(kind='hist', bins=100)\n",
    "\n",
    "plt.xlabel('Loan Amount')\n",
    "plt.ylabel('Frequency')\n",
    "plt.show();"
   ]
  },
  {
   "cell_type": "code",
   "execution_count": 99,
   "metadata": {
    "scrolled": true
   },
   "outputs": [
    {
     "data": {
      "image/png": "[encoded data removed]",
      "text/plain": [
       "<Figure size 432x288 with 1 Axes>"
      ]
     },
     "metadata": {
      "needs_background": "light"
     },
     "output_type": "display_data"
    }
   ],
   "source": [
    "# Examine 'Loan_Amount_Term', listed as a float, really a categorical variable, 10 categories.\n",
    "\n",
    "train['Loan_Amount_Term'].value_counts().plot(kind='bar')\n",
    "\n",
    "plt.xlabel('Loan Term (months)')\n",
    "plt.ylabel('Frequency')\n",
    "plt.show();\n",
    "\n",
    "# Primarily 30-year notes, likely mortgages. terms of 12-months might indicate a personal loan, \n",
    "# 3-year and 5-year durations are more typical with auto-lending.  What's odd, however, is that \n",
    "# every observation (all 614) have an input value for 'Property_Area' (urban, semi-urban, rural).\n",
    "# Further clarification of the data would have been preferred. "
   ]
  },
  {
   "cell_type": "code",
   "execution_count": 103,
   "metadata": {},
   "outputs": [
    {
     "data": {
      "image/png": "[encoded data removed]",
      "text/plain": [
       "<Figure size 540x540 with 12 Axes>"
      ]
     },
     "metadata": {
      "needs_background": "light"
     },
     "output_type": "display_data"
    }
   ],
   "source": [
    "# Examine for correlation among continuous variables; possible outliers noted.\n",
    "\n",
    "sns.pairplot(train[['ApplicantIncome', 'CoapplicantIncome', 'LoanAmount']])\n",
    "plt.show()"
   ]
  },
  {
   "cell_type": "markdown",
   "metadata": {},
   "source": [
    "## Summary of Initial EDA"
   ]
  },
  {
   "cell_type": "code",
   "execution_count": null,
   "metadata": {},
   "outputs": [],
   "source": [
    "# 'Loan_ID', high cardinality column, variable is a unique identifier and will be dropped.\n",
    "# 'Gender', binary categorical variable, assignment == Male/Female, NaN objects hold no meaning.\n",
    "# 'Married', binary categorical feature, assignment == Y/N, NaN objects hold no meaning.\n",
    "# 'Dependents', categorical feature, assignment == 0/1/2/3+, NaN objects hold no meaning.\n",
    "# 'Education', binary categorical feature, assignement == Graduate/Not Graduate, no NaN objects.\n",
    "# 'Self-Employed', binary categorical feature, assignment = Y/N, NaN objects hold no meaning.\n",
    "# 'ApplicantIncome', continuous numeric feature, possible outliers, NaN values without meaning.\n",
    "# 'CoapplicantIncome', continuous numeric feature, possible outliers, NaN values without meaning.\n",
    "# 'LoanAmount', continuous numeric feature, possible outliers, NaN values without meaning.\n",
    "# 'Loan_Amount_Term', categorical variable, cardinality == 10, NaN values without meaning.\n",
    "# 'Credit_History', binary categorical variable, assignment == 1/0, NaN values without meaning. \n",
    "# 'Proprty_Area', categorical variable, cardinality == 3, no NaN values. "
   ]
  },
  {
   "cell_type": "markdown",
   "metadata": {},
   "source": [
    "# II. Wrangle Data"
   ]
  },
  {
   "cell_type": "code",
   "execution_count": 1046,
   "metadata": {},
   "outputs": [],
   "source": [
    "# Write wrangle function ... this is the accumulation of all prior work and exploration, for \n",
    "# best model fit without hyperparameter tuning. \n",
    "\n",
    "def wrangle(filepath):\n",
    "\n",
    "    # Read in the data\n",
    "    df = pd.read_csv('../data/class-project/LoanApproval/' + filepath)\n",
    "    \n",
    "    # Drop high-cardinality identifier column, 'Loan_ID'\n",
    "    df.drop(columns='Loan_ID', inplace=True)\n",
    "    \n",
    "    # Cleanup column names\n",
    "    df.columns = [col.lower() for col in df.columns]       \n",
    "    df = df.rename(columns=\n",
    "        {'applicantincome': 'applicant_income',\n",
    "         'coapplicantincome': 'coapplicant_income',\n",
    "         'loanamount': 'loan_amount'})\n",
    "    \n",
    "    # Fill NaN values with the mode of the feature it resides in ('most_frequent'); exception, 'loan_amount'\n",
    "    mode_cols = ['gender', 'married', 'dependents', 'self_employed', 'loan_amount_term', 'credit_history']\n",
    "    for col in mode_cols:\n",
    "        df[col].fillna(value=df[col].mode()[0], inplace=True)\n",
    "    \n",
    "    # Drop remaining NaN values, all in 'loan_amount' column; difficult to predict without this information. \n",
    "    df.dropna(inplace=True)\n",
    "    \n",
    "    # Scale 'applicant_income' and 'coapplicant_income' to thousands\n",
    "    df['applicant_income'] = df['applicant_income'] / 100\n",
    "    df['coapplicant_income'] = df['coapplicant_income'] / 100\n",
    "       \n",
    "    # Convert 'credit_history' to binary categorical from float \n",
    "    df['credit_history'].replace(to_replace={1.0: '1', 0.0: '0'}, \n",
    "                                 inplace=True)\n",
    "    \n",
    "    # Convert 'loan_amount_term' to categorical variable (object) from float\n",
    "    df['loan_amount_term'] = df['loan_amount_term'].astype(int).astype(str) \n",
    "\n",
    "    # Clean 'dependents' feature\n",
    "    df['dependents'] = df['dependents'].str.strip('+')\n",
    "\n",
    "    # Convert target, 'LoanStatus' to binary numeric values\n",
    "    df['loan_status'].replace(to_replace={'Y': 1, 'N':0}, inplace=True) \n",
    "  \n",
    "    # Creat 'loan_to_income' feature\n",
    "    df['loan_to_income'] = df['loan_amount'] / (df['applicant_income'] + df['coapplicant_income'])\n",
    "\n",
    "    # Remove the outliers where income is > $250,000\n",
    "    df = df[ (df['applicant_income'] < 250) &\n",
    "             (df['coapplicant_income'] < 250)]\n",
    "    \n",
    "    # Drop columns noted not to be helpful in predicting loan approval outcome\n",
    "    df.drop(columns=['gender', 'education', 'coapplicant_income'], inplace=True)\n",
    "    \n",
    "    return df\n",
    "\n",
    "train_path = 'train_data.csv'\n",
    "train= wrangle(train_path)"
   ]
  },
  {
   "cell_type": "code",
   "execution_count": 1047,
   "metadata": {},
   "outputs": [
    {
     "name": "stdout",
     "output_type": "stream",
     "text": [
      "(583, 10)\n"
     ]
    },
    {
     "data": {
      "text/html": [
       "<div>\n",
       "<style scoped>\n",
       "    .dataframe tbody tr th:only-of-type {\n",
       "        vertical-align: middle;\n",
       "    }\n",
       "\n",
       "    .dataframe tbody tr th {\n",
       "        vertical-align: top;\n",
       "    }\n",
       "\n",
       "    .dataframe thead th {\n",
       "        text-align: right;\n",
       "    }\n",
       "</style>\n",
       "<table border=\"1\" class=\"dataframe\">\n",
       "  <thead>\n",
       "    <tr style=\"text-align: right;\">\n",
       "      <th></th>\n",
       "      <th>married</th>\n",
       "      <th>dependents</th>\n",
       "      <th>self_employed</th>\n",
       "      <th>applicant_income</th>\n",
       "      <th>loan_amount</th>\n",
       "      <th>loan_amount_term</th>\n",
       "      <th>credit_history</th>\n",
       "      <th>property_area</th>\n",
       "      <th>loan_status</th>\n",
       "      <th>loan_to_income</th>\n",
       "    </tr>\n",
       "  </thead>\n",
       "  <tbody>\n",
       "    <tr>\n",
       "      <th>1</th>\n",
       "      <td>Yes</td>\n",
       "      <td>1</td>\n",
       "      <td>No</td>\n",
       "      <td>45.83</td>\n",
       "      <td>128.0</td>\n",
       "      <td>360</td>\n",
       "      <td>1</td>\n",
       "      <td>Rural</td>\n",
       "      <td>0</td>\n",
       "      <td>2.101461</td>\n",
       "    </tr>\n",
       "    <tr>\n",
       "      <th>2</th>\n",
       "      <td>Yes</td>\n",
       "      <td>0</td>\n",
       "      <td>Yes</td>\n",
       "      <td>30.00</td>\n",
       "      <td>66.0</td>\n",
       "      <td>360</td>\n",
       "      <td>1</td>\n",
       "      <td>Urban</td>\n",
       "      <td>1</td>\n",
       "      <td>2.200000</td>\n",
       "    </tr>\n",
       "    <tr>\n",
       "      <th>3</th>\n",
       "      <td>Yes</td>\n",
       "      <td>0</td>\n",
       "      <td>No</td>\n",
       "      <td>25.83</td>\n",
       "      <td>120.0</td>\n",
       "      <td>360</td>\n",
       "      <td>1</td>\n",
       "      <td>Urban</td>\n",
       "      <td>1</td>\n",
       "      <td>2.428658</td>\n",
       "    </tr>\n",
       "    <tr>\n",
       "      <th>4</th>\n",
       "      <td>No</td>\n",
       "      <td>0</td>\n",
       "      <td>No</td>\n",
       "      <td>60.00</td>\n",
       "      <td>141.0</td>\n",
       "      <td>360</td>\n",
       "      <td>1</td>\n",
       "      <td>Urban</td>\n",
       "      <td>1</td>\n",
       "      <td>2.350000</td>\n",
       "    </tr>\n",
       "    <tr>\n",
       "      <th>5</th>\n",
       "      <td>Yes</td>\n",
       "      <td>2</td>\n",
       "      <td>Yes</td>\n",
       "      <td>54.17</td>\n",
       "      <td>267.0</td>\n",
       "      <td>360</td>\n",
       "      <td>1</td>\n",
       "      <td>Urban</td>\n",
       "      <td>1</td>\n",
       "      <td>2.777489</td>\n",
       "    </tr>\n",
       "  </tbody>\n",
       "</table>\n",
       "</div>"
      ],
      "text/plain": [
       "  married dependents self_employed  applicant_income  loan_amount  \\\n",
       "1     Yes          1            No             45.83        128.0   \n",
       "2     Yes          0           Yes             30.00         66.0   \n",
       "3     Yes          0            No             25.83        120.0   \n",
       "4      No          0            No             60.00        141.0   \n",
       "5     Yes          2           Yes             54.17        267.0   \n",
       "\n",
       "  loan_amount_term credit_history property_area  loan_status  loan_to_income  \n",
       "1              360              1         Rural            0        2.101461  \n",
       "2              360              1         Urban            1        2.200000  \n",
       "3              360              1         Urban            1        2.428658  \n",
       "4              360              1         Urban            1        2.350000  \n",
       "5              360              1         Urban            1        2.777489  "
      ]
     },
     "execution_count": 1047,
     "metadata": {},
     "output_type": "execute_result"
    }
   ],
   "source": [
    "print(train.shape)\n",
    "train.head()"
   ]
  },
  {
   "cell_type": "code",
   "execution_count": 1048,
   "metadata": {},
   "outputs": [
    {
     "name": "stdout",
     "output_type": "stream",
     "text": [
      "<class 'pandas.core.frame.DataFrame'>\n",
      "Int64Index: 583 entries, 1 to 613\n",
      "Data columns (total 10 columns):\n",
      " #   Column            Non-Null Count  Dtype  \n",
      "---  ------            --------------  -----  \n",
      " 0   married           583 non-null    object \n",
      " 1   dependents        583 non-null    object \n",
      " 2   self_employed     583 non-null    object \n",
      " 3   applicant_income  583 non-null    float64\n",
      " 4   loan_amount       583 non-null    float64\n",
      " 5   loan_amount_term  583 non-null    object \n",
      " 6   credit_history    583 non-null    object \n",
      " 7   property_area     583 non-null    object \n",
      " 8   loan_status       583 non-null    int64  \n",
      " 9   loan_to_income    583 non-null    float64\n",
      "dtypes: float64(3), int64(1), object(6)\n",
      "memory usage: 50.1+ KB\n"
     ]
    }
   ],
   "source": [
    "train.info()"
   ]
  },
  {
   "cell_type": "code",
   "execution_count": 1049,
   "metadata": {},
   "outputs": [
    {
     "data": {
      "text/html": [
       "<div>\n",
       "<style scoped>\n",
       "    .dataframe tbody tr th:only-of-type {\n",
       "        vertical-align: middle;\n",
       "    }\n",
       "\n",
       "    .dataframe tbody tr th {\n",
       "        vertical-align: top;\n",
       "    }\n",
       "\n",
       "    .dataframe thead th {\n",
       "        text-align: right;\n",
       "    }\n",
       "</style>\n",
       "<table border=\"1\" class=\"dataframe\">\n",
       "  <thead>\n",
       "    <tr style=\"text-align: right;\">\n",
       "      <th></th>\n",
       "      <th>applicant_income</th>\n",
       "      <th>loan_amount</th>\n",
       "      <th>loan_status</th>\n",
       "      <th>loan_to_income</th>\n",
       "    </tr>\n",
       "  </thead>\n",
       "  <tbody>\n",
       "    <tr>\n",
       "      <th>count</th>\n",
       "      <td>583.000000</td>\n",
       "      <td>583.000000</td>\n",
       "      <td>583.000000</td>\n",
       "      <td>583.000000</td>\n",
       "    </tr>\n",
       "    <tr>\n",
       "      <th>mean</th>\n",
       "      <td>48.889966</td>\n",
       "      <td>143.317324</td>\n",
       "      <td>0.696398</td>\n",
       "      <td>2.400922</td>\n",
       "    </tr>\n",
       "    <tr>\n",
       "      <th>std</th>\n",
       "      <td>34.318403</td>\n",
       "      <td>78.533250</td>\n",
       "      <td>0.460208</td>\n",
       "      <td>0.808459</td>\n",
       "    </tr>\n",
       "    <tr>\n",
       "      <th>min</th>\n",
       "      <td>1.500000</td>\n",
       "      <td>9.000000</td>\n",
       "      <td>0.000000</td>\n",
       "      <td>0.301614</td>\n",
       "    </tr>\n",
       "    <tr>\n",
       "      <th>25%</th>\n",
       "      <td>28.855000</td>\n",
       "      <td>100.000000</td>\n",
       "      <td>0.000000</td>\n",
       "      <td>1.962545</td>\n",
       "    </tr>\n",
       "    <tr>\n",
       "      <th>50%</th>\n",
       "      <td>37.620000</td>\n",
       "      <td>127.000000</td>\n",
       "      <td>1.000000</td>\n",
       "      <td>2.428658</td>\n",
       "    </tr>\n",
       "    <tr>\n",
       "      <th>75%</th>\n",
       "      <td>57.030000</td>\n",
       "      <td>165.000000</td>\n",
       "      <td>1.000000</td>\n",
       "      <td>2.825673</td>\n",
       "    </tr>\n",
       "    <tr>\n",
       "      <th>max</th>\n",
       "      <td>238.030000</td>\n",
       "      <td>650.000000</td>\n",
       "      <td>1.000000</td>\n",
       "      <td>8.271164</td>\n",
       "    </tr>\n",
       "  </tbody>\n",
       "</table>\n",
       "</div>"
      ],
      "text/plain": [
       "       applicant_income  loan_amount  loan_status  loan_to_income\n",
       "count        583.000000   583.000000   583.000000      583.000000\n",
       "mean          48.889966   143.317324     0.696398        2.400922\n",
       "std           34.318403    78.533250     0.460208        0.808459\n",
       "min            1.500000     9.000000     0.000000        0.301614\n",
       "25%           28.855000   100.000000     0.000000        1.962545\n",
       "50%           37.620000   127.000000     1.000000        2.428658\n",
       "75%           57.030000   165.000000     1.000000        2.825673\n",
       "max          238.030000   650.000000     1.000000        8.271164"
      ]
     },
     "execution_count": 1049,
     "metadata": {},
     "output_type": "execute_result"
    }
   ],
   "source": [
    "train.describe()"
   ]
  },
  {
   "cell_type": "markdown",
   "metadata": {},
   "source": [
    "# III. Split the Data"
   ]
  },
  {
   "cell_type": "code",
   "execution_count": 1050,
   "metadata": {},
   "outputs": [],
   "source": [
    "# Create Feature Matrix and Target Array\n",
    "\n",
    "target = 'loan_status'\n",
    "\n",
    "y = train[target]\n",
    "X = train.drop(columns=target)"
   ]
  },
  {
   "cell_type": "code",
   "execution_count": 1051,
   "metadata": {},
   "outputs": [],
   "source": [
    "# Split the data\n",
    "# Will use a random split; there is no datetime information included in this dataset.\n",
    "\n",
    "X_train, X_val, y_train, y_val = train_test_split(X, y, test_size=0.2, random_state=42)"
   ]
  },
  {
   "cell_type": "markdown",
   "metadata": {},
   "source": [
    "# IV. Establish a Baseline"
   ]
  },
  {
   "cell_type": "code",
   "execution_count": 1052,
   "metadata": {},
   "outputs": [
    {
     "name": "stdout",
     "output_type": "stream",
     "text": [
      "Baseline Accuracy for predicting Loan Approval: 69.64%\n"
     ]
    }
   ],
   "source": [
    "# The target vector is 'Loan_Status'\n",
    "# The classes of the TV are moderately imbalanced towards approval, but < 70%, so we can still look at \n",
    "# model accuracy for scoring. \n",
    "\n",
    "# You have a 69.40% chance of being correct if you always decide that the loan was approved.\n",
    "print('Baseline Accuracy for predicting Loan Approval: {:.2f}%'.format\n",
    "      (y.value_counts(normalize=True).max()*100))\n"
   ]
  },
  {
   "cell_type": "markdown",
   "metadata": {},
   "source": [
    "# V. Build Models\n",
    "\n",
    "- `LogisticRegression`\n",
    "    \n",
    "    - `OneHotEncoder`\n",
    "    - `StandardScaler`\n",
    " \n",
    "- `RandomForrestClassifier`\n",
    "\n",
    "    - `OrdinalEncoder`\n",
    "    \n",
    "- `XGBClassifier`\n",
    "\n",
    "    - `OrdinalEncoder`"
   ]
  },
  {
   "cell_type": "code",
   "execution_count": 1053,
   "metadata": {},
   "outputs": [
    {
     "name": "stderr",
     "output_type": "stream",
     "text": [
      "/Users/frankhowd/.local/share/virtualenvs/DS-Unit-2-Applied-Modeling-YelssOLa/lib/python3.8/site-packages/category_encoders/utils.py:21: FutureWarning: is_categorical is deprecated and will be removed in a future version.  Use is_categorical_dtype instead\n",
      "  elif pd.api.types.is_categorical(cols):\n"
     ]
    }
   ],
   "source": [
    "# Model 1: Logistic Regression Model\n",
    "\n",
    "model_lr = make_pipeline(\n",
    "    OneHotEncoder(use_cat_names=True),\n",
    "    StandardScaler(),\n",
    "    LogisticRegression()\n",
    ")\n",
    "\n",
    "model_lr.fit(X_train, y_train);"
   ]
  },
  {
   "cell_type": "code",
   "execution_count": 1054,
   "metadata": {},
   "outputs": [],
   "source": [
    "# Model 2: Random Forest Classifier Model\n",
    "\n",
    "model_rf = make_pipeline(\n",
    "    OrdinalEncoder(),\n",
    "    RandomForestClassifier(n_jobs=-1, random_state=42)\n",
    ")\n",
    "\n",
    "model_rf.fit(X_train, y_train);"
   ]
  },
  {
   "cell_type": "code",
   "execution_count": 1055,
   "metadata": {},
   "outputs": [],
   "source": [
    "# Model 3: XG-Boost Classifier\n",
    "\n",
    "model_xgb = make_pipeline(\n",
    "    OrdinalEncoder(),\n",
    "    XGBClassifier(random_state=42, n_jobs=-1)\n",
    ")\n",
    "\n",
    "model_xgb.fit(X_train, y_train);"
   ]
  },
  {
   "cell_type": "markdown",
   "metadata": {},
   "source": [
    "# VI. Check Metrics"
   ]
  },
  {
   "cell_type": "code",
   "execution_count": 1015,
   "metadata": {},
   "outputs": [
    {
     "name": "stdout",
     "output_type": "stream",
     "text": [
      "Training Accuracy (LOGR): 82.45%\n",
      "Validation Accuracy (LOGR): 78.99%\n"
     ]
    }
   ],
   "source": [
    "# Training and Validation accuracy of our Logistic Regression model\n",
    "\n",
    "print('Training Accuracy (LOGR): {:.2f}%'.format(model_lr.score(X_train, y_train)*100))\n",
    "print('Validation Accuracy (LOGR): {:.2f}%'.format(model_lr.score(X_val, y_val)*100))"
   ]
  },
  {
   "cell_type": "code",
   "execution_count": 1016,
   "metadata": {},
   "outputs": [
    {
     "name": "stdout",
     "output_type": "stream",
     "text": [
      "Cross Validation Score (LOGR):\n",
      "82.11%\n",
      "82.11%\n",
      "80.00%\n",
      "79.79%\n",
      "80.85%\n"
     ]
    }
   ],
   "source": [
    "# Cross Validation Score for our Logistic Regression model\n",
    "\n",
    "lr_cvs = cross_val_score(model_lr, X_train, y_train, cv=5, n_jobs=-1)\n",
    "\n",
    "print('Cross Validation Score (LOGR):')\n",
    "for _ in range(5):\n",
    "    print('{:.2f}%'.format(lr_cvs[_]*100))"
   ]
  },
  {
   "cell_type": "code",
   "execution_count": 1017,
   "metadata": {},
   "outputs": [
    {
     "name": "stdout",
     "output_type": "stream",
     "text": [
      "Training Accuracy(RF): 100.00%\n",
      "Validation Accuracy (RF): 78.99%\n"
     ]
    }
   ],
   "source": [
    "# Training and Validation accuracy of our Random Forest Classifier model\n",
    "\n",
    "print('Training Accuracy(RF): {:.2f}%'.format(model_rf.score(X_train, y_train)*100))\n",
    "print('Validation Accuracy (RF): {:.2f}%'.format(model_rf.score(X_val, y_val)*100))"
   ]
  },
  {
   "cell_type": "code",
   "execution_count": 1018,
   "metadata": {},
   "outputs": [
    {
     "name": "stdout",
     "output_type": "stream",
     "text": [
      "Cross Validation Score (LOGR):\n",
      "85.26%\n",
      "81.05%\n",
      "76.84%\n",
      "85.11%\n",
      "81.91%\n"
     ]
    }
   ],
   "source": [
    "# Cross Validation Score for our Random Forest Classifier model\n",
    "\n",
    "rf_cvs = cross_val_score(model_rf, X_train, y_train, cv=5, n_jobs=-1)\n",
    "\n",
    "print('Cross Validation Score (LOGR):')\n",
    "for _ in range(5):\n",
    "    print('{:.2f}%'.format(rf_cvs[_]*100))"
   ]
  },
  {
   "cell_type": "code",
   "execution_count": 1019,
   "metadata": {},
   "outputs": [
    {
     "name": "stdout",
     "output_type": "stream",
     "text": [
      "Training Accuracy(XGB): 100.00%\n",
      "Validation Accuracy (XGB): 73.95%\n"
     ]
    }
   ],
   "source": [
    "# Training and Validation accuracy of our XGBoost Classifier model\n",
    "\n",
    "print('Training Accuracy(XGB): {:.2f}%'.format(model_xgb.score(X_train, y_train)*100))\n",
    "print('Validation Accuracy (XGB): {:.2f}%'.format(model_xgb.score(X_val, y_val)*100))"
   ]
  },
  {
   "cell_type": "code",
   "execution_count": 1020,
   "metadata": {},
   "outputs": [
    {
     "name": "stdout",
     "output_type": "stream",
     "text": [
      "Cross Validation Score (XGB):\n",
      "84.21%\n",
      "80.00%\n",
      "78.95%\n",
      "81.91%\n",
      "78.72%\n"
     ]
    }
   ],
   "source": [
    "# Cross Validation Score for our XGBoost Classifier model\n",
    "\n",
    "xgb_cvs = cross_val_score(model_xgb, X_train, y_train, cv=5, n_jobs=-1)\n",
    "\n",
    "print('Cross Validation Score (XGB):')\n",
    "for _ in range(5):\n",
    "    print('{:.2f}%'.format(xgb_cvs[_]*100))"
   ]
  },
  {
   "cell_type": "code",
   "execution_count": 912,
   "metadata": {},
   "outputs": [],
   "source": [
    "# Initial performances appear the same on average, howefer, the RF Classifier achieves higher scores\n",
    "# during cross validation testing. "
   ]
  },
  {
   "cell_type": "code",
   "execution_count": 913,
   "metadata": {},
   "outputs": [
    {
     "name": "stdout",
     "output_type": "stream",
     "text": [
      "Logistic Regression\n",
      "              precision    recall  f1-score   support\n",
      "\n",
      "           0       1.00      0.39      0.56        36\n",
      "           1       0.79      1.00      0.88        81\n",
      "\n",
      "    accuracy                           0.81       117\n",
      "   macro avg       0.89      0.69      0.72       117\n",
      "weighted avg       0.85      0.81      0.78       117\n",
      "\n"
     ]
    }
   ],
   "source": [
    "# LOGISTIC REGRESSION, performance\n",
    "# Not very good precision for Y, great recall for Y\n",
    "\n",
    "print('Logistic Regression')\n",
    "print(classification_report(y_val, model_lr.predict(X_val)))"
   ]
  },
  {
   "cell_type": "code",
   "execution_count": 914,
   "metadata": {},
   "outputs": [
    {
     "data": {
      "image/png": "[encoded data removed]",
      "text/plain": [
       "<Figure size 432x288 with 2 Axes>"
      ]
     },
     "metadata": {
      "needs_background": "light"
     },
     "output_type": "display_data"
    }
   ],
   "source": [
    "# LOGISTIC REGRESSION\n",
    "# Plot Confusion Matrix\n",
    "\n",
    "plot_confusion_matrix(model_lr, X_val, y_val, values_format='.0f');\n",
    "\n",
    "# TN FP\n",
    "# FN TP"
   ]
  },
  {
   "cell_type": "code",
   "execution_count": 915,
   "metadata": {},
   "outputs": [
    {
     "name": "stdout",
     "output_type": "stream",
     "text": [
      "Logistic Regression model precision: 78.64%\n",
      "Logistic Regression model recall: 100.00%\n"
     ]
    }
   ],
   "source": [
    "# LOGISTIC REGRESSION\n",
    "# Calculate Precision and Recall\n",
    "\n",
    "# Precision = TP / (TP + FP)\n",
    "precision = 81 / (81 + 22)\n",
    "\n",
    "# Recall = TP / (TP + FN)\n",
    "recall = 81 / (81 + 0)\n",
    "\n",
    "print('Logistic Regression model precision: {:.2f}%'.format(precision*100))\n",
    "print('Logistic Regression model recall: {:.2f}%'.format(recall*100))"
   ]
  },
  {
   "cell_type": "code",
   "execution_count": 916,
   "metadata": {},
   "outputs": [
    {
     "name": "stdout",
     "output_type": "stream",
     "text": [
      "Random Forest Classifier\n",
      "              precision    recall  f1-score   support\n",
      "\n",
      "           0       0.80      0.44      0.57        36\n",
      "           1       0.79      0.95      0.87        81\n",
      "\n",
      "    accuracy                           0.79       117\n",
      "   macro avg       0.80      0.70      0.72       117\n",
      "weighted avg       0.80      0.79      0.77       117\n",
      "\n"
     ]
    }
   ],
   "source": [
    "# RANDOM FOREST CLASSIFIER, preformance\n",
    "# Not very good precision for Y, great recall for Y\n",
    "\n",
    "print('Random Forest Classifier')\n",
    "print(classification_report(y_val, model_rf.predict(X_val)))"
   ]
  },
  {
   "cell_type": "code",
   "execution_count": 917,
   "metadata": {},
   "outputs": [
    {
     "data": {
      "image/png": "[encoded data removed]",
      "text/plain": [
       "<Figure size 432x288 with 2 Axes>"
      ]
     },
     "metadata": {
      "needs_background": "light"
     },
     "output_type": "display_data"
    }
   ],
   "source": [
    "# RANDOM FOREST CLASSIFIER\n",
    "# Plot Confusion Matrix\n",
    "\n",
    "plot_confusion_matrix(model_rf, X_val, y_val, values_format='.0f');\n",
    "\n",
    "# TN FP\n",
    "# FN TP"
   ]
  },
  {
   "cell_type": "code",
   "execution_count": 919,
   "metadata": {},
   "outputs": [
    {
     "name": "stdout",
     "output_type": "stream",
     "text": [
      "Random Forest Classifier precision: 79.38%\n",
      "Random Forest Classifier recall: 95.06%\n"
     ]
    }
   ],
   "source": [
    "# RANDOM FOREST CLASSIFIER \n",
    "# Calculate Precision and Recall\n",
    "\n",
    "# Precision = TP / (TP + FP)\n",
    "precision = 77 / (77 + 20)\n",
    "\n",
    "# Recall = TP / (TP + FN)\n",
    "recall = 77 / (77 + 4)\n",
    "\n",
    "print('Random Forest Classifier precision: {:.2f}%'.format(precision*100))\n",
    "print('Random Forest Classifier recall: {:.2f}%'.format(recall*100))"
   ]
  },
  {
   "cell_type": "code",
   "execution_count": 920,
   "metadata": {},
   "outputs": [
    {
     "name": "stdout",
     "output_type": "stream",
     "text": [
      "XGBoost Classifier\n",
      "              precision    recall  f1-score   support\n",
      "\n",
      "           0       0.84      0.44      0.58        36\n",
      "           1       0.80      0.96      0.87        81\n",
      "\n",
      "    accuracy                           0.80       117\n",
      "   macro avg       0.82      0.70      0.73       117\n",
      "weighted avg       0.81      0.80      0.78       117\n",
      "\n"
     ]
    }
   ],
   "source": [
    "# XGBoost Classifier, preformance\n",
    "\n",
    "print('XGBoost Classifier')\n",
    "print(classification_report(y_val, model_xgb.predict(X_val)))"
   ]
  },
  {
   "cell_type": "code",
   "execution_count": 921,
   "metadata": {},
   "outputs": [
    {
     "data": {
      "image/png": "[encoded data removed]",
      "text/plain": [
       "<Figure size 432x288 with 2 Axes>"
      ]
     },
     "metadata": {
      "needs_background": "light"
     },
     "output_type": "display_data"
    }
   ],
   "source": [
    "# XGBoost Classifier\n",
    "# Plot Confusion Matrix\n",
    "\n",
    "plot_confusion_matrix(model_xgb, X_val, y_val, values_format='.0f');\n",
    "\n",
    "# TN FP\n",
    "# FN TP"
   ]
  },
  {
   "cell_type": "code",
   "execution_count": 922,
   "metadata": {},
   "outputs": [
    {
     "name": "stdout",
     "output_type": "stream",
     "text": [
      "XGBoost Classifier precision: 79.59%\n",
      "XGBoost Classifier recall: 96.30%\n"
     ]
    }
   ],
   "source": [
    "# XGBOOST CLASSIFIER \n",
    "# Calculate Precision and Recall\n",
    "\n",
    "# Precision = TP / (TP + FP)\n",
    "precision = 78 / (78 + 20)\n",
    "\n",
    "# Recall = TP / (TP + FN)\n",
    "recall = 78 / (78 + 3)\n",
    "\n",
    "print('XGBoost Classifier precision: {:.2f}%'.format(precision*100))\n",
    "print('XGBoost Classifier recall: {:.2f}%'.format(recall*100))"
   ]
  },
  {
   "cell_type": "code",
   "execution_count": 1021,
   "metadata": {},
   "outputs": [
    {
     "data": {
      "image/png": "[encoded data removed]",
      "text/plain": [
       "<Figure size 432x288 with 1 Axes>"
      ]
     },
     "metadata": {
      "needs_background": "light"
     },
     "output_type": "display_data"
    }
   ],
   "source": [
    "# INCOME OUTLIERS NOT REMOVED\n",
    "# Plot ROC curve to evaluate the models \n",
    "# 'How far up can I go without having to go too far to the right?'\n",
    "\n",
    "lr = plot_roc_curve(model_lr, X_val, y_val, label='Logistic')\n",
    "rf = plot_roc_curve(model_rf, X_val, y_val, ax=lr.ax_, label='Random Forest')\n",
    "xgb = plot_roc_curve(model_xgb, X_val, y_val, ax=lr.ax_, label='XGBoost')\n",
    "plt.plot([(0,0), (1,1)], color='grey', linestyle='--')\n",
    "plt.legend();"
   ]
  },
  {
   "cell_type": "code",
   "execution_count": 1022,
   "metadata": {},
   "outputs": [
    {
     "name": "stdout",
     "output_type": "stream",
     "text": [
      "Logistic: ROA-AUC Score: 69.98%\n",
      "Random Forest: ROC-AUC Score:: 71.22%\n",
      "XGBoost: ROC-AUC Score:: 67.42%\n"
     ]
    }
   ],
   "source": [
    "print('Logistic: ROA-AUC Score: {:.2f}%'.format(roc_auc_score(y_val, model_lr.predict(X_val))*100))\n",
    "print('Random Forest: ROC-AUC Score:: {:.2f}%'.format(roc_auc_score(y_val, model_rf.predict(X_val))*100))\n",
    "print('XGBoost: ROC-AUC Score:: {:.2f}%'.format(roc_auc_score(y_val, model_xgb.predict(X_val))*100))"
   ]
  },
  {
   "cell_type": "code",
   "execution_count": 923,
   "metadata": {},
   "outputs": [
    {
     "data": {
      "image/png": "[encoded data removed]",
      "text/plain": [
       "<Figure size 432x288 with 1 Axes>"
      ]
     },
     "metadata": {
      "needs_background": "light"
     },
     "output_type": "display_data"
    }
   ],
   "source": [
    "# INCOME OUTLIERS REMOVED\n",
    "\n",
    "lr = plot_roc_curve(model_lr, X_val, y_val, label='Logistic')\n",
    "rf = plot_roc_curve(model_rf, X_val, y_val, ax=lr.ax_, label='Random Forest')\n",
    "xgb = plot_roc_curve(model_xgb, X_val, y_val, ax=lr.ax_, label='XGBoost')\n",
    "plt.plot([(0,0), (1,1)], color='grey', linestyle='--')\n",
    "plt.legend();"
   ]
  },
  {
   "cell_type": "code",
   "execution_count": 924,
   "metadata": {},
   "outputs": [
    {
     "name": "stdout",
     "output_type": "stream",
     "text": [
      "Logistic: ROA-AUC Score: 69.44%\n",
      "Random Forest: ROC-AUC Score:: 69.75%\n",
      "XGBoost: ROC-AUC Score:: 70.37%\n"
     ]
    }
   ],
   "source": [
    "print('Logistic: ROA-AUC Score: {:.2f}%'.format(roc_auc_score(y_val, model_lr.predict(X_val))*100))\n",
    "print('Random Forest: ROC-AUC Score:: {:.2f}%'.format(roc_auc_score(y_val, model_rf.predict(X_val))*100))\n",
    "print('XGBoost: ROC-AUC Score:: {:.2f}%'.format(roc_auc_score(y_val, model_xgb.predict(X_val))*100))"
   ]
  },
  {
   "cell_type": "code",
   "execution_count": null,
   "metadata": {},
   "outputs": [],
   "source": [
    "# Not the greatest looking curves."
   ]
  },
  {
   "cell_type": "markdown",
   "metadata": {},
   "source": [
    "# VII. Tune Model & Recheck Metrics"
   ]
  },
  {
   "cell_type": "code",
   "execution_count": 925,
   "metadata": {},
   "outputs": [
    {
     "data": {
      "text/plain": [
       "self_employed         0.016080\n",
       "gender                0.019379\n",
       "education             0.019456\n",
       "married               0.025057\n",
       "loan_amount_term      0.026084\n",
       "dependents            0.037052\n",
       "property_area         0.054505\n",
       "coapplicant_income    0.074824\n",
       "loan_amount           0.130382\n",
       "applicant_income      0.155213\n",
       "loan_to_income        0.176076\n",
       "credit_history        0.265893\n",
       "dtype: float64"
      ]
     },
     "execution_count": 925,
     "metadata": {},
     "output_type": "execute_result"
    }
   ],
   "source": [
    "# Let's look at the feature importances of our RF and XGBoost Classifier model.\n",
    "\n",
    "# Random Forest Classifier\n",
    "importances = model_rf.named_steps['randomforestclassifier'].feature_importances_\n",
    "features = X_train.columns\n",
    "feat_imp = pd.Series(importances, index=features).sort_values()\n",
    "feat_imp"
   ]
  },
  {
   "cell_type": "code",
   "execution_count": 926,
   "metadata": {},
   "outputs": [
    {
     "data": {
      "image/png": "[encoded data removed]",
      "text/plain": [
       "<Figure size 432x288 with 1 Axes>"
      ]
     },
     "metadata": {
      "needs_background": "light"
     },
     "output_type": "display_data"
    }
   ],
   "source": [
    "feat_imp.tail(10).plot(kind='barh')\n",
    "plt.xlabel('Gini Importance')\n",
    "plt.ylabel('Feature')\n",
    "plt.title('Feature Importances for RF model')\n",
    "plt.show()"
   ]
  },
  {
   "cell_type": "code",
   "execution_count": 927,
   "metadata": {},
   "outputs": [],
   "source": [
    "# Let's permute the data - we'll shuffle the data in a column to create \n",
    "# noise-static.  We can see how much it previously helped the model's\n",
    "# prediction by taking away it's predictive power.\n",
    "\n",
    "perm_imp = permutation_importance(\n",
    "    model_rf,\n",
    "    X_val, # Always use your VALIDATION set\n",
    "    y_val,\n",
    "    n_jobs=-1,\n",
    "    random_state=42\n",
    ")"
   ]
  },
  {
   "cell_type": "code",
   "execution_count": 928,
   "metadata": {},
   "outputs": [
    {
     "data": {
      "text/plain": [
       "dict_keys(['importances_mean', 'importances_std', 'importances'])"
      ]
     },
     "execution_count": 928,
     "metadata": {},
     "output_type": "execute_result"
    }
   ],
   "source": [
    "perm_imp.keys()"
   ]
  },
  {
   "cell_type": "code",
   "execution_count": 929,
   "metadata": {},
   "outputs": [],
   "source": [
    "# Put results into a DataFrame\n",
    "data = {'importances_mean': perm_imp['importances_mean'],\n",
    "        'importances_std': perm_imp['importances_std']}\n",
    "\n",
    "df = pd.DataFrame(data, index=X_val.columns)\n",
    "df.sort_values(by='importances_mean', inplace=True)"
   ]
  },
  {
   "cell_type": "code",
   "execution_count": 930,
   "metadata": {},
   "outputs": [
    {
     "data": {
      "text/html": [
       "<div>\n",
       "<style scoped>\n",
       "    .dataframe tbody tr th:only-of-type {\n",
       "        vertical-align: middle;\n",
       "    }\n",
       "\n",
       "    .dataframe tbody tr th {\n",
       "        vertical-align: top;\n",
       "    }\n",
       "\n",
       "    .dataframe thead th {\n",
       "        text-align: right;\n",
       "    }\n",
       "</style>\n",
       "<table border=\"1\" class=\"dataframe\">\n",
       "  <thead>\n",
       "    <tr style=\"text-align: right;\">\n",
       "      <th></th>\n",
       "      <th>importances_mean</th>\n",
       "      <th>importances_std</th>\n",
       "    </tr>\n",
       "  </thead>\n",
       "  <tbody>\n",
       "    <tr>\n",
       "      <th>property_area</th>\n",
       "      <td>-0.020513</td>\n",
       "      <td>0.006838</td>\n",
       "    </tr>\n",
       "    <tr>\n",
       "      <th>applicant_income</th>\n",
       "      <td>-0.015385</td>\n",
       "      <td>0.006396</td>\n",
       "    </tr>\n",
       "    <tr>\n",
       "      <th>coapplicant_income</th>\n",
       "      <td>-0.010256</td>\n",
       "      <td>0.009967</td>\n",
       "    </tr>\n",
       "    <tr>\n",
       "      <th>education</th>\n",
       "      <td>-0.006838</td>\n",
       "      <td>0.003419</td>\n",
       "    </tr>\n",
       "    <tr>\n",
       "      <th>gender</th>\n",
       "      <td>-0.003419</td>\n",
       "      <td>0.004187</td>\n",
       "    </tr>\n",
       "    <tr>\n",
       "      <th>dependents</th>\n",
       "      <td>0.000000</td>\n",
       "      <td>0.000000</td>\n",
       "    </tr>\n",
       "    <tr>\n",
       "      <th>loan_amount</th>\n",
       "      <td>0.001709</td>\n",
       "      <td>0.012561</td>\n",
       "    </tr>\n",
       "    <tr>\n",
       "      <th>self_employed</th>\n",
       "      <td>0.006838</td>\n",
       "      <td>0.003419</td>\n",
       "    </tr>\n",
       "    <tr>\n",
       "      <th>loan_amount_term</th>\n",
       "      <td>0.006838</td>\n",
       "      <td>0.006396</td>\n",
       "    </tr>\n",
       "    <tr>\n",
       "      <th>married</th>\n",
       "      <td>0.017094</td>\n",
       "      <td>0.012087</td>\n",
       "    </tr>\n",
       "    <tr>\n",
       "      <th>loan_to_income</th>\n",
       "      <td>0.017094</td>\n",
       "      <td>0.012087</td>\n",
       "    </tr>\n",
       "    <tr>\n",
       "      <th>credit_history</th>\n",
       "      <td>0.140171</td>\n",
       "      <td>0.029902</td>\n",
       "    </tr>\n",
       "  </tbody>\n",
       "</table>\n",
       "</div>"
      ],
      "text/plain": [
       "                    importances_mean  importances_std\n",
       "property_area              -0.020513         0.006838\n",
       "applicant_income           -0.015385         0.006396\n",
       "coapplicant_income         -0.010256         0.009967\n",
       "education                  -0.006838         0.003419\n",
       "gender                     -0.003419         0.004187\n",
       "dependents                  0.000000         0.000000\n",
       "loan_amount                 0.001709         0.012561\n",
       "self_employed               0.006838         0.003419\n",
       "loan_amount_term            0.006838         0.006396\n",
       "married                     0.017094         0.012087\n",
       "loan_to_income              0.017094         0.012087\n",
       "credit_history              0.140171         0.029902"
      ]
     },
     "execution_count": 930,
     "metadata": {},
     "output_type": "execute_result"
    }
   ],
   "source": [
    "df"
   ]
  },
  {
   "cell_type": "code",
   "execution_count": 931,
   "metadata": {},
   "outputs": [
    {
     "data": {
      "image/png": "[encoded data removed]",
      "text/plain": [
       "<Figure size 432x288 with 1 Axes>"
      ]
     },
     "metadata": {
      "needs_background": "light"
     },
     "output_type": "display_data"
    }
   ],
   "source": [
    "df['importances_mean'].tail(10).plot(kind='barh')\n",
    "plt.xlabel('Importance (drop in accuracy)')\n",
    "plt.ylabel('Feature')\n",
    "plt.title('Permutation importance for model_xgb')\n",
    "plt.show()"
   ]
  },
  {
   "cell_type": "code",
   "execution_count": 932,
   "metadata": {},
   "outputs": [
    {
     "data": {
      "text/plain": [
       "loan_amount           0.034179\n",
       "dependents            0.041750\n",
       "loan_to_income        0.043397\n",
       "education             0.044032\n",
       "coapplicant_income    0.044152\n",
       "applicant_income      0.044589\n",
       "gender                0.051480\n",
       "married               0.053105\n",
       "self_employed         0.056931\n",
       "loan_amount_term      0.066758\n",
       "property_area         0.072206\n",
       "credit_history        0.447420\n",
       "dtype: float32"
      ]
     },
     "execution_count": 932,
     "metadata": {},
     "output_type": "execute_result"
    }
   ],
   "source": [
    "# XGBoost\n",
    "importances = model_xgb.named_steps['xgbclassifier'].feature_importances_\n",
    "features = X_train.columns\n",
    "feat_imp = pd.Series(importances, index=features).sort_values()\n",
    "feat_imp"
   ]
  },
  {
   "cell_type": "code",
   "execution_count": 933,
   "metadata": {},
   "outputs": [
    {
     "data": {
      "image/png": "[encoded data removed]",
      "text/plain": [
       "<Figure size 432x288 with 1 Axes>"
      ]
     },
     "metadata": {
      "needs_background": "light"
     },
     "output_type": "display_data"
    }
   ],
   "source": [
    "feat_imp.tail(10).plot(kind='barh')\n",
    "plt.xlabel('Gini Importance')\n",
    "plt.ylabel('Feature')\n",
    "plt.title('Feature Importances for XGB model')\n",
    "plt.show()"
   ]
  },
  {
   "cell_type": "code",
   "execution_count": 934,
   "metadata": {},
   "outputs": [],
   "source": [
    "# Put results into a DataFrame\n",
    "data = {'importances_mean': perm_imp['importances_mean'],\n",
    "        'importances_std': perm_imp['importances_std']}\n",
    "\n",
    "df = pd.DataFrame(data, index=X_val.columns)\n",
    "df.sort_values(by='importances_mean', inplace=True)"
   ]
  },
  {
   "cell_type": "code",
   "execution_count": 935,
   "metadata": {},
   "outputs": [
    {
     "data": {
      "image/png": "[encoded data removed]",
      "text/plain": [
       "<Figure size 432x288 with 1 Axes>"
      ]
     },
     "metadata": {
      "needs_background": "light"
     },
     "output_type": "display_data"
    }
   ],
   "source": [
    "df['importances_mean'].tail(10).plot(kind='barh')\n",
    "plt.xlabel('Importance (drop in accuracy)')\n",
    "plt.ylabel('Feature')\n",
    "plt.title('Permutation importance for model_xgb')\n",
    "plt.show()"
   ]
  },
  {
   "cell_type": "code",
   "execution_count": null,
   "metadata": {},
   "outputs": [],
   "source": [
    "# It looks like 'gender', 'education', and 'coapplicant_income' detract from the model's predictive power.\n",
    "# Regarding 'coapplicant_income', I theorize that the no 0 incidated most frequently, may at times be due \n",
    "# households with a single income but two names on the note, or it may indicate that these loans were \n",
    "# made by a single person and it was filled with a zero. "
   ]
  },
  {
   "cell_type": "code",
   "execution_count": 1056,
   "metadata": {},
   "outputs": [
    {
     "name": "stdout",
     "output_type": "stream",
     "text": [
      "Training Accuracy (LOGR): 82.19%\n",
      "Validation Accuracy (LOGR): 80.34%\n"
     ]
    }
   ],
   "source": [
    "# Training and Validation accuracy of our Logistic Regression model \n",
    "\n",
    "print('Training Accuracy (LOGR): {:.2f}%'.format(model_lr.score(X_train, y_train)*100))\n",
    "print('Validation Accuracy (LOGR): {:.2f}%'.format(model_lr.score(X_val, y_val)*100))"
   ]
  },
  {
   "cell_type": "code",
   "execution_count": 1057,
   "metadata": {},
   "outputs": [
    {
     "name": "stdout",
     "output_type": "stream",
     "text": [
      "Training Accuracy(RF): 100.00%\n",
      "Validation Accuracy (RF): 80.34%\n"
     ]
    }
   ],
   "source": [
    "# Training and Validation accuracy of our Random Forest Classifier model\n",
    "# Performance improved\n",
    "\n",
    "print('Training Accuracy(RF): {:.2f}%'.format(model_rf.score(X_train, y_train)*100))\n",
    "print('Validation Accuracy (RF): {:.2f}%'.format(model_rf.score(X_val, y_val)*100))"
   ]
  },
  {
   "cell_type": "code",
   "execution_count": 1058,
   "metadata": {},
   "outputs": [
    {
     "name": "stdout",
     "output_type": "stream",
     "text": [
      "Training Accuracy(XGB): 100.00%\n",
      "Validation Accuracy (XGB): 81.20%\n"
     ]
    }
   ],
   "source": [
    "# Training and Validation accuracy of our XGBoost Classifier model\n",
    "# Performance improved\n",
    "\n",
    "print('Training Accuracy(XGB): {:.2f}%'.format(model_xgb.score(X_train, y_train)*100))\n",
    "print('Validation Accuracy (XGB): {:.2f}%'.format(model_xgb.score(X_val, y_val)*100))"
   ]
  },
  {
   "cell_type": "code",
   "execution_count": null,
   "metadata": {},
   "outputs": [],
   "source": [
    "# Let's try some hyperparameter tuning of the models. "
   ]
  },
  {
   "cell_type": "code",
   "execution_count": 806,
   "metadata": {},
   "outputs": [],
   "source": [
    "# Tune Logistic Regression Model\n",
    "\n",
    "penalty_variants = ['l2', 'none']\n",
    "solver_variants = ['newton-cg', 'lbfgs', 'liblinear', 'sag', 'saga']\n",
    "\n",
    "# No effect witnessed with tuning of this hyperparameter\n",
    "# for _ in penalty_variants:\n",
    "#     model_lr_tune = make_pipeline(\n",
    "#         OneHotEncoder(use_cat_names=True),\n",
    "#         StandardScaler(),\n",
    "#         LogisticRegression(penalty=_)\n",
    "#     )\n",
    "#     model_lr_tune.fit(X_train, y_train);\n",
    "#     print(_, 'Validation Accuracy (LOGR_penalty_tuned):', model_lr.score(X_val, y_val), \"\\n\")\n",
    "\n",
    "# No effect witnessed with tuning of this hyperparameter\n",
    "# for _ in range(1, 11):\n",
    "#     model_lr_tune = make_pipeline(\n",
    "#         OneHotEncoder(use_cat_names=True),\n",
    "#         StandardScaler(),\n",
    "#         LogisticRegression(C=_)\n",
    "#     )\n",
    "#     model_lr_tune.fit(X_train, y_train);\n",
    "#     print(_, 'Validation Accuracy (LOGR_penalty_tuned):', model_lr.score(X_val, y_val), \"\\n\")\n",
    "\n",
    "# No effect witnessed with tuning of this hyperparameter\n",
    "# for _ in solver_variants:\n",
    "#     model_lr_tune = make_pipeline(\n",
    "#         OneHotEncoder(use_cat_names=True),\n",
    "#         StandardScaler(),\n",
    "#         LogisticRegression(solver=_)\n",
    "#     )\n",
    "#     model_lr_tune.fit(X_train, y_train);\n",
    "#     print(_, 'Validation Accuracy (LOGR_penalty_tuned):', model_lr.score(X_val, y_val), \"\\n\")"
   ]
  },
  {
   "cell_type": "code",
   "execution_count": 1059,
   "metadata": {},
   "outputs": [],
   "source": [
    "# Complete a RandomizedSearchCV for our RF model\n",
    "\n",
    "params = {'randomforestclassifier__n_estimators': np.arange(20, 100, 5), \n",
    "          'randomforestclassifier__max_depth': np.arange(10, 75, 5),\n",
    "          'randomforestclassifier__max_samples': np.arange(0.1, 0.99, 0.1)}\n",
    "\n",
    "rf_rs = RandomizedSearchCV(model_rf, param_distributions=params, n_iter=10, cv=5, n_jobs=-1, verbose=1)"
   ]
  },
  {
   "cell_type": "code",
   "execution_count": 1060,
   "metadata": {},
   "outputs": [
    {
     "name": "stdout",
     "output_type": "stream",
     "text": [
      "Fitting 5 folds for each of 10 candidates, totalling 50 fits\n"
     ]
    },
    {
     "name": "stderr",
     "output_type": "stream",
     "text": [
      "[Parallel(n_jobs=-1)]: Using backend LokyBackend with 12 concurrent workers.\n",
      "[Parallel(n_jobs=-1)]: Done  26 tasks      | elapsed:    2.6s\n",
      "[Parallel(n_jobs=-1)]: Done  50 out of  50 | elapsed:    3.2s finished\n",
      "/Users/frankhowd/.local/share/virtualenvs/DS-Unit-2-Applied-Modeling-YelssOLa/lib/python3.8/site-packages/category_encoders/utils.py:21: FutureWarning: is_categorical is deprecated and will be removed in a future version.  Use is_categorical_dtype instead\n",
      "  elif pd.api.types.is_categorical(cols):\n"
     ]
    }
   ],
   "source": [
    "rf_rs.fit(X_train, y_train);"
   ]
  },
  {
   "cell_type": "code",
   "execution_count": 1061,
   "metadata": {},
   "outputs": [
    {
     "data": {
      "text/plain": [
       "0.8219858156028369"
      ]
     },
     "execution_count": 1061,
     "metadata": {},
     "output_type": "execute_result"
    }
   ],
   "source": [
    "# Score is imporoved to nearly 83%\n",
    "\n",
    "rf_rs.best_score_"
   ]
  },
  {
   "cell_type": "code",
   "execution_count": 1062,
   "metadata": {},
   "outputs": [
    {
     "data": {
      "text/plain": [
       "{'randomforestclassifier__n_estimators': 85,\n",
       " 'randomforestclassifier__max_samples': 0.30000000000000004,\n",
       " 'randomforestclassifier__max_depth': 30}"
      ]
     },
     "execution_count": 1062,
     "metadata": {},
     "output_type": "execute_result"
    }
   ],
   "source": [
    "rf_rs.best_params_"
   ]
  },
  {
   "cell_type": "code",
   "execution_count": 1063,
   "metadata": {},
   "outputs": [],
   "source": [
    "# Model 2: Random Forest Classifier Model with best params\n",
    "\n",
    "model_rf = make_pipeline(\n",
    "    OrdinalEncoder(),\n",
    "    RandomForestClassifier(n_estimators=85, max_samples=0.3, max_depth=30,\n",
    "                           n_jobs=-1, random_state=42)\n",
    ")\n",
    "\n",
    "model_rf.fit(X_train, y_train);"
   ]
  },
  {
   "cell_type": "code",
   "execution_count": 1064,
   "metadata": {},
   "outputs": [
    {
     "name": "stdout",
     "output_type": "stream",
     "text": [
      "Training Accuracy(RF): 87.98%\n",
      "Validation Accuracy (RF): 82.91%\n"
     ]
    }
   ],
   "source": [
    "# Training and Validation accuracy of our Random Forest Classifier model\n",
    "\n",
    "print('Training Accuracy(RF): {:.2f}%'.format(model_rf.score(X_train, y_train)*100))\n",
    "print('Validation Accuracy (RF): {:.2f}%'.format(model_rf.score(X_val, y_val)*100))"
   ]
  },
  {
   "cell_type": "code",
   "execution_count": 1041,
   "metadata": {},
   "outputs": [
    {
     "data": {
      "image/png": "[encoded data removed]",
      "text/plain": [
       "<Figure size 432x288 with 1 Axes>"
      ]
     },
     "metadata": {
      "needs_background": "light"
     },
     "output_type": "display_data"
    }
   ],
   "source": [
    "# Final ROC curve\n",
    "\n",
    "lr = plot_roc_curve(model_lr, X_val, y_val, label='Logistic')\n",
    "rf = plot_roc_curve(model_rf, X_val, y_val, ax=lr.ax_, label='Random Forest')\n",
    "xgb = plot_roc_curve(model_xgb, X_val, y_val, ax=lr.ax_, label='XGBoost')\n",
    "plt.plot([(0,0), (1,1)], color='grey', linestyle='--')\n",
    "plt.legend();"
   ]
  },
  {
   "cell_type": "code",
   "execution_count": 1042,
   "metadata": {},
   "outputs": [
    {
     "name": "stdout",
     "output_type": "stream",
     "text": [
      "Logistic: ROA-AUC Score: 68.83%\n",
      "Random Forest: ROC-AUC Score:: 70.99%\n",
      "XGBoost: ROC-AUC Score:: 72.53%\n"
     ]
    }
   ],
   "source": [
    "print('Logistic: ROA-AUC Score: {:.2f}%'.format(roc_auc_score(y_val, model_lr.predict(X_val))*100))\n",
    "print('Random Forest: ROC-AUC Score:: {:.2f}%'.format(roc_auc_score(y_val, model_rf.predict(X_val))*100))\n",
    "print('XGBoost: ROC-AUC Score:: {:.2f}%'.format(roc_auc_score(y_val, model_xgb.predict(X_val))*100))"
   ]
  },
  {
   "cell_type": "code",
   "execution_count": null,
   "metadata": {},
   "outputs": [],
   "source": []
  }
 ],
 "metadata": {
  "kernelspec": {
   "display_name": "Python 3",
   "language": "python",
   "name": "python3"
  },
  "language_info": {
   "codemirror_mode": {
    "name": "ipython",
    "version": 3
   },
   "file_extension": ".py",
   "mimetype": "text/x-python",
   "name": "python",
   "nbconvert_exporter": "python",
   "pygments_lexer": "ipython3",
   "version": "3.8.2"
  }
 },
 "nbformat": 4,
 "nbformat_minor": 4
}
