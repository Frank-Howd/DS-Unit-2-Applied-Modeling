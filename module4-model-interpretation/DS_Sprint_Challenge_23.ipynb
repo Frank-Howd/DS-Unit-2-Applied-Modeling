{
 "cells": [
  {
   "cell_type": "markdown",
   "metadata": {
    "deletable": false,
    "editable": false,
    "nbgrader": {
     "cell_type": "markdown",
     "checksum": "26331cfec4792162c2f8fe9b562702d2",
     "grade": false,
     "grade_id": "cell-f2b2468124042cfe",
     "locked": true,
     "schema_version": 3,
     "solution": false,
     "task": false
    }
   },
   "source": [
    "_Lambda School Data Science, Unit 2_\n",
    "\n",
    "---\n",
    "\n",
    "👇 **Do not change the code in this cell.** If you're working in Google Colab, you can run this cell to install `category_encoders` and `pdpbox`."
   ]
  },
  {
   "cell_type": "code",
   "execution_count": null,
   "metadata": {
    "deletable": false,
    "editable": false,
    "nbgrader": {
     "cell_type": "code",
     "checksum": "6e84593629f1e735cc6423e463199480",
     "grade": false,
     "grade_id": "cell-656c869f2d287493",
     "locked": true,
     "schema_version": 3,
     "solution": false,
     "task": false
    }
   },
   "outputs": [],
   "source": [
    "%%capture\n",
    "import sys\n",
    "\n",
    "if 'google.colab' in sys.modules:\n",
    "    !pip install category_encoders\n",
    "    !pip install pdpbox"
   ]
  },
  {
   "cell_type": "markdown",
   "metadata": {
    "deletable": false,
    "editable": false,
    "nbgrader": {
     "cell_type": "markdown",
     "checksum": "be6f7489d8b09d515eed676f06ac2d3b",
     "grade": false,
     "grade_id": "cell-dbdc2fe26ba31738",
     "locked": true,
     "schema_version": 3,
     "solution": false,
     "task": false
    }
   },
   "source": [
    "# Sprint Challenge: Predict Chicago Food Inspections 🍕\n",
    "\n",
    "In this challenge, you'll use data from the [Chicago Department of Public Health](https://www.chicago.gov/city/en/depts/cdph/provdrs/healthy_restaurants/svcs/food-protection-services.html) to build a model to predict whether a food establishment passed inspection or not.\n",
    "\n",
    "The purpose of this model is to help inspectors use their time more efficiently by identifying establishments that will likely fail inspection. In other words, this model should be able to predict whether an establishment will fail inspection *before* the inspector arrives at the establishment. \n",
    "\n",
    "# Directions\n",
    "\n",
    "This notebook contains 12 tasks, which cover the material we've learned in this sprint. Here's a summary:\n",
    "\n",
    "- **Task 1:** Importing data.\n",
    "- **Task 2:** Identifying data leakage.\n",
    "- **Task 3:** Writing a wrangle function.\n",
    "- **Task 4:** Splitting data into a feature matrix and target vector.\n",
    "- **Task 5:** Splitting data into training and validation sets.\n",
    "- **Task 6:** Establishing baseline accuracy.\n",
    "- **Task 7:** Building model with bagging predictor.\n",
    "- **Task 8:** Building model with boosting predictor.\n",
    "- **Task 9 (`stretch goal`):** Plotting ROC curves.\n",
    "- **Task 10:** Generating classification report.\n",
    "- **Task 11:** Calculating permutation importances.\n",
    "- **Task 12 (`stretch goal`):** Creating PDP interaction plot.\n",
    "\n",
    "For each task you should do the following:\n",
    "\n",
    "- Read the task instructions.\n",
    "- Write your code in the cell below the task. Delete the `raise NotImplementedError` before your start.\n",
    "- Run the testing cell below the task. If you get an error, read the error message and re-evaluate your code.\n",
    "\n",
    "**You should limit your code to the following libraries:**\n",
    "\n",
    "- `category_encoders`\n",
    "- `numpy`\n",
    "- `matplotlib`\n",
    "- `pandas`\n",
    "- `pdpbox`\n",
    "- `sklearn`\n",
    "- `xgboost`\n",
    "\n",
    "**A word of warning:** The virtual machine that will check your answers is small. So, where applicable, don't use huge values for `n_estimators` (`>100`) or `n_jobs` (keep at `-1`). \n",
    "\n",
    "If you'd like to import all your libraries at the start of your notebook, you can do so in the code block below 👇"
   ]
  },
  {
   "cell_type": "code",
   "execution_count": 190,
   "metadata": {
    "deletable": false,
    "nbgrader": {
     "cell_type": "code",
     "checksum": "313c53b0dc59a11bb7bfaefbf995fe2c",
     "grade": false,
     "grade_id": "cell-44be413734e30691",
     "locked": false,
     "schema_version": 3,
     "solution": true,
     "task": false
    }
   },
   "outputs": [],
   "source": [
    "# YOUR CODE HERE\n",
    "\n",
    "import matplotlib.pyplot as plt\n",
    "import numpy as np\n",
    "import pandas as pd\n",
    "\n",
    "from category_encoders import OneHotEncoder, OrdinalEncoder\n",
    "from pdpbox.pdp import pdp_isolate, pdp_plot, pdp_interact, pdp_interact_plot\n",
    "from sklearn.ensemble import RandomForestClassifier\n",
    "from sklearn.impute import SimpleImputer\n",
    "from sklearn.inspection import permutation_importance\n",
    "from sklearn.metrics import classification_report, plot_roc_curve, roc_auc_score\n",
    "from sklearn.model_selection import train_test_split, RandomizedSearchCV\n",
    "from sklearn.pipeline import make_pipeline\n",
    "from xgboost import XGBClassifier"
   ]
  },
  {
   "cell_type": "markdown",
   "metadata": {
    "deletable": false,
    "editable": false,
    "nbgrader": {
     "cell_type": "markdown",
     "checksum": "48dd82293df0d9af1aa7efac7f7468fa",
     "grade": false,
     "grade_id": "cell-602d346d44303e87",
     "locked": true,
     "schema_version": 3,
     "solution": false,
     "task": false
    }
   },
   "source": [
    "# I. Wrangle Data\n",
    "\n",
    "**Task 1:** Change the code below to import your dataset. Be sure to examine the columns carefully and determine if one of them should be set as the index."
   ]
  },
  {
   "cell_type": "code",
   "execution_count": 230,
   "metadata": {
    "deletable": false,
    "nbgrader": {
     "cell_type": "code",
     "checksum": "dafd956974169191567e3544c18186a5",
     "grade": false,
     "grade_id": "cell-8b9246d8d97a80ff",
     "locked": false,
     "schema_version": 3,
     "solution": true,
     "task": false
    }
   },
   "outputs": [],
   "source": [
    "'''T1. Import data file.'''\n",
    "url = 'https://drive.google.com/uc?export=download&id=1aUnQ4AJK4UtW8JL9zPyYUMtkjIgQpqKT'\n",
    "\n",
    "# YOUR CODE HERE\n",
    "df = pd.read_csv(url,\n",
    "                 parse_dates=['Inspection Date'],\n",
    "                 index_col='Inspection Date').sort_index()"
   ]
  },
  {
   "cell_type": "code",
   "execution_count": 231,
   "metadata": {},
   "outputs": [
    {
     "name": "stdout",
     "output_type": "stream",
     "text": [
      "(51916, 17) \n",
      "\n"
     ]
    },
    {
     "data": {
      "text/html": [
       "<div>\n",
       "<style scoped>\n",
       "    .dataframe tbody tr th:only-of-type {\n",
       "        vertical-align: middle;\n",
       "    }\n",
       "\n",
       "    .dataframe tbody tr th {\n",
       "        vertical-align: top;\n",
       "    }\n",
       "\n",
       "    .dataframe thead th {\n",
       "        text-align: right;\n",
       "    }\n",
       "</style>\n",
       "<table border=\"1\" class=\"dataframe\">\n",
       "  <thead>\n",
       "    <tr style=\"text-align: right;\">\n",
       "      <th></th>\n",
       "      <th>Inspection ID</th>\n",
       "      <th>DBA Name</th>\n",
       "      <th>AKA Name</th>\n",
       "      <th>License #</th>\n",
       "      <th>Facility Type</th>\n",
       "      <th>Risk</th>\n",
       "      <th>Address</th>\n",
       "      <th>City</th>\n",
       "      <th>State</th>\n",
       "      <th>Zip</th>\n",
       "      <th>Inspection Type</th>\n",
       "      <th>Violations</th>\n",
       "      <th>Latitude</th>\n",
       "      <th>Longitude</th>\n",
       "      <th>Location</th>\n",
       "      <th>Fail</th>\n",
       "      <th>Serious Violations Found</th>\n",
       "    </tr>\n",
       "    <tr>\n",
       "      <th>Inspection Date</th>\n",
       "      <th></th>\n",
       "      <th></th>\n",
       "      <th></th>\n",
       "      <th></th>\n",
       "      <th></th>\n",
       "      <th></th>\n",
       "      <th></th>\n",
       "      <th></th>\n",
       "      <th></th>\n",
       "      <th></th>\n",
       "      <th></th>\n",
       "      <th></th>\n",
       "      <th></th>\n",
       "      <th></th>\n",
       "      <th></th>\n",
       "      <th></th>\n",
       "      <th></th>\n",
       "    </tr>\n",
       "  </thead>\n",
       "  <tbody>\n",
       "    <tr>\n",
       "      <th>2010-01-04</th>\n",
       "      <td>70269</td>\n",
       "      <td>mr.daniel's</td>\n",
       "      <td>mr.daniel's</td>\n",
       "      <td>1899292.0</td>\n",
       "      <td>Restaurant</td>\n",
       "      <td>Risk 1 (High)</td>\n",
       "      <td>5645 W BELMONT AVE</td>\n",
       "      <td>CHICAGO</td>\n",
       "      <td>IL</td>\n",
       "      <td>60634.0</td>\n",
       "      <td>License Re-Inspection</td>\n",
       "      <td>NaN</td>\n",
       "      <td>41.938443</td>\n",
       "      <td>-87.768318</td>\n",
       "      <td>{'longitude': '-87.76831838068422', 'latitude'...</td>\n",
       "      <td>0</td>\n",
       "      <td>NaN</td>\n",
       "    </tr>\n",
       "    <tr>\n",
       "      <th>2010-01-04</th>\n",
       "      <td>67732</td>\n",
       "      <td>WOLCOTT'S</td>\n",
       "      <td>TROQUET</td>\n",
       "      <td>1992039.0</td>\n",
       "      <td>Restaurant</td>\n",
       "      <td>Risk 1 (High)</td>\n",
       "      <td>1834 W MONTROSE AVE</td>\n",
       "      <td>CHICAGO</td>\n",
       "      <td>IL</td>\n",
       "      <td>60613.0</td>\n",
       "      <td>License Re-Inspection</td>\n",
       "      <td>NaN</td>\n",
       "      <td>41.961606</td>\n",
       "      <td>-87.675967</td>\n",
       "      <td>{'longitude': '-87.67596676683779', 'latitude'...</td>\n",
       "      <td>0</td>\n",
       "      <td>NaN</td>\n",
       "    </tr>\n",
       "    <tr>\n",
       "      <th>2010-01-05</th>\n",
       "      <td>96246</td>\n",
       "      <td>THE LEARNING TREE II</td>\n",
       "      <td>THE LEARNING TREE II</td>\n",
       "      <td>1869843.0</td>\n",
       "      <td>Daycare Above and Under 2 Years</td>\n",
       "      <td>Risk 1 (High)</td>\n",
       "      <td>8233 S PULASKI RD</td>\n",
       "      <td>CHICAGO</td>\n",
       "      <td>IL</td>\n",
       "      <td>60652.0</td>\n",
       "      <td>License</td>\n",
       "      <td>NaN</td>\n",
       "      <td>41.742993</td>\n",
       "      <td>-87.721558</td>\n",
       "      <td>{'longitude': '-87.72155821260196', 'latitude'...</td>\n",
       "      <td>0</td>\n",
       "      <td>NaN</td>\n",
       "    </tr>\n",
       "    <tr>\n",
       "      <th>2010-01-05</th>\n",
       "      <td>70273</td>\n",
       "      <td>THE GREAT AMERICAN BAGEL</td>\n",
       "      <td>THE GREAT AMERICAN BAGEL (T3-H10)</td>\n",
       "      <td>1879164.0</td>\n",
       "      <td>Restaurant</td>\n",
       "      <td>Risk 1 (High)</td>\n",
       "      <td>11601 W TOUHY AVE</td>\n",
       "      <td>CHICAGO</td>\n",
       "      <td>IL</td>\n",
       "      <td>60666.0</td>\n",
       "      <td>Canvass</td>\n",
       "      <td>9. WATER SOURCE: SAFE, HOT &amp; COLD UNDER CITY P...</td>\n",
       "      <td>42.008536</td>\n",
       "      <td>-87.914428</td>\n",
       "      <td>{'longitude': '-87.91442843927047', 'latitude'...</td>\n",
       "      <td>1</td>\n",
       "      <td>0.0</td>\n",
       "    </tr>\n",
       "    <tr>\n",
       "      <th>2010-01-05</th>\n",
       "      <td>67758</td>\n",
       "      <td>SU TAQUERIA EL GALLO BRAVO #4</td>\n",
       "      <td>SU TAQUERIA EL GALLO BRAVO #4</td>\n",
       "      <td>1766968.0</td>\n",
       "      <td>Restaurant</td>\n",
       "      <td>Risk 1 (High)</td>\n",
       "      <td>5650 W GRAND AVE</td>\n",
       "      <td>CHICAGO</td>\n",
       "      <td>IL</td>\n",
       "      <td>60639.0</td>\n",
       "      <td>Complaint</td>\n",
       "      <td>19. OUTSIDE GARBAGE WASTE GREASE AND STORAGE A...</td>\n",
       "      <td>41.919224</td>\n",
       "      <td>-87.767734</td>\n",
       "      <td>{'longitude': '-87.76773430251839', 'latitude'...</td>\n",
       "      <td>1</td>\n",
       "      <td>0.0</td>\n",
       "    </tr>\n",
       "  </tbody>\n",
       "</table>\n",
       "</div>"
      ],
      "text/plain": [
       "                 Inspection ID                       DBA Name  \\\n",
       "Inspection Date                                                 \n",
       "2010-01-04               70269                    mr.daniel's   \n",
       "2010-01-04               67732                      WOLCOTT'S   \n",
       "2010-01-05               96246           THE LEARNING TREE II   \n",
       "2010-01-05               70273       THE GREAT AMERICAN BAGEL   \n",
       "2010-01-05               67758  SU TAQUERIA EL GALLO BRAVO #4   \n",
       "\n",
       "                                          AKA Name  License #  \\\n",
       "Inspection Date                                                 \n",
       "2010-01-04                             mr.daniel's  1899292.0   \n",
       "2010-01-04                                 TROQUET  1992039.0   \n",
       "2010-01-05                    THE LEARNING TREE II  1869843.0   \n",
       "2010-01-05       THE GREAT AMERICAN BAGEL (T3-H10)  1879164.0   \n",
       "2010-01-05           SU TAQUERIA EL GALLO BRAVO #4  1766968.0   \n",
       "\n",
       "                                   Facility Type           Risk  \\\n",
       "Inspection Date                                                   \n",
       "2010-01-04                            Restaurant  Risk 1 (High)   \n",
       "2010-01-04                            Restaurant  Risk 1 (High)   \n",
       "2010-01-05       Daycare Above and Under 2 Years  Risk 1 (High)   \n",
       "2010-01-05                            Restaurant  Risk 1 (High)   \n",
       "2010-01-05                            Restaurant  Risk 1 (High)   \n",
       "\n",
       "                              Address     City State      Zip  \\\n",
       "Inspection Date                                                 \n",
       "2010-01-04        5645 W BELMONT AVE   CHICAGO    IL  60634.0   \n",
       "2010-01-04       1834 W MONTROSE AVE   CHICAGO    IL  60613.0   \n",
       "2010-01-05         8233 S PULASKI RD   CHICAGO    IL  60652.0   \n",
       "2010-01-05         11601 W TOUHY AVE   CHICAGO    IL  60666.0   \n",
       "2010-01-05          5650 W GRAND AVE   CHICAGO    IL  60639.0   \n",
       "\n",
       "                       Inspection Type  \\\n",
       "Inspection Date                          \n",
       "2010-01-04       License Re-Inspection   \n",
       "2010-01-04       License Re-Inspection   \n",
       "2010-01-05                     License   \n",
       "2010-01-05                     Canvass   \n",
       "2010-01-05                   Complaint   \n",
       "\n",
       "                                                        Violations   Latitude  \\\n",
       "Inspection Date                                                                 \n",
       "2010-01-04                                                     NaN  41.938443   \n",
       "2010-01-04                                                     NaN  41.961606   \n",
       "2010-01-05                                                     NaN  41.742993   \n",
       "2010-01-05       9. WATER SOURCE: SAFE, HOT & COLD UNDER CITY P...  42.008536   \n",
       "2010-01-05       19. OUTSIDE GARBAGE WASTE GREASE AND STORAGE A...  41.919224   \n",
       "\n",
       "                 Longitude                                           Location  \\\n",
       "Inspection Date                                                                 \n",
       "2010-01-04      -87.768318  {'longitude': '-87.76831838068422', 'latitude'...   \n",
       "2010-01-04      -87.675967  {'longitude': '-87.67596676683779', 'latitude'...   \n",
       "2010-01-05      -87.721558  {'longitude': '-87.72155821260196', 'latitude'...   \n",
       "2010-01-05      -87.914428  {'longitude': '-87.91442843927047', 'latitude'...   \n",
       "2010-01-05      -87.767734  {'longitude': '-87.76773430251839', 'latitude'...   \n",
       "\n",
       "                 Fail  Serious Violations Found  \n",
       "Inspection Date                                  \n",
       "2010-01-04          0                       NaN  \n",
       "2010-01-04          0                       NaN  \n",
       "2010-01-05          0                       NaN  \n",
       "2010-01-05          1                       0.0  \n",
       "2010-01-05          1                       0.0  "
      ]
     },
     "execution_count": 231,
     "metadata": {},
     "output_type": "execute_result"
    }
   ],
   "source": [
    "print(df.shape, \"\\n\")\n",
    "df.head()"
   ]
  },
  {
   "cell_type": "markdown",
   "metadata": {
    "deletable": false,
    "editable": false,
    "nbgrader": {
     "cell_type": "markdown",
     "checksum": "493ede874f1e2c163a74021a41d8775d",
     "grade": false,
     "grade_id": "cell-1b2eb047117d89ab",
     "locked": true,
     "schema_version": 3,
     "solution": false,
     "task": false
    }
   },
   "source": [
    "**Task 1 Test**"
   ]
  },
  {
   "cell_type": "code",
   "execution_count": 232,
   "metadata": {
    "deletable": false,
    "editable": false,
    "nbgrader": {
     "cell_type": "code",
     "checksum": "0d68298cfa23877cd61b8ba487c19dc6",
     "grade": true,
     "grade_id": "cell-e9593d4f4ed7a9bb",
     "locked": true,
     "points": 1,
     "schema_version": 3,
     "solution": false,
     "task": false
    }
   },
   "outputs": [],
   "source": [
    "'''T1 Test'''\n",
    "assert isinstance(df, pd.DataFrame), 'Have you created a DataFrame named `df`?'\n",
    "assert len(df) == 51916"
   ]
  },
  {
   "cell_type": "markdown",
   "metadata": {
    "deletable": false,
    "editable": false,
    "nbgrader": {
     "cell_type": "markdown",
     "checksum": "1ee62609b3bf18520406b3837f7843a6",
     "grade": false,
     "grade_id": "cell-9e90dce33ddd0506",
     "locked": true,
     "schema_version": 3,
     "solution": false,
     "task": false
    }
   },
   "source": [
    "**Task 2:** Given that this model is supposed to generate predictions *before* an inspection is conducted, identify the numerical feature that is an example of **data leakage.** Assign the column name to the variable `'leaky_col'`.\n",
    "\n",
    "**Remember:** Leakage is when your feature matrix includes columns that will not be available to your model at the time it make predictions.\n",
    "\n"
   ]
  },
  {
   "cell_type": "code",
   "execution_count": 233,
   "metadata": {},
   "outputs": [
    {
     "data": {
      "text/html": [
       "<div>\n",
       "<style scoped>\n",
       "    .dataframe tbody tr th:only-of-type {\n",
       "        vertical-align: middle;\n",
       "    }\n",
       "\n",
       "    .dataframe tbody tr th {\n",
       "        vertical-align: top;\n",
       "    }\n",
       "\n",
       "    .dataframe thead th {\n",
       "        text-align: right;\n",
       "    }\n",
       "</style>\n",
       "<table border=\"1\" class=\"dataframe\">\n",
       "  <thead>\n",
       "    <tr style=\"text-align: right;\">\n",
       "      <th></th>\n",
       "      <th>Violations</th>\n",
       "      <th>Fail</th>\n",
       "      <th>Serious Violations Found</th>\n",
       "    </tr>\n",
       "    <tr>\n",
       "      <th>Inspection Date</th>\n",
       "      <th></th>\n",
       "      <th></th>\n",
       "      <th></th>\n",
       "    </tr>\n",
       "  </thead>\n",
       "  <tbody>\n",
       "    <tr>\n",
       "      <th>2010-01-04</th>\n",
       "      <td>NaN</td>\n",
       "      <td>0</td>\n",
       "      <td>NaN</td>\n",
       "    </tr>\n",
       "    <tr>\n",
       "      <th>2010-01-04</th>\n",
       "      <td>NaN</td>\n",
       "      <td>0</td>\n",
       "      <td>NaN</td>\n",
       "    </tr>\n",
       "    <tr>\n",
       "      <th>2010-01-05</th>\n",
       "      <td>NaN</td>\n",
       "      <td>0</td>\n",
       "      <td>NaN</td>\n",
       "    </tr>\n",
       "    <tr>\n",
       "      <th>2010-01-05</th>\n",
       "      <td>9. WATER SOURCE: SAFE, HOT &amp; COLD UNDER CITY P...</td>\n",
       "      <td>1</td>\n",
       "      <td>0.0</td>\n",
       "    </tr>\n",
       "    <tr>\n",
       "      <th>2010-01-05</th>\n",
       "      <td>19. OUTSIDE GARBAGE WASTE GREASE AND STORAGE A...</td>\n",
       "      <td>1</td>\n",
       "      <td>0.0</td>\n",
       "    </tr>\n",
       "    <tr>\n",
       "      <th>...</th>\n",
       "      <td>...</td>\n",
       "      <td>...</td>\n",
       "      <td>...</td>\n",
       "    </tr>\n",
       "    <tr>\n",
       "      <th>2019-03-19</th>\n",
       "      <td>NaN</td>\n",
       "      <td>0</td>\n",
       "      <td>NaN</td>\n",
       "    </tr>\n",
       "    <tr>\n",
       "      <th>2019-03-19</th>\n",
       "      <td>3. MANAGEMENT, FOOD EMPLOYEE AND CONDITIONAL E...</td>\n",
       "      <td>1</td>\n",
       "      <td>0.0</td>\n",
       "    </tr>\n",
       "    <tr>\n",
       "      <th>2019-03-20</th>\n",
       "      <td>10. ADEQUATE HANDWASHING SINKS PROPERLY SUPPLI...</td>\n",
       "      <td>1</td>\n",
       "      <td>0.0</td>\n",
       "    </tr>\n",
       "    <tr>\n",
       "      <th>2019-03-20</th>\n",
       "      <td>NaN</td>\n",
       "      <td>0</td>\n",
       "      <td>NaN</td>\n",
       "    </tr>\n",
       "    <tr>\n",
       "      <th>2019-03-20</th>\n",
       "      <td>2. CITY OF CHICAGO FOOD SERVICE SANITATION CER...</td>\n",
       "      <td>1</td>\n",
       "      <td>0.0</td>\n",
       "    </tr>\n",
       "  </tbody>\n",
       "</table>\n",
       "<p>51916 rows × 3 columns</p>\n",
       "</div>"
      ],
      "text/plain": [
       "                                                        Violations  Fail  \\\n",
       "Inspection Date                                                            \n",
       "2010-01-04                                                     NaN     0   \n",
       "2010-01-04                                                     NaN     0   \n",
       "2010-01-05                                                     NaN     0   \n",
       "2010-01-05       9. WATER SOURCE: SAFE, HOT & COLD UNDER CITY P...     1   \n",
       "2010-01-05       19. OUTSIDE GARBAGE WASTE GREASE AND STORAGE A...     1   \n",
       "...                                                            ...   ...   \n",
       "2019-03-19                                                     NaN     0   \n",
       "2019-03-19       3. MANAGEMENT, FOOD EMPLOYEE AND CONDITIONAL E...     1   \n",
       "2019-03-20       10. ADEQUATE HANDWASHING SINKS PROPERLY SUPPLI...     1   \n",
       "2019-03-20                                                     NaN     0   \n",
       "2019-03-20       2. CITY OF CHICAGO FOOD SERVICE SANITATION CER...     1   \n",
       "\n",
       "                 Serious Violations Found  \n",
       "Inspection Date                            \n",
       "2010-01-04                            NaN  \n",
       "2010-01-04                            NaN  \n",
       "2010-01-05                            NaN  \n",
       "2010-01-05                            0.0  \n",
       "2010-01-05                            0.0  \n",
       "...                                   ...  \n",
       "2019-03-19                            NaN  \n",
       "2019-03-19                            0.0  \n",
       "2019-03-20                            0.0  \n",
       "2019-03-20                            NaN  \n",
       "2019-03-20                            0.0  \n",
       "\n",
       "[51916 rows x 3 columns]"
      ]
     },
     "execution_count": 233,
     "metadata": {},
     "output_type": "execute_result"
    }
   ],
   "source": [
    "inspect = df[['Violations', 'Fail', 'Serious Violations Found']]\n",
    "inspect"
   ]
  },
  {
   "cell_type": "code",
   "execution_count": 234,
   "metadata": {},
   "outputs": [
    {
     "data": {
      "text/plain": [
       "0.0    34508\n",
       "1.0     4786\n",
       "2.0     2148\n",
       "3.0      627\n",
       "4.0      155\n",
       "5.0       19\n",
       "6.0        9\n",
       "8.0        5\n",
       "7.0        4\n",
       "Name: Serious Violations Found, dtype: int64"
      ]
     },
     "execution_count": 234,
     "metadata": {},
     "output_type": "execute_result"
    }
   ],
   "source": [
    "inspect['Serious Violations Found'].value_counts()"
   ]
  },
  {
   "cell_type": "code",
   "execution_count": 235,
   "metadata": {
    "deletable": false,
    "nbgrader": {
     "cell_type": "code",
     "checksum": "27b878765c52a092c3c56791dde91d5d",
     "grade": false,
     "grade_id": "cell-ef24afc9168ad64f",
     "locked": false,
     "schema_version": 3,
     "solution": true,
     "task": false
    }
   },
   "outputs": [],
   "source": [
    "'''T2. Identify data leakage column.'''\n",
    "\n",
    "# df.rename(columns={'Fail': 'leaky_col'}, inplace=True)\n",
    "# df.head()\n",
    "\n",
    "leaky_col = 'Serious Violations Found'"
   ]
  },
  {
   "cell_type": "markdown",
   "metadata": {
    "deletable": false,
    "editable": false,
    "nbgrader": {
     "cell_type": "markdown",
     "checksum": "9874ad6b513dd2c2e409aa1d6610a65e",
     "grade": false,
     "grade_id": "cell-378fd448d54e6fc0",
     "locked": true,
     "schema_version": 3,
     "solution": false,
     "task": false
    }
   },
   "source": [
    "**Task 2 Test**"
   ]
  },
  {
   "cell_type": "code",
   "execution_count": 236,
   "metadata": {
    "deletable": false,
    "editable": false,
    "nbgrader": {
     "cell_type": "code",
     "checksum": "5a57c6a47e502a421524daf29beb7941",
     "grade": true,
     "grade_id": "cell-8429f30efb2a7bf7",
     "locked": true,
     "points": 1,
     "schema_version": 3,
     "solution": false,
     "task": false
    }
   },
   "outputs": [],
   "source": [
    "'''T2 Test'''\n",
    "# This is a hidden test. \n",
    "# You'll see the result when you submit to Canvas.\n",
    "assert isinstance(leaky_col, str), '`leaky_col` should be type `str`.'"
   ]
  },
  {
   "cell_type": "markdown",
   "metadata": {
    "deletable": false,
    "editable": false,
    "nbgrader": {
     "cell_type": "markdown",
     "checksum": "b17eb5d6c465729f58b1739a11ea5b96",
     "grade": false,
     "grade_id": "cell-2f7298cea62c493e",
     "locked": true,
     "schema_version": 3,
     "solution": false,
     "task": false
    }
   },
   "source": [
    "**Task 3:** Add to the `wrangle` function below so that it does the following:\n",
    "\n",
    "- Removes the \"leaky\" column.\n",
    "- Removes high-cardinality categorical columns (more than `500` categories).\n",
    "- Removes categorical columns that have only one category.\n",
    "- Removes numerical columns that are unique identifiers for each observation, not features that would affect the target."
   ]
  },
  {
   "cell_type": "code",
   "execution_count": 237,
   "metadata": {},
   "outputs": [
    {
     "name": "stdout",
     "output_type": "stream",
     "text": [
      "<class 'pandas.core.frame.DataFrame'>\n",
      "DatetimeIndex: 51916 entries, 2010-01-04 to 2019-03-20\n",
      "Data columns (total 17 columns):\n",
      " #   Column                    Non-Null Count  Dtype  \n",
      "---  ------                    --------------  -----  \n",
      " 0   Inspection ID             51916 non-null  int64  \n",
      " 1   DBA Name                  51916 non-null  object \n",
      " 2   AKA Name                  51293 non-null  object \n",
      " 3   License #                 51911 non-null  float64\n",
      " 4   Facility Type             51692 non-null  object \n",
      " 5   Risk                      51904 non-null  object \n",
      " 6   Address                   51916 non-null  object \n",
      " 7   City                      51863 non-null  object \n",
      " 8   State                     51906 non-null  object \n",
      " 9   Zip                       51890 non-null  float64\n",
      " 10  Inspection Type           51915 non-null  object \n",
      " 11  Violations                42261 non-null  object \n",
      " 12  Latitude                  51718 non-null  float64\n",
      " 13  Longitude                 51718 non-null  float64\n",
      " 14  Location                  51718 non-null  object \n",
      " 15  Fail                      51916 non-null  int64  \n",
      " 16  Serious Violations Found  42261 non-null  float64\n",
      "dtypes: float64(5), int64(2), object(10)\n",
      "memory usage: 7.1+ MB\n"
     ]
    }
   ],
   "source": [
    "df.info()"
   ]
  },
  {
   "cell_type": "code",
   "execution_count": 238,
   "metadata": {},
   "outputs": [
    {
     "name": "stdout",
     "output_type": "stream",
     "text": [
      "DBA Name 17049\n",
      "AKA Name 16350\n",
      "Facility Type 329\n",
      "Risk 3\n",
      "Address 13954\n",
      "City 39\n",
      "State 1\n",
      "Inspection Type 51\n",
      "Violations 42164\n",
      "Location 13410\n"
     ]
    }
   ],
   "source": [
    "# State should be removed \n",
    "\n",
    "cat_cols = df.select_dtypes('object').columns\n",
    "for col in cat_cols:\n",
    "    print(f'{col}', df[col].nunique())"
   ]
  },
  {
   "cell_type": "code",
   "execution_count": 239,
   "metadata": {},
   "outputs": [
    {
     "data": {
      "text/plain": [
       "Index(['Inspection ID', 'DBA Name', 'AKA Name', 'License #', 'Facility Type',\n",
       "       'Risk', 'Address', 'City', 'State', 'Zip', 'Inspection Type',\n",
       "       'Violations', 'Latitude', 'Longitude', 'Location', 'Fail',\n",
       "       'Serious Violations Found'],\n",
       "      dtype='object')"
      ]
     },
     "execution_count": 239,
     "metadata": {},
     "output_type": "execute_result"
    }
   ],
   "source": [
    "df.columns"
   ]
  },
  {
   "cell_type": "code",
   "execution_count": 240,
   "metadata": {},
   "outputs": [
    {
     "name": "stdout",
     "output_type": "stream",
     "text": [
      "86\n"
     ]
    }
   ],
   "source": [
    "print(df['Zip'].nunique())"
   ]
  },
  {
   "cell_type": "code",
   "execution_count": 241,
   "metadata": {},
   "outputs": [
    {
     "data": {
      "text/plain": [
       "Index(['Inspection ID', 'DBA Name', 'AKA Name', 'License #', 'Facility Type',\n",
       "       'Risk', 'Address', 'City', 'State', 'Zip', 'Inspection Type',\n",
       "       'Violations', 'Latitude', 'Longitude', 'Location', 'Fail',\n",
       "       'Serious Violations Found'],\n",
       "      dtype='object')"
      ]
     },
     "execution_count": 241,
     "metadata": {},
     "output_type": "execute_result"
    }
   ],
   "source": [
    "df.columns"
   ]
  },
  {
   "cell_type": "code",
   "execution_count": 242,
   "metadata": {},
   "outputs": [
    {
     "data": {
      "text/plain": [
       "['inspection_id',\n",
       " 'dba_name',\n",
       " 'aka_name',\n",
       " 'license_#',\n",
       " 'facility_type',\n",
       " 'risk',\n",
       " 'address',\n",
       " 'city',\n",
       " 'state',\n",
       " 'zip',\n",
       " 'inspection_type',\n",
       " 'violations',\n",
       " 'latitude',\n",
       " 'longitude',\n",
       " 'location',\n",
       " 'fail',\n",
       " 'serious_violations_found']"
      ]
     },
     "execution_count": 242,
     "metadata": {},
     "output_type": "execute_result"
    }
   ],
   "source": [
    "col_names = []\n",
    "for col in list(df.columns):\n",
    "    col_names.append(col.strip().lower().replace(' ', '_'))\n",
    "\n",
    "col_names    "
   ]
  },
  {
   "cell_type": "code",
   "execution_count": 243,
   "metadata": {},
   "outputs": [
    {
     "data": {
      "text/plain": [
       "DBA Name           17049\n",
       "AKA Name           16350\n",
       "Facility Type        329\n",
       "Risk                   3\n",
       "Address            13954\n",
       "City                  39\n",
       "State                  1\n",
       "Inspection Type       51\n",
       "Violations         42164\n",
       "Location           13410\n",
       "dtype: int64"
      ]
     },
     "execution_count": 243,
     "metadata": {},
     "output_type": "execute_result"
    }
   ],
   "source": [
    "df.select_dtypes('object').nunique()"
   ]
  },
  {
   "cell_type": "code",
   "execution_count": 244,
   "metadata": {
    "deletable": false,
    "nbgrader": {
     "cell_type": "code",
     "checksum": "40e1745bb407a170e1dec8221d37fc3c",
     "grade": false,
     "grade_id": "cell-d6fc5ee398afff4f",
     "locked": false,
     "schema_version": 3,
     "solution": true,
     "task": false
    }
   },
   "outputs": [],
   "source": [
    "'''T3. Write wrangle function.'''\n",
    "def wrangle(df):\n",
    "    # 1. Drop the 'leaky' column\n",
    "    df.drop(columns=leaky_col, inplace=True)\n",
    "    \n",
    "    # 2. Remove high-cardinality categorical columns (> 500 categories)\n",
    "    high_card_cols = [col for col in df.select_dtypes('object').columns \n",
    "                      if df[col].nunique() > 500]\n",
    "    \n",
    "    df.drop(high_card_cols, axis=1, inplace=True)\n",
    "    \n",
    "    # 3. Remove categorical columns that have only one category\n",
    "    single = [col for col in df.select_dtypes('object').columns \n",
    "                      if df[col].nunique() == 1]\n",
    "    \n",
    "    df.drop(single, axis=1, inplace=True)\n",
    "    \n",
    "    # 4. Removes numerical columns that are unique identifiers for each observation\n",
    "    df.drop(columns=['Inspection ID', 'License #'], inplace=True)\n",
    "    \n",
    "    return df\n",
    "\n",
    "df = wrangle(df)"
   ]
  },
  {
   "cell_type": "code",
   "execution_count": 245,
   "metadata": {},
   "outputs": [
    {
     "data": {
      "text/html": [
       "<div>\n",
       "<style scoped>\n",
       "    .dataframe tbody tr th:only-of-type {\n",
       "        vertical-align: middle;\n",
       "    }\n",
       "\n",
       "    .dataframe tbody tr th {\n",
       "        vertical-align: top;\n",
       "    }\n",
       "\n",
       "    .dataframe thead th {\n",
       "        text-align: right;\n",
       "    }\n",
       "</style>\n",
       "<table border=\"1\" class=\"dataframe\">\n",
       "  <thead>\n",
       "    <tr style=\"text-align: right;\">\n",
       "      <th></th>\n",
       "      <th>Facility Type</th>\n",
       "      <th>Risk</th>\n",
       "      <th>City</th>\n",
       "      <th>Zip</th>\n",
       "      <th>Inspection Type</th>\n",
       "      <th>Latitude</th>\n",
       "      <th>Longitude</th>\n",
       "      <th>Fail</th>\n",
       "    </tr>\n",
       "    <tr>\n",
       "      <th>Inspection Date</th>\n",
       "      <th></th>\n",
       "      <th></th>\n",
       "      <th></th>\n",
       "      <th></th>\n",
       "      <th></th>\n",
       "      <th></th>\n",
       "      <th></th>\n",
       "      <th></th>\n",
       "    </tr>\n",
       "  </thead>\n",
       "  <tbody>\n",
       "    <tr>\n",
       "      <th>2010-01-04</th>\n",
       "      <td>Restaurant</td>\n",
       "      <td>Risk 1 (High)</td>\n",
       "      <td>CHICAGO</td>\n",
       "      <td>60634.0</td>\n",
       "      <td>License Re-Inspection</td>\n",
       "      <td>41.938443</td>\n",
       "      <td>-87.768318</td>\n",
       "      <td>0</td>\n",
       "    </tr>\n",
       "    <tr>\n",
       "      <th>2010-01-04</th>\n",
       "      <td>Restaurant</td>\n",
       "      <td>Risk 1 (High)</td>\n",
       "      <td>CHICAGO</td>\n",
       "      <td>60613.0</td>\n",
       "      <td>License Re-Inspection</td>\n",
       "      <td>41.961606</td>\n",
       "      <td>-87.675967</td>\n",
       "      <td>0</td>\n",
       "    </tr>\n",
       "    <tr>\n",
       "      <th>2010-01-05</th>\n",
       "      <td>Daycare Above and Under 2 Years</td>\n",
       "      <td>Risk 1 (High)</td>\n",
       "      <td>CHICAGO</td>\n",
       "      <td>60652.0</td>\n",
       "      <td>License</td>\n",
       "      <td>41.742993</td>\n",
       "      <td>-87.721558</td>\n",
       "      <td>0</td>\n",
       "    </tr>\n",
       "    <tr>\n",
       "      <th>2010-01-05</th>\n",
       "      <td>Restaurant</td>\n",
       "      <td>Risk 1 (High)</td>\n",
       "      <td>CHICAGO</td>\n",
       "      <td>60666.0</td>\n",
       "      <td>Canvass</td>\n",
       "      <td>42.008536</td>\n",
       "      <td>-87.914428</td>\n",
       "      <td>1</td>\n",
       "    </tr>\n",
       "    <tr>\n",
       "      <th>2010-01-05</th>\n",
       "      <td>Restaurant</td>\n",
       "      <td>Risk 1 (High)</td>\n",
       "      <td>CHICAGO</td>\n",
       "      <td>60639.0</td>\n",
       "      <td>Complaint</td>\n",
       "      <td>41.919224</td>\n",
       "      <td>-87.767734</td>\n",
       "      <td>1</td>\n",
       "    </tr>\n",
       "  </tbody>\n",
       "</table>\n",
       "</div>"
      ],
      "text/plain": [
       "                                   Facility Type           Risk     City  \\\n",
       "Inspection Date                                                            \n",
       "2010-01-04                            Restaurant  Risk 1 (High)  CHICAGO   \n",
       "2010-01-04                            Restaurant  Risk 1 (High)  CHICAGO   \n",
       "2010-01-05       Daycare Above and Under 2 Years  Risk 1 (High)  CHICAGO   \n",
       "2010-01-05                            Restaurant  Risk 1 (High)  CHICAGO   \n",
       "2010-01-05                            Restaurant  Risk 1 (High)  CHICAGO   \n",
       "\n",
       "                     Zip        Inspection Type   Latitude  Longitude  Fail  \n",
       "Inspection Date                                                              \n",
       "2010-01-04       60634.0  License Re-Inspection  41.938443 -87.768318     0  \n",
       "2010-01-04       60613.0  License Re-Inspection  41.961606 -87.675967     0  \n",
       "2010-01-05       60652.0                License  41.742993 -87.721558     0  \n",
       "2010-01-05       60666.0                Canvass  42.008536 -87.914428     1  \n",
       "2010-01-05       60639.0              Complaint  41.919224 -87.767734     1  "
      ]
     },
     "execution_count": 245,
     "metadata": {},
     "output_type": "execute_result"
    }
   ],
   "source": [
    "df.head()"
   ]
  },
  {
   "cell_type": "markdown",
   "metadata": {
    "deletable": false,
    "editable": false,
    "nbgrader": {
     "cell_type": "markdown",
     "checksum": "22afb4a381b73f41b02f83ca4a0102bd",
     "grade": false,
     "grade_id": "cell-7b5d539f39db8415",
     "locked": true,
     "schema_version": 3,
     "solution": false,
     "task": false
    }
   },
   "source": [
    "**Task 3 Test**"
   ]
  },
  {
   "cell_type": "code",
   "execution_count": 246,
   "metadata": {
    "deletable": false,
    "editable": false,
    "nbgrader": {
     "cell_type": "code",
     "checksum": "05d5f964ad8d8bf468bd907abaa85213",
     "grade": true,
     "grade_id": "cell-49f495efb58bcd9f",
     "locked": true,
     "points": 1,
     "schema_version": 3,
     "solution": false,
     "task": false
    }
   },
   "outputs": [],
   "source": [
    "'''T3 Test'''\n",
    "assert df.select_dtypes('object').nunique().max() < 500, 'Have you dropped the high-cardinality columns?'\n",
    "assert df.select_dtypes('object').nunique().min() > 1, 'Have you dropped the column with only one category?'"
   ]
  },
  {
   "cell_type": "markdown",
   "metadata": {
    "deletable": false,
    "editable": false,
    "nbgrader": {
     "cell_type": "markdown",
     "checksum": "f93a157b989f3327402d7b93a31bb595",
     "grade": false,
     "grade_id": "cell-aea953fa5337fc1f",
     "locked": true,
     "schema_version": 3,
     "solution": false,
     "task": false
    }
   },
   "source": [
    "# II. Split Data\n",
    "\n",
    "**Task 4:** Split the DataFrame `df` into the feature matrix `X` and the target vector `y`. Your target is `'Fail'`."
   ]
  },
  {
   "cell_type": "code",
   "execution_count": 247,
   "metadata": {
    "deletable": false,
    "nbgrader": {
     "cell_type": "code",
     "checksum": "7bfd4151db9dd6615a624da2954138e8",
     "grade": false,
     "grade_id": "cell-b21b1c40f5478337",
     "locked": false,
     "schema_version": 3,
     "solution": true,
     "task": false
    }
   },
   "outputs": [],
   "source": [
    "'''T4. Split feature matrix and target vector.'''\n",
    "target = 'Fail'\n",
    "\n",
    "y = df[target]\n",
    "X = df.drop(columns=target)"
   ]
  },
  {
   "cell_type": "code",
   "execution_count": 248,
   "metadata": {},
   "outputs": [
    {
     "name": "stdout",
     "output_type": "stream",
     "text": [
      "(51916,) (51916, 7)\n"
     ]
    }
   ],
   "source": [
    "print(y.shape, X.shape)"
   ]
  },
  {
   "cell_type": "markdown",
   "metadata": {
    "deletable": false,
    "editable": false,
    "nbgrader": {
     "cell_type": "markdown",
     "checksum": "2f00ae85d10438328017da8b01b77354",
     "grade": false,
     "grade_id": "cell-d9a64e5a6bd2a37d",
     "locked": true,
     "schema_version": 3,
     "solution": false,
     "task": false
    }
   },
   "source": [
    "**Task 4 Test**"
   ]
  },
  {
   "cell_type": "code",
   "execution_count": 249,
   "metadata": {
    "deletable": false,
    "editable": false,
    "nbgrader": {
     "cell_type": "code",
     "checksum": "04db76e9023f0b61187af1e39513d377",
     "grade": true,
     "grade_id": "cell-a1d912e28c9f7522",
     "locked": true,
     "points": 1,
     "schema_version": 3,
     "solution": false,
     "task": false
    }
   },
   "outputs": [],
   "source": [
    "'''T4 Test'''\n",
    "assert y.shape == (51916,), '`y` either has the wrong number of rows, or is two-dimentional.'\n",
    "assert len(X) == 51916, '`X` has the wrong number of rows.'"
   ]
  },
  {
   "cell_type": "markdown",
   "metadata": {
    "deletable": false,
    "editable": false,
    "nbgrader": {
     "cell_type": "markdown",
     "checksum": "e719471298c6c418489a657a500b7d0e",
     "grade": false,
     "grade_id": "cell-b575fbda93b87f6a",
     "locked": true,
     "schema_version": 3,
     "solution": false,
     "task": false
    }
   },
   "source": [
    "**Task 5:** Split your dataset into training and validation sets.\n",
    "\n",
    "- Your training set (`X_train`, `y_train`) should contain inspections conducted before 2017.\n",
    "- Your validation set (`X_val`, `y_val`) should contain inspections conducted during or after 2017."
   ]
  },
  {
   "cell_type": "code",
   "execution_count": 250,
   "metadata": {
    "deletable": false,
    "nbgrader": {
     "cell_type": "code",
     "checksum": "f92b2b9f9460a17c987c23188e3c31b1",
     "grade": false,
     "grade_id": "cell-0bb47689fd4667ed",
     "locked": false,
     "schema_version": 3,
     "solution": true,
     "task": false
    }
   },
   "outputs": [],
   "source": [
    "'''T5. Split dataset into training and validation sets.'''\n",
    "\n",
    "cutoff = X.index.year < 2017\n",
    "\n",
    "X_train, y_train = X[cutoff], y[cutoff]\n",
    "X_val, y_val = X[~cutoff], y[~cutoff]"
   ]
  },
  {
   "cell_type": "code",
   "execution_count": 251,
   "metadata": {},
   "outputs": [
    {
     "data": {
      "text/html": [
       "<div>\n",
       "<style scoped>\n",
       "    .dataframe tbody tr th:only-of-type {\n",
       "        vertical-align: middle;\n",
       "    }\n",
       "\n",
       "    .dataframe tbody tr th {\n",
       "        vertical-align: top;\n",
       "    }\n",
       "\n",
       "    .dataframe thead th {\n",
       "        text-align: right;\n",
       "    }\n",
       "</style>\n",
       "<table border=\"1\" class=\"dataframe\">\n",
       "  <thead>\n",
       "    <tr style=\"text-align: right;\">\n",
       "      <th></th>\n",
       "      <th>Facility Type</th>\n",
       "      <th>Risk</th>\n",
       "      <th>City</th>\n",
       "      <th>Zip</th>\n",
       "      <th>Inspection Type</th>\n",
       "      <th>Latitude</th>\n",
       "      <th>Longitude</th>\n",
       "    </tr>\n",
       "    <tr>\n",
       "      <th>Inspection Date</th>\n",
       "      <th></th>\n",
       "      <th></th>\n",
       "      <th></th>\n",
       "      <th></th>\n",
       "      <th></th>\n",
       "      <th></th>\n",
       "      <th></th>\n",
       "    </tr>\n",
       "  </thead>\n",
       "  <tbody>\n",
       "    <tr>\n",
       "      <th>2016-12-30</th>\n",
       "      <td>Grocery Store</td>\n",
       "      <td>Risk 3 (Low)</td>\n",
       "      <td>CHICAGO</td>\n",
       "      <td>60630.0</td>\n",
       "      <td>Canvass</td>\n",
       "      <td>41.963710</td>\n",
       "      <td>-87.728052</td>\n",
       "    </tr>\n",
       "    <tr>\n",
       "      <th>2016-12-30</th>\n",
       "      <td>Restaurant</td>\n",
       "      <td>Risk 2 (Medium)</td>\n",
       "      <td>CHICAGO</td>\n",
       "      <td>60614.0</td>\n",
       "      <td>License</td>\n",
       "      <td>41.925235</td>\n",
       "      <td>-87.669233</td>\n",
       "    </tr>\n",
       "    <tr>\n",
       "      <th>2016-12-30</th>\n",
       "      <td>Restaurant</td>\n",
       "      <td>Risk 2 (Medium)</td>\n",
       "      <td>CHICAGO</td>\n",
       "      <td>60607.0</td>\n",
       "      <td>License</td>\n",
       "      <td>41.881627</td>\n",
       "      <td>-87.649752</td>\n",
       "    </tr>\n",
       "    <tr>\n",
       "      <th>2016-12-30</th>\n",
       "      <td>Restaurant</td>\n",
       "      <td>Risk 1 (High)</td>\n",
       "      <td>CHICAGO</td>\n",
       "      <td>60618.0</td>\n",
       "      <td>Canvass</td>\n",
       "      <td>41.942917</td>\n",
       "      <td>-87.720107</td>\n",
       "    </tr>\n",
       "    <tr>\n",
       "      <th>2016-12-30</th>\n",
       "      <td>Grocery Store</td>\n",
       "      <td>Risk 2 (Medium)</td>\n",
       "      <td>CHICAGO</td>\n",
       "      <td>60636.0</td>\n",
       "      <td>License</td>\n",
       "      <td>41.760209</td>\n",
       "      <td>-87.654129</td>\n",
       "    </tr>\n",
       "  </tbody>\n",
       "</table>\n",
       "</div>"
      ],
      "text/plain": [
       "                 Facility Type             Risk     City      Zip  \\\n",
       "Inspection Date                                                     \n",
       "2016-12-30       Grocery Store     Risk 3 (Low)  CHICAGO  60630.0   \n",
       "2016-12-30          Restaurant  Risk 2 (Medium)  CHICAGO  60614.0   \n",
       "2016-12-30          Restaurant  Risk 2 (Medium)  CHICAGO  60607.0   \n",
       "2016-12-30          Restaurant    Risk 1 (High)  CHICAGO  60618.0   \n",
       "2016-12-30       Grocery Store  Risk 2 (Medium)  CHICAGO  60636.0   \n",
       "\n",
       "                Inspection Type   Latitude  Longitude  \n",
       "Inspection Date                                        \n",
       "2016-12-30              Canvass  41.963710 -87.728052  \n",
       "2016-12-30              License  41.925235 -87.669233  \n",
       "2016-12-30              License  41.881627 -87.649752  \n",
       "2016-12-30              Canvass  41.942917 -87.720107  \n",
       "2016-12-30              License  41.760209 -87.654129  "
      ]
     },
     "execution_count": 251,
     "metadata": {},
     "output_type": "execute_result"
    }
   ],
   "source": [
    "X_train.tail()"
   ]
  },
  {
   "cell_type": "code",
   "execution_count": 252,
   "metadata": {},
   "outputs": [
    {
     "data": {
      "text/html": [
       "<div>\n",
       "<style scoped>\n",
       "    .dataframe tbody tr th:only-of-type {\n",
       "        vertical-align: middle;\n",
       "    }\n",
       "\n",
       "    .dataframe tbody tr th {\n",
       "        vertical-align: top;\n",
       "    }\n",
       "\n",
       "    .dataframe thead th {\n",
       "        text-align: right;\n",
       "    }\n",
       "</style>\n",
       "<table border=\"1\" class=\"dataframe\">\n",
       "  <thead>\n",
       "    <tr style=\"text-align: right;\">\n",
       "      <th></th>\n",
       "      <th>Facility Type</th>\n",
       "      <th>Risk</th>\n",
       "      <th>City</th>\n",
       "      <th>Zip</th>\n",
       "      <th>Inspection Type</th>\n",
       "      <th>Latitude</th>\n",
       "      <th>Longitude</th>\n",
       "    </tr>\n",
       "    <tr>\n",
       "      <th>Inspection Date</th>\n",
       "      <th></th>\n",
       "      <th></th>\n",
       "      <th></th>\n",
       "      <th></th>\n",
       "      <th></th>\n",
       "      <th></th>\n",
       "      <th></th>\n",
       "    </tr>\n",
       "  </thead>\n",
       "  <tbody>\n",
       "    <tr>\n",
       "      <th>2017-01-03</th>\n",
       "      <td>Mobile Food Dispenser</td>\n",
       "      <td>Risk 3 (Low)</td>\n",
       "      <td>CHICAGO</td>\n",
       "      <td>60622.0</td>\n",
       "      <td>License</td>\n",
       "      <td>41.900640</td>\n",
       "      <td>-87.696678</td>\n",
       "    </tr>\n",
       "    <tr>\n",
       "      <th>2017-01-03</th>\n",
       "      <td>Restaurant</td>\n",
       "      <td>Risk 1 (High)</td>\n",
       "      <td>CHICAGO</td>\n",
       "      <td>60646.0</td>\n",
       "      <td>Canvass</td>\n",
       "      <td>41.985048</td>\n",
       "      <td>-87.776122</td>\n",
       "    </tr>\n",
       "    <tr>\n",
       "      <th>2017-01-03</th>\n",
       "      <td>Restaurant</td>\n",
       "      <td>Risk 1 (High)</td>\n",
       "      <td>CHICAGO</td>\n",
       "      <td>60638.0</td>\n",
       "      <td>Canvass</td>\n",
       "      <td>41.795414</td>\n",
       "      <td>-87.765062</td>\n",
       "    </tr>\n",
       "    <tr>\n",
       "      <th>2017-01-03</th>\n",
       "      <td>Restaurant</td>\n",
       "      <td>Risk 1 (High)</td>\n",
       "      <td>CHICAGO</td>\n",
       "      <td>60617.0</td>\n",
       "      <td>Canvass</td>\n",
       "      <td>41.744160</td>\n",
       "      <td>-87.585228</td>\n",
       "    </tr>\n",
       "    <tr>\n",
       "      <th>2017-01-03</th>\n",
       "      <td>BREWERY</td>\n",
       "      <td>Risk 2 (Medium)</td>\n",
       "      <td>CHICAGO</td>\n",
       "      <td>60620.0</td>\n",
       "      <td>License</td>\n",
       "      <td>41.729825</td>\n",
       "      <td>-87.667015</td>\n",
       "    </tr>\n",
       "  </tbody>\n",
       "</table>\n",
       "</div>"
      ],
      "text/plain": [
       "                         Facility Type             Risk     City      Zip  \\\n",
       "Inspection Date                                                             \n",
       "2017-01-03       Mobile Food Dispenser     Risk 3 (Low)  CHICAGO  60622.0   \n",
       "2017-01-03                  Restaurant    Risk 1 (High)  CHICAGO  60646.0   \n",
       "2017-01-03                  Restaurant    Risk 1 (High)  CHICAGO  60638.0   \n",
       "2017-01-03                  Restaurant    Risk 1 (High)  CHICAGO  60617.0   \n",
       "2017-01-03                     BREWERY  Risk 2 (Medium)  CHICAGO  60620.0   \n",
       "\n",
       "                Inspection Type   Latitude  Longitude  \n",
       "Inspection Date                                        \n",
       "2017-01-03              License  41.900640 -87.696678  \n",
       "2017-01-03              Canvass  41.985048 -87.776122  \n",
       "2017-01-03              Canvass  41.795414 -87.765062  \n",
       "2017-01-03              Canvass  41.744160 -87.585228  \n",
       "2017-01-03              License  41.729825 -87.667015  "
      ]
     },
     "execution_count": 252,
     "metadata": {},
     "output_type": "execute_result"
    }
   ],
   "source": [
    "X_val.head()"
   ]
  },
  {
   "cell_type": "markdown",
   "metadata": {
    "deletable": false,
    "editable": false,
    "nbgrader": {
     "cell_type": "markdown",
     "checksum": "60e77b85e7db0d0cb2522b8caa399e77",
     "grade": false,
     "grade_id": "cell-8517b2d477256843",
     "locked": true,
     "schema_version": 3,
     "solution": false,
     "task": false
    }
   },
   "source": [
    "**Task 5 Testing**"
   ]
  },
  {
   "cell_type": "code",
   "execution_count": 253,
   "metadata": {
    "deletable": false,
    "editable": false,
    "nbgrader": {
     "cell_type": "code",
     "checksum": "56e9e6ef918d3a662decf3f6d67dfd01",
     "grade": true,
     "grade_id": "cell-52cf3ef1934a4278",
     "locked": true,
     "points": 1,
     "schema_version": 3,
     "solution": false,
     "task": false
    }
   },
   "outputs": [],
   "source": [
    "'''T5 Test'''\n",
    "assert len(X_train) == len(y_train) == 41827, 'Your training set has the wrong number of observations.'\n",
    "assert len(X_val) == len(y_val) == 10089, 'Your validation set has the wrong number of observations.'"
   ]
  },
  {
   "cell_type": "markdown",
   "metadata": {
    "deletable": false,
    "editable": false,
    "nbgrader": {
     "cell_type": "markdown",
     "checksum": "0641d242faca29af591ebea98bc88ed6",
     "grade": false,
     "grade_id": "cell-2e9a4c74f50ed0fc",
     "locked": true,
     "schema_version": 3,
     "solution": false,
     "task": false
    }
   },
   "source": [
    "# III. Establish Baseline\n",
    "\n",
    "**Task 6:** Establish the baseline accuracy score for this classification problem using your training set. Save the score to the variable `baseline_acc`."
   ]
  },
  {
   "cell_type": "code",
   "execution_count": 254,
   "metadata": {
    "deletable": false,
    "nbgrader": {
     "cell_type": "code",
     "checksum": "b658c6901efe4fe564387be697265352",
     "grade": false,
     "grade_id": "cell-3d21cc97649be107",
     "locked": false,
     "schema_version": 3,
     "solution": true,
     "task": false
    }
   },
   "outputs": [
    {
     "name": "stdout",
     "output_type": "stream",
     "text": [
      "0    0.750663\n",
      "1    0.249337\n",
      "Name: Fail, dtype: float64 \n",
      "\n",
      "Baseline accuracy: 0.7506634470557295\n"
     ]
    }
   ],
   "source": [
    "'''T6. Establish baseline accuracy.'''\n",
    "\n",
    "baseline_acc = y_train.value_counts(normalize=True).max()\n",
    "print(y_train.value_counts(normalize=True), \"\\n\")\n",
    "print('Baseline accuracy:', baseline_acc)"
   ]
  },
  {
   "cell_type": "markdown",
   "metadata": {
    "deletable": false,
    "editable": false,
    "nbgrader": {
     "cell_type": "markdown",
     "checksum": "6098c9452685d029c07b96f5295b5c1d",
     "grade": false,
     "grade_id": "cell-56d5801c8831c15b",
     "locked": true,
     "schema_version": 3,
     "solution": false,
     "task": false
    }
   },
   "source": [
    "**Task 6 Testing**"
   ]
  },
  {
   "cell_type": "code",
   "execution_count": 255,
   "metadata": {
    "deletable": false,
    "editable": false,
    "nbgrader": {
     "cell_type": "code",
     "checksum": "8527a8f2e79c09d69519059e56c54272",
     "grade": true,
     "grade_id": "cell-abdc4cbe95e9d1da",
     "locked": true,
     "points": 1,
     "schema_version": 3,
     "solution": false,
     "task": false
    }
   },
   "outputs": [],
   "source": [
    "'''T6 Test'''\n",
    "assert isinstance(baseline_acc, float), '`baseline_acc` should be type float. Have you defined the variable?'\n",
    "assert 0.0 <= baseline_acc <= 1.0"
   ]
  },
  {
   "cell_type": "markdown",
   "metadata": {
    "deletable": false,
    "editable": false,
    "nbgrader": {
     "cell_type": "markdown",
     "checksum": "8a0f7eab56c05e92a441333652ccf6cf",
     "grade": false,
     "grade_id": "cell-7d68939c4eced62c",
     "locked": true,
     "schema_version": 3,
     "solution": false,
     "task": false
    }
   },
   "source": [
    "# IV. Build Model\n",
    "\n",
    "In this section, you want to answer the question: Which ensemble method performs better with this data — bagging or boosting?\n",
    "\n",
    "**Task 7:** Build a model that includes a bagging predictor (`RandomForest`). Your predictor should be part of a pipeline named `model_bag` that includes any transformers that you think are necessary."
   ]
  },
  {
   "cell_type": "code",
   "execution_count": 256,
   "metadata": {},
   "outputs": [
    {
     "data": {
      "text/plain": [
       "Facility Type      215\n",
       "Risk                12\n",
       "City                41\n",
       "Zip                 26\n",
       "Inspection Type      1\n",
       "Latitude           162\n",
       "Longitude          162\n",
       "dtype: int64"
      ]
     },
     "execution_count": 256,
     "metadata": {},
     "output_type": "execute_result"
    }
   ],
   "source": [
    "X_train.isna().sum()"
   ]
  },
  {
   "cell_type": "code",
   "execution_count": 257,
   "metadata": {},
   "outputs": [
    {
     "data": {
      "text/html": [
       "<div>\n",
       "<style scoped>\n",
       "    .dataframe tbody tr th:only-of-type {\n",
       "        vertical-align: middle;\n",
       "    }\n",
       "\n",
       "    .dataframe tbody tr th {\n",
       "        vertical-align: top;\n",
       "    }\n",
       "\n",
       "    .dataframe thead th {\n",
       "        text-align: right;\n",
       "    }\n",
       "</style>\n",
       "<table border=\"1\" class=\"dataframe\">\n",
       "  <thead>\n",
       "    <tr style=\"text-align: right;\">\n",
       "      <th></th>\n",
       "      <th>Facility Type</th>\n",
       "      <th>Risk</th>\n",
       "      <th>City</th>\n",
       "      <th>Zip</th>\n",
       "      <th>Inspection Type</th>\n",
       "      <th>Latitude</th>\n",
       "      <th>Longitude</th>\n",
       "    </tr>\n",
       "    <tr>\n",
       "      <th>Inspection Date</th>\n",
       "      <th></th>\n",
       "      <th></th>\n",
       "      <th></th>\n",
       "      <th></th>\n",
       "      <th></th>\n",
       "      <th></th>\n",
       "      <th></th>\n",
       "    </tr>\n",
       "  </thead>\n",
       "  <tbody>\n",
       "    <tr>\n",
       "      <th>2010-01-04</th>\n",
       "      <td>Restaurant</td>\n",
       "      <td>Risk 1 (High)</td>\n",
       "      <td>CHICAGO</td>\n",
       "      <td>60634.0</td>\n",
       "      <td>License Re-Inspection</td>\n",
       "      <td>41.938443</td>\n",
       "      <td>-87.768318</td>\n",
       "    </tr>\n",
       "    <tr>\n",
       "      <th>2010-01-04</th>\n",
       "      <td>Restaurant</td>\n",
       "      <td>Risk 1 (High)</td>\n",
       "      <td>CHICAGO</td>\n",
       "      <td>60613.0</td>\n",
       "      <td>License Re-Inspection</td>\n",
       "      <td>41.961606</td>\n",
       "      <td>-87.675967</td>\n",
       "    </tr>\n",
       "    <tr>\n",
       "      <th>2010-01-05</th>\n",
       "      <td>Daycare Above and Under 2 Years</td>\n",
       "      <td>Risk 1 (High)</td>\n",
       "      <td>CHICAGO</td>\n",
       "      <td>60652.0</td>\n",
       "      <td>License</td>\n",
       "      <td>41.742993</td>\n",
       "      <td>-87.721558</td>\n",
       "    </tr>\n",
       "    <tr>\n",
       "      <th>2010-01-05</th>\n",
       "      <td>Restaurant</td>\n",
       "      <td>Risk 1 (High)</td>\n",
       "      <td>CHICAGO</td>\n",
       "      <td>60666.0</td>\n",
       "      <td>Canvass</td>\n",
       "      <td>42.008536</td>\n",
       "      <td>-87.914428</td>\n",
       "    </tr>\n",
       "    <tr>\n",
       "      <th>2010-01-05</th>\n",
       "      <td>Restaurant</td>\n",
       "      <td>Risk 1 (High)</td>\n",
       "      <td>CHICAGO</td>\n",
       "      <td>60639.0</td>\n",
       "      <td>Complaint</td>\n",
       "      <td>41.919224</td>\n",
       "      <td>-87.767734</td>\n",
       "    </tr>\n",
       "  </tbody>\n",
       "</table>\n",
       "</div>"
      ],
      "text/plain": [
       "                                   Facility Type           Risk     City  \\\n",
       "Inspection Date                                                            \n",
       "2010-01-04                            Restaurant  Risk 1 (High)  CHICAGO   \n",
       "2010-01-04                            Restaurant  Risk 1 (High)  CHICAGO   \n",
       "2010-01-05       Daycare Above and Under 2 Years  Risk 1 (High)  CHICAGO   \n",
       "2010-01-05                            Restaurant  Risk 1 (High)  CHICAGO   \n",
       "2010-01-05                            Restaurant  Risk 1 (High)  CHICAGO   \n",
       "\n",
       "                     Zip        Inspection Type   Latitude  Longitude  \n",
       "Inspection Date                                                        \n",
       "2010-01-04       60634.0  License Re-Inspection  41.938443 -87.768318  \n",
       "2010-01-04       60613.0  License Re-Inspection  41.961606 -87.675967  \n",
       "2010-01-05       60652.0                License  41.742993 -87.721558  \n",
       "2010-01-05       60666.0                Canvass  42.008536 -87.914428  \n",
       "2010-01-05       60639.0              Complaint  41.919224 -87.767734  "
      ]
     },
     "execution_count": 257,
     "metadata": {},
     "output_type": "execute_result"
    }
   ],
   "source": [
    "X_train.head()"
   ]
  },
  {
   "cell_type": "code",
   "execution_count": 258,
   "metadata": {
    "deletable": false,
    "nbgrader": {
     "cell_type": "code",
     "checksum": "49a48b340c0ee7f9630c3ce57e4ca439",
     "grade": false,
     "grade_id": "cell-889285d53fdbe282",
     "locked": false,
     "schema_version": 3,
     "solution": true,
     "task": false
    }
   },
   "outputs": [],
   "source": [
    "'''T7. Build model with bagging predictor.'''\n",
    "# YOUR CODE HERE\n",
    "\n",
    "model_bag = make_pipeline(\n",
    "    OrdinalEncoder(),\n",
    "    SimpleImputer(strategy='most_frequent'),\n",
    "    RandomForestClassifier(n_jobs=-1, random_state=42)\n",
    ")\n",
    "\n",
    "model_bag.fit(X_train, y_train);"
   ]
  },
  {
   "cell_type": "markdown",
   "metadata": {
    "deletable": false,
    "editable": false,
    "nbgrader": {
     "cell_type": "markdown",
     "checksum": "81055fe5d87448fd8e4aff2ca4f10ea0",
     "grade": false,
     "grade_id": "cell-72dac6ede9a13038",
     "locked": true,
     "schema_version": 3,
     "solution": false,
     "task": false
    }
   },
   "source": [
    "**Tast 7 Testing**"
   ]
  },
  {
   "cell_type": "code",
   "execution_count": 259,
   "metadata": {
    "deletable": false,
    "editable": false,
    "nbgrader": {
     "cell_type": "code",
     "checksum": "57725e1ca8a837d8fa761271f994ad44",
     "grade": true,
     "grade_id": "cell-cddc5d7d2170877b",
     "locked": true,
     "points": 1,
     "schema_version": 3,
     "solution": false,
     "task": false
    }
   },
   "outputs": [],
   "source": [
    "'''T7 Testing'''\n",
    "from sklearn.pipeline import Pipeline\n",
    "from sklearn.ensemble import RandomForestClassifier\n",
    "assert isinstance(model_bag, Pipeline), '`model_bag` is the wrong data type. Have you assigned your pipeline to the correct variable name?'\n",
    "assert isinstance(model_bag[-1], RandomForestClassifier), 'Your predictor should be a `RandomForestClassifier`.'\n",
    "assert hasattr(model_bag[-1], 'feature_importances_'), 'Have you trained your model?'"
   ]
  },
  {
   "cell_type": "markdown",
   "metadata": {
    "deletable": false,
    "editable": false,
    "nbgrader": {
     "cell_type": "markdown",
     "checksum": "5e3c031075213c671f8f9b321585e9eb",
     "grade": false,
     "grade_id": "cell-d9750931390fe58f",
     "locked": true,
     "schema_version": 3,
     "solution": false,
     "task": false
    }
   },
   "source": [
    "**Task 8:** Build a model that includes a boosting predictor (`GradientBoostingClassifier` from `sklearn` or `XGBClassifier` from `xgboost`). Your predictor should be part of a pipeline named `model_boost` that includes any transformers that you think are necessary. "
   ]
  },
  {
   "cell_type": "code",
   "execution_count": 260,
   "metadata": {
    "deletable": false,
    "nbgrader": {
     "cell_type": "code",
     "checksum": "a30d11fa6b0d4e143f4572b0baf65afb",
     "grade": false,
     "grade_id": "cell-37f16b5811ae5223",
     "locked": false,
     "schema_version": 3,
     "solution": true,
     "task": false
    }
   },
   "outputs": [],
   "source": [
    "'''T8. Build model with boosting predictor.'''\n",
    "\n",
    "model_boost = make_pipeline(\n",
    "    OrdinalEncoder(),\n",
    "    SimpleImputer(strategy='most_frequent'),\n",
    "    XGBClassifier(n_jobs=-1, random_state=42)\n",
    ")\n",
    "       \n",
    "model_boost.fit(X_train, y_train);"
   ]
  },
  {
   "cell_type": "markdown",
   "metadata": {
    "deletable": false,
    "editable": false,
    "nbgrader": {
     "cell_type": "markdown",
     "checksum": "64d1c2ff5004fe02082dc204299e0e70",
     "grade": false,
     "grade_id": "cell-3699731f62fa5db3",
     "locked": true,
     "schema_version": 3,
     "solution": false,
     "task": false
    }
   },
   "source": [
    "**Task 8 Testing**"
   ]
  },
  {
   "cell_type": "code",
   "execution_count": 261,
   "metadata": {
    "deletable": false,
    "editable": false,
    "nbgrader": {
     "cell_type": "code",
     "checksum": "35744289b60d1556e064bc09da544566",
     "grade": true,
     "grade_id": "cell-90deb42a1c052402",
     "locked": true,
     "points": 1,
     "schema_version": 3,
     "solution": false,
     "task": false
    }
   },
   "outputs": [],
   "source": [
    "'''T8 Testing'''\n",
    "from xgboost import XGBClassifier\n",
    "from sklearn.ensemble import GradientBoostingClassifier\n",
    "assert isinstance(model_boost, Pipeline), '`model_boost` is the wrong data type. Have you assigned your pipeline to the correct variable name?'\n",
    "assert any([isinstance(model_boost[-1], XGBClassifier),\n",
    "            isinstance(model_boost[-1], GradientBoostingClassifier)]), 'Your predictor should be `XGBClassifier` or `GradientBoostingClassifier`.'"
   ]
  },
  {
   "cell_type": "markdown",
   "metadata": {
    "deletable": false,
    "editable": false,
    "nbgrader": {
     "cell_type": "markdown",
     "checksum": "ebed19854d947c07608d2cb6c356f7ec",
     "grade": false,
     "grade_id": "cell-dc041ac00c805cff",
     "locked": true,
     "schema_version": 3,
     "solution": false,
     "task": false
    }
   },
   "source": [
    "# V. Check Metrics\n",
    "\n",
    "Here are the accuracy scores for your two models. Did you beat the baseline? Which of your two models appears to perform better on your validation set?"
   ]
  },
  {
   "cell_type": "code",
   "execution_count": 262,
   "metadata": {
    "deletable": false,
    "editable": false,
    "nbgrader": {
     "cell_type": "code",
     "checksum": "fc12491c98afa1dd0767422ce0a07b22",
     "grade": false,
     "grade_id": "cell-c0206a761fccab6c",
     "locked": true,
     "schema_version": 3,
     "solution": false,
     "task": false
    }
   },
   "outputs": [
    {
     "name": "stdout",
     "output_type": "stream",
     "text": [
      "Bagging Model\n",
      "Training accuracy: 0.9078346522581108\n",
      "Validation accuracy: 0.6822281692932898\n",
      "\n",
      "Boosting Model\n",
      "Training accuracy: 0.7863341860520716\n",
      "Validation accuracy: 0.7022499752205372\n"
     ]
    }
   ],
   "source": [
    "print('Bagging Model')\n",
    "print('Training accuracy:', model_bag.score(X_train, y_train))\n",
    "print('Validation accuracy:', model_bag.score(X_val, y_val))\n",
    "print()\n",
    "print('Boosting Model')\n",
    "print('Training accuracy:', model_boost.score(X_train, y_train))\n",
    "print('Validation accuracy:', model_boost.score(X_val, y_val))"
   ]
  },
  {
   "cell_type": "markdown",
   "metadata": {
    "deletable": false,
    "editable": false,
    "nbgrader": {
     "cell_type": "markdown",
     "checksum": "044f92b1e1321a290f39d2a3d4f756ed",
     "grade": false,
     "grade_id": "cell-17e8e5433e896bc5",
     "locked": true,
     "schema_version": 3,
     "solution": false,
     "task": false
    }
   },
   "source": [
    "**Task 9 (`stretch_goal`):** Plot the ROC-curve for both of your models (you can plot them one-at-a-time, side-by-side, or in the same plot)."
   ]
  },
  {
   "cell_type": "code",
   "execution_count": 263,
   "metadata": {
    "deletable": false,
    "nbgrader": {
     "cell_type": "code",
     "checksum": "e4a418ccf53481f58016cf1828e973da",
     "grade": false,
     "grade_id": "cell-769e4a780bb22283",
     "locked": false,
     "schema_version": 3,
     "solution": true,
     "task": false
    }
   },
   "outputs": [
    {
     "data": {
      "text/plain": [
       "<matplotlib.legend.Legend at 0x137dfa040>"
      ]
     },
     "execution_count": 263,
     "metadata": {},
     "output_type": "execute_result"
    },
    {
     "data": {
      "image/png": "[encoded data removed]",
      "text/plain": [
       "<Figure size 432x288 with 1 Axes>"
      ]
     },
     "metadata": {
      "needs_background": "light"
     },
     "output_type": "display_data"
    }
   ],
   "source": [
    "'''T9. Plot ROC-curve.'''\n",
    "\n",
    "rf = plot_roc_curve(model_bag, X_val, y_val, label='Random Forest')\n",
    "xgb = plot_roc_curve(model_boost, X_val, y_val, ax=rf.ax_, label='XG Boost')\n",
    "plt.legend()"
   ]
  },
  {
   "cell_type": "markdown",
   "metadata": {
    "deletable": false,
    "editable": false,
    "nbgrader": {
     "cell_type": "markdown",
     "checksum": "c2a7559346e95bf6ecd31e90dcefd3be",
     "grade": false,
     "grade_id": "cell-1b8571c3a6a034f5",
     "locked": true,
     "schema_version": 3,
     "solution": false,
     "task": false
    }
   },
   "source": [
    "**Task 10:** Choose one of your models based on your validation accuracy score or your ROC curves. Then create a classification report for that model using your validation data. Save the text of the report to the variable name `model_cr`. "
   ]
  },
  {
   "cell_type": "code",
   "execution_count": 264,
   "metadata": {
    "deletable": false,
    "nbgrader": {
     "cell_type": "code",
     "checksum": "2ef340cbc8ec53da648b929c0bab96ef",
     "grade": false,
     "grade_id": "cell-49891c4ce9bf5f37",
     "locked": false,
     "schema_version": 3,
     "solution": true,
     "task": false
    }
   },
   "outputs": [
    {
     "name": "stdout",
     "output_type": "stream",
     "text": [
      "XG Boost Classifier\n",
      "              precision    recall  f1-score   support\n",
      "\n",
      "           0       0.71      0.96      0.82      7092\n",
      "           1       0.49      0.10      0.16      2997\n",
      "\n",
      "    accuracy                           0.70     10089\n",
      "   macro avg       0.60      0.53      0.49     10089\n",
      "weighted avg       0.65      0.70      0.62     10089\n",
      "\n"
     ]
    }
   ],
   "source": [
    "'''T10. Generate classification report for one model.'''\n",
    "from sklearn.metrics import classification_report\n",
    "\n",
    "\n",
    "model_cr = classification_report(y_val, model_boost.predict(X_val))\n",
    "print('XG Boost Classifier')\n",
    "print(model_cr)"
   ]
  },
  {
   "cell_type": "markdown",
   "metadata": {
    "deletable": false,
    "editable": false,
    "nbgrader": {
     "cell_type": "markdown",
     "checksum": "103296abc9f51aa4b883c35c418275cc",
     "grade": false,
     "grade_id": "cell-7b5374efd0e40c69",
     "locked": true,
     "schema_version": 3,
     "solution": false,
     "task": false
    }
   },
   "source": [
    "**Task 10 Testing**"
   ]
  },
  {
   "cell_type": "code",
   "execution_count": 265,
   "metadata": {
    "deletable": false,
    "editable": false,
    "nbgrader": {
     "cell_type": "code",
     "checksum": "110853de9aaaba37cb2fe601091b1e7d",
     "grade": true,
     "grade_id": "cell-94e04c938f3f5f84",
     "locked": true,
     "points": 1,
     "schema_version": 3,
     "solution": false,
     "task": false
    }
   },
   "outputs": [],
   "source": [
    "assert isinstance(model_cr, str), '`model_cr` should be type `str`.'\n",
    "assert all(term in model_cr for term in ['precision', 'recall', 'f1-score', 'support']), 'Is this a classification report?'"
   ]
  },
  {
   "cell_type": "markdown",
   "metadata": {
    "deletable": false,
    "editable": false,
    "nbgrader": {
     "cell_type": "markdown",
     "checksum": "00449a4317e9b4d383f2ca7d58a2b0af",
     "grade": false,
     "grade_id": "cell-d2b4843352d3085a",
     "locked": true,
     "schema_version": 3,
     "solution": false,
     "task": false
    }
   },
   "source": [
    "**Task 11:** Using your best model, create a DataFrame `permutation_importances` with the model's permutation importances based on your validation data.\n",
    "\n",
    "- The index of the DataFrame should be your feature names.\n",
    "- The first column should be the mean importance.\n",
    "- The second column should be the importance standard deviation."
   ]
  },
  {
   "cell_type": "code",
   "execution_count": 266,
   "metadata": {
    "deletable": false,
    "nbgrader": {
     "cell_type": "code",
     "checksum": "f8e984b2a5083b74b7eb0abec46f8d63",
     "grade": false,
     "grade_id": "cell-72936eec6980072b",
     "locked": false,
     "schema_version": 3,
     "solution": true,
     "task": false
    }
   },
   "outputs": [
    {
     "data": {
      "text/html": [
       "<div>\n",
       "<style scoped>\n",
       "    .dataframe tbody tr th:only-of-type {\n",
       "        vertical-align: middle;\n",
       "    }\n",
       "\n",
       "    .dataframe tbody tr th {\n",
       "        vertical-align: top;\n",
       "    }\n",
       "\n",
       "    .dataframe thead th {\n",
       "        text-align: right;\n",
       "    }\n",
       "</style>\n",
       "<table border=\"1\" class=\"dataframe\">\n",
       "  <thead>\n",
       "    <tr style=\"text-align: right;\">\n",
       "      <th></th>\n",
       "      <th>importances_mean</th>\n",
       "      <th>importances_std</th>\n",
       "    </tr>\n",
       "  </thead>\n",
       "  <tbody>\n",
       "    <tr>\n",
       "      <th>City</th>\n",
       "      <td>-0.000139</td>\n",
       "      <td>0.000079</td>\n",
       "    </tr>\n",
       "    <tr>\n",
       "      <th>Risk</th>\n",
       "      <td>0.000793</td>\n",
       "      <td>0.000904</td>\n",
       "    </tr>\n",
       "    <tr>\n",
       "      <th>Zip</th>\n",
       "      <td>0.003073</td>\n",
       "      <td>0.001198</td>\n",
       "    </tr>\n",
       "    <tr>\n",
       "      <th>Facility Type</th>\n",
       "      <td>0.004143</td>\n",
       "      <td>0.001146</td>\n",
       "    </tr>\n",
       "    <tr>\n",
       "      <th>Longitude</th>\n",
       "      <td>0.005551</td>\n",
       "      <td>0.001736</td>\n",
       "    </tr>\n",
       "    <tr>\n",
       "      <th>Latitude</th>\n",
       "      <td>0.007136</td>\n",
       "      <td>0.002843</td>\n",
       "    </tr>\n",
       "    <tr>\n",
       "      <th>Inspection Type</th>\n",
       "      <td>0.011954</td>\n",
       "      <td>0.001456</td>\n",
       "    </tr>\n",
       "  </tbody>\n",
       "</table>\n",
       "</div>"
      ],
      "text/plain": [
       "                 importances_mean  importances_std\n",
       "City                    -0.000139         0.000079\n",
       "Risk                     0.000793         0.000904\n",
       "Zip                      0.003073         0.001198\n",
       "Facility Type            0.004143         0.001146\n",
       "Longitude                0.005551         0.001736\n",
       "Latitude                 0.007136         0.002843\n",
       "Inspection Type          0.011954         0.001456"
      ]
     },
     "execution_count": 266,
     "metadata": {},
     "output_type": "execute_result"
    }
   ],
   "source": [
    "'''T11. Create DataFrame of permutation importances.'''\n",
    "\n",
    "perm_imp = permutation_importance(\n",
    "    model_boost,\n",
    "    X_val,\n",
    "    y_val,\n",
    "    n_jobs=100,\n",
    "    random_state=42\n",
    ")\n",
    "\n",
    "# Put results into a DataFrame\n",
    "data = {'importances_mean': perm_imp['importances_mean'],\n",
    "        'importances_std': perm_imp['importances_std']}\n",
    "\n",
    "df = pd.DataFrame(data, index=X_val.columns)\n",
    "df.sort_values(by='importances_mean', inplace=True)\n",
    "\n",
    "\n",
    "data = {'importances_mean': perm_imp['importances_mean'],\n",
    "        'importances_std': perm_imp['importances_std']}\n",
    "\n",
    "permutation_importances = pd.DataFrame(data, index=X_val.columns)\n",
    "permutation_importances.sort_values(by='importances_mean', inplace = True)\n",
    "\n",
    "permutation_importances.shape\n",
    "permutation_importances"
   ]
  },
  {
   "cell_type": "markdown",
   "metadata": {
    "deletable": false,
    "editable": false,
    "nbgrader": {
     "cell_type": "markdown",
     "checksum": "dccb1015d0f5c2f8b23f780eb8e4abf7",
     "grade": false,
     "grade_id": "cell-9eb949d189e401bc",
     "locked": true,
     "schema_version": 3,
     "solution": false,
     "task": false
    }
   },
   "source": [
    "**Task 11 Testing**"
   ]
  },
  {
   "cell_type": "code",
   "execution_count": 267,
   "metadata": {
    "deletable": false,
    "editable": false,
    "nbgrader": {
     "cell_type": "code",
     "checksum": "d84e55cd6e77a52c576972ab68477c90",
     "grade": true,
     "grade_id": "cell-a4d8990e7070c2dd",
     "locked": true,
     "points": 1,
     "schema_version": 3,
     "solution": false,
     "task": false
    }
   },
   "outputs": [],
   "source": [
    "'''Task 11 Test'''\n",
    "assert isinstance(permutation_importances, pd.DataFrame), '`permutation_importances` should be type `DataFrame`.'\n",
    "assert permutation_importances.shape == (7,2)"
   ]
  },
  {
   "cell_type": "markdown",
   "metadata": {
    "deletable": false,
    "editable": false,
    "nbgrader": {
     "cell_type": "markdown",
     "checksum": "f005618a5eb29cde9fbc73ab717b0e1c",
     "grade": false,
     "grade_id": "cell-3d8938c1715a596d",
     "locked": true,
     "schema_version": 3,
     "solution": false,
     "task": false
    }
   },
   "source": [
    "**Task 12 (`stretch goal`):** Using your best model, create a PDP interaction plot to examine how `'Latitude'` and `'Longitude'` inform predictions. Remember to user your validation data.\n",
    "\n",
    "**Note:** Because of the way that `pdp_interact` works, it will throw an error if there are `NaN` values in your validation set. To avoid this problem, be sure to set `dataset` to `X_val.dropna()`."
   ]
  },
  {
   "cell_type": "code",
   "execution_count": 272,
   "metadata": {
    "deletable": false,
    "nbgrader": {
     "cell_type": "code",
     "checksum": "ea5a8422d2efafe17ee63a77c5db1e41",
     "grade": false,
     "grade_id": "cell-224d3b408f9bdd88",
     "locked": false,
     "schema_version": 3,
     "solution": true,
     "task": false
    }
   },
   "outputs": [
    {
     "data": {
      "image/png": "[encoded data removed]",
      "text/plain": [
       "<Figure size 540x684 with 3 Axes>"
      ]
     },
     "metadata": {
      "needs_background": "light"
     },
     "output_type": "display_data"
    }
   ],
   "source": [
    "'''T12. Create PDP interaction plot for \"Latitude\" and \"Longitude\".'''\n",
    "features = ['Longitude', 'Latitude']\n",
    "\n",
    "interact = pdp_interact(\n",
    "    model=model_boost,\n",
    "    dataset=X_val.dropna(),\n",
    "    model_features=X_val.columns,\n",
    "    features=features\n",
    ")\n",
    "\n",
    "pdp_interact_plot(interact, plot_type='grid', feature_names=features);"
   ]
  },
  {
   "cell_type": "markdown",
   "metadata": {
    "deletable": false,
    "editable": false,
    "nbgrader": {
     "cell_type": "markdown",
     "checksum": "ea11277dc1543cb3a51dc7cf050af8a9",
     "grade": false,
     "grade_id": "cell-60908df556f5057e",
     "locked": true,
     "schema_version": 3,
     "solution": false,
     "task": false
    }
   },
   "source": [
    "What do you think? Is there a relationship between location and failing a food saftey inspection?"
   ]
  }
 ],
 "metadata": {
  "kernelspec": {
   "display_name": "Python 3",
   "language": "python",
   "name": "python3"
  },
  "language_info": {
   "codemirror_mode": {
    "name": "ipython",
    "version": 3
   },
   "file_extension": ".py",
   "mimetype": "text/x-python",
   "name": "python",
   "nbconvert_exporter": "python",
   "pygments_lexer": "ipython3",
   "version": "3.8.2"
  }
 },
 "nbformat": 4,
 "nbformat_minor": 4
}
