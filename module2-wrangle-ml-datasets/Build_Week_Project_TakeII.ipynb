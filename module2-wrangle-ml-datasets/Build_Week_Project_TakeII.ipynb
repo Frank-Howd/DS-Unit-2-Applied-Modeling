{
 "cells": [
  {
   "cell_type": "markdown",
   "metadata": {},
   "source": [
    "# I. Complete Imports and Wrangle Data"
   ]
  },
  {
   "cell_type": "code",
   "execution_count": 1263,
   "metadata": {},
   "outputs": [],
   "source": [
    "# Import of packages and package classes\n",
    "\n",
    "import matplotlib.pyplot as plt\n",
    "import numpy as np\n",
    "import pandas as pd\n",
    "import seaborn as sns\n",
    "\n",
    "from category_encoders import OneHotEncoder, OrdinalEncoder\n",
    "from pandas_profiling import ProfileReport\n",
    "from pdpbox.pdp import pdp_isolate, pdp_plot, pdp_interact, pdp_interact_plot\n",
    "from sklearn.ensemble import RandomForestClassifier\n",
    "from sklearn.impute import SimpleImputer\n",
    "from sklearn.inspection import permutation_importance\n",
    "from sklearn.linear_model import LogisticRegression\n",
    "from sklearn.metrics import classification_report, plot_roc_curve, roc_auc_score, plot_confusion_matrix\n",
    "from sklearn.model_selection import cross_val_score, train_test_split, GridSearchCV, RandomizedSearchCV\n",
    "from sklearn.pipeline import make_pipeline\n",
    "from sklearn.preprocessing import StandardScaler\n",
    "from xgboost import XGBClassifier"
   ]
  },
  {
   "cell_type": "code",
   "execution_count": 1248,
   "metadata": {},
   "outputs": [
    {
     "name": "stdout",
     "output_type": "stream",
     "text": [
      "(614, 13)\n"
     ]
    }
   ],
   "source": [
    "# Write a wrangle function for our dataset\n",
    "\n",
    "def wrangle(filepath):\n",
    "    # Establish path to data files\n",
    "    DATA_PATH = '../data/class-project/LoanApproval/'\n",
    "    \n",
    "    # Read in the data\n",
    "    df = pd.read_csv(DATA_PATH + filepath)\n",
    "    print(df.shape)\n",
    "    \n",
    "    # Drop 'Loan_ID' column, it is an identifier only and will not affect model\n",
    "    # No other high-cardinality colums \n",
    "    df.drop(columns='Loan_ID', inplace=True)\n",
    "    \n",
    "    # Clean data col names\n",
    "    df.columns = [col.lower() for col in df.columns]\n",
    "        \n",
    "    df = df.rename(columns=\n",
    "        {'applicantincome': 'applicant_income',\n",
    "         'coapplicantincome': 'coapplicant_income',\n",
    "         'loanamount': 'loan_amount'})\n",
    "        \n",
    "    # Convert 'credit_history' to binary categorical from float (ready for OHE/ordinal encoding)\n",
    "    df['credit_history'].replace(to_replace={1.0: '1', 0.0: '0'}, \n",
    "                                 inplace=True)\n",
    "       \n",
    "    # Remove the outliers where income is > $250,000, and the two outliers where income is < $10,000\n",
    "    df = df[ (df['applicant_income'] > 1_000) & \n",
    "             (df['applicant_income'] < 25_000)]\n",
    "    \n",
    "    # Remove the outlier for 'loan_amount' \n",
    "    df = df[df['loan_amount'] > 10]  \n",
    "    \n",
    "    #df = df[ (df['loan_amount'] > 80) &\n",
    "    #         (df['loan_amount'] < 300_000)]\n",
    "    \n",
    "    # Convert 'coapplicant_income' and'loan_amount' to integers from floats\n",
    "    for col in ['coapplicant_income', 'loan_amount']:\n",
    "       df[col] = df[col].astype(int)\n",
    "    \n",
    "    # Address NaN values and prepare for OHE/Ordinal Encoding\n",
    "    mode_cols = ['gender', 'married', 'dependents', 'self_employed', 'loan_amount_term', 'credit_history']\n",
    "    for col in mode_cols:\n",
    "        df[col].fillna(value=df[col].mode()[0], inplace=True)\n",
    "\n",
    "    df['loan_amount_term'] = df['loan_amount_term'].astype(int).astype(str)    \n",
    "    df['dependents'] = df['dependents'].str.strip('+')\n",
    "\n",
    "    # Convert target, 'LoanStatus' to binary numeric values\n",
    "    df['loan_status'].replace(to_replace={'Y': 1, 'N':0}, inplace=True) \n",
    "    \n",
    "    #df.drop(columns=['gender', 'property_area', 'loan_amount_term', 'self_employed', 'education', 'married'], inplace=True)\n",
    "    \n",
    "    return df\n",
    "\n",
    "train_path = 'train_data.csv'\n",
    "train = wrangle(train_path)"
   ]
  },
  {
   "cell_type": "code",
   "execution_count": 1249,
   "metadata": {},
   "outputs": [
    {
     "name": "stdout",
     "output_type": "stream",
     "text": [
      "(578, 12)\n"
     ]
    },
    {
     "data": {
      "text/html": [
       "<div>\n",
       "<style scoped>\n",
       "    .dataframe tbody tr th:only-of-type {\n",
       "        vertical-align: middle;\n",
       "    }\n",
       "\n",
       "    .dataframe tbody tr th {\n",
       "        vertical-align: top;\n",
       "    }\n",
       "\n",
       "    .dataframe thead th {\n",
       "        text-align: right;\n",
       "    }\n",
       "</style>\n",
       "<table border=\"1\" class=\"dataframe\">\n",
       "  <thead>\n",
       "    <tr style=\"text-align: right;\">\n",
       "      <th></th>\n",
       "      <th>gender</th>\n",
       "      <th>married</th>\n",
       "      <th>dependents</th>\n",
       "      <th>education</th>\n",
       "      <th>self_employed</th>\n",
       "      <th>applicant_income</th>\n",
       "      <th>coapplicant_income</th>\n",
       "      <th>loan_amount</th>\n",
       "      <th>loan_amount_term</th>\n",
       "      <th>credit_history</th>\n",
       "      <th>property_area</th>\n",
       "      <th>loan_status</th>\n",
       "    </tr>\n",
       "  </thead>\n",
       "  <tbody>\n",
       "    <tr>\n",
       "      <th>1</th>\n",
       "      <td>Male</td>\n",
       "      <td>Yes</td>\n",
       "      <td>1</td>\n",
       "      <td>Graduate</td>\n",
       "      <td>No</td>\n",
       "      <td>4583</td>\n",
       "      <td>1508</td>\n",
       "      <td>128</td>\n",
       "      <td>360</td>\n",
       "      <td>1</td>\n",
       "      <td>Rural</td>\n",
       "      <td>0</td>\n",
       "    </tr>\n",
       "    <tr>\n",
       "      <th>2</th>\n",
       "      <td>Male</td>\n",
       "      <td>Yes</td>\n",
       "      <td>0</td>\n",
       "      <td>Graduate</td>\n",
       "      <td>Yes</td>\n",
       "      <td>3000</td>\n",
       "      <td>0</td>\n",
       "      <td>66</td>\n",
       "      <td>360</td>\n",
       "      <td>1</td>\n",
       "      <td>Urban</td>\n",
       "      <td>1</td>\n",
       "    </tr>\n",
       "    <tr>\n",
       "      <th>3</th>\n",
       "      <td>Male</td>\n",
       "      <td>Yes</td>\n",
       "      <td>0</td>\n",
       "      <td>Not Graduate</td>\n",
       "      <td>No</td>\n",
       "      <td>2583</td>\n",
       "      <td>2358</td>\n",
       "      <td>120</td>\n",
       "      <td>360</td>\n",
       "      <td>1</td>\n",
       "      <td>Urban</td>\n",
       "      <td>1</td>\n",
       "    </tr>\n",
       "    <tr>\n",
       "      <th>4</th>\n",
       "      <td>Male</td>\n",
       "      <td>No</td>\n",
       "      <td>0</td>\n",
       "      <td>Graduate</td>\n",
       "      <td>No</td>\n",
       "      <td>6000</td>\n",
       "      <td>0</td>\n",
       "      <td>141</td>\n",
       "      <td>360</td>\n",
       "      <td>1</td>\n",
       "      <td>Urban</td>\n",
       "      <td>1</td>\n",
       "    </tr>\n",
       "    <tr>\n",
       "      <th>5</th>\n",
       "      <td>Male</td>\n",
       "      <td>Yes</td>\n",
       "      <td>2</td>\n",
       "      <td>Graduate</td>\n",
       "      <td>Yes</td>\n",
       "      <td>5417</td>\n",
       "      <td>4196</td>\n",
       "      <td>267</td>\n",
       "      <td>360</td>\n",
       "      <td>1</td>\n",
       "      <td>Urban</td>\n",
       "      <td>1</td>\n",
       "    </tr>\n",
       "  </tbody>\n",
       "</table>\n",
       "</div>"
      ],
      "text/plain": [
       "  gender married dependents     education self_employed  applicant_income  \\\n",
       "1   Male     Yes          1      Graduate            No              4583   \n",
       "2   Male     Yes          0      Graduate           Yes              3000   \n",
       "3   Male     Yes          0  Not Graduate            No              2583   \n",
       "4   Male      No          0      Graduate            No              6000   \n",
       "5   Male     Yes          2      Graduate           Yes              5417   \n",
       "\n",
       "   coapplicant_income  loan_amount loan_amount_term credit_history  \\\n",
       "1                1508          128              360              1   \n",
       "2                   0           66              360              1   \n",
       "3                2358          120              360              1   \n",
       "4                   0          141              360              1   \n",
       "5                4196          267              360              1   \n",
       "\n",
       "  property_area  loan_status  \n",
       "1         Rural            0  \n",
       "2         Urban            1  \n",
       "3         Urban            1  \n",
       "4         Urban            1  \n",
       "5         Urban            1  "
      ]
     },
     "execution_count": 1249,
     "metadata": {},
     "output_type": "execute_result"
    }
   ],
   "source": [
    "print(train.shape)\n",
    "train.head()"
   ]
  },
  {
   "cell_type": "code",
   "execution_count": 1159,
   "metadata": {
    "scrolled": false
   },
   "outputs": [
    {
     "name": "stdout",
     "output_type": "stream",
     "text": [
      "<class 'pandas.core.frame.DataFrame'>\n",
      "Int64Index: 578 entries, 1 to 613\n",
      "Data columns (total 12 columns):\n",
      " #   Column              Non-Null Count  Dtype \n",
      "---  ------              --------------  ----- \n",
      " 0   gender              578 non-null    object\n",
      " 1   married             578 non-null    object\n",
      " 2   dependents          578 non-null    object\n",
      " 3   education           578 non-null    object\n",
      " 4   self_employed       578 non-null    object\n",
      " 5   applicant_income    578 non-null    int64 \n",
      " 6   coapplicant_income  578 non-null    int64 \n",
      " 7   loan_amount         578 non-null    int64 \n",
      " 8   loan_amount_term    578 non-null    object\n",
      " 9   credit_history      578 non-null    object\n",
      " 10  property_area       578 non-null    object\n",
      " 11  loan_status         578 non-null    int64 \n",
      "dtypes: int64(4), object(8)\n",
      "memory usage: 58.7+ KB\n"
     ]
    }
   ],
   "source": [
    "# Remaining NaN values are in categorical features and will be filled using an imputer with strategy='most_frequent'\n",
    "\n",
    "train.info()"
   ]
  },
  {
   "cell_type": "code",
   "execution_count": 1160,
   "metadata": {},
   "outputs": [
    {
     "data": {
      "text/plain": [
       "Male      473\n",
       "Female    105\n",
       "Name: gender, dtype: int64"
      ]
     },
     "execution_count": 1160,
     "metadata": {},
     "output_type": "execute_result"
    }
   ],
   "source": [
    "train['gender'].value_counts(dropna=False)"
   ]
  },
  {
   "cell_type": "code",
   "execution_count": 1161,
   "metadata": {},
   "outputs": [
    {
     "data": {
      "text/plain": [
       "1    495\n",
       "0     83\n",
       "Name: credit_history, dtype: int64"
      ]
     },
     "execution_count": 1161,
     "metadata": {},
     "output_type": "execute_result"
    }
   ],
   "source": [
    "train['credit_history'].value_counts(dropna=False)"
   ]
  },
  {
   "cell_type": "code",
   "execution_count": 1162,
   "metadata": {},
   "outputs": [
    {
     "data": {
      "text/plain": [
       "0    341\n",
       "2     97\n",
       "1     95\n",
       "3     45\n",
       "Name: dependents, dtype: int64"
      ]
     },
     "execution_count": 1162,
     "metadata": {},
     "output_type": "execute_result"
    }
   ],
   "source": [
    "train['dependents'].value_counts(dropna=False)"
   ]
  },
  {
   "cell_type": "code",
   "execution_count": 1163,
   "metadata": {},
   "outputs": [
    {
     "data": {
      "text/plain": [
       "360    498\n",
       "180     39\n",
       "480     14\n",
       "300     12\n",
       "84       4\n",
       "240      3\n",
       "120      3\n",
       "60       2\n",
       "36       2\n",
       "12       1\n",
       "Name: loan_amount_term, dtype: int64"
      ]
     },
     "execution_count": 1163,
     "metadata": {},
     "output_type": "execute_result"
    }
   ],
   "source": [
    "train['loan_amount_term'].value_counts(dropna=False)"
   ]
  },
  {
   "cell_type": "code",
   "execution_count": 1276,
   "metadata": {},
   "outputs": [
    {
     "data": {
      "text/plain": [
       "<AxesSubplot:ylabel='Frequency'>"
      ]
     },
     "execution_count": 1276,
     "metadata": {},
     "output_type": "execute_result"
    },
    {
     "data": {
      "image/png": "[encoded data removed]",
      "text/plain": [
       "<Figure size 432x288 with 1 Axes>"
      ]
     },
     "metadata": {
      "needs_background": "light"
     },
     "output_type": "display_data"
    }
   ],
   "source": [
    "train['loan_amount'].plot(kind='hist', bins=50)"
   ]
  },
  {
   "cell_type": "code",
   "execution_count": 1165,
   "metadata": {},
   "outputs": [
    {
     "name": "stdout",
     "output_type": "stream",
     "text": [
      "(578, 12)\n"
     ]
    },
    {
     "data": {
      "text/html": [
       "<div>\n",
       "<style scoped>\n",
       "    .dataframe tbody tr th:only-of-type {\n",
       "        vertical-align: middle;\n",
       "    }\n",
       "\n",
       "    .dataframe tbody tr th {\n",
       "        vertical-align: top;\n",
       "    }\n",
       "\n",
       "    .dataframe thead th {\n",
       "        text-align: right;\n",
       "    }\n",
       "</style>\n",
       "<table border=\"1\" class=\"dataframe\">\n",
       "  <thead>\n",
       "    <tr style=\"text-align: right;\">\n",
       "      <th></th>\n",
       "      <th>gender</th>\n",
       "      <th>married</th>\n",
       "      <th>dependents</th>\n",
       "      <th>education</th>\n",
       "      <th>self_employed</th>\n",
       "      <th>applicant_income</th>\n",
       "      <th>coapplicant_income</th>\n",
       "      <th>loan_amount</th>\n",
       "      <th>loan_amount_term</th>\n",
       "      <th>credit_history</th>\n",
       "      <th>property_area</th>\n",
       "      <th>loan_status</th>\n",
       "    </tr>\n",
       "  </thead>\n",
       "  <tbody>\n",
       "    <tr>\n",
       "      <th>1</th>\n",
       "      <td>Male</td>\n",
       "      <td>Yes</td>\n",
       "      <td>1</td>\n",
       "      <td>Graduate</td>\n",
       "      <td>No</td>\n",
       "      <td>4583</td>\n",
       "      <td>1508</td>\n",
       "      <td>128</td>\n",
       "      <td>360</td>\n",
       "      <td>1</td>\n",
       "      <td>Rural</td>\n",
       "      <td>0</td>\n",
       "    </tr>\n",
       "    <tr>\n",
       "      <th>2</th>\n",
       "      <td>Male</td>\n",
       "      <td>Yes</td>\n",
       "      <td>0</td>\n",
       "      <td>Graduate</td>\n",
       "      <td>Yes</td>\n",
       "      <td>3000</td>\n",
       "      <td>0</td>\n",
       "      <td>66</td>\n",
       "      <td>360</td>\n",
       "      <td>1</td>\n",
       "      <td>Urban</td>\n",
       "      <td>1</td>\n",
       "    </tr>\n",
       "    <tr>\n",
       "      <th>3</th>\n",
       "      <td>Male</td>\n",
       "      <td>Yes</td>\n",
       "      <td>0</td>\n",
       "      <td>Not Graduate</td>\n",
       "      <td>No</td>\n",
       "      <td>2583</td>\n",
       "      <td>2358</td>\n",
       "      <td>120</td>\n",
       "      <td>360</td>\n",
       "      <td>1</td>\n",
       "      <td>Urban</td>\n",
       "      <td>1</td>\n",
       "    </tr>\n",
       "    <tr>\n",
       "      <th>4</th>\n",
       "      <td>Male</td>\n",
       "      <td>No</td>\n",
       "      <td>0</td>\n",
       "      <td>Graduate</td>\n",
       "      <td>No</td>\n",
       "      <td>6000</td>\n",
       "      <td>0</td>\n",
       "      <td>141</td>\n",
       "      <td>360</td>\n",
       "      <td>1</td>\n",
       "      <td>Urban</td>\n",
       "      <td>1</td>\n",
       "    </tr>\n",
       "    <tr>\n",
       "      <th>5</th>\n",
       "      <td>Male</td>\n",
       "      <td>Yes</td>\n",
       "      <td>2</td>\n",
       "      <td>Graduate</td>\n",
       "      <td>Yes</td>\n",
       "      <td>5417</td>\n",
       "      <td>4196</td>\n",
       "      <td>267</td>\n",
       "      <td>360</td>\n",
       "      <td>1</td>\n",
       "      <td>Urban</td>\n",
       "      <td>1</td>\n",
       "    </tr>\n",
       "  </tbody>\n",
       "</table>\n",
       "</div>"
      ],
      "text/plain": [
       "  gender married dependents     education self_employed  applicant_income  \\\n",
       "1   Male     Yes          1      Graduate            No              4583   \n",
       "2   Male     Yes          0      Graduate           Yes              3000   \n",
       "3   Male     Yes          0  Not Graduate            No              2583   \n",
       "4   Male      No          0      Graduate            No              6000   \n",
       "5   Male     Yes          2      Graduate           Yes              5417   \n",
       "\n",
       "   coapplicant_income  loan_amount loan_amount_term credit_history  \\\n",
       "1                1508          128              360              1   \n",
       "2                   0           66              360              1   \n",
       "3                2358          120              360              1   \n",
       "4                   0          141              360              1   \n",
       "5                4196          267              360              1   \n",
       "\n",
       "  property_area  loan_status  \n",
       "1         Rural            0  \n",
       "2         Urban            1  \n",
       "3         Urban            1  \n",
       "4         Urban            1  \n",
       "5         Urban            1  "
      ]
     },
     "execution_count": 1165,
     "metadata": {},
     "output_type": "execute_result"
    }
   ],
   "source": [
    "# EDA\n",
    "\n",
    "print(train.shape)\n",
    "train.head()\n",
    "\n",
    "# 'gender', 'married', 'education', 'self_employed' are binary categorial variables\n",
    "# 'loan_status' is our target feature\n",
    "# 'credit_history' is indicated to mean 'credit history meets guidelines, Y/N', and should be an integer"
   ]
  },
  {
   "cell_type": "code",
   "execution_count": 1166,
   "metadata": {},
   "outputs": [
    {
     "name": "stdout",
     "output_type": "stream",
     "text": [
      "<class 'pandas.core.frame.DataFrame'>\n",
      "Int64Index: 578 entries, 1 to 613\n",
      "Data columns (total 12 columns):\n",
      " #   Column              Non-Null Count  Dtype \n",
      "---  ------              --------------  ----- \n",
      " 0   gender              578 non-null    object\n",
      " 1   married             578 non-null    object\n",
      " 2   dependents          578 non-null    object\n",
      " 3   education           578 non-null    object\n",
      " 4   self_employed       578 non-null    object\n",
      " 5   applicant_income    578 non-null    int64 \n",
      " 6   coapplicant_income  578 non-null    int64 \n",
      " 7   loan_amount         578 non-null    int64 \n",
      " 8   loan_amount_term    578 non-null    object\n",
      " 9   credit_history      578 non-null    object\n",
      " 10  property_area       578 non-null    object\n",
      " 11  loan_status         578 non-null    int64 \n",
      "dtypes: int64(4), object(8)\n",
      "memory usage: 58.7+ KB\n"
     ]
    }
   ],
   "source": [
    "train.info()"
   ]
  },
  {
   "cell_type": "code",
   "execution_count": 1167,
   "metadata": {},
   "outputs": [
    {
     "data": {
      "text/html": [
       "<div>\n",
       "<style scoped>\n",
       "    .dataframe tbody tr th:only-of-type {\n",
       "        vertical-align: middle;\n",
       "    }\n",
       "\n",
       "    .dataframe tbody tr th {\n",
       "        vertical-align: top;\n",
       "    }\n",
       "\n",
       "    .dataframe thead th {\n",
       "        text-align: right;\n",
       "    }\n",
       "</style>\n",
       "<table border=\"1\" class=\"dataframe\">\n",
       "  <thead>\n",
       "    <tr style=\"text-align: right;\">\n",
       "      <th></th>\n",
       "      <th>gender</th>\n",
       "      <th>married</th>\n",
       "      <th>dependents</th>\n",
       "      <th>education</th>\n",
       "      <th>self_employed</th>\n",
       "      <th>loan_amount_term</th>\n",
       "      <th>credit_history</th>\n",
       "      <th>property_area</th>\n",
       "    </tr>\n",
       "  </thead>\n",
       "  <tbody>\n",
       "    <tr>\n",
       "      <th>count</th>\n",
       "      <td>578</td>\n",
       "      <td>578</td>\n",
       "      <td>578</td>\n",
       "      <td>578</td>\n",
       "      <td>578</td>\n",
       "      <td>578</td>\n",
       "      <td>578</td>\n",
       "      <td>578</td>\n",
       "    </tr>\n",
       "    <tr>\n",
       "      <th>unique</th>\n",
       "      <td>2</td>\n",
       "      <td>2</td>\n",
       "      <td>4</td>\n",
       "      <td>2</td>\n",
       "      <td>2</td>\n",
       "      <td>10</td>\n",
       "      <td>2</td>\n",
       "      <td>3</td>\n",
       "    </tr>\n",
       "    <tr>\n",
       "      <th>top</th>\n",
       "      <td>Male</td>\n",
       "      <td>Yes</td>\n",
       "      <td>0</td>\n",
       "      <td>Graduate</td>\n",
       "      <td>No</td>\n",
       "      <td>360</td>\n",
       "      <td>1</td>\n",
       "      <td>Semiurban</td>\n",
       "    </tr>\n",
       "    <tr>\n",
       "      <th>freq</th>\n",
       "      <td>473</td>\n",
       "      <td>376</td>\n",
       "      <td>341</td>\n",
       "      <td>452</td>\n",
       "      <td>502</td>\n",
       "      <td>498</td>\n",
       "      <td>495</td>\n",
       "      <td>223</td>\n",
       "    </tr>\n",
       "  </tbody>\n",
       "</table>\n",
       "</div>"
      ],
      "text/plain": [
       "       gender married dependents education self_employed loan_amount_term  \\\n",
       "count     578     578        578       578           578              578   \n",
       "unique      2       2          4         2             2               10   \n",
       "top      Male     Yes          0  Graduate            No              360   \n",
       "freq      473     376        341       452           502              498   \n",
       "\n",
       "       credit_history property_area  \n",
       "count             578           578  \n",
       "unique              2             3  \n",
       "top                 1     Semiurban  \n",
       "freq              495           223  "
      ]
     },
     "execution_count": 1167,
     "metadata": {},
     "output_type": "execute_result"
    }
   ],
   "source": [
    "# Categorical variables are not high cardinality\n",
    "\n",
    "train.describe(exclude='number')"
   ]
  },
  {
   "cell_type": "code",
   "execution_count": 1168,
   "metadata": {},
   "outputs": [
    {
     "name": "stdout",
     "output_type": "stream",
     "text": [
      "Male      0.818339\n",
      "Female    0.181661\n",
      "Name: gender, dtype: float64\n"
     ]
    },
    {
     "data": {
      "image/png": "[encoded data removed]",
      "text/plain": [
       "<Figure size 432x288 with 1 Axes>"
      ]
     },
     "metadata": {
      "needs_background": "light"
     },
     "output_type": "display_data"
    }
   ],
   "source": [
    "# Many more male applicants than female\n",
    "\n",
    "print(train['gender'].value_counts(normalize=True))\n",
    "\n",
    "train['gender'].value_counts().plot(kind='bar')\n",
    "plt.xlabel('Gender')\n",
    "plt.ylabel('Count')\n",
    "plt.show();"
   ]
  },
  {
   "cell_type": "code",
   "execution_count": 1169,
   "metadata": {},
   "outputs": [
    {
     "name": "stdout",
     "output_type": "stream",
     "text": [
      "0    0.589965\n",
      "2    0.167820\n",
      "1    0.164360\n",
      "3    0.077855\n",
      "Name: dependents, dtype: float64\n"
     ]
    },
    {
     "data": {
      "image/png": "[encoded data removed]",
      "text/plain": [
       "<Figure size 432x288 with 1 Axes>"
      ]
     },
     "metadata": {
      "needs_background": "light"
     },
     "output_type": "display_data"
    }
   ],
   "source": [
    "# Primary number of dependents is 0, 3+ are the most infrequent\n",
    "\n",
    "print(train['dependents'].value_counts(normalize=True))\n",
    "\n",
    "train['dependents'].value_counts().plot(kind='bar')\n",
    "plt.xlabel('Dependents')\n",
    "plt.ylabel('Count')\n",
    "plt.show();"
   ]
  },
  {
   "cell_type": "code",
   "execution_count": 1170,
   "metadata": {},
   "outputs": [
    {
     "name": "stdout",
     "output_type": "stream",
     "text": [
      "Graduate        0.782007\n",
      "Not Graduate    0.217993\n",
      "Name: education, dtype: float64 \n",
      "\n"
     ]
    },
    {
     "data": {
      "image/png": "[encoded data removed]",
      "text/plain": [
       "<Figure size 432x288 with 1 Axes>"
      ]
     },
     "metadata": {
      "needs_background": "light"
     },
     "output_type": "display_data"
    }
   ],
   "source": [
    "# More applicants are classified as 'Graduate' vs 'Not Graduate'\n",
    "\n",
    "print(train['education'].value_counts(normalize=True), \"\\n\")\n",
    "\n",
    "train['education'].value_counts().plot(kind='bar')\n",
    "plt.xlabel('Graduation Status')\n",
    "plt.ylabel('Count')\n",
    "plt.show();"
   ]
  },
  {
   "cell_type": "code",
   "execution_count": 1171,
   "metadata": {},
   "outputs": [
    {
     "name": "stdout",
     "output_type": "stream",
     "text": [
      "No     0.868512\n",
      "Yes    0.131488\n",
      "Name: self_employed, dtype: float64 \n",
      "\n"
     ]
    },
    {
     "data": {
      "image/png": "[encoded data removed]",
      "text/plain": [
       "<Figure size 432x288 with 1 Axes>"
      ]
     },
     "metadata": {
      "needs_background": "light"
     },
     "output_type": "display_data"
    }
   ],
   "source": [
    "# More applicants work for someone else versus being self-employed\n",
    "\n",
    "print(train['self_employed'].value_counts(normalize=True), \"\\n\")\n",
    "\n",
    "train['self_employed'].value_counts().plot(kind='bar')\n",
    "plt.xlabel('Self Employed')\n",
    "plt.ylabel('Frequency')\n",
    "plt.show()"
   ]
  },
  {
   "cell_type": "code",
   "execution_count": 1275,
   "metadata": {},
   "outputs": [
    {
     "name": "stdout",
     "output_type": "stream",
     "text": [
      "1025\n",
      "[ 4583  3000  2583  6000  5417  2333  3036  4006 12841  3200  2500  3073\n",
      "  1853  1299  4950  3596  3510  4887  2600  7660  5955  3365  3717  9560\n",
      "  2799  4226  1442  3750  4166  3167  4692  3500 12500  1828  3667  3748\n",
      "  3600  1800  2400  3941  4695  3410  5649  5821  2645  4000  1928  3086\n",
      "  4230  4616 11500  2708  2132  3366  8080  3357  3029  2609  5726 10750\n",
      "  7100  4300  3208  1875  4755  5266  3333  3846  1378  3988  2366  8566\n",
      "  5695  2958  6250  3273  4133  3620  2484  1977  4188  1759  4288  4843\n",
      "  3816  3052 11417  7333  3800  2071  5316  2929  3572  5050 14583  2214\n",
      "  5568 10408  5667  2137  2957  3692 23803 10513  6080 20166  2014  2718\n",
      "  3459  4895  3316 14999  4200  5042  6950  2698 11757  2330 14866  1538\n",
      " 10000  4860  6277  2577  9166  2281  3254  9538  2980  1863  7933  3089\n",
      "  4167  9323  3707  2439  2237  8000  1820  3522  5708  4344  3497  2045\n",
      "  5516  6400  1916  4600  3625  2178  2383  9328  4885 12000  6033  3858\n",
      "  4191  3125  8333  1907  3416 11000  4923  3917  4408  3244  3975  2479\n",
      "  3418  3430  7787  5703  3173  3850  3727  5000  4283  2221  4009  2971\n",
      "  7578  3250  4735  4758  2491  3716  3189  3155  5500  5746  3463  3812\n",
      "  3315  5819  2510  2965  3406  6050  9703  6608  2882  1809  1668  3427\n",
      "  2661 16250  3083  6045  5250 14683  4931  6083  2060  3481  7200  5166\n",
      "  4095  4708  4333  2876  3237 11146  2833  2620  3900  2750  3993  3103\n",
      "  4100  4053  3927  2301  1811  3158  3704  4124  9508  3075  4400  3153\n",
      "  4416  6875  4666  2875  1625  3762 20233  7667  2917  2927  2507  2473\n",
      "  3399  2058  3541  4342  3166 15000  8666  4917  5818  4384  2935  9833\n",
      "  5503  4160  2647  2378  4554  2499  3523  6333  2625  9083  8750  2666\n",
      "  2423  3813  3875  5167  4723  4750  3013  6822  6216  5124  6325 19730\n",
      " 15759  5185  3062  2764  4817  4310  3069  5391  5941  7167  4566  2346\n",
      "  5488  9167  9504  1993  3100  3276  3180  3033  3902  1500  2889  2755\n",
      "  1963  7441  4547  2167  2213  8300  3867  6256  6096  2253  2149  2995\n",
      "  1600  1025  3246  5829  2720  7250 14880  4606  5935  2920  2717  8624\n",
      "  6500 12876  2425  1926 10416  7142  3660  7901  4707  3466  4652  3539\n",
      "  3340  2769  2309  1958  3948  2483  7085  3859  4301  3708  4354  8334\n",
      "  2083  7740  3015  5191  2947 16692  3450  2653  4691  5532 16525  6700\n",
      "  2873 16667  4350  3095 10833  3547 18333  2435  2699  5333  3691 17263\n",
      "  3597  3326  4625  2895  6283  3159  4865  4050  3814 20833  3583 13262\n",
      "  3598  6065  3283  2130  5815  2031  3074  4683  3400  2192  5677  7948\n",
      " 17500  3775  5285  2679  6783  4281  3588 11250 18165  2550  6133  3617\n",
      "  6417  4608  2138  3652  2239  3017  2768  3358  2526  2785  2454  3593\n",
      "  5468  2667 10139  3887  4180  3675 19484  5923  5800  8799  4467  3417\n",
      "  5116 16666  6125  6406  3087  3229  1782  3182  6540  1836  1880  2787\n",
      "  2297  2165  2726  9357 16120  3833  6383  2987  9963  5780  2894  3676\n",
      "  3987  3232  2900  4106  8072  7583]\n"
     ]
    },
    {
     "data": {
      "image/png": "[encoded data removed]",
      "text/plain": [
       "<Figure size 432x288 with 1 Axes>"
      ]
     },
     "metadata": {
      "needs_background": "light"
     },
     "output_type": "display_data"
    }
   ],
   "source": [
    "# After removing outliers, can see that most applicant income are in the 30,000 to 50,000 range, skewed to the right\n",
    "\n",
    "print(train['applicant_income'].min())\n",
    "print(train['applicant_income'].unique())\n",
    "\n",
    "train['applicant_income'].plot(kind='hist', bins=50)\n",
    "\n",
    "plt.xlabel('Applicant Income')\n",
    "plt.ylabel('Frequency')\n",
    "plt.show();"
   ]
  },
  {
   "cell_type": "code",
   "execution_count": 1173,
   "metadata": {
    "scrolled": true
   },
   "outputs": [
    {
     "name": "stdout",
     "output_type": "stream",
     "text": [
      "0\n",
      "[ 1508     0  2358  4196  1516  2504  1526 10968   700  1840  8106  2840\n",
      "  1086  3500  5625  1911  1917  2925  2253  1040  2083  3369  1667  3000\n",
      "  1330  1459  7210  1668  1213  2336  3440  2275  1644  1167  1591  2200\n",
      "  2250  2859  3796  3449  4595  2254  3066  1875  1774  4750  4000  2166\n",
      "  1881  2531  2000  2118  4167  2900  5654  1820  2302   997  3541  3263\n",
      "  3806   754  1030  1126  3600  2333  4114  2283  1398  2142  2667  8980\n",
      "  2014  3850  2569  1929  7750  1430  2034  4486  1425  1666   830  3750\n",
      "  1041  1280  1447  3166  3333  1769   736  1964  1619 11300  1451  7250\n",
      "  5063  2138  2583  2365  2816  2500  1083  1250  3021   983  1775  2383\n",
      "  1717  2791  1010  1695  2054  2598  1779  1260  5000  1983  5701  1300\n",
      "  4417  4333  1843  1868  3890  2167  7101  2100  4250  2209  3447  1387\n",
      "  1811  1560  1857  2223  1842  3274  2426   800   985  3053  2416  3334\n",
      "  2541  2934  1750  1803  1863  2405  1640  2134   189  2985  4983  2160\n",
      "  2451  1793  1833  4490   688  4600  1587  1229  2330  2458  3230  2168\n",
      "  4583  6250   505  3167  3667  3033  5266  7873  1987   923  4996  4232\n",
      "  1600  2417  2115  1625  1400   484  1800 20000  2400  2033  3237  2773\n",
      "  1417  1719  4300    16  2340  1851  5064  1993  8333  1210  1376  1710\n",
      "  1542  1255  1456  1733  2466  4083  2188  1664  2079  1500  4648  1014\n",
      "  1872  3150  2436  2785  1131  2157   913  1700  2857  4416  5624  5302\n",
      "  1483  6667  3013  1287  2004  2035  6666  3666  3428  1632  1915  1742\n",
      "  1424  7166  1302  5500  2042  3906   536  2845  2524   663  1950  1783\n",
      "  2016  3250  4266  1032  2669  2306   242  2064   461  2210  2739  2232\n",
      "  2917 33837  1522  3416  3300  1000  2792  4301  1411   240]\n"
     ]
    },
    {
     "data": {
      "image/png": "[encoded data removed]",
      "text/plain": [
       "<Figure size 432x288 with 1 Axes>"
      ]
     },
     "metadata": {
      "needs_background": "light"
     },
     "output_type": "display_data"
    }
   ],
   "source": [
    "# Distribution of 'coapplicant_income'\n",
    "\n",
    "print(train['coapplicant_income'].min())\n",
    "print(train['coapplicant_income'].unique())\n",
    "\n",
    "train['applicant_income'].plot(kind='hist')\n",
    "\n",
    "plt.xlabel('Co-applicant Income')\n",
    "plt.ylabel('Frequency')\n",
    "plt.show();"
   ]
  },
  {
   "cell_type": "code",
   "execution_count": 1174,
   "metadata": {
    "scrolled": false
   },
   "outputs": [
    {
     "name": "stdout",
     "output_type": "stream",
     "text": [
      "17\n",
      "[128  66 120 141 267  95 158 168 349  70 109 200 114  17 125 100  76 133\n",
      " 115 104 315 116 112 151 191 122 110  35 201  74 106 320 144 184  80  47\n",
      "  75 134  96  88  44 286  97 135 180  99 165 258 126 312 136 172  81 187\n",
      " 113 176 130 111 167 265  50 210 175 131 188  25 137 160 225 216  94 139\n",
      " 152 118 185 154  85 259 194  93 370 182 650 102 290  84 242 129  30 244\n",
      " 255  98 275 121  63  87 101 495  67  73 108  58  48 164 170  83  90 166\n",
      " 124  55  59 127 214 240  72  60 138  42 280 140 155 123 279 192 304 330\n",
      " 150 207 436  78  54  89 143 105 132 480  56 159 300 376 117  71 173  46\n",
      " 228 308 236 570 380 296 156 103  45  65  53  62 218 178 239 405 148 190\n",
      " 149 153 162 230  86 234 246 500 186 119 107 209 208 243  40 250 311 400\n",
      " 161 196 324 157 145 181  26 260 600 211 205  36  61 146 292 142 496 253]\n"
     ]
    },
    {
     "data": {
      "image/png": "[encoded data removed]",
      "text/plain": [
       "<Figure size 432x288 with 1 Axes>"
      ]
     },
     "metadata": {
      "needs_background": "light"
     },
     "output_type": "display_data"
    }
   ],
   "source": [
    "# Distribution of 'loan_amount'\n",
    "\n",
    "print(train['loan_amount'].min())\n",
    "print(train['loan_amount'].unique())\n",
    "\n",
    "train['loan_amount'].plot(kind='hist')\n",
    "\n",
    "plt.xlabel('Loan Amount')\n",
    "plt.ylabel('Frequency')\n",
    "plt.show();"
   ]
  },
  {
   "cell_type": "code",
   "execution_count": 1175,
   "metadata": {
    "scrolled": true
   },
   "outputs": [
    {
     "name": "stdout",
     "output_type": "stream",
     "text": [
      "360    0.861592\n",
      "180    0.067474\n",
      "480    0.024221\n",
      "300    0.020761\n",
      "84     0.006920\n",
      "240    0.005190\n",
      "120    0.005190\n",
      "60     0.003460\n",
      "36     0.003460\n",
      "12     0.001730\n",
      "Name: loan_amount_term, dtype: float64 \n",
      "\n"
     ]
    },
    {
     "data": {
      "image/png": "[encoded data removed]",
      "text/plain": [
       "<Figure size 432x288 with 1 Axes>"
      ]
     },
     "metadata": {
      "needs_background": "light"
     },
     "output_type": "display_data"
    }
   ],
   "source": [
    "# Most applicants apper to be applying for loans with 30-year term lengths\n",
    "\n",
    "print(train['loan_amount_term'].value_counts(normalize=True), \"\\n\")\n",
    "\n",
    "train['loan_amount_term'].value_counts().plot(kind='bar')\n",
    "plt.xlabel('Loan Term')\n",
    "plt.ylabel('Frequency')\n",
    "plt.show()"
   ]
  },
  {
   "cell_type": "code",
   "execution_count": 1176,
   "metadata": {},
   "outputs": [
    {
     "name": "stdout",
     "output_type": "stream",
     "text": [
      "1    0.856401\n",
      "0    0.143599\n",
      "Name: credit_history, dtype: float64 \n",
      "\n",
      "object\n"
     ]
    },
    {
     "data": {
      "image/png": "[encoded data removed]",
      "text/plain": [
       "<Figure size 432x288 with 1 Axes>"
      ]
     },
     "metadata": {
      "needs_background": "light"
     },
     "output_type": "display_data"
    }
   ],
   "source": [
    "# Most applicants 'credit_history' meet guidelines\n",
    "\n",
    "print(train['credit_history'].value_counts(normalize=True), \"\\n\")\n",
    "print(train['credit_history'].dtypes)\n",
    "\n",
    "train['credit_history'].value_counts().plot(kind='bar')\n",
    "plt.xlabel('Credity History, meets guidelines')\n",
    "plt.ylabel('Frequency')\n",
    "plt.show()"
   ]
  },
  {
   "cell_type": "code",
   "execution_count": 1177,
   "metadata": {},
   "outputs": [
    {
     "name": "stdout",
     "output_type": "stream",
     "text": [
      "Semiurban    0.385813\n",
      "Urban        0.321799\n",
      "Rural        0.292388\n",
      "Name: property_area, dtype: float64 \n",
      "\n",
      "object\n"
     ]
    },
    {
     "data": {
      "image/png": "[encoded data removed]",
      "text/plain": [
       "<Figure size 432x288 with 1 Axes>"
      ]
     },
     "metadata": {
      "needs_background": "light"
     },
     "output_type": "display_data"
    }
   ],
   "source": [
    "# Most 'property_area'\n",
    "\n",
    "print(train['property_area'].value_counts(normalize=True), \"\\n\")\n",
    "print(train['property_area'].dtypes)\n",
    "\n",
    "train['property_area'].value_counts().plot(kind='bar')\n",
    "plt.xlabel('Property Area')\n",
    "plt.ylabel('Frequency')\n",
    "plt.show()"
   ]
  },
  {
   "cell_type": "code",
   "execution_count": 1178,
   "metadata": {},
   "outputs": [
    {
     "data": {
      "text/html": [
       "<div>\n",
       "<style scoped>\n",
       "    .dataframe tbody tr th:only-of-type {\n",
       "        vertical-align: middle;\n",
       "    }\n",
       "\n",
       "    .dataframe tbody tr th {\n",
       "        vertical-align: top;\n",
       "    }\n",
       "\n",
       "    .dataframe thead th {\n",
       "        text-align: right;\n",
       "    }\n",
       "</style>\n",
       "<table border=\"1\" class=\"dataframe\">\n",
       "  <thead>\n",
       "    <tr style=\"text-align: right;\">\n",
       "      <th></th>\n",
       "      <th>gender</th>\n",
       "      <th>married</th>\n",
       "      <th>dependents</th>\n",
       "      <th>education</th>\n",
       "      <th>self_employed</th>\n",
       "      <th>applicant_income</th>\n",
       "      <th>coapplicant_income</th>\n",
       "      <th>loan_amount</th>\n",
       "      <th>loan_amount_term</th>\n",
       "      <th>credit_history</th>\n",
       "      <th>property_area</th>\n",
       "      <th>loan_status</th>\n",
       "    </tr>\n",
       "  </thead>\n",
       "  <tbody>\n",
       "    <tr>\n",
       "      <th>1</th>\n",
       "      <td>Male</td>\n",
       "      <td>Yes</td>\n",
       "      <td>1</td>\n",
       "      <td>Graduate</td>\n",
       "      <td>No</td>\n",
       "      <td>4583</td>\n",
       "      <td>1508</td>\n",
       "      <td>128</td>\n",
       "      <td>360</td>\n",
       "      <td>1</td>\n",
       "      <td>Rural</td>\n",
       "      <td>0</td>\n",
       "    </tr>\n",
       "    <tr>\n",
       "      <th>2</th>\n",
       "      <td>Male</td>\n",
       "      <td>Yes</td>\n",
       "      <td>0</td>\n",
       "      <td>Graduate</td>\n",
       "      <td>Yes</td>\n",
       "      <td>3000</td>\n",
       "      <td>0</td>\n",
       "      <td>66</td>\n",
       "      <td>360</td>\n",
       "      <td>1</td>\n",
       "      <td>Urban</td>\n",
       "      <td>1</td>\n",
       "    </tr>\n",
       "    <tr>\n",
       "      <th>3</th>\n",
       "      <td>Male</td>\n",
       "      <td>Yes</td>\n",
       "      <td>0</td>\n",
       "      <td>Not Graduate</td>\n",
       "      <td>No</td>\n",
       "      <td>2583</td>\n",
       "      <td>2358</td>\n",
       "      <td>120</td>\n",
       "      <td>360</td>\n",
       "      <td>1</td>\n",
       "      <td>Urban</td>\n",
       "      <td>1</td>\n",
       "    </tr>\n",
       "    <tr>\n",
       "      <th>4</th>\n",
       "      <td>Male</td>\n",
       "      <td>No</td>\n",
       "      <td>0</td>\n",
       "      <td>Graduate</td>\n",
       "      <td>No</td>\n",
       "      <td>6000</td>\n",
       "      <td>0</td>\n",
       "      <td>141</td>\n",
       "      <td>360</td>\n",
       "      <td>1</td>\n",
       "      <td>Urban</td>\n",
       "      <td>1</td>\n",
       "    </tr>\n",
       "    <tr>\n",
       "      <th>5</th>\n",
       "      <td>Male</td>\n",
       "      <td>Yes</td>\n",
       "      <td>2</td>\n",
       "      <td>Graduate</td>\n",
       "      <td>Yes</td>\n",
       "      <td>5417</td>\n",
       "      <td>4196</td>\n",
       "      <td>267</td>\n",
       "      <td>360</td>\n",
       "      <td>1</td>\n",
       "      <td>Urban</td>\n",
       "      <td>1</td>\n",
       "    </tr>\n",
       "  </tbody>\n",
       "</table>\n",
       "</div>"
      ],
      "text/plain": [
       "  gender married dependents     education self_employed  applicant_income  \\\n",
       "1   Male     Yes          1      Graduate            No              4583   \n",
       "2   Male     Yes          0      Graduate           Yes              3000   \n",
       "3   Male     Yes          0  Not Graduate            No              2583   \n",
       "4   Male      No          0      Graduate            No              6000   \n",
       "5   Male     Yes          2      Graduate           Yes              5417   \n",
       "\n",
       "   coapplicant_income  loan_amount loan_amount_term credit_history  \\\n",
       "1                1508          128              360              1   \n",
       "2                   0           66              360              1   \n",
       "3                2358          120              360              1   \n",
       "4                   0          141              360              1   \n",
       "5                4196          267              360              1   \n",
       "\n",
       "  property_area  loan_status  \n",
       "1         Rural            0  \n",
       "2         Urban            1  \n",
       "3         Urban            1  \n",
       "4         Urban            1  \n",
       "5         Urban            1  "
      ]
     },
     "execution_count": 1178,
     "metadata": {},
     "output_type": "execute_result"
    }
   ],
   "source": [
    "train.shape\n",
    "train.head()"
   ]
  },
  {
   "cell_type": "code",
   "execution_count": 1179,
   "metadata": {},
   "outputs": [
    {
     "data": {
      "text/plain": [
       "<seaborn.axisgrid.PairGrid at 0x148a2cfd0>"
      ]
     },
     "execution_count": 1179,
     "metadata": {},
     "output_type": "execute_result"
    },
    {
     "data": {
      "image/png": "[encoded data removed]",
      "text/plain": [
       "<Figure size 540x540 with 12 Axes>"
      ]
     },
     "metadata": {
      "needs_background": "light"
     },
     "output_type": "display_data"
    }
   ],
   "source": [
    "# Examine for correlation among continuous variables\n",
    "\n",
    "sns.pairplot(train[['applicant_income', 'coapplicant_income', 'loan_amount']])"
   ]
  },
  {
   "cell_type": "markdown",
   "metadata": {},
   "source": [
    "# II. Split the Data"
   ]
  },
  {
   "cell_type": "code",
   "execution_count": 1250,
   "metadata": {},
   "outputs": [],
   "source": [
    "# Create Feature Matrix and Target Array\n",
    "\n",
    "target = 'loan_status'\n",
    "\n",
    "y = train[target]\n",
    "X = train.drop(columns=target)"
   ]
  },
  {
   "cell_type": "code",
   "execution_count": 1251,
   "metadata": {},
   "outputs": [
    {
     "data": {
      "text/plain": [
       "(578,)"
      ]
     },
     "execution_count": 1251,
     "metadata": {},
     "output_type": "execute_result"
    }
   ],
   "source": [
    "y.shape"
   ]
  },
  {
   "cell_type": "code",
   "execution_count": 1252,
   "metadata": {},
   "outputs": [],
   "source": [
    "# Split the data\n",
    "# Will use a random split; there is no datetime information included in this dataset.\n",
    "\n",
    "X_train, X_val, y_train, y_val = train_test_split(X, y, test_size=0.2, random_state=42)"
   ]
  },
  {
   "cell_type": "markdown",
   "metadata": {},
   "source": [
    "# III. Establish a Baseline"
   ]
  },
  {
   "cell_type": "code",
   "execution_count": 1253,
   "metadata": {},
   "outputs": [
    {
     "name": "stdout",
     "output_type": "stream",
     "text": [
      "1    0.688312\n",
      "0    0.311688\n",
      "Name: loan_status, dtype: float64 \n",
      "\n",
      "Baseline Accuracy: 0.6883\n"
     ]
    }
   ],
   "source": [
    "# Establish a baseline for this classification problem - 'Was the loan approved?'\n",
    "# The classes of the Target Vector are moderately imbalanced towards approval\n",
    "# Since this is a classification problem we will be looking at accuracy \n",
    "# You have a 69.15% chance of being correct if you always decide that the loan was approved; this is our baseline\n",
    "# to beat\n",
    "\n",
    "print(y_train.value_counts(normalize=True), \"\\n\")\n",
    "print('Baseline Accuracy: {:.4f}'.format(y_train.value_counts(normalize=True).max()))"
   ]
  },
  {
   "cell_type": "code",
   "execution_count": 1254,
   "metadata": {
    "scrolled": true
   },
   "outputs": [
    {
     "name": "stdout",
     "output_type": "stream",
     "text": [
      "<class 'pandas.core.frame.DataFrame'>\n",
      "Int64Index: 462 entries, 265 to 110\n",
      "Data columns (total 11 columns):\n",
      " #   Column              Non-Null Count  Dtype \n",
      "---  ------              --------------  ----- \n",
      " 0   gender              462 non-null    object\n",
      " 1   married             462 non-null    object\n",
      " 2   dependents          462 non-null    object\n",
      " 3   education           462 non-null    object\n",
      " 4   self_employed       462 non-null    object\n",
      " 5   applicant_income    462 non-null    int64 \n",
      " 6   coapplicant_income  462 non-null    int64 \n",
      " 7   loan_amount         462 non-null    int64 \n",
      " 8   loan_amount_term    462 non-null    object\n",
      " 9   credit_history      462 non-null    object\n",
      " 10  property_area       462 non-null    object\n",
      "dtypes: int64(3), object(8)\n",
      "memory usage: 43.3+ KB\n"
     ]
    }
   ],
   "source": [
    "X_train.info()"
   ]
  },
  {
   "cell_type": "markdown",
   "metadata": {},
   "source": [
    "# IV. Build Models\n",
    "\n",
    "- `LogisticRegression`\n",
    "    \n",
    "    - `OneHotEncoder`\n",
    "    - `StandardScaler`\n",
    " \n",
    "- `RandomForrestClassifier`\n",
    "\n",
    "    - `OrdinalEncoder`\n",
    "    \n",
    "- `XGBClassifier`\n",
    "\n",
    "    - `OrdinalEncoder`"
   ]
  },
  {
   "cell_type": "code",
   "execution_count": 1255,
   "metadata": {},
   "outputs": [],
   "source": [
    "# Model 1: Logistic Regression Model\n",
    "\n",
    "model_lr = make_pipeline(\n",
    "    OneHotEncoder(use_cat_names=True),\n",
    "    #SimpleImputer(strategy='most_frequent'),\n",
    "    StandardScaler(),\n",
    "    LogisticRegression()\n",
    ")\n",
    "\n",
    "model_lr.fit(X_train, y_train);"
   ]
  },
  {
   "cell_type": "code",
   "execution_count": 1256,
   "metadata": {},
   "outputs": [],
   "source": [
    "# Model 1: Random Forest Classifier Model\n",
    "\n",
    "model_rf = make_pipeline(\n",
    "    OrdinalEncoder(),\n",
    "    #SimpleImputer(strategy='most_frequent'),\n",
    "    RandomForestClassifier(n_jobs=-1, random_state=42)\n",
    ")\n",
    "\n",
    "model_rf.fit(X_train, y_train);"
   ]
  },
  {
   "cell_type": "code",
   "execution_count": 1300,
   "metadata": {},
   "outputs": [],
   "source": [
    "# Model 2: XG-Boost Classifier\n",
    "\n",
    "model_xgb = make_pipeline(\n",
    "    OrdinalEncoder(),\n",
    "    #SimpleImputer(strategy='most_frequent'),\n",
    "    XGBClassifier(random_state=42, n_jobs=-1)\n",
    ")\n",
    "\n",
    "model_xgb.fit(X_train, y_train);"
   ]
  },
  {
   "cell_type": "markdown",
   "metadata": {},
   "source": [
    "# V. Check Metrics "
   ]
  },
  {
   "cell_type": "code",
   "execution_count": 1258,
   "metadata": {},
   "outputs": [],
   "source": [
    "# Classification: Is your majority class frequency >= 50% and < 70% ? \n",
    "# If so, you can just use accuracy if you want. Outside that range, accuracy could be misleading. \n",
    "# What evaluation metric will you choose, in addition to or instead of accuracy?\n",
    "\n",
    "# Our majority class is less than 70% and can just use accuracy.  Should, however, come back and build out a \n",
    "# confusion_matrix, and look at recall/precision.  Will also explore Precision, Recall, and F1 Score."
   ]
  },
  {
   "cell_type": "code",
   "execution_count": 1259,
   "metadata": {},
   "outputs": [
    {
     "name": "stdout",
     "output_type": "stream",
     "text": [
      "Training Accuracy (LOGR): 0.8268398268398268\n",
      "Validation Accuracy (LOGR): 0.8362068965517241\n"
     ]
    }
   ],
   "source": [
    "# Training and Validation accuracy of our Logistic Regression model\n",
    "\n",
    "print('Training Accuracy (LOGR):', model_lr.score(X_train, y_train))\n",
    "print('Validation Accuracy (LOGR):', model_lr.score(X_val, y_val))"
   ]
  },
  {
   "cell_type": "code",
   "execution_count": 1267,
   "metadata": {},
   "outputs": [
    {
     "name": "stdout",
     "output_type": "stream",
     "text": [
      "Cross Validation Score (LOGR): \n",
      " 0.8817204301075269 \n",
      " 0.8494623655913979 \n",
      " 0.75 \n",
      " 0.8043478260869565 \n",
      " 0.8152173913043478\n"
     ]
    }
   ],
   "source": [
    "# Cross Validation Score for our Logistic Regression model\n",
    "\n",
    "lr_cvs = cross_val_score(model_lr, X_train, y_train, cv=5, n_jobs=-1)\n",
    "print('Cross Validation Score (LOGR):', '\\n', lr_cvs[0], '\\n',\n",
    "      lr_cvs[1], '\\n', lr_cvs[2], '\\n', lr_cvs[3],  '\\n', \n",
    "      lr_cvs[4])"
   ]
  },
  {
   "cell_type": "code",
   "execution_count": 1260,
   "metadata": {},
   "outputs": [
    {
     "name": "stdout",
     "output_type": "stream",
     "text": [
      "Training Accuracy (RF): 1.0\n",
      "Validation Accuracy (RF): 0.7758620689655172\n"
     ]
    }
   ],
   "source": [
    "# Training and Validation accuracy of our Random Forest Classifier model\n",
    "\n",
    "print('Training Accuracy (RF):', model_rf.score(X_train, y_train))\n",
    "print('Validation Accuracy (RF):', model_rf.score(X_val, y_val))"
   ]
  },
  {
   "cell_type": "code",
   "execution_count": 1268,
   "metadata": {},
   "outputs": [
    {
     "name": "stdout",
     "output_type": "stream",
     "text": [
      "Cross Validation Score (RF): \n",
      " 0.8602150537634409 \n",
      " 0.8172043010752689 \n",
      " 0.7717391304347826 \n",
      " 0.782608695652174 \n",
      " 0.7934782608695652\n"
     ]
    }
   ],
   "source": [
    "# Cross Validation Score for our Random Forest Classifier model\n",
    "\n",
    "rf_cvs = cross_val_score(model_rf, X_train, y_train, cv=5, n_jobs=-1)\n",
    "print('Cross Validation Score (RF):', '\\n', rf_cvs[0], '\\n',\n",
    "      rf_cvs[1], '\\n', rf_cvs[2], '\\n', rf_cvs[3],  '\\n', \n",
    "      rf_cvs[4])"
   ]
  },
  {
   "cell_type": "code",
   "execution_count": 1261,
   "metadata": {},
   "outputs": [
    {
     "name": "stdout",
     "output_type": "stream",
     "text": [
      "Training Accuracy (XGB): 0.9978354978354979\n",
      "Valdiation Accuracy (XGB): 0.7758620689655172\n"
     ]
    }
   ],
   "source": [
    "# Training and Validation accuracy of our XGBoost Classifier model\n",
    "# Model appears to be overfit\n",
    "\n",
    "print('Training Accuracy (XGB):', model_xgb.score(X_train, y_train))\n",
    "print('Valdiation Accuracy (XGB):', model_xgb.score(X_val, y_val))"
   ]
  },
  {
   "cell_type": "code",
   "execution_count": 1269,
   "metadata": {},
   "outputs": [
    {
     "name": "stdout",
     "output_type": "stream",
     "text": [
      "Cross Validation Score (RF): \n",
      " 0.8279569892473119 \n",
      " 0.7741935483870968 \n",
      " 0.7391304347826086 \n",
      " 0.75 \n",
      " 0.7717391304347826\n"
     ]
    }
   ],
   "source": [
    "# Cross Validation Score for our XGBoost Classifier model\n",
    "\n",
    "xgb_cvs = cross_val_score(model_xgb, X_train, y_train, cv=5, n_jobs=-1)\n",
    "print('Cross Validation Score (RF):', '\\n', xgb_cvs[0], '\\n',\n",
    "      xgb_cvs[1], '\\n', xgb_cvs[2], '\\n', xgb_cvs[3],  '\\n', \n",
    "      xgb_cvs[4])"
   ]
  },
  {
   "cell_type": "code",
   "execution_count": 1214,
   "metadata": {},
   "outputs": [
    {
     "name": "stdout",
     "output_type": "stream",
     "text": [
      "Logistic Regression\n",
      "              precision    recall  f1-score   support\n",
      "\n",
      "           0       0.83      0.48      0.61        31\n",
      "           1       0.84      0.96      0.90        85\n",
      "\n",
      "    accuracy                           0.84       116\n",
      "   macro avg       0.84      0.72      0.75       116\n",
      "weighted avg       0.84      0.84      0.82       116\n",
      "\n"
     ]
    }
   ],
   "source": [
    "# LOGISTIC REGRESSION, preformance\n",
    "# Not very good precision for Y, great recall for Y\n",
    "\n",
    "print('Logistic Regression')\n",
    "print(classification_report(y_val, model_lr.predict(X_val)))"
   ]
  },
  {
   "cell_type": "code",
   "execution_count": 1193,
   "metadata": {},
   "outputs": [
    {
     "data": {
      "text/plain": [
       "<sklearn.metrics._plot.confusion_matrix.ConfusionMatrixDisplay at 0x148d47550>"
      ]
     },
     "execution_count": 1193,
     "metadata": {},
     "output_type": "execute_result"
    },
    {
     "data": {
      "image/png": "[encoded data removed]",
      "text/plain": [
       "<Figure size 432x288 with 2 Axes>"
      ]
     },
     "metadata": {
      "needs_background": "light"
     },
     "output_type": "display_data"
    }
   ],
   "source": [
    "# LOGISTIC REGRESSION\n",
    "# Plot Confusion Matrix\n",
    "\n",
    "plot_confusion_matrix(model_lr, X_val, y_val, values_format='.0f')\n",
    "\n",
    "# TN FP\n",
    "#\n",
    "# FN TP"
   ]
  },
  {
   "cell_type": "code",
   "execution_count": 1194,
   "metadata": {},
   "outputs": [
    {
     "name": "stdout",
     "output_type": "stream",
     "text": [
      "Logistic Regression model precision 0.8367346938775511\n",
      "Logistic Regression model recall 0.9647058823529412\n"
     ]
    }
   ],
   "source": [
    "# LOGISTIC REGRESSION\n",
    "# Calculate Precision and Recall\n",
    "\n",
    "# Precision = TP / (TP + FP)\n",
    "precision = 82 / (82 + 16)\n",
    "\n",
    "# Recall = TP / (TP + FN)\n",
    "recall = 82 / (82 + 3)\n",
    "\n",
    "print('Logistic Regression model precision', precision)\n",
    "print('Logistic Regression model recall', recall)"
   ]
  },
  {
   "cell_type": "code",
   "execution_count": 1195,
   "metadata": {},
   "outputs": [
    {
     "name": "stdout",
     "output_type": "stream",
     "text": [
      "Random Forest Classifier\n",
      "              precision    recall  f1-score   support\n",
      "\n",
      "           0       0.61      0.45      0.52        31\n",
      "           1       0.82      0.89      0.85        85\n",
      "\n",
      "    accuracy                           0.78       116\n",
      "   macro avg       0.71      0.67      0.69       116\n",
      "weighted avg       0.76      0.78      0.76       116\n",
      "\n"
     ]
    }
   ],
   "source": [
    "# RANDOM FOREST CLASSIFIER, preformance\n",
    "# My comments here ************************\n",
    "\n",
    "print('Random Forest Classifier')\n",
    "print(classification_report(y_val, model_rf.predict(X_val)))"
   ]
  },
  {
   "cell_type": "code",
   "execution_count": 1196,
   "metadata": {},
   "outputs": [
    {
     "data": {
      "text/plain": [
       "<sklearn.metrics._plot.confusion_matrix.ConfusionMatrixDisplay at 0x148ba7ac0>"
      ]
     },
     "execution_count": 1196,
     "metadata": {},
     "output_type": "execute_result"
    },
    {
     "data": {
      "image/png": "[encoded data removed]",
      "text/plain": [
       "<Figure size 432x288 with 2 Axes>"
      ]
     },
     "metadata": {
      "needs_background": "light"
     },
     "output_type": "display_data"
    }
   ],
   "source": [
    "# RANDOM FOREST CLASSIFIER\n",
    "# Plot Confusion Matrix\n",
    "\n",
    "plot_confusion_matrix(model_rf, X_val, y_val, values_format='.0f') \n",
    "\n",
    "# TN FP\n",
    "#\n",
    "# FN TP"
   ]
  },
  {
   "cell_type": "code",
   "execution_count": 1197,
   "metadata": {},
   "outputs": [
    {
     "name": "stdout",
     "output_type": "stream",
     "text": [
      "Random Forest Classifier precision 0.8172043010752689\n",
      "Random Forest Classifier recall 0.8941176470588236\n"
     ]
    }
   ],
   "source": [
    "# RANDOM FOREST CLASSIFIER \n",
    "# Calculate Precision and Recall\n",
    "\n",
    "# Precision = TP / (TP + FP)\n",
    "precision = 76 / (76 + 17)\n",
    "\n",
    "# Recall = TP / (TP + FN)\n",
    "recall = 76 / (76 + 9)\n",
    "\n",
    "print('Random Forest Classifier precision', precision)\n",
    "print('Random Forest Classifier recall', recall)"
   ]
  },
  {
   "cell_type": "code",
   "execution_count": 1198,
   "metadata": {},
   "outputs": [
    {
     "name": "stdout",
     "output_type": "stream",
     "text": [
      "XGBoost Classifier\n",
      "              precision    recall  f1-score   support\n",
      "\n",
      "           0       0.59      0.52      0.55        31\n",
      "           1       0.83      0.87      0.85        85\n",
      "\n",
      "    accuracy                           0.78       116\n",
      "   macro avg       0.71      0.69      0.70       116\n",
      "weighted avg       0.77      0.78      0.77       116\n",
      "\n"
     ]
    }
   ],
   "source": [
    "# XGBoost CLASSIFIER, preformance\n",
    "# My comments here**********\n",
    "\n",
    "print('XGBoost Classifier')\n",
    "print(classification_report(y_val, model_xgb.predict(X_val)))"
   ]
  },
  {
   "cell_type": "code",
   "execution_count": 1199,
   "metadata": {},
   "outputs": [
    {
     "data": {
      "text/plain": [
       "<sklearn.metrics._plot.confusion_matrix.ConfusionMatrixDisplay at 0x148e1df40>"
      ]
     },
     "execution_count": 1199,
     "metadata": {},
     "output_type": "execute_result"
    },
    {
     "data": {
      "image/png": "[encoded data removed]",
      "text/plain": [
       "<Figure size 432x288 with 2 Axes>"
      ]
     },
     "metadata": {
      "needs_background": "light"
     },
     "output_type": "display_data"
    }
   ],
   "source": [
    "# XGBoost CLASSIFIER\n",
    "# Plot Confusion Matrix\n",
    "\n",
    "plot_confusion_matrix(model_xgb, X_val, y_val, values_format='.0f') \n",
    "\n",
    "# TN FP\n",
    "#\n",
    "# FN TP"
   ]
  },
  {
   "cell_type": "code",
   "execution_count": 1200,
   "metadata": {},
   "outputs": [
    {
     "name": "stdout",
     "output_type": "stream",
     "text": [
      "XGBoost model precision 0.8314606741573034\n",
      "XGBoost model recall 0.8705882352941177\n"
     ]
    }
   ],
   "source": [
    "# XGBoost CLASSIFIER \n",
    "# Calculate Precision and Recall\n",
    "\n",
    "# Precision = TP / (TP + FP)\n",
    "precision = 74 / (74 + 15)\n",
    "\n",
    "# Recall = TP / (TP + FN)\n",
    "recall = 74 / (74 + 11)\n",
    "\n",
    "print('XGBoost model precision', precision)\n",
    "print('XGBoost model recall', recall)"
   ]
  },
  {
   "cell_type": "markdown",
   "metadata": {},
   "source": [
    "## ROC Curve\n",
    "\n",
    "- To evalute models for binary classification\n",
    "- To decide what probability threshold you should use when making your predictions"
   ]
  },
  {
   "cell_type": "code",
   "execution_count": 1233,
   "metadata": {},
   "outputs": [
    {
     "data": {
      "image/png": "[encoded data removed]",
      "text/plain": [
       "<Figure size 432x288 with 1 Axes>"
      ]
     },
     "metadata": {
      "needs_background": "light"
     },
     "output_type": "display_data"
    }
   ],
   "source": [
    "# Use VALIDATION DATA\n",
    "\n",
    "# ROC curve is used with classification problems\n",
    "# 'How far up can I go without having to go too far to the right?'\n",
    "# An ROC curve let's you see how your model will perform at various thresholds\n",
    "# Also allows you to compare different models \n",
    "\n",
    "lr = plot_roc_curve(model_lr, X_val, y_val, label='Logistic')\n",
    "rf = plot_roc_curve(model_rf, X_val, y_val, ax=lr.ax_, label='Random Forest')\n",
    "xgb = plot_roc_curve(model_xgb, X_val, y_val, ax=lr.ax_, label='XGBoost')\n",
    "\n",
    "plt.plot([(0,0), (1,1)], color='grey', linestyle='--')\n",
    "plt.legend();"
   ]
  },
  {
   "cell_type": "code",
   "execution_count": 1234,
   "metadata": {},
   "outputs": [
    {
     "name": "stdout",
     "output_type": "stream",
     "text": [
      "Logistic: ROA-AUC Score: 0.7242884250474384\n",
      "Random Forest: ROC-AUC Score: 0.672865275142315\n",
      "XGBoost: ROC-AUC Score: 0.6933586337760911\n"
     ]
    }
   ],
   "source": [
    "print('Logistic: ROA-AUC Score:', roc_auc_score(y_val, model_lr.predict(X_val)))\n",
    "print('Random Forest: ROC-AUC Score:', roc_auc_score(y_val, model_rf.predict(X_val)))\n",
    "print('XGBoost: ROC-AUC Score:', roc_auc_score(y_val, model_xgb.predict(X_val)))"
   ]
  },
  {
   "cell_type": "code",
   "execution_count": 1203,
   "metadata": {},
   "outputs": [
    {
     "data": {
      "text/plain": [
       "<AxesSubplot:>"
      ]
     },
     "execution_count": 1203,
     "metadata": {},
     "output_type": "execute_result"
    },
    {
     "data": {
      "image/png": "[encoded data removed]",
      "text/plain": [
       "<Figure size 432x288 with 1 Axes>"
      ]
     },
     "metadata": {
      "needs_background": "light"
     },
     "output_type": "display_data"
    }
   ],
   "source": [
    "# Logisitic Regression coefficients\n",
    "\n",
    "coefs = model_lr.named_steps['logisticregression'].coef_[0]\n",
    "features = model_lr.named_steps['onehotencoder'].get_feature_names()\n",
    "pd.Series(coefs, index=features).sort_values(key=abs).tail(20).plot(kind='barh')"
   ]
  },
  {
   "cell_type": "code",
   "execution_count": 1204,
   "metadata": {},
   "outputs": [
    {
     "data": {
      "text/plain": [
       "gender                0.032853\n",
       "applicant_income      0.042435\n",
       "loan_amount           0.044426\n",
       "dependents            0.046073\n",
       "property_area         0.046989\n",
       "married               0.051726\n",
       "self_employed         0.054879\n",
       "education             0.058409\n",
       "loan_amount_term      0.059477\n",
       "coapplicant_income    0.061925\n",
       "credit_history        0.500807\n",
       "dtype: float32"
      ]
     },
     "execution_count": 1204,
     "metadata": {},
     "output_type": "execute_result"
    }
   ],
   "source": [
    "importances = model_xgb.named_steps['xgbclassifier'].feature_importances_\n",
    "features = X_train.columns\n",
    "feat_imp = pd.Series(importances, index=features).sort_values()\n",
    "feat_imp"
   ]
  },
  {
   "cell_type": "code",
   "execution_count": 1205,
   "metadata": {},
   "outputs": [
    {
     "data": {
      "text/plain": [
       "Text(0.5, 1.0, 'Feature Importances for XGBoost model')"
      ]
     },
     "execution_count": 1205,
     "metadata": {},
     "output_type": "execute_result"
    },
    {
     "data": {
      "image/png": "[encoded data removed]",
      "text/plain": [
       "<Figure size 432x288 with 1 Axes>"
      ]
     },
     "metadata": {
      "needs_background": "light"
     },
     "output_type": "display_data"
    }
   ],
   "source": [
    "feat_imp.tail(10).plot(kind='barh')\n",
    "plt.xlabel('Gini Importance')\n",
    "plt.ylabel('Feature')\n",
    "plt.title('Feature Importances for XGBoost model')"
   ]
  },
  {
   "cell_type": "code",
   "execution_count": 1206,
   "metadata": {},
   "outputs": [],
   "source": [
    "# Calculate performance metrics using permutated data (add static-noise to features)\n",
    "perm_imp = permutation_importance(\n",
    "    model_xgb,\n",
    "    X_val, # Always use your VALIDATION set\n",
    "    y_val,\n",
    "    n_jobs=-1,\n",
    "    random_state=42\n",
    ")"
   ]
  },
  {
   "cell_type": "code",
   "execution_count": 1207,
   "metadata": {},
   "outputs": [
    {
     "data": {
      "text/plain": [
       "dict_keys(['importances_mean', 'importances_std', 'importances'])"
      ]
     },
     "execution_count": 1207,
     "metadata": {},
     "output_type": "execute_result"
    }
   ],
   "source": [
    "perm_imp.keys()"
   ]
  },
  {
   "cell_type": "code",
   "execution_count": 1208,
   "metadata": {},
   "outputs": [],
   "source": [
    "# Put results into a DataFrame\n",
    "data = {'importances_mean': perm_imp['importances_mean'],\n",
    "        'importances_std': perm_imp['importances_std']}\n",
    "\n",
    "df = pd.DataFrame(data, index=X_val.columns)\n",
    "df.sort_values(by='importances_mean', inplace=True)"
   ]
  },
  {
   "cell_type": "code",
   "execution_count": 1209,
   "metadata": {},
   "outputs": [
    {
     "data": {
      "text/html": [
       "<div>\n",
       "<style scoped>\n",
       "    .dataframe tbody tr th:only-of-type {\n",
       "        vertical-align: middle;\n",
       "    }\n",
       "\n",
       "    .dataframe tbody tr th {\n",
       "        vertical-align: top;\n",
       "    }\n",
       "\n",
       "    .dataframe thead th {\n",
       "        text-align: right;\n",
       "    }\n",
       "</style>\n",
       "<table border=\"1\" class=\"dataframe\">\n",
       "  <thead>\n",
       "    <tr style=\"text-align: right;\">\n",
       "      <th></th>\n",
       "      <th>importances_mean</th>\n",
       "      <th>importances_std</th>\n",
       "    </tr>\n",
       "  </thead>\n",
       "  <tbody>\n",
       "    <tr>\n",
       "      <th>education</th>\n",
       "      <td>-8.620690e-03</td>\n",
       "      <td>0.012191</td>\n",
       "    </tr>\n",
       "    <tr>\n",
       "      <th>loan_amount_term</th>\n",
       "      <td>-6.896552e-03</td>\n",
       "      <td>0.006451</td>\n",
       "    </tr>\n",
       "    <tr>\n",
       "      <th>property_area</th>\n",
       "      <td>-5.172414e-03</td>\n",
       "      <td>0.016893</td>\n",
       "    </tr>\n",
       "    <tr>\n",
       "      <th>gender</th>\n",
       "      <td>2.220446e-17</td>\n",
       "      <td>0.009443</td>\n",
       "    </tr>\n",
       "    <tr>\n",
       "      <th>self_employed</th>\n",
       "      <td>3.448276e-03</td>\n",
       "      <td>0.004223</td>\n",
       "    </tr>\n",
       "    <tr>\n",
       "      <th>dependents</th>\n",
       "      <td>1.034483e-02</td>\n",
       "      <td>0.010053</td>\n",
       "    </tr>\n",
       "    <tr>\n",
       "      <th>married</th>\n",
       "      <td>1.379310e-02</td>\n",
       "      <td>0.012902</td>\n",
       "    </tr>\n",
       "    <tr>\n",
       "      <th>coapplicant_income</th>\n",
       "      <td>3.103448e-02</td>\n",
       "      <td>0.011694</td>\n",
       "    </tr>\n",
       "    <tr>\n",
       "      <th>applicant_income</th>\n",
       "      <td>3.275862e-02</td>\n",
       "      <td>0.035918</td>\n",
       "    </tr>\n",
       "    <tr>\n",
       "      <th>loan_amount</th>\n",
       "      <td>3.965517e-02</td>\n",
       "      <td>0.016893</td>\n",
       "    </tr>\n",
       "    <tr>\n",
       "      <th>credit_history</th>\n",
       "      <td>1.413793e-01</td>\n",
       "      <td>0.023514</td>\n",
       "    </tr>\n",
       "  </tbody>\n",
       "</table>\n",
       "</div>"
      ],
      "text/plain": [
       "                    importances_mean  importances_std\n",
       "education              -8.620690e-03         0.012191\n",
       "loan_amount_term       -6.896552e-03         0.006451\n",
       "property_area          -5.172414e-03         0.016893\n",
       "gender                  2.220446e-17         0.009443\n",
       "self_employed           3.448276e-03         0.004223\n",
       "dependents              1.034483e-02         0.010053\n",
       "married                 1.379310e-02         0.012902\n",
       "coapplicant_income      3.103448e-02         0.011694\n",
       "applicant_income        3.275862e-02         0.035918\n",
       "loan_amount             3.965517e-02         0.016893\n",
       "credit_history          1.413793e-01         0.023514"
      ]
     },
     "execution_count": 1209,
     "metadata": {},
     "output_type": "execute_result"
    }
   ],
   "source": [
    "df"
   ]
  },
  {
   "cell_type": "code",
   "execution_count": 1210,
   "metadata": {},
   "outputs": [
    {
     "data": {
      "text/plain": [
       "Text(0.5, 1.0, 'Permutation importance for model_xgb')"
      ]
     },
     "execution_count": 1210,
     "metadata": {},
     "output_type": "execute_result"
    },
    {
     "data": {
      "image/png": "[encoded data removed]",
      "text/plain": [
       "<Figure size 432x288 with 1 Axes>"
      ]
     },
     "metadata": {
      "needs_background": "light"
     },
     "output_type": "display_data"
    }
   ],
   "source": [
    "df['importances_mean'].tail(10).plot(kind='barh')\n",
    "plt.xlabel('Importance (drop in accuracy)')\n",
    "plt.ylabel('Feature')\n",
    "plt.title('Permutation importance for model_xgb')"
   ]
  },
  {
   "cell_type": "code",
   "execution_count": 1155,
   "metadata": {},
   "outputs": [
    {
     "data": {
      "image/png": "[encoded data removed]",
      "text/plain": [
       "<Figure size 1080x684 with 2 Axes>"
      ]
     },
     "metadata": {
      "needs_background": "light"
     },
     "output_type": "display_data"
    }
   ],
   "source": [
    "feature = 'applicant_income'\n",
    "\n",
    "# Build your 'pdp_isolate' object \n",
    "# Create and instance of the pdp_isolate class\n",
    "# Always use with test or validation data, NEVER training data\n",
    "isolate = pdp_isolate(\n",
    "    model=model_xgb,\n",
    "    dataset=X_val, #<-- Always use with VALIDATION or TEST date\n",
    "    model_features=X_val.columns,\n",
    "    feature=feature\n",
    ")\n",
    "\n",
    "# Build your plot\n",
    "pdp_plot(isolate, feature_name=feature);"
   ]
  },
  {
   "cell_type": "code",
   "execution_count": 1152,
   "metadata": {},
   "outputs": [
    {
     "data": {
      "image/png": "[encoded data removed]",
      "text/plain": [
       "<Figure size 1080x684 with 2 Axes>"
      ]
     },
     "metadata": {
      "needs_background": "light"
     },
     "output_type": "display_data"
    }
   ],
   "source": [
    "feature = 'coapplicant_income'\n",
    "\n",
    "# Build your 'pdp_isolate' object \n",
    "# Create and instance of the pdp_isolate class\n",
    "# Always use with test or validation data, NEVER training data\n",
    "isolate = pdp_isolate(\n",
    "    model=model_xgb,\n",
    "    dataset=X_val, #<-- Always use with VALIDATION or TEST date\n",
    "    model_features=X_val.columns,\n",
    "    feature=feature\n",
    ")\n",
    "\n",
    "# Build your plot\n",
    "pdp_plot(isolate, feature_name=feature);"
   ]
  },
  {
   "cell_type": "code",
   "execution_count": 1156,
   "metadata": {},
   "outputs": [
    {
     "data": {
      "image/png": "[encoded data removed]",
      "text/plain": [
       "<Figure size 1080x684 with 2 Axes>"
      ]
     },
     "metadata": {
      "needs_background": "light"
     },
     "output_type": "display_data"
    }
   ],
   "source": [
    "feature = 'loan_amount'\n",
    "\n",
    "# Build your 'pdp_isolate' object \n",
    "# Create and instance of the pdp_isolate class\n",
    "# Always use with test or validation data, NEVER training data\n",
    "isolate = pdp_isolate(\n",
    "    model=model_xgb,\n",
    "    dataset=X_val, #<-- Always use with VALIDATION or TEST date\n",
    "    model_features=X_val.columns,\n",
    "    feature=feature\n",
    ")\n",
    "\n",
    "# Build your plot\n",
    "pdp_plot(isolate, feature_name=feature);"
   ]
  },
  {
   "cell_type": "code",
   "execution_count": 1154,
   "metadata": {
    "scrolled": true
   },
   "outputs": [
    {
     "data": {
      "image/png": "[encoded data removed]",
      "text/plain": [
       "<Figure size 540x684 with 3 Axes>"
      ]
     },
     "metadata": {
      "needs_background": "light"
     },
     "output_type": "display_data"
    }
   ],
   "source": [
    "features = ['loan_amount', 'coapplicant_income']\n",
    "\n",
    "interact = pdp_interact(\n",
    "    model=model_xgb,\n",
    "    dataset=X_val,\n",
    "    model_features=X_val.columns,\n",
    "    features=features\n",
    ")\n",
    "\n",
    "pdp_interact_plot(interact, plot_type='grid', feature_names=features);"
   ]
  },
  {
   "cell_type": "code",
   "execution_count": 1290,
   "metadata": {},
   "outputs": [
    {
     "name": "stdout",
     "output_type": "stream",
     "text": [
      "newton-cg Validation Accuracy (LOGR_penalty_tuned): 0.8362068965517241 \n",
      "\n",
      "lbfgs Validation Accuracy (LOGR_penalty_tuned): 0.8362068965517241 \n",
      "\n",
      "liblinear Validation Accuracy (LOGR_penalty_tuned): 0.8362068965517241 \n",
      "\n",
      "sag Validation Accuracy (LOGR_penalty_tuned): 0.8362068965517241 \n",
      "\n",
      "saga Validation Accuracy (LOGR_penalty_tuned): 0.8362068965517241 \n",
      "\n"
     ]
    }
   ],
   "source": [
    "# Tune Logistic Regression Model\n",
    "\n",
    "# penalty=\n",
    "penalty_variants = ['l2', 'none']\n",
    "\n",
    "# C=range(1, 11)\n",
    "\n",
    "# solver=\n",
    "solver_variants = ['newton-cg', 'lbfgs', 'liblinear', 'sag', 'saga']\n",
    "\n",
    "# No effect witnessed with tuning of this hyperparameter\n",
    "# for _ in penalty_variants:\n",
    "#     model_lr_tune = make_pipeline(\n",
    "#         OneHotEncoder(use_cat_names=True),\n",
    "#         StandardScaler(),\n",
    "#         LogisticRegression(penalty=_)\n",
    "#     )\n",
    "#     model_lr_tune.fit(X_train, y_train);\n",
    "#     print(_, 'Validation Accuracy (LOGR_penalty_tuned):', model_lr.score(X_val, y_val), \"\\n\")\n",
    "\n",
    "# No effect witnessed with tuning of this hyperparameter\n",
    "# for _ in range(1, 11):\n",
    "#     model_lr_tune = make_pipeline(\n",
    "#         OneHotEncoder(use_cat_names=True),\n",
    "#         StandardScaler(),\n",
    "#         LogisticRegression(C=_)\n",
    "#     )\n",
    "#     model_lr_tune.fit(X_train, y_train);\n",
    "#     print(_, 'Validation Accuracy (LOGR_penalty_tuned):', model_lr.score(X_val, y_val), \"\\n\")\n",
    "\n",
    "# No effect witnessed with tuning of this hyperparameter\n",
    "# for _ in solver_variants:\n",
    "#     model_lr_tune = make_pipeline(\n",
    "#         OneHotEncoder(use_cat_names=True),\n",
    "#         StandardScaler(),\n",
    "#         LogisticRegression(solver=_)\n",
    "#     )\n",
    "#     model_lr_tune.fit(X_train, y_train);\n",
    "#     print(_, 'Validation Accuracy (LOGR_penalty_tuned):', model_lr.score(X_val, y_val), \"\\n\")"
   ]
  },
  {
   "cell_type": "code",
   "execution_count": 1312,
   "metadata": {},
   "outputs": [],
   "source": [
    "params = {'randomforestclassifier__n_estimators': np.arange(20, 100, 5), \n",
    "          'randomforestclassifier__max_depth': np.arange(10, 75, 5),\n",
    "          'randomforestclassifier__max_samples': np.arange(0.1, 0.99, 0.1)}\n",
    "\n",
    "rf_rs = RandomizedSearchCV(model_rf, param_distributions=params, n_iter=10, cv=5, n_jobs=-1, verbose=1)"
   ]
  },
  {
   "cell_type": "code",
   "execution_count": 1313,
   "metadata": {},
   "outputs": [
    {
     "name": "stdout",
     "output_type": "stream",
     "text": [
      "Fitting 5 folds for each of 10 candidates, totalling 50 fits\n"
     ]
    },
    {
     "name": "stderr",
     "output_type": "stream",
     "text": [
      "[Parallel(n_jobs=-1)]: Using backend LokyBackend with 12 concurrent workers.\n",
      "[Parallel(n_jobs=-1)]: Done  50 out of  50 | elapsed:    1.5s finished\n"
     ]
    },
    {
     "data": {
      "text/plain": [
       "RandomizedSearchCV(cv=5,\n",
       "                   estimator=Pipeline(steps=[('ordinalencoder',\n",
       "                                              OrdinalEncoder(cols=['gender',\n",
       "                                                                   'married',\n",
       "                                                                   'dependents',\n",
       "                                                                   'education',\n",
       "                                                                   'self_employed',\n",
       "                                                                   'loan_amount_term',\n",
       "                                                                   'credit_history',\n",
       "                                                                   'property_area'],\n",
       "                                                             mapping=[{'col': 'gender',\n",
       "                                                                       'data_type': dtype('O'),\n",
       "                                                                       'mapping': Male      1\n",
       "Female    2\n",
       "NaN      -2\n",
       "dtype: int64},\n",
       "                                                                      {'col': 'married',\n",
       "                                                                       'data_type': dtype('O'),\n",
       "                                                                       'mapping': No     1\n",
       "Yes    2\n",
       "NaN...\n",
       "                                              RandomForestClassifier(n_jobs=-1,\n",
       "                                                                     random_state=42))]),\n",
       "                   n_jobs=-1,\n",
       "                   param_distributions={'randomforestclassifier__max_depth': array([10, 15, 20, 25, 30, 35, 40, 45, 50, 55, 60, 65, 70]),\n",
       "                                        'randomforestclassifier__max_samples': array([0.1, 0.2, 0.3, 0.4, 0.5, 0.6, 0.7, 0.8, 0.9]),\n",
       "                                        'randomforestclassifier__n_estimators': array([20, 25, 30, 35, 40, 45, 50, 55, 60, 65, 70, 75, 80, 85, 90, 95])},\n",
       "                   verbose=1)"
      ]
     },
     "execution_count": 1313,
     "metadata": {},
     "output_type": "execute_result"
    }
   ],
   "source": [
    "rf_rs.fit(X_train, y_train)"
   ]
  },
  {
   "cell_type": "code",
   "execution_count": 1314,
   "metadata": {},
   "outputs": [
    {
     "data": {
      "text/plain": [
       "0.8180224403927069"
      ]
     },
     "execution_count": 1314,
     "metadata": {},
     "output_type": "execute_result"
    }
   ],
   "source": [
    "rf_rs.best_score_"
   ]
  },
  {
   "cell_type": "code",
   "execution_count": 1315,
   "metadata": {},
   "outputs": [
    {
     "data": {
      "text/plain": [
       "0.8017241379310345"
      ]
     },
     "execution_count": 1315,
     "metadata": {},
     "output_type": "execute_result"
    }
   ],
   "source": [
    "rf_rs.score(X_val, y_val)"
   ]
  },
  {
   "cell_type": "code",
   "execution_count": 1316,
   "metadata": {},
   "outputs": [
    {
     "data": {
      "text/plain": [
       "{'randomforestclassifier__n_estimators': 85,\n",
       " 'randomforestclassifier__max_samples': 0.7000000000000001,\n",
       " 'randomforestclassifier__max_depth': 15}"
      ]
     },
     "execution_count": 1316,
     "metadata": {},
     "output_type": "execute_result"
    }
   ],
   "source": [
    "rf_rs.best_params_"
   ]
  },
  {
   "cell_type": "code",
   "execution_count": null,
   "metadata": {},
   "outputs": [],
   "source": []
  }
 ],
 "metadata": {
  "kernelspec": {
   "display_name": "Python 3",
   "language": "python",
   "name": "python3"
  },
  "language_info": {
   "codemirror_mode": {
    "name": "ipython",
    "version": 3
   },
   "file_extension": ".py",
   "mimetype": "text/x-python",
   "name": "python",
   "nbconvert_exporter": "python",
   "pygments_lexer": "ipython3",
   "version": "3.8.2"
  }
 },
 "nbformat": 4,
 "nbformat_minor": 4
}
