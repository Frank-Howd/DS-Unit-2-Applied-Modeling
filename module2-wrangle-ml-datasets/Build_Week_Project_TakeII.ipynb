{
 "cells": [
  {
   "cell_type": "markdown",
   "metadata": {},
   "source": [
    "# Complete Imports and Wrangle Data"
   ]
  },
  {
   "cell_type": "code",
   "execution_count": 300,
   "metadata": {},
   "outputs": [],
   "source": [
    "# Import of packages and package classes\n",
    "\n",
    "import matplotlib.pyplot as plt\n",
    "import numpy as np\n",
    "import pandas as pd\n",
    "import seaborn as sns\n",
    "\n",
    "from category_encoders import OneHotEncoder, OrdinalEncoder\n",
    "from pandas_profiling import ProfileReport\n",
    "from pdpbox.pdp import pdp_isolate, pdp_plot, pdp_interact, pdp_interact_plot\n",
    "from sklearn.ensemble import RandomForestClassifier\n",
    "from sklearn.impute import SimpleImputer\n",
    "from sklearn.inspection import permutation_importance\n",
    "from sklearn.linear_model import LogisticRegression\n",
    "from sklearn.metrics import classification_report, plot_roc_curve, roc_auc_score, plot_confusion_matrix\n",
    "from sklearn.model_selection import train_test_split, GridSearchCV, RandomizedSearchCV\n",
    "from sklearn.pipeline import make_pipeline\n",
    "from sklearn.preprocessing import StandardScaler\n",
    "from xgboost import XGBClassifier"
   ]
  },
  {
   "cell_type": "code",
   "execution_count": 691,
   "metadata": {},
   "outputs": [
    {
     "name": "stdout",
     "output_type": "stream",
     "text": [
      "(614, 13)\n"
     ]
    }
   ],
   "source": [
    "# Write a wrangle function for our dataset\n",
    "\n",
    "def wrangle(filepath):\n",
    "    # Establish path to data files\n",
    "    DATA_PATH = '../data/class-project/LoanApproval/'\n",
    "    \n",
    "    # Read in the data\n",
    "    df = pd.read_csv(DATA_PATH + filepath)\n",
    "    print(df.shape)\n",
    "    \n",
    "    # Drop 'Loan_ID' column, it is an identifier only and will not affect model\n",
    "    # No other high-cardinality colums \n",
    "    df.drop(columns='Loan_ID', inplace=True)\n",
    "    \n",
    "    # Clean data col names\n",
    "    df.columns = [col.lower() for col in df.columns]\n",
    "        \n",
    "    df = df.rename(columns=\n",
    "        {'applicantincome': 'applicant_income',\n",
    "         'coapplicantincome': 'coapplicant_income',\n",
    "         'loanamount': 'loan_amount'})\n",
    "        \n",
    "    # Convert 'credit_history' to binary categorical from float (ready for OHE/ordinal encoding)\n",
    "    df['credit_history'].replace(to_replace={1.0: '1', 0.0: '0'}, \n",
    "                                 inplace=True)\n",
    "       \n",
    "    # Remove the outliers where income is > $250,000, and the two outliers where income is < $10,000\n",
    "    df = df[ (df['applicant_income'] > 1_000) & \n",
    "             (df['applicant_income'] < 25_000)]\n",
    "    \n",
    "    # Remove the outlier for 'loan_amount' \n",
    "    df = df[df['loan_amount'] > 10]  \n",
    "    \n",
    "    # Convert 'coapplicant_income' and'loan_amount' to integers from floats\n",
    "    for col in ['coapplicant_income', 'loan_amount']:\n",
    "       df[col] = df[col].astype(int)\n",
    "    \n",
    "    # Address NaN values and prepare for OHE/Ordinal Encoding\n",
    "    mode_cols = ['gender', 'married', 'dependents', 'self_employed', 'loan_amount_term', 'credit_history']\n",
    "    for col in mode_cols:\n",
    "        df[col].fillna(value=df[col].mode()[0], inplace=True)\n",
    "\n",
    "#    df['gender'].fillna(value=df['gender'].mode()[0], inplace=True)\n",
    "    \n",
    "#     df['loan_amount_term'].fillna(value=df['loan_amount_term'].mode()[0], inplace=True)\n",
    "    df['loan_amount_term'] = df['loan_amount_term'].astype(str)\n",
    "    \n",
    "#     df['credit_history'].fillna(value=df['credit_history'].mode()[0], inplace=True)\n",
    "#     df['credit_history'] = df['credit_history']\n",
    "    \n",
    "#     df['dependents'].fillna(value=df['dependents'].mode()[0], inplace=True)\n",
    "    df['dependents'] = df['dependents'].str.strip('+')\n",
    "\n",
    "    # Convert target, 'LoanStatus' to binary numeric values\n",
    "    df['loan_status'].replace(to_replace={'Y': 1, 'N':0}, inplace=True) \n",
    "    \n",
    "    return df\n",
    "\n",
    "train_path = 'train_data.csv'\n",
    "train = wrangle(train_path)"
   ]
  },
  {
   "cell_type": "code",
   "execution_count": 692,
   "metadata": {},
   "outputs": [
    {
     "name": "stdout",
     "output_type": "stream",
     "text": [
      "(578, 12)\n"
     ]
    },
    {
     "data": {
      "text/html": [
       "<div>\n",
       "<style scoped>\n",
       "    .dataframe tbody tr th:only-of-type {\n",
       "        vertical-align: middle;\n",
       "    }\n",
       "\n",
       "    .dataframe tbody tr th {\n",
       "        vertical-align: top;\n",
       "    }\n",
       "\n",
       "    .dataframe thead th {\n",
       "        text-align: right;\n",
       "    }\n",
       "</style>\n",
       "<table border=\"1\" class=\"dataframe\">\n",
       "  <thead>\n",
       "    <tr style=\"text-align: right;\">\n",
       "      <th></th>\n",
       "      <th>gender</th>\n",
       "      <th>married</th>\n",
       "      <th>dependents</th>\n",
       "      <th>education</th>\n",
       "      <th>self_employed</th>\n",
       "      <th>applicant_income</th>\n",
       "      <th>coapplicant_income</th>\n",
       "      <th>loan_amount</th>\n",
       "      <th>loan_amount_term</th>\n",
       "      <th>credit_history</th>\n",
       "      <th>property_area</th>\n",
       "      <th>loan_status</th>\n",
       "    </tr>\n",
       "  </thead>\n",
       "  <tbody>\n",
       "    <tr>\n",
       "      <th>1</th>\n",
       "      <td>Male</td>\n",
       "      <td>Yes</td>\n",
       "      <td>1</td>\n",
       "      <td>Graduate</td>\n",
       "      <td>No</td>\n",
       "      <td>4583</td>\n",
       "      <td>1508</td>\n",
       "      <td>128</td>\n",
       "      <td>360.0</td>\n",
       "      <td>1</td>\n",
       "      <td>Rural</td>\n",
       "      <td>0</td>\n",
       "    </tr>\n",
       "    <tr>\n",
       "      <th>2</th>\n",
       "      <td>Male</td>\n",
       "      <td>Yes</td>\n",
       "      <td>0</td>\n",
       "      <td>Graduate</td>\n",
       "      <td>Yes</td>\n",
       "      <td>3000</td>\n",
       "      <td>0</td>\n",
       "      <td>66</td>\n",
       "      <td>360.0</td>\n",
       "      <td>1</td>\n",
       "      <td>Urban</td>\n",
       "      <td>1</td>\n",
       "    </tr>\n",
       "    <tr>\n",
       "      <th>3</th>\n",
       "      <td>Male</td>\n",
       "      <td>Yes</td>\n",
       "      <td>0</td>\n",
       "      <td>Not Graduate</td>\n",
       "      <td>No</td>\n",
       "      <td>2583</td>\n",
       "      <td>2358</td>\n",
       "      <td>120</td>\n",
       "      <td>360.0</td>\n",
       "      <td>1</td>\n",
       "      <td>Urban</td>\n",
       "      <td>1</td>\n",
       "    </tr>\n",
       "    <tr>\n",
       "      <th>4</th>\n",
       "      <td>Male</td>\n",
       "      <td>No</td>\n",
       "      <td>0</td>\n",
       "      <td>Graduate</td>\n",
       "      <td>No</td>\n",
       "      <td>6000</td>\n",
       "      <td>0</td>\n",
       "      <td>141</td>\n",
       "      <td>360.0</td>\n",
       "      <td>1</td>\n",
       "      <td>Urban</td>\n",
       "      <td>1</td>\n",
       "    </tr>\n",
       "    <tr>\n",
       "      <th>5</th>\n",
       "      <td>Male</td>\n",
       "      <td>Yes</td>\n",
       "      <td>2</td>\n",
       "      <td>Graduate</td>\n",
       "      <td>Yes</td>\n",
       "      <td>5417</td>\n",
       "      <td>4196</td>\n",
       "      <td>267</td>\n",
       "      <td>360.0</td>\n",
       "      <td>1</td>\n",
       "      <td>Urban</td>\n",
       "      <td>1</td>\n",
       "    </tr>\n",
       "  </tbody>\n",
       "</table>\n",
       "</div>"
      ],
      "text/plain": [
       "  gender married dependents     education self_employed  applicant_income  \\\n",
       "1   Male     Yes          1      Graduate            No              4583   \n",
       "2   Male     Yes          0      Graduate           Yes              3000   \n",
       "3   Male     Yes          0  Not Graduate            No              2583   \n",
       "4   Male      No          0      Graduate            No              6000   \n",
       "5   Male     Yes          2      Graduate           Yes              5417   \n",
       "\n",
       "   coapplicant_income  loan_amount loan_amount_term credit_history  \\\n",
       "1                1508          128            360.0              1   \n",
       "2                   0           66            360.0              1   \n",
       "3                2358          120            360.0              1   \n",
       "4                   0          141            360.0              1   \n",
       "5                4196          267            360.0              1   \n",
       "\n",
       "  property_area  loan_status  \n",
       "1         Rural            0  \n",
       "2         Urban            1  \n",
       "3         Urban            1  \n",
       "4         Urban            1  \n",
       "5         Urban            1  "
      ]
     },
     "execution_count": 692,
     "metadata": {},
     "output_type": "execute_result"
    }
   ],
   "source": [
    "print(train.shape)\n",
    "train.head()"
   ]
  },
  {
   "cell_type": "code",
   "execution_count": 693,
   "metadata": {
    "scrolled": true
   },
   "outputs": [
    {
     "name": "stdout",
     "output_type": "stream",
     "text": [
      "<class 'pandas.core.frame.DataFrame'>\n",
      "Int64Index: 578 entries, 1 to 613\n",
      "Data columns (total 12 columns):\n",
      " #   Column              Non-Null Count  Dtype \n",
      "---  ------              --------------  ----- \n",
      " 0   gender              578 non-null    object\n",
      " 1   married             578 non-null    object\n",
      " 2   dependents          578 non-null    object\n",
      " 3   education           578 non-null    object\n",
      " 4   self_employed       578 non-null    object\n",
      " 5   applicant_income    578 non-null    int64 \n",
      " 6   coapplicant_income  578 non-null    int64 \n",
      " 7   loan_amount         578 non-null    int64 \n",
      " 8   loan_amount_term    578 non-null    object\n",
      " 9   credit_history      578 non-null    object\n",
      " 10  property_area       578 non-null    object\n",
      " 11  loan_status         578 non-null    int64 \n",
      "dtypes: int64(4), object(8)\n",
      "memory usage: 58.7+ KB\n"
     ]
    }
   ],
   "source": [
    "# Remaining NaN values are in categorical features and will be filled using an imputer with strategy='most_frequent'\n",
    "\n",
    "train.info()"
   ]
  },
  {
   "cell_type": "code",
   "execution_count": 630,
   "metadata": {},
   "outputs": [
    {
     "data": {
      "text/plain": [
       "1    495\n",
       "0     83\n",
       "Name: credit_history, dtype: int64"
      ]
     },
     "execution_count": 630,
     "metadata": {},
     "output_type": "execute_result"
    }
   ],
   "source": [
    "train['credit_history'].value_counts()"
   ]
  },
  {
   "cell_type": "code",
   "execution_count": 690,
   "metadata": {},
   "outputs": [
    {
     "data": {
      "text/plain": [
       "0    341\n",
       "2     97\n",
       "1     95\n",
       "3     45\n",
       "Name: dependents, dtype: int64"
      ]
     },
     "execution_count": 690,
     "metadata": {},
     "output_type": "execute_result"
    }
   ],
   "source": [
    "train['dependents'].value_counts()"
   ]
  },
  {
   "cell_type": "code",
   "execution_count": 631,
   "metadata": {},
   "outputs": [
    {
     "name": "stdout",
     "output_type": "stream",
     "text": [
      "(578, 12)\n"
     ]
    },
    {
     "data": {
      "text/html": [
       "<div>\n",
       "<style scoped>\n",
       "    .dataframe tbody tr th:only-of-type {\n",
       "        vertical-align: middle;\n",
       "    }\n",
       "\n",
       "    .dataframe tbody tr th {\n",
       "        vertical-align: top;\n",
       "    }\n",
       "\n",
       "    .dataframe thead th {\n",
       "        text-align: right;\n",
       "    }\n",
       "</style>\n",
       "<table border=\"1\" class=\"dataframe\">\n",
       "  <thead>\n",
       "    <tr style=\"text-align: right;\">\n",
       "      <th></th>\n",
       "      <th>gender</th>\n",
       "      <th>married</th>\n",
       "      <th>dependents</th>\n",
       "      <th>education</th>\n",
       "      <th>self_employed</th>\n",
       "      <th>applicant_income</th>\n",
       "      <th>coapplicant_income</th>\n",
       "      <th>loan_amount</th>\n",
       "      <th>loan_amount_term</th>\n",
       "      <th>credit_history</th>\n",
       "      <th>property_area</th>\n",
       "      <th>loan_status</th>\n",
       "    </tr>\n",
       "  </thead>\n",
       "  <tbody>\n",
       "    <tr>\n",
       "      <th>1</th>\n",
       "      <td>Male</td>\n",
       "      <td>Yes</td>\n",
       "      <td>1</td>\n",
       "      <td>Graduate</td>\n",
       "      <td>No</td>\n",
       "      <td>4583</td>\n",
       "      <td>1508</td>\n",
       "      <td>128</td>\n",
       "      <td>360.0</td>\n",
       "      <td>1</td>\n",
       "      <td>Rural</td>\n",
       "      <td>0</td>\n",
       "    </tr>\n",
       "    <tr>\n",
       "      <th>2</th>\n",
       "      <td>Male</td>\n",
       "      <td>Yes</td>\n",
       "      <td>0</td>\n",
       "      <td>Graduate</td>\n",
       "      <td>Yes</td>\n",
       "      <td>3000</td>\n",
       "      <td>0</td>\n",
       "      <td>66</td>\n",
       "      <td>360.0</td>\n",
       "      <td>1</td>\n",
       "      <td>Urban</td>\n",
       "      <td>1</td>\n",
       "    </tr>\n",
       "    <tr>\n",
       "      <th>3</th>\n",
       "      <td>Male</td>\n",
       "      <td>Yes</td>\n",
       "      <td>0</td>\n",
       "      <td>Not Graduate</td>\n",
       "      <td>No</td>\n",
       "      <td>2583</td>\n",
       "      <td>2358</td>\n",
       "      <td>120</td>\n",
       "      <td>360.0</td>\n",
       "      <td>1</td>\n",
       "      <td>Urban</td>\n",
       "      <td>1</td>\n",
       "    </tr>\n",
       "    <tr>\n",
       "      <th>4</th>\n",
       "      <td>Male</td>\n",
       "      <td>No</td>\n",
       "      <td>0</td>\n",
       "      <td>Graduate</td>\n",
       "      <td>No</td>\n",
       "      <td>6000</td>\n",
       "      <td>0</td>\n",
       "      <td>141</td>\n",
       "      <td>360.0</td>\n",
       "      <td>1</td>\n",
       "      <td>Urban</td>\n",
       "      <td>1</td>\n",
       "    </tr>\n",
       "    <tr>\n",
       "      <th>5</th>\n",
       "      <td>Male</td>\n",
       "      <td>Yes</td>\n",
       "      <td>2</td>\n",
       "      <td>Graduate</td>\n",
       "      <td>Yes</td>\n",
       "      <td>5417</td>\n",
       "      <td>4196</td>\n",
       "      <td>267</td>\n",
       "      <td>360.0</td>\n",
       "      <td>1</td>\n",
       "      <td>Urban</td>\n",
       "      <td>1</td>\n",
       "    </tr>\n",
       "  </tbody>\n",
       "</table>\n",
       "</div>"
      ],
      "text/plain": [
       "  gender married dependents     education self_employed  applicant_income  \\\n",
       "1   Male     Yes          1      Graduate            No              4583   \n",
       "2   Male     Yes          0      Graduate           Yes              3000   \n",
       "3   Male     Yes          0  Not Graduate            No              2583   \n",
       "4   Male      No          0      Graduate            No              6000   \n",
       "5   Male     Yes          2      Graduate           Yes              5417   \n",
       "\n",
       "   coapplicant_income  loan_amount loan_amount_term credit_history  \\\n",
       "1                1508          128            360.0              1   \n",
       "2                   0           66            360.0              1   \n",
       "3                2358          120            360.0              1   \n",
       "4                   0          141            360.0              1   \n",
       "5                4196          267            360.0              1   \n",
       "\n",
       "  property_area  loan_status  \n",
       "1         Rural            0  \n",
       "2         Urban            1  \n",
       "3         Urban            1  \n",
       "4         Urban            1  \n",
       "5         Urban            1  "
      ]
     },
     "execution_count": 631,
     "metadata": {},
     "output_type": "execute_result"
    }
   ],
   "source": [
    "# EDA\n",
    "\n",
    "print(train.shape)\n",
    "train.head()\n",
    "\n",
    "# 'gender', 'married', 'education', 'self_employed' are binary categorial variables\n",
    "# 'loan_status' is our target feature\n",
    "# 'credit_history' is indicated to mean 'credit history meets guidelines, Y/N', and should be an integer"
   ]
  },
  {
   "cell_type": "code",
   "execution_count": 632,
   "metadata": {},
   "outputs": [
    {
     "name": "stdout",
     "output_type": "stream",
     "text": [
      "<class 'pandas.core.frame.DataFrame'>\n",
      "Int64Index: 578 entries, 1 to 613\n",
      "Data columns (total 12 columns):\n",
      " #   Column              Non-Null Count  Dtype \n",
      "---  ------              --------------  ----- \n",
      " 0   gender              567 non-null    object\n",
      " 1   married             576 non-null    object\n",
      " 2   dependents          578 non-null    object\n",
      " 3   education           578 non-null    object\n",
      " 4   self_employed       550 non-null    object\n",
      " 5   applicant_income    578 non-null    int64 \n",
      " 6   coapplicant_income  578 non-null    int64 \n",
      " 7   loan_amount         578 non-null    int64 \n",
      " 8   loan_amount_term    578 non-null    object\n",
      " 9   credit_history      578 non-null    object\n",
      " 10  property_area       578 non-null    object\n",
      " 11  loan_status         578 non-null    int64 \n",
      "dtypes: int64(4), object(8)\n",
      "memory usage: 58.7+ KB\n"
     ]
    }
   ],
   "source": [
    "train.info()"
   ]
  },
  {
   "cell_type": "code",
   "execution_count": 633,
   "metadata": {},
   "outputs": [
    {
     "data": {
      "text/html": [
       "<div>\n",
       "<style scoped>\n",
       "    .dataframe tbody tr th:only-of-type {\n",
       "        vertical-align: middle;\n",
       "    }\n",
       "\n",
       "    .dataframe tbody tr th {\n",
       "        vertical-align: top;\n",
       "    }\n",
       "\n",
       "    .dataframe thead th {\n",
       "        text-align: right;\n",
       "    }\n",
       "</style>\n",
       "<table border=\"1\" class=\"dataframe\">\n",
       "  <thead>\n",
       "    <tr style=\"text-align: right;\">\n",
       "      <th></th>\n",
       "      <th>gender</th>\n",
       "      <th>married</th>\n",
       "      <th>dependents</th>\n",
       "      <th>education</th>\n",
       "      <th>self_employed</th>\n",
       "      <th>loan_amount_term</th>\n",
       "      <th>credit_history</th>\n",
       "      <th>property_area</th>\n",
       "    </tr>\n",
       "  </thead>\n",
       "  <tbody>\n",
       "    <tr>\n",
       "      <th>count</th>\n",
       "      <td>567</td>\n",
       "      <td>576</td>\n",
       "      <td>578</td>\n",
       "      <td>578</td>\n",
       "      <td>550</td>\n",
       "      <td>578</td>\n",
       "      <td>578</td>\n",
       "      <td>578</td>\n",
       "    </tr>\n",
       "    <tr>\n",
       "      <th>unique</th>\n",
       "      <td>2</td>\n",
       "      <td>2</td>\n",
       "      <td>4</td>\n",
       "      <td>2</td>\n",
       "      <td>2</td>\n",
       "      <td>10</td>\n",
       "      <td>2</td>\n",
       "      <td>3</td>\n",
       "    </tr>\n",
       "    <tr>\n",
       "      <th>top</th>\n",
       "      <td>Male</td>\n",
       "      <td>Yes</td>\n",
       "      <td>0</td>\n",
       "      <td>Graduate</td>\n",
       "      <td>No</td>\n",
       "      <td>360.0</td>\n",
       "      <td>1</td>\n",
       "      <td>Semiurban</td>\n",
       "    </tr>\n",
       "    <tr>\n",
       "      <th>freq</th>\n",
       "      <td>462</td>\n",
       "      <td>374</td>\n",
       "      <td>341</td>\n",
       "      <td>452</td>\n",
       "      <td>474</td>\n",
       "      <td>498</td>\n",
       "      <td>495</td>\n",
       "      <td>223</td>\n",
       "    </tr>\n",
       "  </tbody>\n",
       "</table>\n",
       "</div>"
      ],
      "text/plain": [
       "       gender married dependents education self_employed loan_amount_term  \\\n",
       "count     567     576        578       578           550              578   \n",
       "unique      2       2          4         2             2               10   \n",
       "top      Male     Yes          0  Graduate            No            360.0   \n",
       "freq      462     374        341       452           474              498   \n",
       "\n",
       "       credit_history property_area  \n",
       "count             578           578  \n",
       "unique              2             3  \n",
       "top                 1     Semiurban  \n",
       "freq              495           223  "
      ]
     },
     "execution_count": 633,
     "metadata": {},
     "output_type": "execute_result"
    }
   ],
   "source": [
    "# Categorical variables are not high cardinality\n",
    "\n",
    "train.describe(exclude='number')"
   ]
  },
  {
   "cell_type": "code",
   "execution_count": 634,
   "metadata": {},
   "outputs": [
    {
     "name": "stdout",
     "output_type": "stream",
     "text": [
      "Male      0.814815\n",
      "Female    0.185185\n",
      "Name: gender, dtype: float64\n"
     ]
    },
    {
     "data": {
      "image/png": "[encoded data removed]",
      "text/plain": [
       "<Figure size 432x288 with 1 Axes>"
      ]
     },
     "metadata": {
      "needs_background": "light"
     },
     "output_type": "display_data"
    }
   ],
   "source": [
    "# Many more male applicants than female\n",
    "\n",
    "print(train['gender'].value_counts(normalize=True))\n",
    "\n",
    "train['gender'].value_counts().plot(kind='bar')\n",
    "plt.xlabel('Gender')\n",
    "plt.ylabel('Count')\n",
    "plt.show();"
   ]
  },
  {
   "cell_type": "code",
   "execution_count": 635,
   "metadata": {},
   "outputs": [
    {
     "name": "stdout",
     "output_type": "stream",
     "text": [
      "0    0.589965\n",
      "2    0.167820\n",
      "1    0.164360\n",
      "3    0.077855\n",
      "Name: dependents, dtype: float64\n"
     ]
    },
    {
     "data": {
      "image/png": "[encoded data removed]",
      "text/plain": [
       "<Figure size 432x288 with 1 Axes>"
      ]
     },
     "metadata": {
      "needs_background": "light"
     },
     "output_type": "display_data"
    }
   ],
   "source": [
    "# Primary number of dependents is 0, 3+ are the most infrequent\n",
    "\n",
    "print(train['dependents'].value_counts(normalize=True))\n",
    "\n",
    "train['dependents'].value_counts().plot(kind='bar')\n",
    "plt.xlabel('Dependents')\n",
    "plt.ylabel('Count')\n",
    "plt.show();"
   ]
  },
  {
   "cell_type": "code",
   "execution_count": 636,
   "metadata": {},
   "outputs": [
    {
     "name": "stdout",
     "output_type": "stream",
     "text": [
      "Graduate        0.782007\n",
      "Not Graduate    0.217993\n",
      "Name: education, dtype: float64 \n",
      "\n"
     ]
    },
    {
     "data": {
      "image/png": "[encoded data removed]",
      "text/plain": [
       "<Figure size 432x288 with 1 Axes>"
      ]
     },
     "metadata": {
      "needs_background": "light"
     },
     "output_type": "display_data"
    }
   ],
   "source": [
    "# More applicants are classified as 'Graduate' vs 'Not Graduate'\n",
    "\n",
    "print(train['education'].value_counts(normalize=True), \"\\n\")\n",
    "\n",
    "train['education'].value_counts().plot(kind='bar')\n",
    "plt.xlabel('Graduation Status')\n",
    "plt.ylabel('Count')\n",
    "plt.show();"
   ]
  },
  {
   "cell_type": "code",
   "execution_count": 637,
   "metadata": {},
   "outputs": [
    {
     "name": "stdout",
     "output_type": "stream",
     "text": [
      "No     0.861818\n",
      "Yes    0.138182\n",
      "Name: self_employed, dtype: float64 \n",
      "\n"
     ]
    },
    {
     "data": {
      "image/png": "[encoded data removed]",
      "text/plain": [
       "<Figure size 432x288 with 1 Axes>"
      ]
     },
     "metadata": {
      "needs_background": "light"
     },
     "output_type": "display_data"
    }
   ],
   "source": [
    "# More applicants work for someone else versus being self-employed\n",
    "\n",
    "print(train['self_employed'].value_counts(normalize=True), \"\\n\")\n",
    "\n",
    "train['self_employed'].value_counts().plot(kind='bar')\n",
    "plt.xlabel('Self Employed')\n",
    "plt.ylabel('Frequency')\n",
    "plt.show()"
   ]
  },
  {
   "cell_type": "code",
   "execution_count": 638,
   "metadata": {},
   "outputs": [
    {
     "name": "stdout",
     "output_type": "stream",
     "text": [
      "1025\n",
      "[ 4583  3000  2583  6000  5417  2333  3036  4006 12841  3200  2500  3073\n",
      "  1853  1299  4950  3596  3510  4887  2600  7660  5955  3365  3717  9560\n",
      "  2799  4226  1442  3750  4166  3167  4692  3500 12500  1828  3667  3748\n",
      "  3600  1800  2400  3941  4695  3410  5649  5821  2645  4000  1928  3086\n",
      "  4230  4616 11500  2708  2132  3366  8080  3357  3029  2609  5726 10750\n",
      "  7100  4300  3208  1875  4755  5266  3333  3846  1378  3988  2366  8566\n",
      "  5695  2958  6250  3273  4133  3620  2484  1977  4188  1759  4288  4843\n",
      "  3816  3052 11417  7333  3800  2071  5316  2929  3572  5050 14583  2214\n",
      "  5568 10408  5667  2137  2957  3692 23803 10513  6080 20166  2014  2718\n",
      "  3459  4895  3316 14999  4200  5042  6950  2698 11757  2330 14866  1538\n",
      " 10000  4860  6277  2577  9166  2281  3254  9538  2980  1863  7933  3089\n",
      "  4167  9323  3707  2439  2237  8000  1820  3522  5708  4344  3497  2045\n",
      "  5516  6400  1916  4600  3625  2178  2383  9328  4885 12000  6033  3858\n",
      "  4191  3125  8333  1907  3416 11000  4923  3917  4408  3244  3975  2479\n",
      "  3418  3430  7787  5703  3173  3850  3727  5000  4283  2221  4009  2971\n",
      "  7578  3250  4735  4758  2491  3716  3189  3155  5500  5746  3463  3812\n",
      "  3315  5819  2510  2965  3406  6050  9703  6608  2882  1809  1668  3427\n",
      "  2661 16250  3083  6045  5250 14683  4931  6083  2060  3481  7200  5166\n",
      "  4095  4708  4333  2876  3237 11146  2833  2620  3900  2750  3993  3103\n",
      "  4100  4053  3927  2301  1811  3158  3704  4124  9508  3075  4400  3153\n",
      "  4416  6875  4666  2875  1625  3762 20233  7667  2917  2927  2507  2473\n",
      "  3399  2058  3541  4342  3166 15000  8666  4917  5818  4384  2935  9833\n",
      "  5503  4160  2647  2378  4554  2499  3523  6333  2625  9083  8750  2666\n",
      "  2423  3813  3875  5167  4723  4750  3013  6822  6216  5124  6325 19730\n",
      " 15759  5185  3062  2764  4817  4310  3069  5391  5941  7167  4566  2346\n",
      "  5488  9167  9504  1993  3100  3276  3180  3033  3902  1500  2889  2755\n",
      "  1963  7441  4547  2167  2213  8300  3867  6256  6096  2253  2149  2995\n",
      "  1600  1025  3246  5829  2720  7250 14880  4606  5935  2920  2717  8624\n",
      "  6500 12876  2425  1926 10416  7142  3660  7901  4707  3466  4652  3539\n",
      "  3340  2769  2309  1958  3948  2483  7085  3859  4301  3708  4354  8334\n",
      "  2083  7740  3015  5191  2947 16692  3450  2653  4691  5532 16525  6700\n",
      "  2873 16667  4350  3095 10833  3547 18333  2435  2699  5333  3691 17263\n",
      "  3597  3326  4625  2895  6283  3159  4865  4050  3814 20833  3583 13262\n",
      "  3598  6065  3283  2130  5815  2031  3074  4683  3400  2192  5677  7948\n",
      " 17500  3775  5285  2679  6783  4281  3588 11250 18165  2550  6133  3617\n",
      "  6417  4608  2138  3652  2239  3017  2768  3358  2526  2785  2454  3593\n",
      "  5468  2667 10139  3887  4180  3675 19484  5923  5800  8799  4467  3417\n",
      "  5116 16666  6125  6406  3087  3229  1782  3182  6540  1836  1880  2787\n",
      "  2297  2165  2726  9357 16120  3833  6383  2987  9963  5780  2894  3676\n",
      "  3987  3232  2900  4106  8072  7583]\n"
     ]
    },
    {
     "data": {
      "image/png": "[encoded data removed]",
      "text/plain": [
       "<Figure size 432x288 with 1 Axes>"
      ]
     },
     "metadata": {
      "needs_background": "light"
     },
     "output_type": "display_data"
    }
   ],
   "source": [
    "# After removing outliers, can see that most applicant income are in the 30,000 to 50,000 range, skewed to the right\n",
    "\n",
    "print(train['applicant_income'].min())\n",
    "print(train['applicant_income'].unique())\n",
    "\n",
    "train['applicant_income'].plot(kind='hist')\n",
    "\n",
    "plt.xlabel('Applicant Income')\n",
    "plt.ylabel('Frequency')\n",
    "plt.show();"
   ]
  },
  {
   "cell_type": "code",
   "execution_count": 639,
   "metadata": {
    "scrolled": true
   },
   "outputs": [
    {
     "name": "stdout",
     "output_type": "stream",
     "text": [
      "0\n",
      "[ 1508     0  2358  4196  1516  2504  1526 10968   700  1840  8106  2840\n",
      "  1086  3500  5625  1911  1917  2925  2253  1040  2083  3369  1667  3000\n",
      "  1330  1459  7210  1668  1213  2336  3440  2275  1644  1167  1591  2200\n",
      "  2250  2859  3796  3449  4595  2254  3066  1875  1774  4750  4000  2166\n",
      "  1881  2531  2000  2118  4167  2900  5654  1820  2302   997  3541  3263\n",
      "  3806   754  1030  1126  3600  2333  4114  2283  1398  2142  2667  8980\n",
      "  2014  3850  2569  1929  7750  1430  2034  4486  1425  1666   830  3750\n",
      "  1041  1280  1447  3166  3333  1769   736  1964  1619 11300  1451  7250\n",
      "  5063  2138  2583  2365  2816  2500  1083  1250  3021   983  1775  2383\n",
      "  1717  2791  1010  1695  2054  2598  1779  1260  5000  1983  5701  1300\n",
      "  4417  4333  1843  1868  3890  2167  7101  2100  4250  2209  3447  1387\n",
      "  1811  1560  1857  2223  1842  3274  2426   800   985  3053  2416  3334\n",
      "  2541  2934  1750  1803  1863  2405  1640  2134   189  2985  4983  2160\n",
      "  2451  1793  1833  4490   688  4600  1587  1229  2330  2458  3230  2168\n",
      "  4583  6250   505  3167  3667  3033  5266  7873  1987   923  4996  4232\n",
      "  1600  2417  2115  1625  1400   484  1800 20000  2400  2033  3237  2773\n",
      "  1417  1719  4300    16  2340  1851  5064  1993  8333  1210  1376  1710\n",
      "  1542  1255  1456  1733  2466  4083  2188  1664  2079  1500  4648  1014\n",
      "  1872  3150  2436  2785  1131  2157   913  1700  2857  4416  5624  5302\n",
      "  1483  6667  3013  1287  2004  2035  6666  3666  3428  1632  1915  1742\n",
      "  1424  7166  1302  5500  2042  3906   536  2845  2524   663  1950  1783\n",
      "  2016  3250  4266  1032  2669  2306   242  2064   461  2210  2739  2232\n",
      "  2917 33837  1522  3416  3300  1000  2792  4301  1411   240]\n"
     ]
    },
    {
     "data": {
      "image/png": "[encoded data removed]",
      "text/plain": [
       "<Figure size 432x288 with 1 Axes>"
      ]
     },
     "metadata": {
      "needs_background": "light"
     },
     "output_type": "display_data"
    }
   ],
   "source": [
    "# Distribution of 'coapplicant_income'\n",
    "\n",
    "print(train['coapplicant_income'].min())\n",
    "print(train['coapplicant_income'].unique())\n",
    "\n",
    "train['applicant_income'].plot(kind='hist')\n",
    "\n",
    "plt.xlabel('Co-applicant Income')\n",
    "plt.ylabel('Frequency')\n",
    "plt.show();"
   ]
  },
  {
   "cell_type": "code",
   "execution_count": 640,
   "metadata": {
    "scrolled": false
   },
   "outputs": [
    {
     "name": "stdout",
     "output_type": "stream",
     "text": [
      "17\n",
      "[128  66 120 141 267  95 158 168 349  70 109 200 114  17 125 100  76 133\n",
      " 115 104 315 116 112 151 191 122 110  35 201  74 106 320 144 184  80  47\n",
      "  75 134  96  88  44 286  97 135 180  99 165 258 126 312 136 172  81 187\n",
      " 113 176 130 111 167 265  50 210 175 131 188  25 137 160 225 216  94 139\n",
      " 152 118 185 154  85 259 194  93 370 182 650 102 290  84 242 129  30 244\n",
      " 255  98 275 121  63  87 101 495  67  73 108  58  48 164 170  83  90 166\n",
      " 124  55  59 127 214 240  72  60 138  42 280 140 155 123 279 192 304 330\n",
      " 150 207 436  78  54  89 143 105 132 480  56 159 300 376 117  71 173  46\n",
      " 228 308 236 570 380 296 156 103  45  65  53  62 218 178 239 405 148 190\n",
      " 149 153 162 230  86 234 246 500 186 119 107 209 208 243  40 250 311 400\n",
      " 161 196 324 157 145 181  26 260 600 211 205  36  61 146 292 142 496 253]\n"
     ]
    },
    {
     "data": {
      "image/png": "[encoded data removed]",
      "text/plain": [
       "<Figure size 432x288 with 1 Axes>"
      ]
     },
     "metadata": {
      "needs_background": "light"
     },
     "output_type": "display_data"
    }
   ],
   "source": [
    "# Distribution of 'loan_amount'\n",
    "\n",
    "print(train['loan_amount'].min())\n",
    "print(train['loan_amount'].unique())\n",
    "\n",
    "train['loan_amount'].plot(kind='hist')\n",
    "\n",
    "plt.xlabel('Loan Amount')\n",
    "plt.ylabel('Frequency')\n",
    "plt.show();"
   ]
  },
  {
   "cell_type": "code",
   "execution_count": 641,
   "metadata": {
    "scrolled": true
   },
   "outputs": [
    {
     "name": "stdout",
     "output_type": "stream",
     "text": [
      "360.0    0.861592\n",
      "180.0    0.067474\n",
      "480.0    0.024221\n",
      "300.0    0.020761\n",
      "84.0     0.006920\n",
      "120.0    0.005190\n",
      "240.0    0.005190\n",
      "60.0     0.003460\n",
      "36.0     0.003460\n",
      "12.0     0.001730\n",
      "Name: loan_amount_term, dtype: float64 \n",
      "\n"
     ]
    },
    {
     "data": {
      "image/png": "[encoded data removed]",
      "text/plain": [
       "<Figure size 432x288 with 1 Axes>"
      ]
     },
     "metadata": {
      "needs_background": "light"
     },
     "output_type": "display_data"
    }
   ],
   "source": [
    "# Most applicants apper to be applying for loans with 30-year term lengths\n",
    "\n",
    "print(train['loan_amount_term'].value_counts(normalize=True), \"\\n\")\n",
    "\n",
    "train['loan_amount_term'].value_counts().plot(kind='bar')\n",
    "plt.xlabel('Loan Term')\n",
    "plt.ylabel('Frequency')\n",
    "plt.show()"
   ]
  },
  {
   "cell_type": "code",
   "execution_count": 642,
   "metadata": {},
   "outputs": [
    {
     "name": "stdout",
     "output_type": "stream",
     "text": [
      "1    0.856401\n",
      "0    0.143599\n",
      "Name: credit_history, dtype: float64 \n",
      "\n",
      "object\n"
     ]
    },
    {
     "data": {
      "image/png": "[encoded data removed]",
      "text/plain": [
       "<Figure size 432x288 with 1 Axes>"
      ]
     },
     "metadata": {
      "needs_background": "light"
     },
     "output_type": "display_data"
    }
   ],
   "source": [
    "# Most applicants 'credit_history' meet guidelines\n",
    "\n",
    "print(train['credit_history'].value_counts(normalize=True), \"\\n\")\n",
    "print(train['credit_history'].dtypes)\n",
    "\n",
    "train['credit_history'].value_counts().plot(kind='bar')\n",
    "plt.xlabel('Credity History, meets guidelines')\n",
    "plt.ylabel('Frequency')\n",
    "plt.show()"
   ]
  },
  {
   "cell_type": "code",
   "execution_count": 643,
   "metadata": {},
   "outputs": [
    {
     "name": "stdout",
     "output_type": "stream",
     "text": [
      "Semiurban    0.385813\n",
      "Urban        0.321799\n",
      "Rural        0.292388\n",
      "Name: property_area, dtype: float64 \n",
      "\n",
      "object\n"
     ]
    },
    {
     "data": {
      "image/png": "[encoded data removed]",
      "text/plain": [
       "<Figure size 432x288 with 1 Axes>"
      ]
     },
     "metadata": {
      "needs_background": "light"
     },
     "output_type": "display_data"
    }
   ],
   "source": [
    "# Most 'property_area'\n",
    "\n",
    "print(train['property_area'].value_counts(normalize=True), \"\\n\")\n",
    "print(train['property_area'].dtypes)\n",
    "\n",
    "train['property_area'].value_counts().plot(kind='bar')\n",
    "plt.xlabel('Property Area')\n",
    "plt.ylabel('Frequency')\n",
    "plt.show()"
   ]
  },
  {
   "cell_type": "code",
   "execution_count": 644,
   "metadata": {},
   "outputs": [
    {
     "data": {
      "text/html": [
       "<div>\n",
       "<style scoped>\n",
       "    .dataframe tbody tr th:only-of-type {\n",
       "        vertical-align: middle;\n",
       "    }\n",
       "\n",
       "    .dataframe tbody tr th {\n",
       "        vertical-align: top;\n",
       "    }\n",
       "\n",
       "    .dataframe thead th {\n",
       "        text-align: right;\n",
       "    }\n",
       "</style>\n",
       "<table border=\"1\" class=\"dataframe\">\n",
       "  <thead>\n",
       "    <tr style=\"text-align: right;\">\n",
       "      <th></th>\n",
       "      <th>gender</th>\n",
       "      <th>married</th>\n",
       "      <th>dependents</th>\n",
       "      <th>education</th>\n",
       "      <th>self_employed</th>\n",
       "      <th>applicant_income</th>\n",
       "      <th>coapplicant_income</th>\n",
       "      <th>loan_amount</th>\n",
       "      <th>loan_amount_term</th>\n",
       "      <th>credit_history</th>\n",
       "      <th>property_area</th>\n",
       "      <th>loan_status</th>\n",
       "    </tr>\n",
       "  </thead>\n",
       "  <tbody>\n",
       "    <tr>\n",
       "      <th>1</th>\n",
       "      <td>Male</td>\n",
       "      <td>Yes</td>\n",
       "      <td>1</td>\n",
       "      <td>Graduate</td>\n",
       "      <td>No</td>\n",
       "      <td>4583</td>\n",
       "      <td>1508</td>\n",
       "      <td>128</td>\n",
       "      <td>360.0</td>\n",
       "      <td>1</td>\n",
       "      <td>Rural</td>\n",
       "      <td>0</td>\n",
       "    </tr>\n",
       "    <tr>\n",
       "      <th>2</th>\n",
       "      <td>Male</td>\n",
       "      <td>Yes</td>\n",
       "      <td>0</td>\n",
       "      <td>Graduate</td>\n",
       "      <td>Yes</td>\n",
       "      <td>3000</td>\n",
       "      <td>0</td>\n",
       "      <td>66</td>\n",
       "      <td>360.0</td>\n",
       "      <td>1</td>\n",
       "      <td>Urban</td>\n",
       "      <td>1</td>\n",
       "    </tr>\n",
       "    <tr>\n",
       "      <th>3</th>\n",
       "      <td>Male</td>\n",
       "      <td>Yes</td>\n",
       "      <td>0</td>\n",
       "      <td>Not Graduate</td>\n",
       "      <td>No</td>\n",
       "      <td>2583</td>\n",
       "      <td>2358</td>\n",
       "      <td>120</td>\n",
       "      <td>360.0</td>\n",
       "      <td>1</td>\n",
       "      <td>Urban</td>\n",
       "      <td>1</td>\n",
       "    </tr>\n",
       "    <tr>\n",
       "      <th>4</th>\n",
       "      <td>Male</td>\n",
       "      <td>No</td>\n",
       "      <td>0</td>\n",
       "      <td>Graduate</td>\n",
       "      <td>No</td>\n",
       "      <td>6000</td>\n",
       "      <td>0</td>\n",
       "      <td>141</td>\n",
       "      <td>360.0</td>\n",
       "      <td>1</td>\n",
       "      <td>Urban</td>\n",
       "      <td>1</td>\n",
       "    </tr>\n",
       "    <tr>\n",
       "      <th>5</th>\n",
       "      <td>Male</td>\n",
       "      <td>Yes</td>\n",
       "      <td>2</td>\n",
       "      <td>Graduate</td>\n",
       "      <td>Yes</td>\n",
       "      <td>5417</td>\n",
       "      <td>4196</td>\n",
       "      <td>267</td>\n",
       "      <td>360.0</td>\n",
       "      <td>1</td>\n",
       "      <td>Urban</td>\n",
       "      <td>1</td>\n",
       "    </tr>\n",
       "  </tbody>\n",
       "</table>\n",
       "</div>"
      ],
      "text/plain": [
       "  gender married dependents     education self_employed  applicant_income  \\\n",
       "1   Male     Yes          1      Graduate            No              4583   \n",
       "2   Male     Yes          0      Graduate           Yes              3000   \n",
       "3   Male     Yes          0  Not Graduate            No              2583   \n",
       "4   Male      No          0      Graduate            No              6000   \n",
       "5   Male     Yes          2      Graduate           Yes              5417   \n",
       "\n",
       "   coapplicant_income  loan_amount loan_amount_term credit_history  \\\n",
       "1                1508          128            360.0              1   \n",
       "2                   0           66            360.0              1   \n",
       "3                2358          120            360.0              1   \n",
       "4                   0          141            360.0              1   \n",
       "5                4196          267            360.0              1   \n",
       "\n",
       "  property_area  loan_status  \n",
       "1         Rural            0  \n",
       "2         Urban            1  \n",
       "3         Urban            1  \n",
       "4         Urban            1  \n",
       "5         Urban            1  "
      ]
     },
     "execution_count": 644,
     "metadata": {},
     "output_type": "execute_result"
    }
   ],
   "source": [
    "train.shape\n",
    "train.head()"
   ]
  },
  {
   "cell_type": "code",
   "execution_count": 645,
   "metadata": {},
   "outputs": [
    {
     "data": {
      "text/plain": [
       "<seaborn.axisgrid.PairGrid at 0x1449b08b0>"
      ]
     },
     "execution_count": 645,
     "metadata": {},
     "output_type": "execute_result"
    },
    {
     "data": {
      "image/png": "[encoded data removed]",
      "text/plain": [
       "<Figure size 540x540 with 12 Axes>"
      ]
     },
     "metadata": {
      "needs_background": "light"
     },
     "output_type": "display_data"
    }
   ],
   "source": [
    "# Examine for correlation among continuous variables\n",
    "\n",
    "sns.pairplot(train[['applicant_income', 'coapplicant_income', 'loan_amount']])"
   ]
  },
  {
   "cell_type": "code",
   "execution_count": 646,
   "metadata": {},
   "outputs": [],
   "source": [
    "# Create Feature Matrix and Target Array\n",
    "\n",
    "target = 'loan_status'\n",
    "\n",
    "y = train[target]\n",
    "X = train.drop(columns=target)"
   ]
  },
  {
   "cell_type": "code",
   "execution_count": 647,
   "metadata": {},
   "outputs": [
    {
     "data": {
      "text/plain": [
       "(578,)"
      ]
     },
     "execution_count": 647,
     "metadata": {},
     "output_type": "execute_result"
    }
   ],
   "source": [
    "y.shape"
   ]
  },
  {
   "cell_type": "code",
   "execution_count": 648,
   "metadata": {},
   "outputs": [],
   "source": [
    "# Split the data\n",
    "# Will use a random split; there is no datetime information included in this dataset.\n",
    "\n",
    "X_train, X_val, y_train, y_val = train_test_split(X, y, test_size=0.2, random_state=42)"
   ]
  },
  {
   "cell_type": "markdown",
   "metadata": {},
   "source": [
    "# III. Establish a Baseline"
   ]
  },
  {
   "cell_type": "code",
   "execution_count": 649,
   "metadata": {},
   "outputs": [
    {
     "name": "stdout",
     "output_type": "stream",
     "text": [
      "1    0.688312\n",
      "0    0.311688\n",
      "Name: loan_status, dtype: float64 \n",
      "\n",
      "Baseline Accuracy: 0.6883\n"
     ]
    }
   ],
   "source": [
    "# Establish a baseline for this classification problem - 'Was the loan approved?'\n",
    "# The classes of the Target Vector are moderately imbalanced towards approval\n",
    "# Since this is a classification problem we will be looking at accuracy \n",
    "# You have a 69.15% chance of being correct if you always decide that the loan was approved; this is our baseline\n",
    "# to beat\n",
    "\n",
    "print(y_train.value_counts(normalize=True), \"\\n\")\n",
    "print('Baseline Accuracy: {:.4f}'.format(y_train.value_counts(normalize=True).max()))"
   ]
  },
  {
   "cell_type": "code",
   "execution_count": 650,
   "metadata": {
    "scrolled": true
   },
   "outputs": [
    {
     "name": "stdout",
     "output_type": "stream",
     "text": [
      "<class 'pandas.core.frame.DataFrame'>\n",
      "Int64Index: 462 entries, 265 to 110\n",
      "Data columns (total 11 columns):\n",
      " #   Column              Non-Null Count  Dtype \n",
      "---  ------              --------------  ----- \n",
      " 0   gender              452 non-null    object\n",
      " 1   married             460 non-null    object\n",
      " 2   dependents          462 non-null    object\n",
      " 3   education           462 non-null    object\n",
      " 4   self_employed       440 non-null    object\n",
      " 5   applicant_income    462 non-null    int64 \n",
      " 6   coapplicant_income  462 non-null    int64 \n",
      " 7   loan_amount         462 non-null    int64 \n",
      " 8   loan_amount_term    462 non-null    object\n",
      " 9   credit_history      462 non-null    object\n",
      " 10  property_area       462 non-null    object\n",
      "dtypes: int64(3), object(8)\n",
      "memory usage: 43.3+ KB\n"
     ]
    }
   ],
   "source": [
    "X_train.info()"
   ]
  },
  {
   "cell_type": "markdown",
   "metadata": {},
   "source": [
    "# IV. Build Models\n",
    "\n",
    "- `LogisticRegression`\n",
    "    \n",
    "    - `OneHotEncoder`\n",
    "    - `SimpleImputer`\n",
    "    - `StandardScaler`\n",
    " \n",
    "- `RandomForrestClassifier`\n",
    "\n",
    "    - `OrdinalEncoder`\n",
    "    - `SimpleImputer`"
   ]
  },
  {
   "cell_type": "code",
   "execution_count": 654,
   "metadata": {},
   "outputs": [
    {
     "data": {
      "text/plain": [
       "Pipeline(steps=[('onehotencoder',\n",
       "                 OneHotEncoder(cols=['gender', 'married', 'dependents',\n",
       "                                     'education', 'self_employed',\n",
       "                                     'loan_amount_term', 'credit_history',\n",
       "                                     'property_area'],\n",
       "                               use_cat_names=True)),\n",
       "                ('simpleimputer', SimpleImputer(strategy='most_frequent')),\n",
       "                ('standardscaler', StandardScaler()),\n",
       "                ('logisticregression', LogisticRegression())])"
      ]
     },
     "execution_count": 654,
     "metadata": {},
     "output_type": "execute_result"
    }
   ],
   "source": [
    "# Model 1: Logistic Regression Model\n",
    "\n",
    "model_lr = make_pipeline(\n",
    "    OneHotEncoder(use_cat_names=True),\n",
    "    SimpleImputer(strategy='most_frequent'),\n",
    "    StandardScaler(),\n",
    "    LogisticRegression()\n",
    ")\n",
    "\n",
    "model_lr.fit(X_train, y_train)"
   ]
  },
  {
   "cell_type": "code",
   "execution_count": 655,
   "metadata": {},
   "outputs": [
    {
     "data": {
      "text/plain": [
       "Pipeline(steps=[('ordinalencoder',\n",
       "                 OrdinalEncoder(cols=['gender', 'married', 'dependents',\n",
       "                                      'education', 'self_employed',\n",
       "                                      'loan_amount_term', 'credit_history',\n",
       "                                      'property_area'],\n",
       "                                mapping=[{'col': 'gender',\n",
       "                                          'data_type': dtype('O'),\n",
       "                                          'mapping': Male      1\n",
       "Female    2\n",
       "NaN       3\n",
       "dtype: int64},\n",
       "                                         {'col': 'married',\n",
       "                                          'data_type': dtype('O'),\n",
       "                                          'mapping': No     1\n",
       "Yes    2\n",
       "NaN    3\n",
       "dtype: int64},\n",
       "                                         {'col': 'dependents',\n",
       "                                          '...\n",
       "                                         {'col': 'credit_history',\n",
       "                                          'data_type': dtype('O'),\n",
       "                                          'mapping': 1      1\n",
       "0      2\n",
       "NaN   -2\n",
       "dtype: int64},\n",
       "                                         {'col': 'property_area',\n",
       "                                          'data_type': dtype('O'),\n",
       "                                          'mapping': Rural        1\n",
       "Urban        2\n",
       "Semiurban    3\n",
       "NaN         -2\n",
       "dtype: int64}])),\n",
       "                ('simpleimputer', SimpleImputer(strategy='most_frequent')),\n",
       "                ('standardscaler', StandardScaler()),\n",
       "                ('randomforestclassifier',\n",
       "                 RandomForestClassifier(n_jobs=-1, random_state=42))])"
      ]
     },
     "execution_count": 655,
     "metadata": {},
     "output_type": "execute_result"
    }
   ],
   "source": [
    "# Model 1: Random Forest Classifier Model\n",
    "\n",
    "model_rf = make_pipeline(\n",
    "    OrdinalEncoder(),\n",
    "    SimpleImputer(st\n",
    "                  rategy='most_frequent'),\n",
    "    StandardScaler(),\n",
    "    RandomForestClassifier(n_jobs=-1, random_state=42)\n",
    ")\n",
    "\n",
    "model_rf.fit(X_train, y_train)"
   ]
  },
  {
   "cell_type": "code",
   "execution_count": 683,
   "metadata": {},
   "outputs": [
    {
     "data": {
      "text/plain": [
       "Pipeline(steps=[('ordinalencoder',\n",
       "                 OrdinalEncoder(cols=['gender', 'married', 'dependents',\n",
       "                                      'education', 'self_employed',\n",
       "                                      'loan_amount_term', 'credit_history',\n",
       "                                      'property_area'],\n",
       "                                mapping=[{'col': 'gender',\n",
       "                                          'data_type': dtype('O'),\n",
       "                                          'mapping': Male      1\n",
       "Female    2\n",
       "NaN       3\n",
       "dtype: int64},\n",
       "                                         {'col': 'married',\n",
       "                                          'data_type': dtype('O'),\n",
       "                                          'mapping': No     1\n",
       "Yes    2\n",
       "NaN    3\n",
       "dtype: int64},\n",
       "                                         {'col': 'dependents',\n",
       "                                          '...\n",
       "                               colsample_bytree=1, gamma=0, gpu_id=-1,\n",
       "                               importance_type='gain',\n",
       "                               interaction_constraints='',\n",
       "                               learning_rate=0.300000012, max_delta_step=0,\n",
       "                               max_depth=6, min_child_weight=1, missing=nan,\n",
       "                               monotone_constraints='()', n_estimators=100,\n",
       "                               n_jobs=-1, num_parallel_tree=1, random_state=42,\n",
       "                               reg_alpha=0, reg_lambda=1, scale_pos_weight=1,\n",
       "                               subsample=1, tree_method='exact',\n",
       "                               validate_parameters=1, verbosity=None))])"
      ]
     },
     "execution_count": 683,
     "metadata": {},
     "output_type": "execute_result"
    }
   ],
   "source": [
    "# Model 2: XG-Boost Classifier\n",
    "\n",
    "model_xgb = make_pipeline(\n",
    "    OrdinalEncoder(),\n",
    "    SimpleImputer(strategy='most_frequent'),\n",
    "    XGBClassifier(random_state=42, n_jobs=-1)\n",
    ")\n",
    "\n",
    "model_xgb.fit(X_train, y_train)"
   ]
  },
  {
   "cell_type": "markdown",
   "metadata": {},
   "source": [
    "# V. Check Metrics "
   ]
  },
  {
   "cell_type": "code",
   "execution_count": 679,
   "metadata": {},
   "outputs": [],
   "source": [
    "# Classification: Is your majority class frequency >= 50% and < 70% ? \n",
    "# If so, you can just use accuracy if you want. Outside that range, accuracy could be misleading. \n",
    "# What evaluation metric will you choose, in addition to or instead of accuracy?\n",
    "\n",
    "# Our majority class is less than 70% and can just use accuracy.  Should, however, come back and build out a \n",
    "# confusion_matrix, and look at recall/precision.  Will also explore Precision, Recall, and F1 Score."
   ]
  },
  {
   "cell_type": "code",
   "execution_count": 680,
   "metadata": {},
   "outputs": [
    {
     "name": "stdout",
     "output_type": "stream",
     "text": [
      "Training Accuracy (LOGR): 0.8268398268398268\n",
      "Validation Accuracy (LOGR): 0.8275862068965517\n"
     ]
    }
   ],
   "source": [
    "# Training and Validation accuracy of our Logistic Regression model\n",
    "\n",
    "print('Training Accuracy (LOGR):', model_lr.score(X_train, y_train))\n",
    "print('Validation Accuracy (LOGR):', model_lr.score(X_val, y_val))"
   ]
  },
  {
   "cell_type": "code",
   "execution_count": 681,
   "metadata": {},
   "outputs": [
    {
     "name": "stdout",
     "output_type": "stream",
     "text": [
      "Training Accuracy (RF): 1.0\n",
      "Validation Accuracy (RF): 0.7844827586206896\n"
     ]
    }
   ],
   "source": [
    "# Training and Validation accuracy of our Random Forest Classifier model\n",
    "\n",
    "print('Training Accuracy (RF):', model_rf.score(X_train, y_train))\n",
    "print('Validation Accuracy (RF):', model_rf.score(X_val, y_val))"
   ]
  },
  {
   "cell_type": "code",
   "execution_count": 682,
   "metadata": {},
   "outputs": [
    {
     "name": "stdout",
     "output_type": "stream",
     "text": [
      "Training Accuracy (XGB): 1.0\n",
      "Valdiation Accuracy (XGB): 0.7672413793103449\n"
     ]
    }
   ],
   "source": [
    "# Training and Validation accuracy of our XGBoost Classifier model\n",
    "# Model appears to be overfit\n",
    "\n",
    "print('Training Accuracy (XGB):', model_xgb.score(X_train, y_train))\n",
    "print('Valdiation Accuracy (XGB):', model_xgb.score(X_val, y_val))"
   ]
  },
  {
   "cell_type": "code",
   "execution_count": 661,
   "metadata": {},
   "outputs": [
    {
     "name": "stdout",
     "output_type": "stream",
     "text": [
      "Logistic Regression\n",
      "              precision    recall  f1-score   support\n",
      "\n",
      "           0       0.79      0.48      0.60        31\n",
      "           1       0.84      0.95      0.89        85\n",
      "\n",
      "    accuracy                           0.83       116\n",
      "   macro avg       0.81      0.72      0.75       116\n",
      "weighted avg       0.82      0.83      0.81       116\n",
      "\n"
     ]
    }
   ],
   "source": [
    "# LOGISTIC REGRESSION, preformance\n",
    "# Not very good precision for Y, great recall for Y\n",
    "\n",
    "print('Logistic Regression')\n",
    "print(classification_report(y_val, model_lr.predict(X_val)))"
   ]
  },
  {
   "cell_type": "code",
   "execution_count": 662,
   "metadata": {},
   "outputs": [
    {
     "data": {
      "text/plain": [
       "<sklearn.metrics._plot.confusion_matrix.ConfusionMatrixDisplay at 0x144491fd0>"
      ]
     },
     "execution_count": 662,
     "metadata": {},
     "output_type": "execute_result"
    },
    {
     "data": {
      "image/png": "[encoded data removed]",
      "text/plain": [
       "<Figure size 432x288 with 2 Axes>"
      ]
     },
     "metadata": {
      "needs_background": "light"
     },
     "output_type": "display_data"
    }
   ],
   "source": [
    "# LOGISTIC REGRESSION\n",
    "# Plot Confusion Matrix\n",
    "\n",
    "plot_confusion_matrix(model_lr, X_val, y_val, values_format='.0f')\n",
    "\n",
    "# TN FP\n",
    "#\n",
    "# FN TP"
   ]
  },
  {
   "cell_type": "code",
   "execution_count": 663,
   "metadata": {},
   "outputs": [
    {
     "name": "stdout",
     "output_type": "stream",
     "text": [
      "Logistic Regression model precision 0.8350515463917526\n",
      "Logistic Regression model recall 0.9529411764705882\n"
     ]
    }
   ],
   "source": [
    "# LOGISTIC REGRESSION\n",
    "# Calculate Precision and Recall\n",
    "\n",
    "# Precision = TP / (TP + FP)\n",
    "precision = 81 / (81 + 16)\n",
    "\n",
    "# Recall = TP / (TP + FN)\n",
    "recall = 81 / (81 + 4)\n",
    "\n",
    "print('Logistic Regression model precision', precision)\n",
    "print('Logistic Regression model recall', recall)"
   ]
  },
  {
   "cell_type": "code",
   "execution_count": 664,
   "metadata": {},
   "outputs": [
    {
     "name": "stdout",
     "output_type": "stream",
     "text": [
      "Random Forest Classifier\n",
      "              precision    recall  f1-score   support\n",
      "\n",
      "           0       0.64      0.45      0.53        31\n",
      "           1       0.82      0.91      0.86        85\n",
      "\n",
      "    accuracy                           0.78       116\n",
      "   macro avg       0.73      0.68      0.69       116\n",
      "weighted avg       0.77      0.78      0.77       116\n",
      "\n"
     ]
    }
   ],
   "source": [
    "# RANDOM FOREST CLASSIFIER, preformance\n",
    "# My comments here ************************\n",
    "\n",
    "print('Random Forest Classifier')\n",
    "print(classification_report(y_val, model_rf.predict(X_val)))"
   ]
  },
  {
   "cell_type": "code",
   "execution_count": 665,
   "metadata": {},
   "outputs": [
    {
     "data": {
      "text/plain": [
       "<sklearn.metrics._plot.confusion_matrix.ConfusionMatrixDisplay at 0x144e48fa0>"
      ]
     },
     "execution_count": 665,
     "metadata": {},
     "output_type": "execute_result"
    },
    {
     "data": {
      "image/png": "[encoded data removed]",
      "text/plain": [
       "<Figure size 432x288 with 2 Axes>"
      ]
     },
     "metadata": {
      "needs_background": "light"
     },
     "output_type": "display_data"
    }
   ],
   "source": [
    "# RANDOM FOREST CLASSIFIER\n",
    "# Plot Confusion Matrix\n",
    "\n",
    "plot_confusion_matrix(model_rf, X_val, y_val, values_format='.0f') \n",
    "\n",
    "# TN FP\n",
    "#\n",
    "# FN TP"
   ]
  },
  {
   "cell_type": "code",
   "execution_count": 666,
   "metadata": {},
   "outputs": [
    {
     "name": "stdout",
     "output_type": "stream",
     "text": [
      "Logistic Regression model precision 0.8191489361702128\n",
      "Logistic Regression model recall 0.9058823529411765\n"
     ]
    }
   ],
   "source": [
    "# RANDOM FOREST CLASSIFIER \n",
    "# Calculate Precision and Recall\n",
    "\n",
    "# Precision = TP / (TP + FP)\n",
    "precision = 77 / (77 + 17)\n",
    "\n",
    "# Recall = TP / (TP + FN)\n",
    "recall = 77 / (77 + 8)\n",
    "\n",
    "print('Logistic Regression model precision', precision)\n",
    "print('Logistic Regression model recall', recall)"
   ]
  },
  {
   "cell_type": "code",
   "execution_count": 667,
   "metadata": {},
   "outputs": [
    {
     "name": "stdout",
     "output_type": "stream",
     "text": [
      "XGBoost Classifier\n",
      "              precision    recall  f1-score   support\n",
      "\n",
      "           0       0.60      0.48      0.54        31\n",
      "           1       0.82      0.88      0.85        85\n",
      "\n",
      "    accuracy                           0.78       116\n",
      "   macro avg       0.71      0.68      0.69       116\n",
      "weighted avg       0.76      0.78      0.77       116\n",
      "\n"
     ]
    }
   ],
   "source": [
    "# XGBoost CLASSIFIER, preformance\n",
    "# My comments here**********\n",
    "\n",
    "print('XGBoost Classifier')\n",
    "print(classification_report(y_val, model_xgb.predict(X_val)))"
   ]
  },
  {
   "cell_type": "code",
   "execution_count": 668,
   "metadata": {},
   "outputs": [
    {
     "data": {
      "text/plain": [
       "<sklearn.metrics._plot.confusion_matrix.ConfusionMatrixDisplay at 0x14465e640>"
      ]
     },
     "execution_count": 668,
     "metadata": {},
     "output_type": "execute_result"
    },
    {
     "data": {
      "image/png": "[encoded data removed]",
      "text/plain": [
       "<Figure size 432x288 with 2 Axes>"
      ]
     },
     "metadata": {
      "needs_background": "light"
     },
     "output_type": "display_data"
    }
   ],
   "source": [
    "# XGBoost CLASSIFIER\n",
    "# Plot Confusion Matrix\n",
    "\n",
    "plot_confusion_matrix(model_xgb, X_val, y_val, values_format='.0f') \n",
    "\n",
    "# TN FP\n",
    "#\n",
    "# FN TP"
   ]
  },
  {
   "cell_type": "code",
   "execution_count": 669,
   "metadata": {},
   "outputs": [
    {
     "name": "stdout",
     "output_type": "stream",
     "text": [
      "Logistic Regression model precision 0.8241758241758241\n",
      "Logistic Regression model recall 0.8823529411764706\n"
     ]
    }
   ],
   "source": [
    "# XGBoost CLASSIFIER \n",
    "# Calculate Precision and Recall\n",
    "\n",
    "# Precision = TP / (TP + FP)\n",
    "precision = 75 / (75 + 16)\n",
    "\n",
    "# Recall = TP / (TP + FN)\n",
    "recall = 75 / (75 + 10)\n",
    "\n",
    "print('Logistic Regression model precision', precision)\n",
    "print('Logistic Regression model recall', recall)"
   ]
  },
  {
   "cell_type": "markdown",
   "metadata": {},
   "source": [
    "## ROC Curve\n",
    "\n",
    "- To evalute models for binary classification\n",
    "- To decide what probability threshold you should use when making your predictions"
   ]
  },
  {
   "cell_type": "code",
   "execution_count": 670,
   "metadata": {},
   "outputs": [
    {
     "data": {
      "image/png": "[encoded data removed]",
      "text/plain": [
       "<Figure size 432x288 with 1 Axes>"
      ]
     },
     "metadata": {
      "needs_background": "light"
     },
     "output_type": "display_data"
    }
   ],
   "source": [
    "# Use VALIDATION DATA\n",
    "\n",
    "# ROC curve is used with classification problems\n",
    "# 'How far up can I go without having to go too far to the right?'\n",
    "# An ROC curve let's you see how your model will perform at various thresholds\n",
    "# Also allows you to compare different models \n",
    "\n",
    "lr = plot_roc_curve(model_lr, X_val, y_val, label='Logistic')\n",
    "rd = plot_roc_curve(model_rf, X_val, y_val, ax=lr.ax_, label='Random Forest')\n",
    "plt.plot([(0,0), (1,1)], color='grey', linestyle='--')\n",
    "plt.legend();"
   ]
  },
  {
   "cell_type": "code",
   "execution_count": 671,
   "metadata": {},
   "outputs": [
    {
     "name": "stdout",
     "output_type": "stream",
     "text": [
      "Logistic: ROA-AUC Score: 0.7184060721062618\n",
      "Random Forest: ROC-AUC Score: 0.6787476280834914\n"
     ]
    }
   ],
   "source": [
    "print('Logistic: ROA-AUC Score:', roc_auc_score(y_val, model_lr.predict(X_val)))\n",
    "print('Random Forest: ROC-AUC Score:', roc_auc_score(y_val, model_rf.predict(X_val)))"
   ]
  },
  {
   "cell_type": "code",
   "execution_count": 677,
   "metadata": {},
   "outputs": [
    {
     "data": {
      "text/plain": [
       "['gender_Male',\n",
       " 'gender_Female',\n",
       " 'gender_nan',\n",
       " 'married_No',\n",
       " 'married_Yes',\n",
       " 'married_nan',\n",
       " 'dependents_0',\n",
       " 'dependents_2',\n",
       " 'dependents_1',\n",
       " 'dependents_3',\n",
       " 'education_Graduate',\n",
       " 'education_Not Graduate',\n",
       " 'self_employed_No',\n",
       " 'self_employed_Yes',\n",
       " 'self_employed_nan',\n",
       " 'applicant_income',\n",
       " 'coapplicant_income',\n",
       " 'loan_amount',\n",
       " 'loan_amount_term_360.0',\n",
       " 'loan_amount_term_480.0',\n",
       " 'loan_amount_term_180.0',\n",
       " 'loan_amount_term_240.0',\n",
       " 'loan_amount_term_120.0',\n",
       " 'loan_amount_term_84.0',\n",
       " 'loan_amount_term_300.0',\n",
       " 'loan_amount_term_36.0',\n",
       " 'loan_amount_term_60.0',\n",
       " 'loan_amount_term_12.0',\n",
       " 'credit_history_1',\n",
       " 'credit_history_0',\n",
       " 'property_area_Rural',\n",
       " 'property_area_Urban',\n",
       " 'property_area_Semiurban']"
      ]
     },
     "execution_count": 677,
     "metadata": {},
     "output_type": "execute_result"
    }
   ],
   "source": [
    "# Logisitic Regression coefficients\n",
    "\n",
    "coefs = model_lr.named_steps['logisticregression'].coef_[0]\n",
    "model_lr.named_steps['onehotencoder'].get_feature_names()"
   ]
  },
  {
   "cell_type": "code",
   "execution_count": null,
   "metadata": {},
   "outputs": [],
   "source": [
    "lr.fit(X_train, y_train)\n",
    "\n",
    "coefs = lr.named_steps['logisticregression'].coef_[0]\n",
    "features = lr.named_steps['onehotencoder'].get_feature_names()\n",
    "pd.Series(coefs, index=features).sort_values(key=abs).tail(10).plot(kind='barh')"
   ]
  }
 ],
 "metadata": {
  "kernelspec": {
   "display_name": "Python 3",
   "language": "python",
   "name": "python3"
  },
  "language_info": {
   "codemirror_mode": {
    "name": "ipython",
    "version": 3
   },
   "file_extension": ".py",
   "mimetype": "text/x-python",
   "name": "python",
   "nbconvert_exporter": "python",
   "pygments_lexer": "ipython3",
   "version": "3.8.2"
  }
 },
 "nbformat": 4,
 "nbformat_minor": 4
}
